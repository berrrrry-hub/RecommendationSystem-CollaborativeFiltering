{
  "cells": [
    {
      "cell_type": "markdown",
      "source": [
        " Collaborative Filtering via Deep Learning\n",
        "-----\n",
        "\n",
        "There are two main tasks in this case:\n",
        "\n",
        "- Build a deep learning model to predict the movie ratings.\n",
        "\n",
        "- Analyze the predicted ratings and provide an estimate of the movie valuation.\n"
      ],
      "metadata": {
        "id": "VXhAZ3q1c2ZT"
      }
    },
    {
      "cell_type": "markdown",
      "metadata": {
        "id": "tkEE3Ghd9azj"
      },
      "source": [
        "## Introduction\n",
        "One very common problem to solve is when you have a number of users and a number of products, and you want to recommend which products are most likely to be useful for which users. There are many variations of this: for example, recommending movies (such as on Netflix), figuring out what to highlight for a user on a home page, deciding what stories to show in a social media feed, and so forth. There is a general solution to this problem, called *collaborative filtering*, which works like this: look at what products the current user has used or liked, find other users that have used or liked similar products, and then recommend other products that those users have used or liked.\n",
        "\n",
        "For example, on Netflix you may have watched lots of movies that are science fiction, full of action, and were made in the 1970s. Netflix may not know these particular properties of the films you have watched, but it will be able to see that other people that have watched the same movies that you watched also tended to watch other movies that are science fiction, full of action, and were made in the 1970s. In other words, to use this approach we don't necessarily need to know anything about the movies, except who like to watch them.\n",
        "\n",
        "There is actually a more general class of problems that this approach can solve, not necessarily involving users and products. Indeed, for collaborative filtering we more commonly refer to *items*, rather than *products*. Items could be links that people click on, diagnoses that are selected for patients, and so forth.\n",
        "\n",
        "The key foundational idea is that of *latent factors*. In the Netflix example, we started with the assumption that you like old, action-packed sci-fi movies. But you never actually told Netflix that you like these kinds of movies. And Netflix never actually needed to add columns to its movies table saying which movies are of these types. Still, there must be some underlying concept of sci-fi, action, and movie age, and these concepts must be relevant for at least some people's movie watching decisions.\n",
        "\n"
      ]
    },
    {
      "cell_type": "markdown",
      "source": [
        "---\n",
        "In this case, we'll build an explicit feedback recommender system: that is, a model that takes into account explicit feedback signals (like ratings) to recommend new content. We'll use an approach first made popular by the [Netflix prize](https://en.wikipedia.org/wiki/Netflix_Prize) contest: [matrix factorization](https://datajobs.com/data-science-repo/Recommender-Systems-[Netflix].pdf).\n",
        "\n",
        "The basic idea is very simple:\n",
        "\n",
        "1. Start with user-item-rating triplets, conveying the information that user _i_ gave some item _j_ rating _r_.\n",
        "2. Represent both users and items as high-dimensional vectors of numbers. For example, a user could be represented by `[0.3, -1.2, 0.5]` and an item by `[1.0, -0.3, -0.6]`.\n",
        "3. The representations should be chosen so that, when we multiplied together (via [dot products](https://en.wikipedia.org/wiki/Dot_product)), we can recover the original ratings.\n",
        "4. The utility of the model then is derived from the fact that if we multiply the user vector of a user with the item vector of some item they _have not_ rated, we hope to obtain a predicition for the rating they would have given to it had they seen it.\n",
        "\n",
        "<img src='https://storage.googleapis.com/gweb-cloudblog-publish/images/f1-collab_filtering.max-900x900.png?raw=true' width=50% />"
      ],
      "metadata": {
        "id": "Ov5kAMHECNyW"
      }
    },
    {
      "cell_type": "markdown",
      "metadata": {
        "id": "pK7DyF_ZUUDQ"
      },
      "source": [
        "We do not have access to Netflix's entire dataset of movie watching history, but there is a great dataset that we can use, called [MovieLens](https://grouplens.org/datasets/movielens/). This dataset contains tens of millions of movie rankings (a combination of a movie ID, a user ID, and a numeric rating).\n",
        "\n",
        "We start with importing the [Movielens 32M dataset](https://grouplens.org/datasets/movielens/32m/).  It contains 32 million anonymous ratings of approximately 87,585 movies made by 200,948 MovieLens users."
      ]
    },
    {
      "cell_type": "markdown",
      "metadata": {
        "id": "OeHGO4qbUUC4"
      },
      "source": [
        "## Preparations"
      ]
    },
    {
      "cell_type": "markdown",
      "source": [
        "We first import the packages and download the data."
      ],
      "metadata": {
        "id": "lvWi4dUf1dQx"
      }
    },
    {
      "cell_type": "code",
      "source": [
        "import torch\n",
        "torch.cuda.empty_cache()  # Clear GPU cache"
      ],
      "metadata": {
        "id": "qd_qn9FpBxWi"
      },
      "execution_count": null,
      "outputs": []
    },
    {
      "cell_type": "code",
      "execution_count": null,
      "metadata": {
        "id": "frj5rX9wUUC_"
      },
      "outputs": [],
      "source": [
        "%matplotlib inline\n",
        "import matplotlib.pyplot as plt\n",
        "import numpy as np\n",
        "import os.path as op\n",
        "import imp\n",
        "import numpy as np\n",
        "\n",
        "from zipfile import ZipFile\n",
        "try:\n",
        "    from urllib.request import urlretrieve\n",
        "except ImportError:  # Python 2 compat\n",
        "    from urllib import urlretrieve\n",
        "\n",
        "# this line need to be changed if not on colab:\n",
        "data_folder = '/content/'\n",
        "\n",
        "\n",
        "ML_1M_URL = \"https://files.grouplens.org/datasets/movielens/ml-32m.zip\"\n",
        "ML_1M_FILENAME = op.join(data_folder,ML_1M_URL.rsplit('/', 1)[1])\n",
        "ML_1M_FOLDER = op.join(data_folder,'ml-32m')"
      ]
    },
    {
      "cell_type": "code",
      "execution_count": null,
      "metadata": {
        "id": "utzHaMDsV1Bq",
        "colab": {
          "base_uri": "https://localhost:8080/"
        },
        "outputId": "6f0973cf-3103-4c73-820d-b10b63b84ae1"
      },
      "outputs": [
        {
          "output_type": "stream",
          "name": "stdout",
          "text": [
            "Downloading https://files.grouplens.org/datasets/movielens/ml-32m.zip to /content/ml-32m.zip...\n",
            "Extracting /content/ml-32m.zip to /content/ml-32m...\n"
          ]
        }
      ],
      "source": [
        "if not op.exists(ML_1M_FILENAME):\n",
        "    print('Downloading %s to %s...' % (ML_1M_URL, ML_1M_FILENAME))\n",
        "    urlretrieve(ML_1M_URL, ML_1M_FILENAME)\n",
        "\n",
        "if not op.exists(ML_1M_FOLDER):\n",
        "    print('Extracting %s to %s...' % (ML_1M_FILENAME, ML_1M_FOLDER))\n",
        "    ZipFile(ML_1M_FILENAME).extractall(data_folder)"
      ]
    },
    {
      "cell_type": "markdown",
      "metadata": {
        "id": "hHgLg4jBUUDp"
      },
      "source": [
        "## Check the data"
      ]
    },
    {
      "cell_type": "code",
      "source": [
        "import os\n",
        "\n",
        "# Path to the extracted dataset folder\n",
        "dataset_path = '/content/ml-32m'  # Adjust this path if needed\n",
        "\n",
        "# List all files in the folder\n",
        "files = os.listdir(dataset_path)\n",
        "print(\"Files in the dataset:\")\n",
        "for file in files:\n",
        "    print(file)\n"
      ],
      "metadata": {
        "colab": {
          "base_uri": "https://localhost:8080/"
        },
        "id": "J6ktivH0-9su",
        "outputId": "6cf9deab-7dcb-4f9e-a208-b77d4bf0135d"
      },
      "execution_count": null,
      "outputs": [
        {
          "output_type": "stream",
          "name": "stdout",
          "text": [
            "Files in the dataset:\n",
            "checksums.txt\n",
            "ratings.csv\n",
            "links.csv\n",
            "tags.csv\n",
            "movies.csv\n",
            "README.txt\n"
          ]
        }
      ]
    },
    {
      "cell_type": "markdown",
      "source": [
        "There are six different files:\n",
        "\n",
        "- README\n",
        "- movies.csv\n",
        "- ratings.csv\n",
        "- tags.csv\n",
        "- links.csv\n",
        "- checksums.txt\n",
        "\n",
        "\n",
        "\n",
        "\n",
        "\n",
        "You may read README to get the description of each dat files."
      ],
      "metadata": {
        "id": "omZ80S7J1voX"
      }
    },
    {
      "cell_type": "code",
      "source": [
        "#check the ratings.csv file\n",
        "import pandas as pd\n",
        "\n",
        "ratings = pd.read_csv('/content/ml-32m/ratings.csv')\n",
        "print(ratings.head())\n"
      ],
      "metadata": {
        "colab": {
          "base_uri": "https://localhost:8080/"
        },
        "id": "ZXYVvjyW_Re3",
        "outputId": "0e1bc811-952a-48f6-ea10-53ff21d9b617"
      },
      "execution_count": null,
      "outputs": [
        {
          "output_type": "stream",
          "name": "stdout",
          "text": [
            "   userId  movieId  rating  timestamp\n",
            "0       1       17     4.0  944249077\n",
            "1       1       25     1.0  944250228\n",
            "2       1       29     2.0  943230976\n",
            "3       1       30     5.0  944249077\n",
            "4       1       32     5.0  943228858\n"
          ]
        }
      ]
    },
    {
      "cell_type": "code",
      "source": [
        "#check the movies.csv file\n",
        "movies = pd.read_csv('/content/ml-32m/movies.csv')\n",
        "print(movies.head())"
      ],
      "metadata": {
        "colab": {
          "base_uri": "https://localhost:8080/"
        },
        "id": "wAbSkNxY_und",
        "outputId": "c5b1cfc9-8cda-430d-9561-5bb0864ca1d9"
      },
      "execution_count": null,
      "outputs": [
        {
          "output_type": "stream",
          "name": "stdout",
          "text": [
            "   movieId                               title  \\\n",
            "0        1                    Toy Story (1995)   \n",
            "1        2                      Jumanji (1995)   \n",
            "2        3             Grumpier Old Men (1995)   \n",
            "3        4            Waiting to Exhale (1995)   \n",
            "4        5  Father of the Bride Part II (1995)   \n",
            "\n",
            "                                        genres  \n",
            "0  Adventure|Animation|Children|Comedy|Fantasy  \n",
            "1                   Adventure|Children|Fantasy  \n",
            "2                               Comedy|Romance  \n",
            "3                         Comedy|Drama|Romance  \n",
            "4                                       Comedy  \n"
          ]
        }
      ]
    },
    {
      "cell_type": "markdown",
      "source": [
        "When showing the data, we would rather see movie titles than their IDs. The `movies.csv` contains the correspondence of IDs to movie titles."
      ],
      "metadata": {
        "id": "BiYoxkZqDbVo"
      }
    },
    {
      "cell_type": "code",
      "execution_count": null,
      "metadata": {
        "colab": {
          "base_uri": "https://localhost:8080/"
        },
        "id": "UDPeRguMV1Bz",
        "scrolled": true,
        "outputId": "dc307ac2-0215-4e40-c100-61202b492935"
      },
      "outputs": [
        {
          "output_type": "stream",
          "name": "stdout",
          "text": [
            "   userId  movieId  rating  timestamp  \\\n",
            "0       1       17     4.0  944249077   \n",
            "1       1       25     1.0  944250228   \n",
            "2       1       29     2.0  943230976   \n",
            "3       1       30     5.0  944249077   \n",
            "4       1       32     5.0  943228858   \n",
            "\n",
            "                                               title  \\\n",
            "0                       Sense and Sensibility (1995)   \n",
            "1                           Leaving Las Vegas (1995)   \n",
            "2  City of Lost Children, The (Cité des enfants p...   \n",
            "3  Shanghai Triad (Yao a yao yao dao waipo qiao) ...   \n",
            "4          Twelve Monkeys (a.k.a. 12 Monkeys) (1995)   \n",
            "\n",
            "                                   genres  \n",
            "0                           Drama|Romance  \n",
            "1                           Drama|Romance  \n",
            "2  Adventure|Drama|Fantasy|Mystery|Sci-Fi  \n",
            "3                             Crime|Drama  \n",
            "4                 Mystery|Sci-Fi|Thriller  \n"
          ]
        }
      ],
      "source": [
        "\n",
        "# Ensure `movieId` in both datasets is of the same type\n",
        "ratings['movieId'] = ratings['movieId'].astype(int)\n",
        "movies['movieId'] = movies['movieId'].astype(int)\n",
        "\n",
        "# Merge the ratings and movies datasets on the common column 'movieId'\n",
        "all_ratings = ratings.merge(movies, on='movieId')\n",
        "\n",
        "# Preview the merged data\n",
        "print(all_ratings.head())\n"
      ]
    },
    {
      "cell_type": "markdown",
      "metadata": {
        "id": "6nVdjC0IV1B3"
      },
      "source": [
        "Here we add the title of the movies to the `all_ratings` data."
      ]
    },
    {
      "cell_type": "markdown",
      "metadata": {
        "id": "enyJuYhUUUEL"
      },
      "source": [
        "The dataframe `all_ratings` contains all the raw data for our problem."
      ]
    },
    {
      "cell_type": "code",
      "execution_count": null,
      "metadata": {
        "colab": {
          "base_uri": "https://localhost:8080/"
        },
        "id": "3M7-jinQUUEO",
        "outputId": "c5131b3e-f6e2-4ad0-84b1-1d60f0423a0d"
      },
      "outputs": [
        {
          "output_type": "execute_result",
          "data": {
            "text/plain": [
              "32000204"
            ]
          },
          "metadata": {},
          "execution_count": 8
        }
      ],
      "source": [
        "#number of entries\n",
        "len(all_ratings)"
      ]
    },
    {
      "cell_type": "markdown",
      "source": [
        "# Subseting"
      ],
      "metadata": {
        "id": "ZS_WxC5iBDil"
      }
    },
    {
      "cell_type": "markdown",
      "source": [
        "Because of limited computing power, we need to downsample the dataset to make the code more manageable."
      ],
      "metadata": {
        "id": "x2b8qat0Z0js"
      }
    },
    {
      "cell_type": "markdown",
      "source": [
        "Here we use timestamp as a cutoff point to filter the ratings after 2021."
      ],
      "metadata": {
        "id": "0Y4msW_maDgu"
      }
    },
    {
      "cell_type": "code",
      "source": [
        "# Define the cutoff UNIX timestamp for January 1, 2022\n",
        "cutoff_timestamp_2022 = 1640995200\n",
        "\n",
        "# Filter the dataset for data after 2021\n",
        "new_data = all_ratings[all_ratings['timestamp'] >= cutoff_timestamp_2022].copy()\n",
        "\n",
        "# Count the number of records\n",
        "num_records_after_2021 = len(new_data)\n",
        "\n",
        "print(f\"Number of records after 2021: {num_records_after_2021}\")\n"
      ],
      "metadata": {
        "colab": {
          "base_uri": "https://localhost:8080/"
        },
        "id": "YtiC687RBCdg",
        "outputId": "6d72c92c-11ff-40c2-f904-475406e95dc4"
      },
      "execution_count": null,
      "outputs": [
        {
          "output_type": "stream",
          "name": "stdout",
          "text": [
            "Number of records after 2021: 1707159\n"
          ]
        }
      ]
    },
    {
      "cell_type": "code",
      "source": [
        "# Statistics of ratings\n",
        "ratings_stats = new_data['rating'].describe()\n",
        "print(ratings_stats)\n"
      ],
      "metadata": {
        "colab": {
          "base_uri": "https://localhost:8080/"
        },
        "id": "_YoJJecjEiR8",
        "outputId": "a47eb7ae-5f78-4fdd-9cc1-b9d3d670712f"
      },
      "execution_count": null,
      "outputs": [
        {
          "output_type": "stream",
          "name": "stdout",
          "text": [
            "count    1.707159e+06\n",
            "mean     3.532153e+00\n",
            "std      1.062279e+00\n",
            "min      5.000000e-01\n",
            "25%      3.000000e+00\n",
            "50%      3.500000e+00\n",
            "75%      4.000000e+00\n",
            "max      5.000000e+00\n",
            "Name: rating, dtype: float64\n"
          ]
        }
      ]
    },
    {
      "cell_type": "code",
      "execution_count": null,
      "metadata": {
        "colab": {
          "base_uri": "https://localhost:8080/"
        },
        "id": "tCdV2qzMUUEk",
        "outputId": "a9e1bd76-5819-4411-af04-9f095dd6c17a"
      },
      "outputs": [
        {
          "output_type": "stream",
          "name": "stdout",
          "text": [
            "Unique ratings: [5.  3.5 4.5 4.  2.5 2.  3.  1.  0.5 1.5]\n"
          ]
        }
      ],
      "source": [
        "# Find unique ratings\n",
        "unique_ratings = new_data['rating'].unique()\n",
        "print(\"Unique ratings:\", unique_ratings)\n"
      ]
    },
    {
      "cell_type": "markdown",
      "source": [
        "We now check the user IDs."
      ],
      "metadata": {
        "id": "Q5qXp4HX3P_D"
      }
    },
    {
      "cell_type": "code",
      "source": [
        "# Statistics for the userId column\n",
        "user_stats = new_data['userId'].describe()\n",
        "print(user_stats)\n"
      ],
      "metadata": {
        "colab": {
          "base_uri": "https://localhost:8080/"
        },
        "id": "c1c1lNFG3LM0",
        "outputId": "87b40c68-ae12-4028-d224-905116c2488d"
      },
      "execution_count": null,
      "outputs": [
        {
          "output_type": "stream",
          "name": "stdout",
          "text": [
            "count    1.707159e+06\n",
            "mean     1.009894e+05\n",
            "std      5.845256e+04\n",
            "min      2.200000e+01\n",
            "25%      4.988900e+04\n",
            "50%      1.012350e+05\n",
            "75%      1.524850e+05\n",
            "max      2.009330e+05\n",
            "Name: userId, dtype: float64\n"
          ]
        }
      ]
    },
    {
      "cell_type": "code",
      "execution_count": null,
      "metadata": {
        "colab": {
          "base_uri": "https://localhost:8080/"
        },
        "id": "P1QoS71CUUE7",
        "outputId": "f13c69d9-207f-49c8-9b9d-7b56f2bbe118"
      },
      "outputs": [
        {
          "output_type": "stream",
          "name": "stdout",
          "text": [
            "Total number of unique users: 14301\n"
          ]
        }
      ],
      "source": [
        "# Calculate the number of unique users\n",
        "total_user_id = len(new_data['userId'].unique())\n",
        "print(\"Total number of unique users:\", total_user_id)\n"
      ]
    },
    {
      "cell_type": "markdown",
      "metadata": {
        "id": "-Az4KDFgV1CQ"
      },
      "source": [
        " Let's check that whether the users are indexed from 0 below using the following code.\n"
      ]
    },
    {
      "cell_type": "code",
      "source": [
        "# Create a sorted list of unique user IDs\n",
        "list_user_id = list(new_data['userId'].unique())\n",
        "list_user_id.sort()\n",
        "\n",
        "# Preview the sorted list (optional)\n",
        "print(\"Sorted list of user IDs:\", list_user_id[:10])  # Display the first 10 user IDs\n"
      ],
      "metadata": {
        "colab": {
          "base_uri": "https://localhost:8080/"
        },
        "id": "QwvbgppwGZrW",
        "outputId": "6e205a9b-0e12-4d37-fc89-10fafd2d4e93"
      },
      "execution_count": null,
      "outputs": [
        {
          "output_type": "stream",
          "name": "stdout",
          "text": [
            "Sorted list of user IDs: [22, 25, 28, 31, 58, 75, 79, 94, 101, 110]\n"
          ]
        }
      ]
    },
    {
      "cell_type": "markdown",
      "source": [
        "We can see that `list_user_id` contains contiguous indices from 22."
      ],
      "metadata": {
        "id": "7wElJE5T2zKx"
      }
    },
    {
      "cell_type": "markdown",
      "metadata": {
        "id": "h-LytszyV1CV"
      },
      "source": [
        "We create a new column `user_num` to get an index from 0 to  for users:"
      ]
    },
    {
      "cell_type": "code",
      "source": [
        "\n",
        "# Map user IDs to indices starting from 0\n",
        "user_id_to_index = {user_id: index for index, user_id in enumerate(list_user_id)}\n",
        "\n",
        "# Add the new column `user_num` to the ratings DataFrame\n",
        "new_data['user_num'] = new_data['userId'].map(user_id_to_index)\n"
      ],
      "metadata": {
        "id": "8FMw8MJZGwZg"
      },
      "execution_count": null,
      "outputs": []
    },
    {
      "cell_type": "markdown",
      "metadata": {
        "id": "W0OThRYhV1Cb"
      },
      "source": [
        "We now look at movies."
      ]
    },
    {
      "cell_type": "code",
      "source": [
        "# Find unique movies\n",
        "unique_movies = new_data['movieId'].unique()\n",
        "print(\"Unique movies:\", len(unique_movies))\n"
      ],
      "metadata": {
        "colab": {
          "base_uri": "https://localhost:8080/"
        },
        "id": "pNSmMfReUBx8",
        "outputId": "998eaac0-afb4-4e61-cb3c-4e56254f0903"
      },
      "execution_count": null,
      "outputs": [
        {
          "output_type": "stream",
          "name": "stdout",
          "text": [
            "Unique movies: 51858\n"
          ]
        }
      ]
    },
    {
      "cell_type": "code",
      "source": [
        "# Create a sorted list of unique user IDs\n",
        "list_movie_id = list(new_data['movieId'].unique())\n",
        "list_movie_id.sort()\n",
        "\n",
        "# Preview the sorted list (optional)\n",
        "print(list_movie_id[:10])  # First 10 values\n",
        "print(list_movie_id[-10:]) # Last 10 values\n"
      ],
      "metadata": {
        "colab": {
          "base_uri": "https://localhost:8080/"
        },
        "id": "8cIMKcvuTV55",
        "outputId": "7cd5eaa8-d29b-4664-955b-bbf9fd75f275"
      },
      "execution_count": null,
      "outputs": [
        {
          "output_type": "stream",
          "name": "stdout",
          "text": [
            "[1, 2, 3, 4, 5, 6, 7, 8, 9, 10]\n",
            "[292617, 292619, 292625, 292627, 292709, 292731, 292737, 292753, 292755, 292757]\n"
          ]
        }
      ]
    },
    {
      "cell_type": "markdown",
      "metadata": {
        "id": "3gGu2LjiV1Ci"
      },
      "source": [
        "Here there is a clear problem: there are 51858 different movies but the range of `movieId` starts at 1 and ends at 292,757. So there are gaps, so the first thing you will need to do is to create a new column `movie_num` so that all movies are indexed from 0 to 51857."
      ]
    },
    {
      "cell_type": "markdown",
      "source": [
        "We can see that `movieId` contains contiguous indices from 1, but there are gaps somewhere."
      ],
      "metadata": {
        "id": "PxbHTyDqUnvj"
      }
    },
    {
      "cell_type": "markdown",
      "source": [
        "We create a new column `movie_num` to get an index from 0, and make sure it is increased by 1."
      ],
      "metadata": {
        "id": "8cVDuX9SUsw4"
      }
    },
    {
      "cell_type": "code",
      "source": [
        "\n",
        "# Map movie IDs to indices starting from 0\n",
        "movie_id_to_index = {movie_id: index for index, movie_id in enumerate(list_movie_id)}\n",
        "\n",
        "# Add the new column `movie_num` to the ratings DataFrame\n",
        "new_data['movie_num'] = new_data['movieId'].map(movie_id_to_index)"
      ],
      "metadata": {
        "id": "UWjsRCtcVC7p"
      },
      "execution_count": null,
      "outputs": []
    },
    {
      "cell_type": "markdown",
      "metadata": {
        "id": "weNJOlzcV1Cl"
      },
      "source": [
        "This function will verify that we have created `movie_num` correctly."
      ]
    },
    {
      "cell_type": "code",
      "execution_count": null,
      "metadata": {
        "id": "ktctMT12V1Cl"
      },
      "outputs": [],
      "source": [
        "# Function to verify the `movie_num` column is correctly created\n",
        "def check_ratings_num(df):\n",
        "    movie_num = set(df['movie_num'])\n",
        "    if movie_num == set(range(len(movie_num))):\n",
        "        return True\n",
        "    else:\n",
        "        return False"
      ]
    },
    {
      "cell_type": "code",
      "execution_count": null,
      "metadata": {
        "colab": {
          "base_uri": "https://localhost:8080/"
        },
        "id": "w4w1XQnfV1Cp",
        "outputId": "0a190728-86f0-4716-95d6-1a4391041951"
      },
      "outputs": [
        {
          "output_type": "stream",
          "name": "stdout",
          "text": [
            "Verification result: True\n"
          ]
        }
      ],
      "source": [
        "# Apply the function to the DataFrame\n",
        "result = check_ratings_num(new_data)\n",
        "print(\"Verification result:\", result)\n"
      ]
    },
    {
      "cell_type": "markdown",
      "source": [
        "Let's check the dataset:"
      ],
      "metadata": {
        "id": "zVjIdt0IZvtV"
      }
    },
    {
      "cell_type": "code",
      "source": [
        "\n",
        "# Preview the updated DataFrame\n",
        "print(new_data.head())\n"
      ],
      "metadata": {
        "colab": {
          "base_uri": "https://localhost:8080/"
        },
        "id": "lTcmYoYbT3TH",
        "outputId": "e90e6251-e7a6-4d7a-d89c-c9528da811e0"
      },
      "execution_count": null,
      "outputs": [
        {
          "output_type": "stream",
          "name": "stdout",
          "text": [
            "      userId  movieId  rating   timestamp  \\\n",
            "2184      22      745     5.0  1668909890   \n",
            "2185      22     1036     3.5  1674334081   \n",
            "2187      22     1148     5.0  1668909874   \n",
            "2196      22     2762     3.5  1668895472   \n",
            "2199      22     4979     4.5  1650330136   \n",
            "\n",
            "                                            title  \\\n",
            "2184       Wallace & Gromit: A Close Shave (1995)   \n",
            "2185                              Die Hard (1988)   \n",
            "2187  Wallace & Gromit: The Wrong Trousers (1993)   \n",
            "2196                      Sixth Sense, The (1999)   \n",
            "2199                 Royal Tenenbaums, The (2001)   \n",
            "\n",
            "                               genres  user_num  movie_num  \n",
            "2184        Animation|Children|Comedy         0        641  \n",
            "2185            Action|Crime|Thriller         0        863  \n",
            "2187  Animation|Children|Comedy|Crime         0        945  \n",
            "2196             Drama|Horror|Mystery         0       2314  \n",
            "2199                     Comedy|Drama         0       4263  \n"
          ]
        }
      ]
    },
    {
      "cell_type": "markdown",
      "source": [
        "Now, we are using 'new_data' as our raw dataset to build our network."
      ],
      "metadata": {
        "id": "WPcXTxB_alXI"
      }
    },
    {
      "cell_type": "markdown",
      "source": [
        "# Exploratory analysis"
      ],
      "metadata": {
        "id": "lzKQ8wPGabr1"
      }
    },
    {
      "cell_type": "code",
      "execution_count": null,
      "metadata": {
        "colab": {
          "base_uri": "https://localhost:8080/"
        },
        "id": "l3gfokbNUUFH",
        "outputId": "0179a60a-191c-47d5-fec0-5d05f18e5446"
      },
      "outputs": [
        {
          "output_type": "stream",
          "name": "stdout",
          "text": [
            "count    1.707159e+06\n",
            "mean     1.522382e+04\n",
            "std      1.400011e+04\n",
            "min      0.000000e+00\n",
            "25%      3.610000e+03\n",
            "50%      1.095600e+04\n",
            "75%      2.244800e+04\n",
            "max      5.185700e+04\n",
            "Name: movie_num, dtype: float64\n"
          ]
        }
      ],
      "source": [
        "# Describe the movieId column in new_data\n",
        "movie_stats = new_data['movie_num'].describe()\n",
        "print(movie_stats)\n"
      ]
    },
    {
      "cell_type": "code",
      "execution_count": null,
      "metadata": {
        "colab": {
          "base_uri": "https://localhost:8080/"
        },
        "id": "8ncInsk_V1Cg",
        "outputId": "6176f603-e34f-4304-8e1a-9a4c30feae3c"
      },
      "outputs": [
        {
          "output_type": "stream",
          "name": "stdout",
          "text": [
            "Total number of unique rated items: 51858\n"
          ]
        }
      ],
      "source": [
        "# Number of unique rated items\n",
        "total_item_id = len(new_data['movieId'].unique())\n",
        "print(\"Total number of unique rated items:\", total_item_id)\n"
      ]
    },
    {
      "cell_type": "markdown",
      "source": [
        "### Preliminary data analysis\n",
        "\n",
        "**Exercise**: Find the top 10 most popular movies in the dataset and include the result in your report."
      ],
      "metadata": {
        "id": "y2XGHdnbLms4"
      }
    },
    {
      "cell_type": "code",
      "source": [
        "# Find the top 10 most frequently rated movies\n",
        "top_movies = new_data['title'].value_counts().nlargest(10)\n",
        "print(top_movies)\n"
      ],
      "metadata": {
        "colab": {
          "base_uri": "https://localhost:8080/"
        },
        "id": "V-jcrW96lwsW",
        "outputId": "8923c7ca-e095-4c12-c884-b9f3792d9137"
      },
      "execution_count": null,
      "outputs": [
        {
          "output_type": "stream",
          "name": "stdout",
          "text": [
            "title\n",
            "Inception (2010)                                             5063\n",
            "Dark Knight, The (2008)                                      4737\n",
            "Matrix, The (1999)                                           4697\n",
            "Interstellar (2014)                                          4556\n",
            "Shawshank Redemption, The (1994)                             4454\n",
            "Fight Club (1999)                                            4382\n",
            "Lord of the Rings: The Fellowship of the Ring, The (2001)    4007\n",
            "Everything Everywhere All at Once (2022)                     3989\n",
            "Lord of the Rings: The Return of the King, The (2003)        3842\n",
            "Dune (2021)                                                  3838\n",
            "Name: count, dtype: int64\n"
          ]
        }
      ]
    },
    {
      "cell_type": "markdown",
      "source": [
        "**Exercise**: Plot the histogram of popularity (x-axis: # of given ratings, y-axis: # of movies with the given # of ratings). Include the plot in your report."
      ],
      "metadata": {
        "id": "1KOFiKMCr0_4"
      }
    },
    {
      "cell_type": "code",
      "source": [
        "import matplotlib.pyplot as plt\n",
        "\n",
        "# Calculate the number of ratings per movie\n",
        "ratings_per_movie = new_data['title'].value_counts()\n",
        "\n",
        "# Plot the histogram\n",
        "plt.figure(figsize=(8, 6))\n",
        "plt.hist(ratings_per_movie, bins=50, color='skyblue', edgecolor='black', log=True)\n",
        "\n",
        "# Add labels and title\n",
        "plt.title('Histogram of Movie Popularity', fontsize=14)\n",
        "plt.xlabel('# of Ratings', fontsize=12)\n",
        "plt.ylabel('# of Movies', fontsize=12)\n",
        "plt.grid(axis='y', linestyle='--', alpha=0.7)\n",
        "\n",
        "# Show the plot\n",
        "plt.tight_layout()\n",
        "plt.show()\n"
      ],
      "metadata": {
        "colab": {
          "base_uri": "https://localhost:8080/",
          "height": 607
        },
        "id": "iES1dtjRmnvv",
        "outputId": "ed03f193-52f6-400f-ba39-c4e21bebaba2"
      },
      "execution_count": null,
      "outputs": [
        {
          "output_type": "display_data",
          "data": {
            "text/plain": [
              "<Figure size 800x600 with 1 Axes>"
            ],
            "image/png": "[encoded data removed]"
          },
          "metadata": {}
        }
      ]
    },
    {
      "cell_type": "markdown",
      "source": [
        "**Exercise**: Plot the histogram of user activity (x-axis: # of given ratings, y-axis: # of users with the given # of ratings). Include the plot in your report."
      ],
      "metadata": {
        "id": "9e7Er529r3xY"
      }
    },
    {
      "cell_type": "code",
      "source": [
        "\n",
        "# Calculate the number of ratings per user\n",
        "ratings_per_user = new_data['userId'].value_counts()\n",
        "\n",
        "# Plot the histogram\n",
        "plt.figure(figsize=(8, 6))\n",
        "plt.hist(ratings_per_user, bins=50, color='orange', edgecolor='black', log=True)\n",
        "\n",
        "# Add labels and title\n",
        "plt.title('Histogram of User Activity', fontsize=14)\n",
        "plt.xlabel('# of Ratings Given by Users', fontsize=12)\n",
        "plt.ylabel('# of Users', fontsize=12)\n",
        "plt.grid(axis='y', linestyle='--', alpha=0.7)\n",
        "\n",
        "# Show the plot\n",
        "plt.tight_layout()\n",
        "plt.show()\n"
      ],
      "metadata": {
        "colab": {
          "base_uri": "https://localhost:8080/",
          "height": 607
        },
        "id": "f-5mN1F6qLLF",
        "outputId": "a73af91e-a761-478f-f6eb-ad76ecec69f0"
      },
      "execution_count": null,
      "outputs": [
        {
          "output_type": "display_data",
          "data": {
            "text/plain": [
              "<Figure size 800x600 with 1 Axes>"
            ],
            "image/png": "[encoded data removed]"
          },
          "metadata": {}
        }
      ]
    },
    {
      "cell_type": "markdown",
      "source": [
        "Let's check the distribution of the movies."
      ],
      "metadata": {
        "id": "0WoXNZuSxFmc"
      }
    },
    {
      "cell_type": "markdown",
      "source": [
        "Firstly, we need to check if all rows contain 'year' information:"
      ],
      "metadata": {
        "id": "NR1PoZR_xLmk"
      }
    },
    {
      "cell_type": "code",
      "source": [
        "\n",
        "# Check if the title column contains a year in parentheses\n",
        "new_data['has_year'] = new_data['title'].str.contains(r'\\(\\d{4}\\)', regex=True)\n",
        "\n",
        "# Identify titles missing the year\n",
        "missing_year_titles = new_data[~new_data['has_year']]\n",
        "\n",
        "# Output the result\n",
        "if missing_year_titles.empty:\n",
        "    print(\"All titles include a bracket containing year information.\")\n",
        "else:\n",
        "    print(\"The following titles are missing year information:\")\n",
        "    print(missing_year_titles[['title']])\n"
      ],
      "metadata": {
        "colab": {
          "base_uri": "https://localhost:8080/"
        },
        "id": "RY1knHVqxExm",
        "outputId": "136a4d42-22fa-403e-dd21-44aecd0e242a"
      },
      "execution_count": null,
      "outputs": [
        {
          "output_type": "stream",
          "name": "stdout",
          "text": [
            "The following titles are missing year information:\n",
            "                                  title\n",
            "5348                       The Northman\n",
            "5607      I'm Thinking of Ending Things\n",
            "12295                      Enola Holmes\n",
            "14904                          Paterson\n",
            "14912     I'm Thinking of Ending Things\n",
            "...                                 ...\n",
            "31988999                   The Northman\n",
            "31990208                       The King\n",
            "31992142              Nocturnal Animals\n",
            "31992149                      Moonlight\n",
            "31997158                    Bones & All\n",
            "\n",
            "[9916 rows x 1 columns]\n"
          ]
        }
      ]
    },
    {
      "cell_type": "markdown",
      "source": [
        "Count how many movies are missing their 'year' information:"
      ],
      "metadata": {
        "id": "xl4NfMxwx8ih"
      }
    },
    {
      "cell_type": "code",
      "source": [
        "# Step 1: Filter rows where the title is missing year information\n",
        "missing_year_titles = new_data[~new_data['has_year']]\n",
        "\n",
        "# Step 2: Count unique movies (titles) missing year information\n",
        "unique_missing_titles_count = missing_year_titles['title'].nunique()\n",
        "\n",
        "# Output the result\n",
        "print(f\"There are {unique_missing_titles_count} unique movies missing year information.\")\n"
      ],
      "metadata": {
        "colab": {
          "base_uri": "https://localhost:8080/"
        },
        "id": "zSQG4T01x7mp",
        "outputId": "06c1917c-1b95-42bc-ad69-359b70537ece"
      },
      "execution_count": null,
      "outputs": [
        {
          "output_type": "stream",
          "name": "stdout",
          "text": [
            "There are 250 unique movies missing year information.\n"
          ]
        }
      ]
    },
    {
      "cell_type": "markdown",
      "source": [
        "Considering that we have around 51k unique movies in this dataset, we can just ignore the missing information and generate a distribution plot of the rest movies."
      ],
      "metadata": {
        "id": "SbX2MCH_y_9B"
      }
    },
    {
      "cell_type": "markdown",
      "source": [
        " **Excercise:** Plot the histogram of movie years (x-axis: # year, y-axis: # of movies produed in that year). Include the plot in your report."
      ],
      "metadata": {
        "id": "jyB_iErJervy"
      }
    },
    {
      "cell_type": "code",
      "source": [
        "import pandas as pd\n",
        "import matplotlib.pyplot as plt\n",
        "\n",
        "# Step 1: Filter rows with valid year information\n",
        "new_data_with_year = new_data[new_data['has_year']].copy()\n",
        "\n",
        "# Step 2: Extract the year from the title column\n",
        "new_data_with_year['year'] = new_data_with_year['title'].str.extract(r'\\((\\d{4})\\)')\n",
        "\n",
        "# Step 3: Remove duplicates based on the title column\n",
        "unique_movies = new_data_with_year.drop_duplicates(subset='title')\n",
        "\n",
        "# Step 4: Count the number of unique movies produced each year\n",
        "movies_per_year = unique_movies['year'].value_counts().sort_index()\n",
        "\n",
        "# Step 5: Plot the histogram of unique movies by year\n",
        "plt.figure(figsize=(12, 6))\n",
        "movies_per_year.plot(kind='bar', width=0.8, color='skyblue')\n",
        "\n",
        "# Set x-axis labels to display every 5 years\n",
        "plt.title('Number of Unique Movies Produced by Year', fontsize=16)\n",
        "plt.xlabel('Year', fontsize=14)\n",
        "plt.ylabel('Number of Movies', fontsize=14)\n",
        "plt.xticks(range(0, len(movies_per_year), 5), movies_per_year.index[::5], rotation=45)\n",
        "plt.grid(axis='y', linestyle='--', alpha=0.7)\n",
        "plt.tight_layout()\n",
        "plt.show()\n"
      ],
      "metadata": {
        "colab": {
          "base_uri": "https://localhost:8080/",
          "height": 607
        },
        "id": "zjnfLqymy-_2",
        "outputId": "3f44742f-8497-4d65-f116-b3052a8ccab1"
      },
      "execution_count": null,
      "outputs": [
        {
          "output_type": "display_data",
          "data": {
            "text/plain": [
              "<Figure size 1200x600 with 1 Axes>"
            ],
            "image/png": "[encoded data removed]"
          },
          "metadata": {}
        }
      ]
    },
    {
      "cell_type": "markdown",
      "source": [
        "**Exercise**: Compute the average ratings for every movie and find the top 20 highly rated movies. Include the list of 20 highly rated movies and their ratings in your report."
      ],
      "metadata": {
        "id": "nI7Tomlfr64A"
      }
    },
    {
      "cell_type": "code",
      "source": [
        "\n",
        "# Compute the average rating for each movie\n",
        "movie_avg_ratings = new_data.groupby('title')['rating'].mean()\n",
        "\n",
        "# Sort the movies by their average ratings in descending order\n",
        "top_50_movies = movie_avg_ratings.sort_values(ascending=False).head(50)\n",
        "\n",
        "# Print the results\n",
        "print(\"Top 50 Highly Rated Movies:\")\n",
        "print(top_50_movies)\n"
      ],
      "metadata": {
        "colab": {
          "base_uri": "https://localhost:8080/"
        },
        "id": "3TFUhkPEqyLq",
        "outputId": "3539741d-bf6e-4109-d9de-eed012131f9d"
      },
      "execution_count": null,
      "outputs": [
        {
          "output_type": "stream",
          "name": "stdout",
          "text": [
            "Top 50 Highly Rated Movies:\n",
            "title\n",
            "Life is to Whistle (Vida es silbar, La) (1998)           5.0\n",
            "Classic Albums: The Doors - The Doors (2008)             5.0\n",
            "The Godfather Family: A Look Inside (1990)               5.0\n",
            "Classic Albums: Metallica - Metallica (2001)             5.0\n",
            "Class (2010)                                             5.0\n",
            "Suzy Snowflake (1951)                                    5.0\n",
            "Ace of Hearts (2008)                                     5.0\n",
            "Promise of Pisa (2019)                                   5.0\n",
            "Clancy Once Again (2017)                                 5.0\n",
            "Clancy (2009)                                            5.0\n",
            "Civilisation (1969)                                      5.0\n",
            "Civil Love (2012)                                        5.0\n",
            "City of Your Final Destination, The (2009)               5.0\n",
            "Susie's Hope (2013)                                      5.0\n",
            "With Love, Christmas (2017)                              5.0\n",
            "Autumn Stables (2018)                                    5.0\n",
            "Propaganda (2012)                                        5.0\n",
            "American Circumcision (2017)                             5.0\n",
            "City of Joy (2016)                                       5.0\n",
            "Surviving The Wild (2018)                                5.0\n",
            "Nine Days of One Year (1961)                             5.0\n",
            "Classic Albums: Nirvana - Nevermind (2005)               5.0\n",
            "Dällebach Kari (1970)                                    5.0\n",
            "Witnesses (2021)                                         5.0\n",
            "Warning: Parental Advisory (2002)                        5.0\n",
            "Hut in the Woods (2011)                                  5.0\n",
            "Clipping Adam (2004)                                     5.0\n",
            "Climate Change: The Facts (2019)                         5.0\n",
            "When the Raven Flies (1984)                              5.0\n",
            "Project Christmas Wish (2020)                            5.0\n",
            "A Greater Yes: The Story of Amy Newhouse (2009)          5.0\n",
            "Out of Liberty (2019)                                    5.0\n",
            "No Lost Cause (2011)                                     5.0\n",
            "Sweet Carolina (2021)                                    5.0\n",
            "The Atrocity Exhibition (2000)                           5.0\n",
            "Lambchops (1929)                                         5.0\n",
            "Sweet As (2022)                                          5.0\n",
            "Half a Dozen Babies (1999)                               5.0\n",
            "With or Without You (2021)                               5.0\n",
            "A Godwink Christmas: Second Chance, First Love (2020)    5.0\n",
            "Root of the Problem (2019)                               5.0\n",
            "Projectionist, The (1971)                                5.0\n",
            "A Girl's Best Friend (2015)                              5.0\n",
            "Tirza (2010)                                             5.0\n",
            "Nina's Heavenly Delights (2006)                          5.0\n",
            "She Spent So Many Hours Under the Sun Lamps (1985)       5.0\n",
            "Dying to Belong (1997)                                   5.0\n",
            "Cirque du Soleil: Saltimbanco (1997)                     5.0\n",
            "PsyWar: The real battlefield is your mind (2010)         5.0\n",
            "A Father for Brittany (1998)                             5.0\n",
            "Name: rating, dtype: float64\n"
          ]
        }
      ]
    },
    {
      "cell_type": "markdown",
      "source": [
        "We see that some highly rated movies are not popular ones."
      ],
      "metadata": {
        "id": "OYXD-eNv4PyD"
      }
    },
    {
      "cell_type": "markdown",
      "source": [
        "histogram of the movies(yesars)"
      ],
      "metadata": {
        "id": "6vpHXadZhff3"
      }
    },
    {
      "cell_type": "markdown",
      "metadata": {
        "id": "Ur4bjuniUUFj"
      },
      "source": [
        "---\n",
        "## Train, Validation, and Test Data\n",
        "\n",
        "Now we will split the data in _train_, _val_ and _test_ be using a pre-defined function from [scikit-learn](http://scikit-learn.org/stable/)"
      ]
    },
    {
      "cell_type": "code",
      "execution_count": null,
      "metadata": {
        "id": "ZT5oxhoGUUFm"
      },
      "outputs": [],
      "source": [
        "#Split the data into train, validation and test\n",
        "from sklearn.model_selection import train_test_split\n",
        "\n",
        "ratings_trainval, ratings_test = train_test_split(new_data, test_size=0.1, random_state=42)\n",
        "\n",
        "ratings_train, ratings_val = train_test_split(ratings_trainval, test_size=0.1, random_state=42)"
      ]
    },
    {
      "cell_type": "code",
      "source": [
        "user_id_train = ratings_train['userId']\n",
        "item_id_train = ratings_train['movieId']\n",
        "rating_train = ratings_train['rating']\n",
        "\n",
        "user_id_test = ratings_test['userId']\n",
        "item_id_test = ratings_test['movieId']\n",
        "rating_test = ratings_test['rating']"
      ],
      "metadata": {
        "id": "_xIuapYfBssG"
      },
      "execution_count": null,
      "outputs": []
    },
    {
      "cell_type": "code",
      "source": [
        "# Step 1: Identify movies not in the training set\n",
        "movies_not_train = list(set(new_data['movieId']) - set(item_id_train))\n",
        "\n",
        "# Step 2: Retrieve the names of these movies\n",
        "movies_not_train_names = set(new_data.loc[new_data['movieId'].isin(movies_not_train), 'title'])\n",
        "\n",
        "# Step 3: Print the movie names\n",
        "print(movies_not_train_names)\n",
        "print(len(movies_not_train_names))\n"
      ],
      "metadata": {
        "colab": {
          "base_uri": "https://localhost:8080/"
        },
        "id": "kRo_Un-IBiof",
        "outputId": "558dae2e-1723-480a-bf84-e127c57b4bb9"
      },
      "execution_count": null,
      "outputs": [
        {
          "output_type": "stream",
          "name": "stdout",
          "text": [
            "{'Guest iin London (2017)', 'Deadliest Prey (2013)', 'Owned: A Tale of Two Americas (2018)', 'Secret (2011)', 'Sanam Teri Kasam (2016)', 'Calamity, a Childhood of Martha Jane Cannary (2020)', 'Fast and Loose (1930)', 'Ugly, The (1997)', \"Elizabeth's Gift (2012)\", 'Golden Door (Nuovomondo) (2006)', 'The Other Side (1994)', 'Foe (2023)', 'The Cannibals (1972)', \"Midsummer Night's Dream, A (1968)\", 'The Messenger (2019)', 'Some Call It Loving (1973)', 'Reborn (2018)', 'American Pain (2022)', 'Ginza Cosmetics (1951)', 'Hitler- Dead or Alive (1942)', 'Jo & Jo (2022)', 'True Identity (1991)', 'Go West (1940)', 'Viktoria (2014)', 'Cymbeline (2014)', 'A Perfect Plan (2020)', 'Beyond Desire (1995)', 'Miyamoto Musashi (1961)', 'Escape from Wildcat Canyon (1998)', 'Jimi Hendrix: Electric Ladyland (2008)', 'A Man Called Blade (1977)', 'Street with No Name, The (1948)', 'America, America (1963)', 'The 90 Day Plan (2021)', 'Canvas (2021)', \"If It Don't Fit, Use a Bigger Hammer (2002)\", 'Tom and Jerry Meet Sherlock Holmes (2010)', 'Beauty and the Boss (1932)', 'City Beneath the Sea (1971)', 'Shark (2022)', 'The Musicians (1960)', \"The Haunting Hour: Don't Think About It (2007)\", 'El futuro está en el Porno (2005)', 'Rack, The (1956)', 'Living (2012)', '11:59 (2005)', 'The Game of Truth (2013)', 'Shallow Yellow Sky (2013)', 'Kakegurui 2: Ultimate Russian Roulette (2021)', 'Ballad of a Righteous Merchant (2017)', 'Pictures of Hollis Woods (2007)', 'About Adam (2000)', \"Velikaya kriminal'naya revolyutsiya (1994)\", '60 Cycles (1965)', 'The Time Agent (2016)', 'Amor? (2011)', 'Golem (1980)', 'Montana (1950)', 'The Distant Barking of Dogs (2017)', \"Something's Got to Give (1962)\", 'Carved: The Slit-Mouthed Woman (2007)', 'Bonitinha, Mas Ordinária (1981)', 'Pogey Beach (2019)', 'Hornblower: The Fire Ships (1998)', 'The Boy in the Plastic Bubble (1976)', 'Little Thief, The (La petite voleuse) (1988)', \"Gulliver's Travels (1977)\", 'The Fifth Season (1997)', 'Prime Minister (2009)', 'The Russia We Lost (1992)', 'Hellions (2015)', 'Fiction (2006)', 'Magic Silver 2 (2011)', \"Who's Driving Doug (2016)\", 'Tell Them We Are Rising: The Story of Black Colleges and Universities (2017)', 'The Hunt (2011)', 'Wood and Water (2021)', \"Since Otar Left (Depuis qu'Otar est parti...) (2003)\", 'Positive (1990)', 'Mega Shark vs. Kolossus (2015)', 'The Secret Diary of the Holocaust (2009)', 'Patchwork (2015)', 'Cairo (1942)', 'Black Money (2019)', 'Afraid (2019)', 'Dope Boys Alphabet (2021)', 'Junk Head 1 (2013)', 'Soof (2013)', 'American Reject (2022)', 'Goodbye to the Past (1961)', 'Gabi (2012)', \"Dive! (Dive!: Living off America's Waste) (2010)\", 'O Candidato Honesto (2014)', 'Puss in Boots (1985)', 'Il tenente dei carabinieri (1986)', 'Stuff and Dough (Marfa si banii) (2001)', 'The Price of Honor (2014)', 'The Little Mermaid (1976)', \"'Pimpernel' Smith (1941)\", 'The Call of the Wild: Dog of the Yukon (1997)', 'Deeply (2000)', 'Goodbye, Columbus (1969)', \"Hitler's Disastrous Desert War (2021)\", 'The New Monsters (1977)', 'The Fox and the Hare (1973)', 'One Last Dive (2013)', 'The Fever (2004)', 'Greetings to the Devil (2011)', 'Plain Truth (2004)', 'The Jensen Project (2010)', 'CrissCross (1992)', 'Ivory Tower (2014)', 'Untamed Romania (2018)', 'A Girl in Australia (1971)', 'The Pyramid (2007)', 'But Forever in My Mind (1999)', 'Double Happiness (1994)', 'Victoria (2020)', 'Iblard Jikan (2007)', 'Magnetic (2018)', 'Eternal Breasts (1955)', 'Heroic (2023)', 'Eat Me (2018)', 'Balkan Is Not Dead (2012)', 'Blue Steel (1934)', 'Strays (1997)', 'Temptation of St. Tony, The (Püha Tõnu kiusamine) (2009)', 'Hell Below Zero (1954)', 'Witches, The (Le streghe) (1967)', \"Mr. Mike's Mondo Video (1979)\", 'Grill Point (Halbe Treppe) (2002)', 'Benny & Jolene (2014)', 'Zombiebox (2018)', 'The Three from the Filling Station (1956)', 'Lovesick (2016)', 'Jawaani Jaaneman (2020)', 'Deer Woman (2005)', 'IMAX: Coral Reef Adventure (2003)', 'So Young (Zhi wo men zhong jiang shi qu de qing chun) (2013)', 'The Four of Us (2021)', 'Goldilocks (2016)', 'Left Hand of God, The (1955)', 'ExTerminators (2010)', 'Vampire Dad (2020)', 'Center Stage (Ruan Lingyu) (Actress, The) (New China Woman, The) (1991)', 'Like.Share.Follow. (2017)', 'Evil Does Not Exist (2023)', 'Merry War, A (1997)', 'Cider and Sunsets (2022)', 'Transylvania Twist (1990)', 'The Secret Life of Plants (1979)', 'Beauty and the Beast (1934)', 'The Amityville Moon (2021)', 'Sagan (2008)', 'Russian Riot (2000)', 'Hiruko the Goblin (1991)', 'My Mother the Mermaid (2003)', 'Closer to God (2015)', 'Prisoner X (2016)', \"Whistle and I'll Come to You (2010)\", 'Thief of Paris, The (Le voleur) (1967)', 'Bitcoin Heist (2016)', 'Ransom! (1956)', 'Home of Dark Butterflies, The (Tummien perhosten koti) (2008)', 'Ghost of Dragstrip Hollow (1959)', 'Gabriel (2014)', 'Messenger of Death (1988)', 'Million Dollar Weekend (1948)', 'Ecce bombo (1978)', 'Vibrator (2003)', 'The Swissmakers (1979)', 'Last Shot, The (2004)', 'star-crossed: the film (2021)', 'Daddy and Them (2001)', 'Ichthys (2005)', 'Death Stalk (1975)', 'Whip and the Body, The (Frusta e il corpo, La) (1963)', 'Kyaa Kool Hai Hum (2005)', 'My Brother Chases Dinosaurs (2019)', 'Different for Girls (1996)', 'Hurt (2009)', 'Gates of the Night (1946)', 'Steve-O: Gnarly (2020)', 'Nine Meals from Chaos (2018)', 'Family Time (2023)', 'Spetters (1980)', 'Women Who Kill (2016)', 'Flying Disc Man from Mars (1950)', 'The Subject (2020)', 'All Stars (1997)', 'How the Cossacks Played Hockey (1995)', 'Belonging (2019)', 'Manhunt in the Dakotas (1991)', 'Cyclo (Xich lo) (1995)', 'The Weapon (2023)', 'A Hound for Trouble (1951)', 'Danny Boy (2021)', 'The River Within (2009)', 'The Famous Box Trick (1898)', 'The Orheim Company (2012)', 'American Zombie (2007)', 'Nico, 1988 (2017)', 'You Are Not I (1981)', 'Trouble with Girls, The (1969)', 'Dark Woods II (2015)', 'The Last Wagon (1956)', 'Gurgaon (2017)', 'Yarik (2008)', 'Malta Story (1953)', 'Whisky (2004)', 'My Life So Far (1999)', 'The Dirk Diggler Story (1988)', 'The Art of Getting Along (1954)', 'Van Gogh: Painted with Words (2010)', 'Golden Swallow (1968)', 'The Mars Underground (2007)', 'His Only Son (2023)', 'Gardens in Autumn (2006)', 'Among the Living (2022)', 'Cinema Komunisto (2010)', 'Daddy (1987)', 'No One Killed Jessica (2011)', 'Billy the Kid (1941)', 'Facing the Fat (2009)', 'Aware – Reise in das Bewusstsein (2021)', 'Duisburg - Linea di sangue (2019)', 'Angelus (2000)', 'The Outsiders (1990)', 'Nitrate Kisses (1992)', 'Raging Sun, Raging Sky (2009)', 'Crepuscule (2009)', 'Avenging Conscience, The (1914)', 'Rival (2020)', 'Romeo Turns Bandit (1909)', 'Resolution Song (2018)', 'So Fine (1981)', 'Mother (1952)', 'Wasteland No. 1: Ardent Verdant (2017)', 'Muska (2014)', 'Burma VJ: Reporting from a Closed Country (Burma VJ: Reporter i et lukket land) (2008)', 'Lobster Cop (2018)', 'Married Bachelor (1941)', 'Murder in New Hampshire: The Pamela Wojas Smart Story (1999)', 'Anatomy of a Love Seen (2014)', 'Sicilian Vampire (2015)', 'CSI: Immortality (2015)', 'Cool Cat Fights Coronavirus (2021)', 'Ricky & Barabba (1992)', 'Sin Filtro (2016)', 'Ville-Marie (2015)', 'Moscow - Lopushki (2014)', 'Dallos Special (1983)', 'Take a Hard Ride (1975)', 'Three Orphan Kittens (1935)', 'Smile Before Death (1972)', 'Rickover: The Birth of Nuclear Power (2014)', 'Winter Wind (1969)', '7eventy 5ive (2007)', 'The Convoy (2012)', 'A Joy Ride (1922)', 'Beltracchi - The Art of the Forgery (2014)', \"Move Me Brightly - Celebrating Jerry Garcia's 70th Birthday (2013)\", 'The Teachers’ Lounge (2023)', 'Flamenco (de Carlos Saura) (1995)', 'The Queen of Clubs (2009)', 'Diary (2006)', 'Anche se volesse lavorare, che faccio? (1972)', 'Three Men on a Horse (1936)', 'This Is Elvis (1981)', 'Moscow Gigolo (2008)', 'Mutiny on the Buses (1972)', 'Our Lady of San Juan, Four Centuries of Miracles (2021)', 'Underground Inc: The Rise and Fall of Alternative Rock (2019)', 'Honeymooners, The (2005)', 'D.B. Cooper: Where Are You?!', 'Τέλειοι Ξένοι (2016)', 'Russell Brand: Messiah Complex (2013)', 'Perry Mason: The Case of the Silenced Singer (1990)', 'Any Number Can Play (1949)', 'Red Hollywood (1995)', 'Lawyer Lawyer (1997)', 'Toys of Terror (2020)', 'All Male, All Nude (2017)', 'Face of a Fugitive (1959)', 'A Czechoslovak Fairy Tale (2022)', 'Surviving Sid (2008)', 'The Affairs of Annabel (1938)', 'Magnificent Desolation: Walking on the Moon (2005)', 'Jimmy Neutron: Win, Lose and Kaboom (2004)', 'Mount St. Elias (2009)', 'The Pirates of Blood River (1962)', 'La palabra de Pablo (2017)', 'Pancho, the Millionaire Dog (2014)', 'Within (2005)', 'Masquerade (1965)', 'Original Gangstas (1996)', 'Perfect High (2015)', 'Hawking: Can You Hear Me? (2021)', 'I Am Virgin (2010)', 'Hating Peter Tatchell (2020)', 'Falling for You (2018)', 'Dancing On (2022)', 'Myrnyi-21 (2023)', \"Luna's Revenge (2018)\", \"Lupin the Third: The Pursuit of Harimao's Treasure (1995)\", 'Heal for Free (2014)', 'The Pretend One (2018)', 'Another Tango (2018)', \"King's Faith (2013)\", 'My Son (2021)', 'The Masseuse (2018)', 'Black Cat Mansion (1958)', 'Doctor on Call (2021)', 'Poor Rich Family (2020)', 'The Killing of Angel Street (1981)', 'David Blaine: Beyond Magic (2016)', 'Dognapped (2014)', 'Café Chantant (1953)', 'Just Eat It: A Food Waste Story (2014)', 'Burglars, The (Le casse) (1971)', 'Sweet Adeline (1934)', 'Baby (2020)', 'First Period (2013)', 'I Eat Your Skin (1971)', \"Into The Lion's Den (2011)\", 'Villain (2010)', 'Bats: Human Harvest (2007)', 'Estranged (2015)', 'King of the Ants (2003)', 'Dormant Beauty (2012)', 'The Gauntlet (2013)', \"The Revengers' Comedies (1998)\", 'Against the Wild II: Survive the Serengeti (2016)', 'Ithaca (2015)', 'Carry On Again Doctor (1969)', 'Porndemic (2018)', 'Alpine Fire (1985)', 'Ibiza Undead (2016)', 'The People Across the Lake (1988)', 'Hot Saturday (1932)', 'The Outsider (2019)', 'Sparrows Dance (2012)', 'On ne meurt que deux fois (1985)', 'The Feather Fairy (1985)', \"Didn't Do It For Love (1998)\", 'A Place for Annie (1994)', 'Impossible to Imagine (2019)', 'Laerte-se (2017)', 'Bad Girls Dormitory (1986)', 'Demon Legacy (2014)', \"Bridesmaid, The (Demoiselle d'honneur, La) (2004)\", \"Piker's Peak (1957)\", \"Alison's Choice (2015)\", 'O Trapalhão na Arca de Noé (1983)', 'My Man (Mon homme) (1996)', 'Black Something (2016)', 'A Few Less Men (2016)', 'Cusp (2021)', 'Monkey Enters Lanka (2022)', 'An American in Texas (2017)', 'Arctic Antics (1930)', 'Our Daily Bread (1934)', 'Longshots, The (2008)', 'Firecrackers (2018)', 'American Sicario (2021)', 'Bleeding Heart (2015)', 'Between Love and Goodbye (2009)', 'Iruvar (1997)', \"Romeo and Juliet: Shakespeare's Globe Theatre (2010)\", 'Vampir (Cuadecuc, vampir) (1971)', 'Go for Sisters (2013)', 'RiverBlue (2017)', 'Black Irish (2007)', 'Coffee and Cigarettes II (1989)', 'Down to Earth (1947)', 'Apenas o Fim (2008)', 'Babes in the Woods (1932)', 'Bon appétit (2010)', 'Undertow (1996)', 'The Landline Detective (2020)', 'Silent World, The (Le monde du silence) (1956)', 'Beyond Existence (2022)', 'Where Is Kyra? (2018)', 'The Agha (1985)', 'Dil (1990)', 'Lily C.A.T. (1987)', 'My Last Year With The Nuns (2014)', \"A Witch's Tangled Hare (1959)\", 'Same Same But Different (2009)', 'Pool Sharks (1915)', 'All That She Wants (2008)', 'Flashwood (2020)', 'Itinerary of a Spoiled Child (1988)', 'A Very Country Christmas Homecoming (2020)', 'Love, Bubbles & Crystal Cove (2021)', 'Love and the City (2009)', 'Secret Mission (1942)', 'Treasure Island (1971)', 'Endless Loop (2018)', 'City of Gold (2016)', 'The Amityville Haunting (2011)', 'Imaikkaa Nodigal (2018)', 'One of Us (2017)', 'Two Tars (1928)', 'Four, The (Si da ming bu) (2012)', \"Mama's Boy (2022)\", 'Miami Rhapsody (1995)', \"The Munsters' Revenge (1981)\", 'The Cariboo Trail (1950)', \"The Baker's Wife (1938)\", 'The Siege (2023)', 'Polish Wedding (1998)', 'Terror on a Train (Time Bomb) (1953)', 'Il vigile (1960)', 'Digimon Adventure Tri. - Chapter 3: Confession (2016)', 'Reckless (1935)', 'Alpha and Omega: The Big Fureeze (2016)', 'Wolfsburg (2003)', \"Jane's Journey (2011)\", 'The Death Lullaby (1985)', 'Одиноким предоставляется общежитие (1983)', 'I Hate Luv Storys (2010)', 'Blood Moon (2001)', 'Fursonas (2016)', 'Deadly Still (2018)', 'The Castle of Sand (1974)', 'As Far As The Eye Can See (2016)', 'Hammer, The (2007)', 'The Police Connection (1973)', 'Golden Eighties (1986)', 'Toomas Beneath the Valley of the Wild Wolves (2019)', 'Suitor, The (Soupirant, Le) (1962)', 'The Laws of Thermodynamics (2018)', 'National Theatre Live: Julie (2018)', 'Cristela Alonzo: Lower Classy (2017)', 'Hyperlight (2018)', 'Cheetah (1989)', 'Three Doors from Paradise (2018)', 'Wrong Man, The (1993)', \"Gabriel's Inferno Part III (2020)\", 'Madame Bovary (1949)', 'Father and Son (Otets i syn) (2003)', 'Game Changers: Inside the Video Game Wars (2019)', 'Captain Salvation (1927)', 'Body Troopers (1996)', 'Clash of the Wolves (1925)', 'Rangle River (1936)', 'All Things Pass (1979)', 'The Insurrection (2020)', 'The Love of Jeanne Ney (1927)', 'The Meeting Point (1989)', 'Not of This Earth (1988)', 'The Fourth Dimension (2012)', 'El Paso (1949)', 'Parking (2003)', 'Three Men in a Boat (1975)', 'Monica and Friends: Lessons (2021)', 'After Death (1989)', 'Bridal Wave (2015)', 'Waqt: The Race Against Time (2005)', 'Secrets in the Hot Spring (2018)', 'The Girl From the Other Side (2022)', 'Shaolin Wooden Men (Shao Lin mu ren xiang) (1976)', 'Fasthand (1973)', 'Fireball (2009)', \"It's an Adventure, Charlie Brown (1983)\", \"It's Christmas Again (2022)\", 'Slices (2008)', 'Hidden Man (2018)', 'Loving Leah (2009)', 'A Bandit (1913)', 'Drew Peterson: Untouchable (2014)', 'Cantata (1963)', 'Strange Illusion (1945)', 'Friend of the World (2020)', 'Bear-Like (2019)', 'Shark Swarm (2008)', 'After Midnight (2018)', 'Ouija House (2018)', 'Damon the Mower (1972)', 'The View From Here (2017)', 'I Can Quit Whenever I Want (2019)', 'Price Check (2012)', 'All of a Sudden (2016)', 'From Zero to I Love You (2019)', 'The Growing Pains Movie (2000)', 'The Other Woman (1961)', 'Real Life (2004)', 'Little Traitor, The (2007)', '3 Nights in the Desert (2015)', 'Far North (2007)', 'Chasing Legends (2010)', 'Ladies Only (2021)', 'Tune in Tomorrow... (1990)', \"Mr. Rice's Secret (2000)\", \"My Baby's Daddy (2004)\", 'Itlu Maredumilli Prajaneekam (2022)', 'Last Mountain, The (2011)', 'The Shower (1979)', 'Hit Man (1972)', 'Joji (2021)', 'The Green Perfume (2022)', 'The Monster of Mangatiti (2015)', 'Pete Smalls Is Dead (2010)', 'Юленька (2009)', 'Mammoth (2006)', 'Roads to Koktebel (Koktebel) (2003)', 'Ladies They Talk About (1933)', 'Death of Nintendo (2020)', 'The Little Girl Who Was Too Fond of Matches (2017)', 'Running the Bases (2022)', 'Sethupathi (2016)', 'Thorne: Sleepyhead (2010)', 'Skid Marks (2007)', 'The Flood (2018)', 'CT Fletcher: My Magnificent Obsession (2015)', 'Prey (2019)', '13 Washington Square (1928)', 'Below the Deadline (1936)', 'Roadhouse 66 (1985)', 'Tiny Christmas (2017)', 'haveababy (2017)', 'Napoli, Napoli, Napoli (2009)', 'Westwood: Punk. Icon. Activist. (2018)', 'Silent Night, Lonely Night (1969)', 'Breakthrough (1979)', 'Lydia (1941)', \"That's It, That's All (2008)\", 'PLOEY - You Never Fly Alone (2018)', 'First Contact (1982)', 'The Chaperone (2019)', 'The Portuguese Woman (2019)', 'Before All Others (2016)', \"Monkey Business: The Adventures of Curious George's Creators (2017)\", 'Confessions of a Police Captain (1971)', 'The Last of the Blonde Bombshells (2000)', 'My Lovely Angel (2021)', \"Jessica Darling's It List (2016)\", 'Under Your Bed (2019)', 'The Scarehouse (2014)', 'Tod@s Caen (2019)', 'Battle Beyond the Sun (1959)', \"L'Ingorgo : Una storia impossibile (1979)\", 'Aerial, The (La antena) (2007)', 'Hearts in Bondage (1936)', 'Sign of the Gladiator (1959)', 'Children Must Laugh (1936)', 'Call Me Mrs. Miracle (2010)', 'Varg Veum - Fallen Angels (Varg Veum - Falne Engler) (2008)', 'Lost in Russia (2020)', \"Papa's Delicate Condition (1963)\", 'Fabulous (2019)', 'Absolution (1997)', 'In a Bedroom (2012)', 'Alis (2023)', 'Sachertorte (2022)', 'The Presence of Love (2022)', 'Arsène Wenger: Invincible (2021)', 'Professional Sweetheart (1933)', 'Trails (Veredas) (1978)', 'Everything Under Control (2023)', 'Once More (1997)', 'VeggieTales: Beauty and the Beet (2014)', 'The Law (1990)', 'His New Job (1915)', 'Sadako (2019)', \"She's Working Her Way Through College (1952)\", 'Twilight (1990)', 'Good After Bad (2017)', 'State Fair (1962)', 'Dear Santa (2011)', \"A Doll's House (1973)\", 'Journey to the Shore (2015)', 'Strongest Man in the World, The (1975)', 'Catalina (2017)', 'Sagara Sangamam (1983)', 'Samurai Marathon (2019)', 'Fixies VS Crabots (2019)', 'Heroes (2010)', 'Belgrano: The Movie (2010)', 'Silent Fall (1994)', 'The Skirt Chaser (1979)', 'Three Strangers (1946)', 'Amanat (2022)', 'Adam 2.0 (2020)', 'Jimmy Vestvood: Amerikan Hero (2016)', 'Reykjavik-Rotterdam (2008)', 'Chimera Strain (2018)', 'Bharat (2019)', 'Ashens and the Polybius Heist (2020)', 'Remote Control (1988)', 'Sandra Gets a Job (2021)', 'Thunder Over the Plains (1953)', 'Blood Lake (2014)', 'Tonkatsu DJ Agetaro (2020)', 'The Match (2020)', 'The Schoolmaster Games (2022)', \"Princess Ka'iulani (2009)\", 'The Men From Vidsel (2014)', 'A Brand New Life (2009)', 'Oxide Ghosts: The Brass Eye Tapes (2017)', 'Lost in Yonkers (1993)', 'The Sector (2016)', 'Submission (2019)', 'The Power of Few (2013)', 'I Am Not Him (2013)', 'Chameleon, The (2010) ', 'Dream and Reality (1901)', 'My Robot Brother (2022)', 'Riverworld (2010)', 'The Leisure Class (2015)', 'The Red Book Ritual (2022)', 'The Last Day of August (2012)', 'Game Over (2005)', 'The Shuttered Room (1967)', 'Heilstätten (2018)', 'C.I.A. Secret Story (1975)', 'Ruby Herring Mysteries: Silent Witness (2019)', 'Android (1982)', 'The Atrocity Exhibition (2000)', 'Love Is Better Than Ever (1952)', 'The Marriage Game (1935)', 'Joan Rivers: (Still A) Live at the London Palladium (2005)', 'Days of Power (2018)', \"Saturday's Hero (1951)\", 'Eugene Mirman: An Evening of Comedy in a Fake Underground Laboratory (2012)', 'The Sweet Sex and Love (2003)', 'Mata Hari (1931)', 'I camionisti (1982)', '1969 (1988)', 'The Young Stranger (1957)', 'Keeping Up with the Steins (2006)', 'Louis Cyr: The Strongest Man in the World (2013)', 'Amityville Exorcism (2017)', \"It's Gradiva Who Is Calling You (2006)\", 'Moonrunners (1975)', 'Wise Guys (1961)', 'Dim Sum: A Little Bit of Heart (1985)', '30 Beats (2012)', 'Lost Boys of Sudan (2003)', 'The Untameable Whiskers (1904)', 'The Wish Tree (2008)', 'Piłsudski (2019)', \"Pharaoh's Curse (1957)\", 'Looop Lapeta (2022)', 'Tidy Tims (2020)', 'Tomato Red (2017)', 'Soof 2 (2016)', \"Aren't You Happy? (2019)\", 'In Defense of Food (2015)', 'Super Juice Me! (2014)', 'Flaming Cloud (2023)', 'Banksy and the Rise of Outlaw Art (2020)', 'Number, Please? (1920)', 'Memories of the Sword (2015)', 'The Bear Who Slept Through Christmas (1973)', 'Alien Siege (2005)', 'A Brush with Christmas (2022)', 'Possession (2022)', 'Kickboxer 2: The Road Back (1991)', 'Okoto and Sasuke (1935)', 'Young Mr. Jazz (1919)', 'My First Client (2019)', 'Toto, Peppino, and the Hussy (1956)', 'White Woman (1933)', \"Summer's Moon (2009)\", 'Wrong Guys, The (1988)', 'We Are Gamily (2017)', 'The Swamp (2020)', 'X, Y and Zee (Zee and Co.) (1972)', 'Mazzaropi - O Vendedor de Linguiça (1962)', 'The Mire (1978)', 'Wild Side (1995)', 'End of Days, Inc. (2015)', 'The Other Me (2022)', 'Night to Remember, A (1942)', 'Thomas in Love (Thomas est Amoureux) (2000)', 'Fierce (2020)', 'Complicit (2013)', 'Hundra', 'La Vérité si je Mens ! 2 (2001)', 'Aiyaary (2018)', 'Yesterday (2004)', 'Gobble-Gobble (1977)', 'Shot (1973)', 'Shark Attack (1999)', 'Olly, Olly, Oxen Free (1978)', 'Christmas in Wonderland (2007)', 'Tim Dillon: A Real Hero (2022)', 'Crossing the Floor (1996)', 'Feral (2012)', 'The Fish Fall in Love (2006)', 'Assassins Run (2013)', 'Arrowhead (1953)', 'Hackers Are People Too (2008)', 'Flysch, Haitzen Hitza (2009)', 'Sugar Hill (1994)', 'TransFatty Lives (2015)', 'Variola Vera (1982)', 'Neighbor, The (1993)', 'Made in Poland (2010)', \"Hannah: Buddhism's Untold Journey (2014)\", 'The Amorous Adventures of Moll Flanders (1965)', 'All-American Murder (1991)', \"Soldier's Daughter Never Cries, A (1998)\", 'The Ex Next Door (2019)', 'Beggars of Life (1928)', 'La broma (2021)', 'Crazy Nights (1978)', 'Saint Bernard (2013)', 'The King of the Hill (2008)', 'Voice (2005)', \"Mariah Carey's Magical Christmas Special (2020)\", 'Lair of the Beast (2016)', 'Raffles (1930)', 'Lucky Christmas (2011)', 'Nuts! (2016)', 'Conspiracy of Torture, The (Beatrice Cenci) (1969)', 'Kikoriki. Deja Vu (2018)', 'Mazzaropi - Chofer de Praça (1959)', 'Bat Whispers, The (1930)', 'Kung Fu Zombie (1981)', 'Frozen Ghost, The (1945)', 'Red Snow (2019)', 'Henry Rollins: Keep Talking, Pal. (2018)', 'Qodrat (2022)', 'Behind Closed Doors (2016)', \"Louis Theroux: America's Most Dangerous Pets (2011)\", 'What Killed Michael Brown? (2020)', 'The Division: Agent Origins (2016)', 'T.R.A.N.S.I.T. (1998)', 'Bullets or Ballots (1936)', '76 Days (2021)', 'Khakee (2004)', 'The Plague (2006)', 'The Contraption (1977)', 'In Lieu of Flowers (2013)', 'Yumurta (Egg) (2007)', 'Svengali (2013)', 'Varg Veum - The Dead Have It Easy (2012)', 'Marooned Awakening (2023)', 'Ay Lav Yu (2010)', 'Pet Shop (1995)', 'All I Want (Try Seventeen) (2002)', 'Getulio (2014)', 'Actors and Sin (1952)', 'Delhi-6 (2009)', 'Gülen Gözler (1977)', 'I Am Paul Walker (2018)', \"In Balanchine's Classroom (2021)\", 'Boogie Man (2018)', 'Spanky: To the Pier and Back (2008)', 'Alien Abduction: Incident in Lake County (1998)', 'Red Room (2017)', \"Tout ce qu'il me reste de la révolution (2019)\", 'Meeting Venus (1991)', 'The Thirst: Blood War (2008)', 'Emerson Heights (2020)', 'Christmas Cracker (1963)', 'In Your Dreams (1997)', 'Oseam (2003)', 'The Birth of Love (1993)', 'Heartbeat (1938)', 'Next Goal Wins (2014)', 'Patsy & Loretta (2019)', 'The Turning Point (2021)', 'Barbarosa (1982)', 'License to Live (1998)', 'Iron Horse, The (1924)', 'Velaiilla Pattadhari 2 (2017)', 'We Are Still Here (2022)', 'Tuna Girl (2019)', 'Love Exposure (2007)', 'Moby Doc (2021)', 'Mr. Jones (1993)', 'The Magic Of Mushrooms (2014)', 'Mysterious Intruder (1946)', 'Let Me Die a Woman (1977)', 'Larva (2005)', 'Everything I Have is Yours (1952)', 'Worlds Apart (2015)', 'Daybreak Express (1953)', 'Jack and Diane (2012)', 'Pink Force Commando (1982)', 'Melinda (1972)', 'Hacker: Trust No One (2022)', 'Didier (1997)', 'Christmas Festival of Ice (2017)', 'Bad Trip (2017)', 'Couple Fucking (2013)', 'Pledge of Allegiance (2003)', 'World Wide Woven Bodies (2015)', 'New York Subway (1905)', 'Gente bien (1939)', 'A Letter for Joe (2013)', 'Transatlantic (1931)', 'Searching for the Elephant (2009)', 'Queen and Country (2014)', 'Mega Cyclone (2011)', 'Dance Town (2011)', 'Prince Igor (1969)', 'The Law and Jake Wade (1958)', 'My Entire High School Sinking Into the Sea (2016)', 'Crazy Famous (2017)', 'Free and Easy (1930)', 'Cover-Up (1991)', 'Empties (2007)', 'A Look Into the 23rd Century (1976)', 'Kakurenbo: Hide and Seek (2005)', 'A Woman Called Golda (1982)', 'Quiet Flows the Don (Tikhiy Don) (1957)', 'Trauma', 'NYC Point Gods (2022)', 'Allnighter, The (1987)', 'The Violent Heart (2020)', 'Black and White in Color (Noirs et blancs en couleur) (1976)', 'The Mount 2 (2023)', 'Benedict Arnold: A Question of Honor (2003)', \"Scenes from Allen's Last Three Days on Earth as a Spirit (1997)\", 'Windfall (2010)', 'Super November (2018)', 'Marquis (1989)', '100 Vaginas (2019)', 'Mandela (2021)', 'Interceptor Force 2 (2002)', 'Okul (2004)', 'Big Men (2014)', 'A Very Honorable Guy (1934)', 'A Tattered Web (1971)', 'Extended Play (2006)', 'Parasceve, retrato de una Semana Santa', 'Die Mondverschwörung (2011)', 'Alias John Preston (1955)', \"Hospital - Daughter's Mother (2021)\", 'Cleopatra (1912)', 'Dad must be crazy! (2005)', 'Film Geek (2005)', 'Honey, I Shrunk the Audience (1994)', 'Return to Christmas Creek (2018)', 'Soft Fiction (1979)', 'Blossoming of Maximo Oliveros, The (Ang pagdadalaga ni Maximo Oliveros) (2005)', 'Silver Medalist (2009)', 'The Legend of Hallowaiian (2018)', 'Fort Bliss (2014)', 'An Extremely Nutty Teacher (2011)', 'The Ship ‘Night’ (1979)', 'Sel8nne (2013)', 'Magnificent Obsession (1935)', 'True Blue (2001) ', 'Bachelor Party in the Bungalow of the Damned (2008)', 'Love Serenade (1996)', \"The Messenger's Box (2015)\", 'Shadow of Deception (1971)', 'Bheemla Nayak (2022)', 'Las Poquianchis (1976)', 'Furlough (2018)', 'Killer Weekend (2020)', 'Sylvester Stallone Bio. (2005)', '18 Kilohertz (2020)', 'Nothing (2022)', 'Middle Class Melodies (2020)', '1400 (2015)', 'Stinking Heaven (2015)', 'Flunkyball (2023)', 'King of Boys (2018)', 'Up at the Villa (2000)', \"Pluto's Blue Note (1947)\", 'Headshot (2011)', 'Bad Ben: Benign (2021)', \"Jill And Joy's Winter (2015)\", 'Luzifer (2022)', 'Flora (2017)', 'Venus & Fleur (2004)', 'In the Land of Saints and Sinners (2023)', 'Eat with Me (2014)', 'Images of the Unconscious (1986)', 'Another Man, Another Chance (1977)', \"Golda's Balcony (2007)\", 'Embrace the Panda: Making Turning Red (2022)', 'Unconditional Love (2002)', 'Sasquatch Hunters (2005)', 'Behave Yourself! (1951)', 'Love in Bloom (2022)', 'Bad Chicken (2013)', '8eraf (2021)', 'The Eight Masters (1977)', 'Numb (2015)', \"Baelin's Route: An Epic NPC Man Adventure (2021)\", 'Road to Your Heart (2014)', 'Bikes vs Cars (2015)', 'Blackbird (2014)', 'The Whale God (1962)', 'Louie Bluie (1985)', 'Slotherhouse (2023)', 'Mutant Blast (2019)', '38 at the Garden (2022)', 'Bad for Each Other (1953)', 'My First Wedding (2005)', 'Um Caipira em Bariloche (1973)', 'Jitney Elopement, A (1915)', 'Haiku Tunnel (2001)', 'Provocateur (1998)', 'A Christmas Movie Christmas (2019)', \"The Devil's Dozen (2013)\", 'When I Turned Nine (2004)', 'Kentucky Pride (1925)', 'Onnenonkija (2016)', 'Where the Tracks End (2023)', 'The Yellow Wallpaper (2021)', 'The Wedding Veil Journey (2023)', 'Love, Marilyn (2012)', 'Norway (2014)', 'Moon Child (2003)', 'X: The Unknown (1956)', 'Arctic Predator (2010)', 'London, Cinematography Entry (1896)', 'Cinderella (1977)', 'Iron Angels (1987)', 'Slaw (2016)', 'Our Sons (1991)', 'Trunkfish (2021)', 'Vasil (2022)', 'Ex 2: Still Friends (2011)', 'The Magnificent Seven Deadly Sins (1971)', 'Killbird (2019)', 'It Takes Three (2021)', 'Do You Know Me (2009)', 'What Men Want (2018)', 'Dissolve (2019)', 'Sleeping with my Student (2019)', 'My Rainy Days (2009)', 'Turn Around Jake (2014)', 'Süpürrr! (2009)', 'Mon ami le traître (1988)', 'Argument About Basia (1959)', \"Dave Gorman's Googlewhack Adventure (2004)\", 'Knots (2004)', 'Magical Mystery or: The Return of Karl Schmidt (2017)', 'Backyard, The (2002)', \"Who's the Boss (2020)\", 'Hollywood Handicap (1938)', 'Vermilion Souls (2007)', 'Monsoon (2017)', \"Relationship Status: It's Complicated (2014)\", 'Habit (2021)', 'Real Time (2008)', 'Panama (2015)', 'El vendedor de humo (2012)', 'Burning Paradise (1994)', \"Tyler Perry's The Single Moms Club (2014)\", 'Happy New Year, Colin Burstead (2018)', 'A Fool and His Money (1912)', 'Death Trance (2005)', 'Yamaleela (1994)', \"Devil's Whisper (2017)\", 'The Incantation (2018)', 'Love, Strange Love (1982)', 'Sky Force 3D (2012)', 'Mat Kilau (2022)', 'Les Invisibles (2019)', \"Closer to God: Jessica's Journey (2012)\", 'The Check Is in the Mail... (1986)', 'Girls on Top 2 (2004)', 'No Mercy (2019)', 'Dandelion (2004)', 'Slipstream (2007)', 'Axis (2017)', 'Joyride (1997)', 'Targeted (2022)', 'The Blue Bird (2008)', 'Jesus (2020)', 'Woodstock Diary (1994)', 'Angry, White and American (2017)', \"Carla's Song (1996)\", 'Without Borders (2015)', 'Condemned (1953)', 'Imagine the Sound (1981)', 'It Takes Two (1988)', 'Gringa (2023)', 'Madtown (2016)', 'The Secret of Karma (2020)', 'Chongqing Hot Pot (2016)', 'Wide Load (2019)', 'Buchanan Rides Alone (1958)', 'Private Eye (2009)', '180° South (180 Degrees South) (180° South: Conquerors of the Useless) (2010)', 'Ábel a rengetegben (1994)', 'The Touch (2005)', 'Rose (2021)', 'Face to Face (1966)', 'Bad Girl (2016)', 'The Fjällbacka Murders: The Coast Rider (2013)', 'The Shadow Boxer (1974)', 'The Marriage of Figaro (1975)', 'Pandemonium (1982)', 'Mubarakan (2017)', \"Devil's Dynamite (1987)\", 'The Karate Dog (2004)', 'The Ten Steps (2004)', 'I Remember You (2015)', 'Sesame Street: The Best of Elmo (1994)', 'No Love for Johnnie (1961)', 'Unknown Pleasures (Ren xiao yao) (2002)', 'The Olsen Gang in a Fix (1969)', 'Stuck on You! (1982)', 'Freelance (2023)', 'Lonesome (2023)', 'Drift (2013)', 'Bokhandlaren som slutade bada (1969)', 'The Wrong Teacher (2018)', 'Truman (1995)', \"The King's Wake (2000)\", 'Michael Jackson: Dangerous Tour (Bucharest, 1992) (1992)', 'I Was a Shoplifter (1950)', 'The Delinquents (1989)', 'Chahar Changooli (2008)', 'Bad Guys (2008)', 'I Love You, I Love You Not (1996)', 'Charming Mass Suicide, A (Hurmaava joukkoitsemurha) (2000)', '¡Atraco! (2012)', 'Rattlesnakes (2019)', 'Time Stands Still (1982)', 'Tokyo Eyes (1998)', 'Broadway Bill (1934)', 'Student Body (2022)', \"Dolly Parton's Christmas on the Square (2020)\", 'Siao Yu (1995)', 'Kaduva (2022)', 'Mountain Top (2017)', \"Pandora's Box (Pandora'nin kutusu) (2008)\", 'That Old Dream That Moves (2001)', 'Whiffs (1975)', 'Technological Threat (1988)', 'Kiss the Abyss (2010)', 'Little Girls in Pretty Boxes (1997)', 'Artists Under the Big Top: Perplexed (1968)', 'Hometown Holiday (2018)', 'Margarita, Armando y su padre (1939)', 'All the Good Ones Are Married (2007)', 'El astronauta (1970)', 'A Man Who Was Superman (2008)', 'Mission to Mars (2022)', 'Cul de Sac: A Suburban War Story (2002)', 'Wings Above Berlin (2022)', 'Şoför Nebahat (1970)', 'Antakshari (2022)', '100% Service (1931)', 'Piggy (2012)', \"It's Your First Kiss, Charlie Brown (1977)\", 'Mankatha (2011)', 'Andy Warhol (1987)', 'Fieldwork Footage (1928)', 'Accused of Murder (1956)', 'Oriental Elegy (1996)', 'The House of Flowers: The Movie (2021)', 'Carry On Cowboy (1966)', 'I Had A Bloody Good Time At House Harker (2016)', \"She's Beautiful When She's Angry (2014)\", 'Lascars (2009)', 'Southerner, The (1945)', 'Summertime (2014)', 'Beast with a Million Eyes, The (1955)', 'Waiting for Happiness (Heremakono) (2002)', 'Sweet Karma (2009)', \"The Warrior's Brother (2002)\", 'What Can You Do about It? (2019)', 'The Stork Club (1945)', 'Our Defeats (2019)', 'Quit Staring at My Plate (2016)', 'The House Where Evil Dwells (1982)', 'April in Paris (1952)', 'The Honeymoon (2022)', 'Mass for the Dakota Sioux (1964)', 'Marfa Girl 2 (2018)', \"No Sex Please: We're British (1973)\", 'Macon County Line (1974)', 'The Salt Prince (1983)', 'Roommate Wanted (2015)', 'Smart Money (1931)', 'A Shape of Things to Come (2020)', 'Thunderclump (1974)', 'Vice and Virtue (1963)', 'Ma ma (2015)', 'Wicked, Wicked (1973)', 'A Vineyard Romance (2021)', 'More Than Chance (2010)', 'The Christmas Box (1995)', 'The Magic Blade (1976)', 'The Murder Pact (2015)', 'The Lighthouse (2006)', 'Deal, The (2008)', 'Coolie No. 1 (2020)', 'Reversion (2020)', 'Nos Amis Les Terriens (2007)', 'Message from Akira Kurosawa: For Beautiful Movies, A (Kurosawa Akira kara no messêji: Utsukushii eiga o) (2000)', \"All's Well, Ends Well 2009 (2009)\", 'One Week and a Day (2016)', 'Directly Kakha (2020)', 'Last Plane Out (1983)', 'Iguana (1988)', \"Servant's Entrance (1932)\", 'Snakes on a Train (2006)', 'Time of Indifference (1964)', 'Shattered Innocence (1988)', 'Right to Die (2007)', 'Stella Maris (1918)', 'Zombie Shark (2015)', 'A Whole Life Ahead (2008)', \"A Woman's Vengeance (1948)\", 'Kill a Rat (1977)', 'How Strange to be Named Federico: Scola Narrates Fellini (2013)', 'Home (2014)', 'Pachamama (2018)', 'The Queen of Spades (1916)', \"Disney's Very Merry Christmas Sing Along Songs (1988)\", 'Percy (1971)', 'Eva', \"Droopy's Double Trouble (1951)\", 'The Confession Musical (2023)', 'Planet Outlaws (1953)', 'The Seven (2019)', 'The Impossible Convicts (1906)', \"Black Waters of Echo's Pond, The (2009)\", 'Displacement (2017)', 'Bunker Palace Hôtel (1989)', 'The Last Sin Eater (2007)', \"The Alchemist's Letter (2015)\", 'Trust (2018)', 'One Spy Too Many (1966)', 'Speaking Parts (1989)', \"Guinea Pig 1: Devil's Experiment (1985)\", 'Three Miles North of Molkom (2008)', 'The Sun King (2005)', 'Killer Angels (1989)', 'The Ark (2007)', 'A Girl and A Guy (2021)', 'Douche (2018)', 'The Bad Intentions (2011)', 'RX 100 (2018)', 'The Haunting of Margam Castle (2020)', 'Body Guards (2000)', '100% Coco (2017)', 'Los Negros (2022)', 'Circus Maximus (2023)', 'Badland (2019)', 'Boys Cry (2018)', 'Blood Born (2021)', 'Children (1976)', 'Carmen (1918)', 'The Brother from Space (1988)', 'Plastic Planet (2009)', 'Between Two Worlds (1944)', 'Patriots, The (Patriotes, Les) (1994)', 'Le garde du corps (1984)', 'Miracle in Cell No. 7 (2022)', 'Stress Position (2013)', 'Boogeyman (2012)', 'Dois na Lona (1968)', 'A Broken Life (2007)', 'Outrage (1950)', 'The Wilding (2016)', 'Och, Karol 2 (2011)', 'Alley Cats, The (1966)', 'Stump the Guesser (2020)', 'Poison Berry in my Brain (2015)', \"March '68 (2022)\", 'Fiendish Plot of Dr. Fu Manchu, The (1980)', 'Papi Sitter (2020)', 'Tiananmen: The People Versus the Party (2019)', 'Beastie Boys: Video Anthology (2000)', 'Swamp Water (1941)', 'Murder by Television (1935)', 'Non Non Biyori: Vacation (2018)', \"Attenborough's Wonder of Song (2022)\", 'Dead Again in Tombstone (2017)', 'Lionman (1975)', 'Final Offer (2018)', 'Wife vs. Secretary (1936)', 'The Nine Demons (1984)', 'The Art of Playing (2014)', 'Plastic China (2016)', 'Curse of Bigfoot (1978)', 'More Than a Miracle (1967)', 'Superworm (2022)', 'For Queen and Country (1988)', 'Sunt o babă comunistă (2013)', 'Rage at Dawn (1955)', \"A spasso nel tempo - L'avventura continua (1997)\", 'Ye Maaya Chesave (2010)', 'Kind of Loving, A (1962)', 'Afghan Muscles (2006)', 'From the Heart (2020)', 'Highway Patrolman (1991)', 'The Dangerous Sex Date (2001)', 'Double Daddy (2015)', 'Hymn to a Tired Man (1968)', \"Eleanor's Secret (2009)\", 'Barber Westchester (2021)', 'A Night of Horror: Nightmare Radio (2020)', 'Dead 7 (2016)', 'Natasha (2015)', 'Noiseman Sound Insect (1997)', 'Know Fear (2021)', 'Liquidation (2007)', 'Escape Fire: The Fight to Rescue American Healthcare (2012)', 'Alice in Wonderland (1966)', 'Super Hybrid (2010)', 'Do You Believe in Angels? (1961)', 'Sahara (1995)', 'Varan (1958)', 'Hello! (2017)', 'More Than Only (2017)', 'Water Birds (1952)', 'My Brother (2004)', 'Australia Day (2017)', 'King of Ping Pong, The (Ping-pongkingen) (2008)', 'Everything Is Simple (2012)', 'Killing of Sister George, The (1968)', 'Abbott and Costello in the Foreign Legion (1950)', \"Hey, Boo: Harper Lee and 'To Kill a Mockingbird' (2011)\", 'Slam (2021)', 'Waiting Room (Bekleme odasi) (2004)', \"Where's Marlowe? (1998)\", 'Sword Master (2016)', 'Sound! Euphonium the Movie – May the Melody Reach You! (2017)', 'Action of the Tiger (1957)', 'Toolsidas Junior (2022)', 'Volcano (2018)', 'The Young Magician (1987)', 'The Taste of Violence (1961)', 'A Bride for Henry (1937)', 'The Dentist (1932)', 'Lily & Kat (2015)', 'Ballroom, The (Chega de Saudade) (2007)', '19th Wife, The (2010)', 'Parakalo, gynaikes, min klaite... (1992)', 'Claudine (1974)', 'The Adventures of Marco Polo (1938)', 'West of Hell (2018)', \"Erika's Hot Summer (1971)\", 'Oil City Confidential (2009)', 'Christmas Break-In (2019)', \"Summer of '92 (2015)\", 'Women in the Night (1948)', 'Cinderella (1957)', 'The Guide to the Perfect Family (2021)', 'Honeydripper (2007)', 'Via Carpatia', 'Mad Love (1985)', 'El dinero tiene miedo (1970)', 'Dampfnudelblues (2013)', 'Daltry Calhoun (2005)', 'The Fox & the Child (2007)', 'Solomon King (1974)', 'Land of Oblivion (2011)', 'Mondo Weirdo (1990)', 'Transistor Love Story (Monrak Transistor) (2001)', '76 (2016)', 'Starve (2014)', 'Lay It Down (2001)', 'Ebbie (1995)', 'A Tale of Love and Desire (2021)', 'The Gang That Sold America (1979)', 'Expedition Mars (2016)', \"Mum's List (2016)\", 'Kumbalangi Nights (2019)', 'Day Of The Assassin (1979)', 'Counterpoint (1967)', 'Private Parts (1972)', 'Good-bye, My Lady (1956)', 'Gun-shy (2003)', 'Growing Up (1983)', 'The Eugenics Crusade (2018)', 'The Fort (2014)', 'Crack in the World (1965)', 'All of My Heart (2015)', 'Banzai (1997)', 'The Lost Prince (2020)', 'Speak Up (2017)', 'The Long Duel (1967)', 'One Too Many (1916)', 'Tony Arzenta (No Way Out) (Big Guns) (1973)', 'Violent Road (1958)', \"Gore Vidal's Billy the Kid (1989)\", 'Gothic & Lolita Psycho (2010)', 'Elstree Calling (1930)', 'Fugitives (2014)', 'The Prisoner of If Castle (1988)', 'Portrait of a Lazy Woman (1986)', 'Death by Design (2016)', 'Dreamcatcher (2015)', 'Odessa steamboat (2019)', 'Richie (2007)', 'A Chairy Tale (1957)', 'Separate Vacations (1986)', 'September Morning (2017)', 'Bang Bang (1971)', 'Rose (2017)', 'Shotgun Love (2011)', 'It Takes Three (2019)', 'Unregistered (2019)', 'Japanese Girls at the Harbor (Minato no nihon musume) (1933)', 'Monster, The (1925)', 'The Russell Girl (2008)', 'Those Three French Girls (1930)', 'Las ovejas no pierden el tren (2015)', 'Eating (1990)', 'The Brittany Murphy Story (2014)', \"The Devil's Door (2022)\", 'Message from Space (Uchu Kara no Messeji) (Return to Jelucia) (1978)', 'Camp Takota (2014)', 'Stealing Cars (2015)', 'Ghost Soup (1993)', 'Lauri Mäntyvaaran tuuheet ripset', 'Spin (2005)', 'Comedy Central Roast of Roseanne (2012)', 'Spaceways (1953)', 'Fat Girls (2006)', 'My First Miracle (2015)', 'Future Soldier (2023)', 'Miranda Veil (2020)', 'Dallas 362 (2003)', 'Noémie dit oui (2022)', 'Orphan Horse (2018)', 'Concrete Plans (2020)', 'Delta Space Mission (1984)', 'Mr. Fix-It (1918)', 'Tum Bin (2001)', 'Know Your Enemy - Japan (1945)', 'Affair With A Stranger (1953)', 'Bajo el mismo techo (2019)', 'Girl Fight (2011)', 'Hiding Victoria (2007)', 'All in My Family (2019)', 'Freeze Frame (2004)', 'Cold Eyes of Fear (1971)', 'My Friend the Polish Girl (2019)', 'Rocky Marciano (1999)', 'We Are Boats (2019)', 'Felix the Cat: The Movie (1988)', 'Skeletons (1997)', 'An Object at Rest (2015)', 'Dating & New York (2021)', 'Crooked Hearts (1991)', 'Miss & Mrs. Cops (2019)', 'The Warrant (2020)', 'Aanandam (2016)', 'A Little Doll (1988)', 'Bright Nights (2017)', 'Fahim (2019)', 'Some Kind Of Hate (2015)', 'Countdown (2012)', 'The Yellow Scarf (2000)', 'The Cook (1972)', 'The Fake (2013)', 'Каникулы президента (2018)', 'Lilith (1964)', 'The Legend of Hallowdega (2010)', 'End of the World (2002)', 'Phone Call from a Stranger (1952)', 'Stille Nacht III: Tales from the Vienna Woods (1993)', 'An Unseen Enemy (1912)', \"Nobody's Fool (1986)\", 'Amityville Island (2020)', 'Right Now (À tout de suite) (2004)', 'Miyamoto Musashi: The Duel at Ichijo Temple (1964)', 'The Perfect Pairing (2022)', 'Mikhaylo Lomonosov (1986)', 'Greased Lightning (1977)', 'Flesh Feast (1970)', 'Trash (1970)', 'The Absent-Minded Waiter (1977)', 'Alfie Darling (1975)', 'Sleeping Dogs Lie (a.k.a. Stay) (2006)', 'El Héroe (1994)', 'Radiator (2014)', 'Between Showers (1914)', 'Neo Ned (2005)', 'Cheese Chasers (1951)', 'First Snow (2022)', 'Undone (2020)', 'The Curious (1986)', 'Disquiet (2023)', 'One Six Right (2005)', 'Even Angels Eat Beans (1973)', 'Altitude (2017)', 'In Defense of a Married Man (1990)', 'Five Days (1954)', 'David Foster: Off the Record (2019)', 'Anton Tchekhov 1980 (2015)', 'Peter Sellers: A State of Comic Ecstasy (2020)', 'I Do (1921)', 'San Demetrio London (1943)', 'How to Draw a Bunny (2002)', 'Blast-Off Girls (1967)', 'Nerkonda Paarvai (2019)', \"A Connecticut Yankee in King Arthur's Court (1989)\", 'Very, Very, Valentine (2018)', 'Dybbuk (2021)', 'Titler (2000)', 'Roadside Prophets (1992)', 'Letter from Masanjia (2019)', 'Perry Mason: The Case of the Telltale Talk Show Host (1993)', \"I'm Going to Santiago (1964)\", 'Savage Hunt of King Stakh (1979)', 'Pope Francis: A Man of His Word (2018)', 'Ratter (2015)', 'The Jinn (2013)', 'Ground Zero (2000)', 'Born Romantic (2000)', 'Katie Tippel (Keetje Tippel) (1975)', 'Real Boy (2016)', \"One Deadly Summer (L'été meurtrier) (1983)\", 'Ventoux (2015)', 'The Secret Ways (1961)', 'Frisco Kid (1935)', 'Way Ahead, The (a.k.a. The Immortal Battalion) (1944)', 'Burial Ground (a.k.a. Zombie Horror) (a.k.a. Zombie 3) (Notti del Terrore, Le) (1981)', 'Walt: The Man Behind the Myth (2001)', 'Mission to the Sun (2018)', 'Order of the Black Eagle (1987)', 'Casa de los babys (2003)', 'Girl Followed (2017)', 'The Vulture (1966)', 'Taal (1999)', 'It Came from Beneath the Sea (1955)', 'Border Incident (1949)', \"The Damned Don't Cry (1950)\", 'All In: The Fight for Democracy (2020)', 'Tsunami: The Aftermath (2006)', 'On Board (1998)', 'Tell Me Your Name', 'Clandestine Childhood (2011)', 'The Revengers (1972)', 'The Velvet Touch (1948)', 'Colonel Redl (Oberst Redl) (1985)', 'Ben Platt: Live from Radio City Music Hall (2020)', 'Ryde (2017)', 'Ó Paí, Ó (2007)', 'Sea Scouts (1939)', 'The Net (2003)', 'Heist School (2006)', \"Omar Killed Me (Omar m'a tuer) (2011)\", 'Solum (2019)', 'Blowing Wild (1953)', 'When Hari Got Married (2013)', 'One Survivor Remembers (1995)', 'Death Link (2021)', 'Le noeud cravate (2008)', 'Night Mayor (2009)', 'Amityville Terror (2016)', 'Snowball Express (1972)', 'A Complicated Story (2013)', 'Final Recipe (2013)', 'Love Hurts (1990)', 'Christmas Child (2004)', 'Hospital! (1997)', 'Elián', '100% Love (2011)', 'Daughter of the Bride (2023)', 'Lupin the Third: Princess of the Breeze - Hidden City in the Sky (2013)', 'The Lucky Guy (1998)', 'Respect the Jux (2022)', 'The Yakuza Papers, Vol. 5: Final Episode (1974)', 'Monster from Green Hell (1957)', '48 Below (2012)', 'David (2011)', 'Hold Me Tight (2021)', 'Hype! (1996)', 'KickOff (2011)', 'What We Left Unfinished (2019)', 'Chamber of Horrors (1966)', \"Girls' Encounter (2018)\", 'Flame (1975)', 'The Return of Draw Egan (1916)', 'Kurt Josef Wagle og legenden om Fjordheksa (2010)', 'Dead Cool (2005)', 'Meteor Apocalypse (2010)', 'Being Romanian: A Family Journal', 'Fuzz (1972)', 'Dragon Attack (1983)', 'Japon İşi (1987)', '10 Kalpanakal (2016)', 'The Haunting of Pendle Hill (2022)', 'Jologs (2002)', 'The Man Who Knew Too Much (2020)', 'The Four Horsemen (2008)', 'Me and Will (1999)', 'Head Trauma (2006)', 'Automatic (1995)', 'The Chivalry, The Gunman and The Killer (1977)', 'Taro the Dragon Boy (1979)', 'Tears for Sale (2008)', 'Like Everyone Else (1944)', 'Black Dragons (1942)', 'Lillian (2019)', '4 Horror Tales - Hidden Floor (2006)', 'Esa ja Vesa - auringonlaskun ratsastajat (1994)', 'Gaspard at the Wedding (2017)', 'Saint Tropez - Saint Tropez (1992)', 'Over the Moon in Love (2019)', 'Mr. Socrates (2005)', 'Helen of Troy (1956)', 'Pluk van de Petteflet (2004)', 'City Rats (2009)', 'The Stud (1979)', 'Clipping Adam (2004)', \"Raven's End (1963)\", 'The Prince and the Pauper (1962)', 'Girl with the Red Scarf, The (Selvi boylum, al yazmalim) (1978)', 'Cloud Phenomena of Maloja (1924)', 'Untamed Woman (1957)', 'The 7th Dimension (2009)', 'The Antifascists (2017)', 'Where the Lilies Bloom (1974)', 'Grand Exit (1935)', 'Forget Me Not (2010)', 'Die Wolf-Gäng (2020)', 'Justine (2019)', 'By Courier (2001)', 'Have You Ever Seen Fireflies? (2021)', 'Pink Floyd: The Final Cut (1983)', 'Ghosts (2020)', 'Vendetta (2013)', 'Outlanders (1986)', 'Pansy Division: Life in a Gay Rock Band (2008)', 'After Office Hours (1935)', \"The Spirit of '43 (1943)\", 'La leyenda de la Nahuala (2007)', 'House on Bare Mountain (1962)', \"Where the Boys Are '84 (1984)\", 'Starting Over (1979)', 'Door on the Left as You Leave the Elevator (1988)', 'Shaka Zulu: The Citadel (2001)', 'Approved for Adoption (2012)', 'Period Piece (2006)', 'My Girl and I (2005)', 'Godavari (2006)', \"Tekken: Kazuya's Revenge (2014)\", 'The Life of Fish (2010)', 'The Mysterious Box (1903)', 'Dreaming the Reality (1991)', 'Annie (1989)', 'Marilyn Monroe: Auction of a Lifetime (2017)', 'House of Manson (2014)', 'Gen-X Cops (1999)', \"Doomed: The Untold Story of Roger Corman's the Fantastic Four (2015)\", 'A Colony (2019)', 'Remote Control (1992)', 'Last Day of Summer (2009)', 'Steve McQueen: The Man & Le Mans (2015)', \"Garage Sale Mysteries: The Pandora's Box Murders (2018)\", 'The Olsen Gang in Jutland (1971)', 'Jungle Beat: The Movie (2020)', 'Jump Tomorrow (2001)', 'The Speak (2011)', 'Heroic Purgatory (Rengoku eroica) (1970)', 'Businessmen (2018)', 'Man with No Name (2010)', 'East Side of Heaven (1939)', 'A Sunday Horse (2016)', 'Jodi Arias: Dirty Little Secret (2013)', 'The New Swiss Family Robinson (1998)', 'Twenty-one (1991)', 'Brothers: The Return (2006)', 'David Bowie: Five Years (2013)', 'Change of Habit (1969)', 'The League of Frightened Men (1937)', 'Four Sisters (1985)', 'Pumpkin Pie Wars (2016)', 'Vaali (1999)', 'Mr. Rossi Looks for Happiness (1976)', \"All in a Night's Work (1961)\", 'Mother, May I Sleep with Danger? (1996)', 'Ishaqzaade (2012)', 'Falling Leaves (1966)', 'Rescued by Rover (1905)', 'The Water (2022)', 'Heart of Stone (2016)', 'Darkroom (1989)', 'Amazing Grace and Chuck (1987)', 'Highball (1997)', 'Fruitcake Fraud (2021)', 'The Deliberate Stranger (1986)', 'Fall of Hyperion (2008)', 'Nothing But the Night (1973)', 'O Lamparina (1964)', 'Monkey Warfare (2006)', 'Takaisin pintaan (2016)', 'The Black Battlefront Kidnappers (1973)', 'Outlaw: Heartless (1968)', 'Barbie: Star Light Adventure (2016)', 'Hart to Hart: Old Friends Never Die (1994)', 'Curse of the Blood Ghouls (1962)', 'Take a Hike, Vasya! Lost In Bali (2021)', 'Terror Birds (2016)', 'Skybound (2017)', 'Twilight of the Dark Master (1998)', 'Macabre (Macabro) (1980)', 'Little Red Wagon (2012)', 'Python 2 (2002)', 'The Fabulous Filipino Brothers (2021)', 'The Mountain Road (1960)', 'The Christmas Edition (2020)', \"Rudolph and Frosty's Christmas in July (1979)\", 'Black Sun (Kuroi taiyô) (1964)', 'The Charge (2003)', 'The Postmodern Life of My Aunt (2007)', 'The Diabolical (2015)', 'Jonathan (1970)', 'Ego (2013)', 'Ring of Fire (1961)', 'The Affairs Of Cellini (1934)', 'Summer of Mesa (2020)', 'Just Add Romance (2020)', 'Family of Cops (1995)', 'Healed by Grace 2 : Ten Days of Grace (2018)', 'Heist (2008)', 'Jungle Fighters (1961)', 'Captain Lightfoot (1955)', 'Daughter of the Dragon (1931)', 'Glaze of Cathexis (1990)', 'Anna (2017)', 'Caruso Pascoski Di Padre Polacco (1988)', 'Someone Behind the Door (1971)', 'The Hunted (2014)', 'Juliana & the Medicine Fish (2017)', 'Enakkul Oruvan (2015)', 'Sundowners, The (1960)', 'Gallagher: Stuck in the Sixties (1983)', 'Blood Brothers (1973)', 'The Albatross (2016)', 'The Snow Goose (1971)', 'Crime Fiction (2007)', 'The Indian (2007)', 'Crossfire Hurricane (2012)', 'Solomon and Sheba (1959)', 'Andromeda (2022)', 'The Alternate (2000)', 'The Quest for Tonewood (2021)', 'Is It Too Much to Ask? (2017)', 'Veetla Vishesham (2022)', 'Through Fire, Water and... Brass Pipes (1968)', 'El asfalto (2021)', 'PLANT (2020)', 'My Brother the Pig (1999)', 'Helen (2009)', 'Singing Nun, The (1966)', '6th Man, The (Sixth Man, The) (1997)', 'The Wait (2013)', 'Marvel Rising: Playing with Fire (2019)', 'Revealing Ukraine (2019)', 'Homesitters (2019)', 'Odayaka (2012)', 'Black Ice (2022)', \"I'm Not Him (2021)\", 'Origin (2019)', 'Flying Saucer, The (1950)', 'Code 2600 (2011)', 'Chain Lightning (1950)', 'Jimmy Dore: Sentenced To Live (2015)', 'Bangarraju (2022)', 'Glasses (Megane) (2007)', 'Perry Mason: The Case of the Reckless Romeo (1992)', \"Marshall's Miracle (2015)\", 'Love the Hard Way (2001)', 'The Lead Shoes (1949)', 'Io, Chiara e lo scuro (1982)', \"She's a Good Skate, Charlie Brown (1980)\", 'The Dovekeepers (2015)', 'Disorganized Crime (1989)', 'The Prize (2011)', 'Sister Mary Explains It All (2001)', 'Mardaani 2 (2019)', 'Clash in the College (2011)', 'Finishing the Game: The Search for a New Bruce Lee (2007)', 'Monkey Melodies (1930)', 'Groundswell (2020)', 'Journey Together (1945)', 'Flesh (1968)', 'The Wedding Fix (2022)', 'The Witches of Oz (2011)', 'Kanón (2015)', 'Into Your Dance (1935)', 'No Gogó do Paulinho (2020)', 'Never Better (2022)', 'Applause (1929)', 'Return to Sender (2015)', '16-love (2012)', 'Travis Scott: Look Mom I Can Fly (2019)', 'Floor Number 7 (2022)', 'Good Men, Good Women (1995)', \"Dad, I'm Sorry (2021)\", 'Porn in the Hood (2012)', 'The Zookeeper (2001)', 'Mrs. Dalloway (1997)', 'Gigante (2009)', 'Lock Up: The Prisoners of Rikers Island (1994)', 'Boxer (1977)', 'Inbred (2012)', 'Nurse Sherri (1978)', 'Whitney Cummings: I Love You (2014)', 'To the Ends of the Earth (2016)', 'Peculiarities of the National Hunt in the Winter (2000)', 'Rosemary (1958)', 'Occupied - Die Besatzung (2015)', 'The Iron Fisted Monk (1977)', 'Your Contemporary (1968)', \"In Praise of Love (Éloge de l'amour) (2001)\", 'Dream Lover (1986)', 'Ripples (1967)', 'Skies Above (1965)', 'The Dallas Connection (1994)', 'She Spent So Many Hours Under the Sun Lamps (1985)', 'The Last Rite (2021)', 'I Come with the Rain (2009)', 'A Face in the Fog (1936)', 'Yeti: The Giant of the 20th Century (1977)', 'Fraternity Vacation (1985)', 'Attack the Gas Station 2 (2010)', 'Japoteurs (1942)', 'Suit for Wedding, A (a.k.a. The Wedding Suit) (Lebassi Baraye Arossi) (1976)', 'Kojak: None So Blind (1990)', 'Garden Gopher (1950)', 'Alive (2018)', 'Country: Portraits of an American Sound (2015)', \"Down 'n Dirty (2001)\", 'Forty Naughty Girls (1937)', 'Jacob the Liar (Jakob, der Lügner) (1975)', 'A Woman Alone (1981)', 'Psyched Out (2018)', 'Nosotros los pobres (1948)', 'Gopher Spinach (1954)', 'The Wall (1982)', \"Cheech & Chong's The Corsican Brothers (1984)\", 'Empire V', 'Death in Small Doses (1995)', 'Zion (2018)', 'Heroes of the East (1978)', 'Tasmanian Devils (2013)', 'Adventures of Huckleberry Finn, The (1939)', 'Service (Serbis) (2008)', \"Passage à l'acte (1993)\", 'Warrior and the Sorceress, The (1984)', 'Touch of Spice, A (Politiki kouzina) (2003)', 'Scare Attraction (2019)', \"Donald's Double Trouble (1946)\", 'Snow Bride (2013)', 'Les Gagnants (2022)', 'Day of the Warrior (1996)', 'Double Confession (1950)', 'Royal Rendezvous (2023)', 'Iowa (2005)', 'Found. (2020)', '1000 Mabrouk (2009)', 'Autobiography of Miss Jane Pittman, The (1974)', 'Ooga Booga (2013)', \"Patrice O'Neal: Killing Is Easy (2021)\", 'Dealt (2017)', 'Love in the End (2013)', 'Killer Eye: Halloween Haunt (2011)', \"I Haven't Got a Hat (1935)\", 'In The Dead Of Winter (1993)', 'Price Above Rubies, A (1998)', 'Stoked: The Rise and Fall of Gator (2002)', \"The Legend of Hell's Gate: An American Conspiracy (2011)\", 'Top Gear: The Perfect Road Trip 2 (2014)', 'The Anonymous Venetian (1970)', 'Man on the Tracks (1957)', \"Trevor Noah: You Laugh But It's True (2011)\", 'Chrystal (2004)', 'Another Soul (2018)', 'Andiamo a quel paese (2014)', 'Play the Flute (2019)', 'Treachery Rides the Range (1936)', 'She Monkeys (2011)', 'The Elementary School (1991)', 'Antony and Cleopatra (1983)', 'Swiss Miss (1938)', 'Marvel Studios: Expanding the Universe (2019)', 'Streamers (1983)', 'Mister Happiness (2017)', 'Land Shark (2017)', 'Static (1985)', 'The Fixer (1998)', 'The Babymoon (2017)', 'Innocent Sleep, The (1996)', 'Bound to Vengeance (2015)', \"Devil's Nightmare, The (Plus longue nuit du diable, La) (1971)\", 'The Mothman Legacy (2020)', 'Jitterbugs (1943)', 'Sacrifice (2011)', \"Midsummer's Equation (2013)\", 'Fun Without Limits (1998)', 'Atlantis Rising (2017)', 'Спасибо деду за победу (2019)', 'Jamie Marks Is Dead (2014)', 'Dead Creatures (2001)', 'Last Order: Final Fantasy VII (2005)', \"When He's Not a Stranger (1989)\", 'I Want To Go To Prison (1999)', 'Fire City: End of Days (2015)', 'Nightflyers (1987)', 'Suicide Tourist (2019)', 'A Time For Dying (1969)', 'Taxi a Gibraltar (2019)', 'Lili (1953)', 'Dirty Sexy Saint (2019)', 'Little Forest: Summer/Autumn (2014)', 'Virus Shark (2021)', 'The Grand Son (2018)', 'Partanen (2003)', 'Once Upon a Time (1944)', 'Office Romance. Our time (2011)', 'The Carrier (2015)', 'The Golden Cane Warrior (2014)', 'Perry Mason: The Case of the Scandalous Scoundrel (1987)', '23:59 (2011)', 'Busters verden (1984)', 'Sancharram (2004)', 'Yank in the R.A.F., A (1941)', 'Brazilok (2017)', 'Android Kunjappan Version 5.25 (2019)', 'Mektoub, My Love: Canto Uno (2018)', 'Lost in Alaska (1952)', 'The Secret Fury (1950)', 'DamNation (2014)', 'Ten Years Japan (2018)', 'Supercroc (2007)', 'The Power of the Whistler (1945)', 'Exit Elena (2012)', 'Task, The (2011)', 'Jack of Diamonds (1967)', 'Lupin the Third: Farewell to Nostradamus (1995)', 'Bombairiya (2019)', 'Glorifying the American Girl (1929)', 'Permissive (1970)', 'Star Slammer (1986)', 'Champion (2017)', 'Jönssonligans största kupp (1995)', 'Beer League (2006)', 'Mobile Suit Gundam: The Origin IV – Eve of Destiny (2016)', \"Gettin' Square (2003)\", 'Barbie: Princess Adventure (2020)', 'Fire (Pożar) (2018)', 'Last Ones Out (2016)', 'Love on the Menu (2019)', 'Tracktown (2017)', 'Mosca addio (1987)', 'Romasanta: The Werewolf Hunt (2004)', 'Desert Redemption (2015)', 'Crazy (2000)', 'Days Before the Millennium (2022)', 'Minnale (2001)', 'The First Day of my Life (2023)', 'The Rolling Stones Olé Olé Olé! : A Trip Across Latin America (2016)', 'Vidar the Vampire (2017)', 'The Cops Are Robbers (1990)', 'Marketing the Messiah (2020)', 'Inspector Hornleigh Goes to It (1941)', 'Alien Intruder (1993)', 'The Orion Loop (1980)', 'Rendez-vous (1985)', 'Blame It on the Samba (1948)', 'Mako (2021)', 'The Surrogate (2013)', 'Drink Slay Love (2017)', 'Bunny the Killer Thing (2015)', 'Personality Crisis: One Night Only (2022)', 'The Forest (2018)', 'Ascharya Fuck It (2018)', 'Pearls and Pigs (Helmiä ja sikoja) (2003)', 'Kút (2016)', \"No One's with the Calves (2022)\", 'Mayerling (1968)', 'Sandcastles (1972)', 'The Bone Snatcher (2003)', 'Against the Wild (2014)', 'Nest of Tens (2000)', 'Wonderland (1997)', 'Bread and Alley (Nan va Koutcheh) (1970)', 'Hangmen (1987)', 'Innocent Steps (2005)', 'Lovey-Dovey (2007)', 'The Legend of Bloody Mary (2008)', 'Archangel (1990)', 'Why? (2021)', 'Love, Wedding, Marriage (2011)', 'Wheely (2018)', 'Dead Air (2021)', 'Cured Duck (1945)', 'Sound and Fury (1988)', 'Those Who Love, Hate (2017)', 'Time of the Gods (1992)', 'Magician: The Astonishing Life and Work of Orson Welles (2014)', '5ive Must Die (2018)', 'Far from Vietnam (1967)', 'Devil in the Dark (2017)', 'Rip Tide (2017)', 'Steel Cold Winter (2013)', 'Springfield Rifle (1952)', \"Kein Bund für's Leben (2007)\", 'Children of God (1994)', 'The Big Bus (1976)', \"Madame's Cravings (1907)\", 'The Child of Paris (1913)', 'The Club (1980)', 'Mamba (1930)', 'A Match Made at Christmas (2021)', 'Wise Girl (1937)', 'Go West (2005)', 'Masked Mobsters (2007)', 'Easy To Love (1934)', 'Shor in the City (2011)', 'Luciano Serra, Pilot (1938)', 'An Amazing Couple (2002)', 'Talking Head (1992)', 'The Devil in a Convent (1899)', 'Detective Conan: Quarter of Silence (2011)', 'First One In (2020)', 'Reign of Terror (1949)', 'Regular Guys (Echte Kerle) (1996)', 'Brother Orchid (1940)', 'The Kill Hole (2012)', 'The Demolitionist (1995)', 'Şabaniye (1984)', 'Mammal (2016)', 'Thunderbird Six (1968)', 'Chutney Popcorn (2001)', 'Lady by Choice (1934)', 'La Bohème (2009)', 'Barn Red (2004)', 'Still Life (2005)', 'Kilukkam (1991)', 'Jane Eyre (1997)', 'Kiss or Kill (1997)', 'Circle of Iron (1978)', 'Turn It Around: The Story of East Bay Punk (2017)', 'Oresama (2003)', 'Spirit Bear: The Simon Jackson Story (2005)', 'AI Love You (2022)', \"Don't Bother To Knock (1961)\", 'Tomorrow Is Another Day (1951)', 'Magnificent Bodyguards (Fei du juan yun shan) (1978)', 'Class Dismissed (2015)', 'In My Country (a.k.a. Country of My Skull) (2004)', 'Kidco (1984)', 'Beyond the Border (2011)', 'The American Scream (2012)', 'Traces of the Trade: A Story from the Deep North (2008)', 'San Babila-8 P.M. (San Babila ore 20: un delitto inutile) (1976)', \"Serpent's Egg, The (Schlangenei, Das) (1977)\", '25 Million Pounds (1996)', 'Night of Dark Shadows (1971)', 'The Lost Boys (2023)', 'Over the Limit (2018)', 'Upswept Hare (1953)', 'Morning Patrol (Proini peripolos) (1987)', 'Doomsdays (2013)', 'Noël Noël (2003)', 'Itsy Bitsy (2019)', \"Les Sièges de l'Alcazar (1989)\", 'My Brothers and I (2022)', 'Parsifal (1951)', 'Parental Guidance (1996)', 'Footsteps in the Fog (1955)', 'State buoni se potete (1983)', 'Kill Your Idols (2004)', 'One of My Wives Is Missing (1976)', 'Flight of the Doves (1971)', 'Next Door (2022)', 'Rings on Her Fingers (1942)', 'Christmas She Wrote (2020)', \"L'Affaire SK1 (2015)\", \"Kill 'em All (2012)\", 'Armed Response (2017)', 'Poor Cow (1967)', 'Killer Legends (2014)', 'Dads (2022)', 'Sailing Into Love (2019)', 'Drifting States (2005)', 'Joel Kim Booster: Psychosexual (2022)', 'Horror of the Humongous Hungry Hungan (1991)', 'Unfair Competition (Concorrenza sleale) (2001)', \"A Child's Voice (2018)\", 'Carpet Cowboys (2023)', 'Singapore and Jahore (1938)', 'Poran (2022)', 'Goliath (2022)', 'In Your Shoes (2020)', 'Ice Cream (1993)', 'Detective Conan: The Fist of Blue Sapphire (2019)', 'Four Seasons Lodge (2008)', 'Planeta Petrila (2017)', 'Silent Heart (2014)', 'International Velvet (1978)', 'Nollywood Babylon (2009)', 'California Scheming (2014)', 'Redwood Highway (2013)', 'The Miracle Club (2023)', \"Jingle & Bell's Christmas Star (2012)\", 'The Spy Who Loved Flowers (1966)', 'A Rifle and a Bag (2020)', 'The New Testament (1936)', \"Jupiter's Darling (1955)\", 'Chemsex (2015)', 'The Pointsman (1986)', 'Enter... Zombie King! (2003)', \"In a Stranger's House\", 'Spark: A Space Tail (2017)', 'Mission Congo (2013)', 'Little Thirteen (2012)', 'The Strong Ones (2019)', 'Happy Valley (2014)', 'Desert Nights (1929)', 'Youth (2018)', 'The River: A Documentary Film (2020)', 'Star (2014)', 'Anjaneyulu (2009)', \"Hitler's Madman (1943)\", 'Buccaneer Bunny (1948)', 'Cry of the Heart (1974)', 'Organization, The (1971)', 'Pushpak (1987)', '11-11-11 (11-11-11: The Prophecy) (2011)', \"Tarzan's Revenge (1938)\", 'Versailles - The Dream of a King (2008)', 'City Across the River (1949)', \"Look What's Happened to Rosemary's Baby (a.k.a. Rosemary's Baby II) (1976)\", 'WWE: The American Dream: The Dusty Rhodes Story (2006)', 'Hunters (2021)', 'Standoff (2020)', 'The Little Witch (2018)', 'A Gentleman (2017)', 'The Man Who Drew God (2023)', 'Middle of the Night (1959)', 'Popeye the Sailor (1933)', \"Doin' Time (1985)\", 'Teesri Kasam (1967)', 'Stolen Life, A (1946)', 'The Ape Man (1943)', 'The 11th Green (2020)', 'São Paulo, Sociedade Anônima (1965)', 'Dumb Bobes, or Czech Tarzan (1971)', 'The Faculties (2019)', 'Entrance (2012)', 'Oh the Days! (1978)', 'Too Hot to Handle (1938)', 'Mirapakay (2011)', \"Sam's Lake (2005)\", 'Beck 26 - Buried Alive (2010)', 'The Loves of Hercules (1960)', 'Any Day Now (2020)', 'Shaandaar (2015)', 'Past Life (2016)', 'Apache Rifles (1964)', 'Mud and Sand (1922)', 'Fantozzi va in pensione (1988)', 'Under the Mountain (2009)', 'Trigger Man (2007)', 'Fight Back to School 2 (1992)', 'The Yellow Handkerchief (1977)', 'Wanted: Dead or Alive (1987)', 'Troops (1997)', 'The Empire of Dracula (1967)', 'Villa Rides! (1968)', 'Battlecry (2021)', 'Fantastic Lies (2016)', 'Red Lion (1969)', 'Kevorkian (2010)', 'Russian Doll (2000)', 'Sean Banana Inside Seanfrica (2012)', 'Oscar Peterson: Black + White (2021)', 'Gunless (2010)', 'The Curse of the Black Dahlia (2007)', 'Emerald Green (2016)', \"The Rogues' Tavern (1936)\", 'Red, Hot and Blue (1949)', 'Murder Games: The Life and Death of Breck Bednar (2016)', 'Crest of the Stars: Birth (2000)', 'Going Places (1938)', 'The State Within (2006)', 'Lover (2005)', 'The Rose Technique (2002)', 'Panorama of Eiffel Tower (1900)', 'I Am Elizabeth Smart (2017)', 'Cool Cat in the Hollywood Parade (2012)', 'Meditation on Violence (1949)', 'Other One, The (2014)', 'The Mayfair Set (1999)', 'Semi-Nude Woman Hopping on Left Foot (1887)', 'The Sauce of Love (2021)', 'A Swingers Weekend (2018)', 'What Lies Ahead (2019)', 'Friendship! (2010)', 'Gill (2019)', 'Till Night Do Us Part (2012)', 'Assault Girls (2009)', 'The Battle of Chile - Part 3 (1979)', 'Advantages of Travelling by Train (2019)', 'Trixie Mattel: Skinny Legend (2019)', 'Commercial Entertainment Product (1992)', 'Dangerous for Your Life! (1985)', 'Requiem for Mrs. J (2017)', 'Akam (2013)', 'Mariupolis (2016)', 'Daphnia (1928)', 'Si Ringrazia La Regione Puglia Per Averci Fornito I Milanesi (1982)', 'See You Tomorrow, Everyone (2013)', 'Duvidha (1973)', 'Bandits of Orgosolo (1961)', 'Les Luthiers: El Grosso Concerto (2001)', 'Jedda (1955)', \"Tytus, Romek and A'Tomek Versus the Thieves of Dreams (2002)\", 'The Art of Love (2011)', 'Wild Horses (2015)', 'I See You (2019)', 'Combat Obscura (2018)', 'Fall of Ming (2013)', 'Shadows (2023)', 'The Hair of the Beast (2010)', 'Voyage to the Planet of Prehistoric Women (1968)', 'Protocols of Zion (2005)', 'Wackiest Ship in the Army, The (1960)', 'Hollywood or Bust (1956)', 'Summerfield (1977)', 'A Night at the Kindergarten (2022)', 'Cook Off (2017)', 'Zeitgeist: Beyond The Pale (2012)', 'Only Me (1929)', 'Ninguém Ama Ninguém por Mais de Dois Anos (2015)', 'Reckoning Day (2002)', 'Avvai Shanmugi (1996)', 'Lupin the Third: Dragon of Doom (1994)', 'Hard-Core (2018)', 'The Unseen (1980)', 'Yuddham Sharanam (2017)', 'Angel Force (1991)', 'Planet of the Sharks (2016)', 'Le nuove comiche (1994)', 'Compulsion (2013)', 'Abandoned (2015)', 'The Extra Girl (1923)', 'The Happy House (2013)', 'The Debut (1977)', 'Mercury 13 (2018)', 'The Family I Had (2017)', 'On Approval (1944)', 'You Ought to Be in Pictures (1940)', 'Tanks for Stalin (2018)', 'Louise-Michel (2008)', 'Mad Cow (2010)', 'The Little Wars (1982)', 'Secret Admirer (1985)', \"I Do (but I Don't) (2004)\", 'Chalte Chalte (2003)', 'Enforcer, The (1951)', 'Relative (2022)', 'A Syrian Love Story (2015)', 'Safe Passage (1994)', 'Statysci (2006)', 'The Hybrid (2014)', 'British Sounds (1970)', 'Hear Me (2009)', 'Tracers (2015)', 'Prey (1978)', 'Is This Fate? (1979)', 'Diary of a Chambermaid, The (1946)', 'Woman Without a Face (1947)', 'New Alcatraz (2001)', 'Hamari Adhuri Kahaani (2015)', 'Raja (2003)', 'Abroad: Finding Faith (2018)', 'Red Family (2013)', 'The Relationtrip (2017)', 'Padosan (1968)', 'Chief Daddy (2018)', 'Francis (2013)', 'The Book of Stone (1969)', 'Jak to się dzieje, pyta Agnisia, że na ekranie widzimy misia (1970)', 'Dilberay (2022)', 'A Prince (almost) Charming (2013)', 'Timeman (2022)', 'The Building (2022)', 'As Good as Dead (2022)', 'The Truth (2006)', 'Snow Queen (2002)', 'Mix-Up (1986)', 'Young Lady Chatterley II (1985)', 'Ragamuffin (2014)', 'Rollover (1981)', 'Red Dirt (2000)', 'Guest Artist (2019)', 'Grigris (2013)', 'Million Dollar Legs (1932)', 'Gun for a Coward (1957)', 'Eismayer (2022)', 'Loosies (2012)', 'Cielo (2017)', 'A Carrocinha (1955)', 'Bheja Fry 2 (2011)', 'Silver Chalice, The (1954)', 'Maytime in Mayfair (1949)', 'Thammudu (1999)', 'Zaï Zaï Zaï Zaï (2022)', 'Situation, The (2006)', 'Hall (2020)', 'Non-Stop (1996)', 'Mumford & Sons: We Wrote This Yesterday', 'Spork (2011)', \"It's the Pied Piper, Charlie Brown (2000)\", 'My New Partner II (1990)', 'G (2002)', 'Callie & Son (1981)', 'The Alternate (2021)', 'No Bad Days (2008)', 'Softness of Bodies (2018)', 'There Will Come a Day (2013)', 'The Boss (1973)', 'Gate of Flesh (Nikutai no mon) (1964)', 'Vares - The Sheriff (2015)', 'Hotel Magnezit (1978)', \"My Father's Violin (2022)\", 'Fascism on a Thread: The Strange Story of Nazisploitation Cinema (2019)', 'Seattle Superstorm (2012)', 'Back to the Beach (1987)', 'Lost Skeleton of Cadavra, The (2002)', 'Long Lost Daughter (2018)', 'No Child of Mine (1997)', 'Here comes another one (1984)', 'Desperate Man Blues (2003)', 'Animals are Beautiful People (1974)', 'World Apartment Horror (1991)', \"The Well-Digger's Daughter (1940)\", 'Sold (2016)', 'Our Time (2022)', 'Skinner (1993)', 'You Are Not an Orphan (1962)', 'By the Ravine (1962)', 'There Will Come Soft Rains (1984)', 'Love in Action (2010)', \"The Bride's Journey (1997)\", 'A Night in 67 (2010)', 'The Broken Butterfly (1919)', 'Naane Varuvean (2022)', 'The Heart Machine (2014)', 'Love at Second Sight (2019)', \"All's Well, Ends Well (1992)\", 'Berth Marks (1929)', 'The Eyes (2017)', 'Giants Being Lonely (2019)', 'Scanners: The Showdown (1995)', 'The Chicken Chronicles (1977)', \"Don's Plum (2001)\", 'Initial D: Third Stage (2001)', 'Scorchers (1991)', 'The Marine 5 Battleground (2017)', 'Murder, She Wrote: The Celtic Riddle (2003)', 'Eagle Shooting Heroes (1993)', 'The White Haired Witch of Lunar Kingdom (2014)', 'Little Vera (1988)', 'Cave Crocs of Gabon (2018)', 'Casanova farebbe così! (1942)', 'Head of the Family (1996)', 'Unlovable (2018)', 'Riffraff (1936)', 'Carcasses (2009)', 'Time Of My Life (2012)', 'Dear Heart (1964)', 'The Woman in Red (1935)', 'Rialto (2019)', 'CounterForce (1998)', 'The Rockford Files: Godfather Knows Best (1996)', 'The Black Panthers: Vanguard of the Revolution (2015)', 'The Sunrise Trail (1931)', 'Blood Thirst (1971)', 'Body Parts (1991)', '24 Hours at the South Street Diner (2012)', 'The Forbidden Dance (1990)', 'Déjà Vu (1997)', 'The Shell Shocked Egg (1948)', 'Easy Money 3 (2013)', 'Amateur Porn Star Killer 2 (2008)', 'Pro Lyuboff (2010)', '10 Magnificent Killers (1977)', 'Skyman (2020)', 'Lion (2015)', 'Rosie the Riveter (1944)', 'White Epilepsy (2012)', 'Gloss (2007)', 'Aadhi (2018)', '2021 Rock & Roll Hall of Fame Induction Ceremony (2021)', 'A Herb Alpert & the Tijuana Brass Double Feature (1966)', 'Blue Moon Ball (2021)', 'Frank Pierre Presents: Pierre Resort & Casino (2014)', 'Curse of the Fly (1965)', \"Outlaw's Buckle (2021)\", 'Svenska bilder (1964)', 'Rome, Armed to the Teeth (1976)', 'Crimea (2017)', 'Return of the Chinese Boxer (1977)', 'Fire From Below (2009)', 'Artificial Light (1969)', 'Party Girl (2014)', 'Star! (1968)', 'Jet Pilot (1957)', 'A Straightforward Boy (1929)', 'Project Moon Base (1953)', \"A Girl's Tears (1980)\", 'Wild Rebels (1967)', 'South of the Border (2009)', 'Ask Me to Dance (2022)', 'Stormy Trails (1936)', 'Chop Kick Panda (2011)', 'A Walton Thanksgiving Reunion (1993)', 'Thomas Hart Benton (1989)', 'Youngstown (2021)', 'Dear Dad (2016)', 'Egged On (1926)', \"So Wrong They're Right (1995)\", 'Sons of Provo (2004)', 'Polish Legends: The Dragon (2015)', 'Queen of Spades, The (1949)', 'Map of the World, A (1999)', 'Chez Nous (2013)', 'Dreadspace (2017)', 'Renegades (2022)', 'The Blue Knight (1973)', 'Straight Into a Storm (2018)', 'Possessed (2022)', 'Walk for Me (2016)', 'Bound (2015)', 'Four Last Songs (2007)', 'Cup of my Blood (2005)', 'Entropy (1999)', 'The Flintstones & WWE: Stone Age Smackdown (2015)', 'The Umbrella Man (2011)', 'Diamond 13 (2009)', 'With or Without You (2021)', 'Wrong Side Up (Pribehy obycejneho silenstvi) (2005)', 'Nobody (2007)', 'The Boy Whose Skin Fell Off (2004)', 'Our Nixon (2013)', 'British Agent (1934)', 'The Man on the Other Side (2021)', 'To Be King (Koning van Katoren) (2012)', 'Our Lady of the Turks (1968)', 'Alive (2006)', 'Sweatshop (2009)', 'Plenty of Money and You (1937)', 'Over the Sky (2020)', 'Les hautes solitudes (1974)', 'Hard Promises (1991)', 'Devils of Darkness (1965)', 'Snake and Crane Arts of Shaolin (She hao ba bu) (1978)', 'The Legend of the Candy Cane (2001)', 'Aalavandhan (2001)', 'Paragraph 78: Film Two (2007)', 'The Stolen (2017)', 'Growing Pains (2014)', 'Jigarthanda (2014)', 'Last Ride (2009)', 'Marvelous (2008)', 'Harakiri (1919)', 'Spitfire (1934)', 'Married Couple, A (1969)', 'Corro da te (2022)', 'Thumb Princess (1999)', 'Murder Ahoy (1964)', 'When You Remember Me (1990)', 'Goopy Bagha Feere Elo (1992)', 'Brides (Nyfes) (2004)', 'Spy(ies) (Espion(s)) (2009)', 'Explant (2021)', 'Swamp Women (1956)', \"It Couldn't Have Happened (But It Did) (1936)\", 'Hi-Lo Country, The (1998)', 'Mother Lode (2021)', 'Bluebird (2019)', 'Islam: Empire of Faith (2001)', 'The Picture Show Man (1977)', 'Blind & Ugly (2017)', 'Üç Harfliler: Beddua (2018)', 'Fools for Scandal (1938)', 'An Exercise in Discipline: Peel (1982)', 'The Cleaner (2021)', 'Sweet As (2022)', 'Mekong Hotel (2012)', 'Alone in the Dark II (2008)', 'Dear Chantal (2021)', 'Cuba (1979)', 'Plane Daffy (1944)', 'Dachra (2019)', 'The Changed (2021)', 'Man I Love, The (1947)', 'Black Sun (2022)', 'Killer Crocodile (1989)', 'In-Shadow: A Modern Odyssey (2017)', 'A Life at Stake (1955)', 'Ice on Fire (2019)', 'Haunted, Horrifying Sounds from Beyond the Grave (2018)', 'A Sun-Tribe Myth from the Bakumatsu Era (1957)', 'Finding Bliss (2009)', 'The Evil Spirit of Yambuy (1977)', '3 Geezers! (2013)', 'Девочки', 'O Querido Lilás (1987)', 'La Fracture du myocarde (1991)', 'Tales From the Dark 1 (2013)', 'The American Success Company (1980)', 'Normal Doors (2015)', 'Kołysanka (2010)', 'Didi, o Cupido Trapalhão (2003)', 'Change of Plans (Le code a changé) (2009)', 'Justin Bieber: Rise to Fame (2011)', 'Looking for Venera (2022)', 'Death Count (2022)', \"Babe Ruth Story: That Ever Livin' Babe (1962)\", 'The Shipment (2018)', 'Under Electric Clouds (2015)', 'My Name is Juani (Yo soy la Juani) (2006)', 'Tugging Diary (2021)', '60 Seconds to Live (2022)', 'Our Homeland (2012)', 'The Phantom of the Opera (1998)', 'The Holly (2023)', 'Red Pony, The (1949)', 'Making Dazed (2005)', 'Eden (2018)', 'Chhapaak (2020)', 'The Stranger (1987)', 'Highway One (2021)', 'Lost Dream (2009)', 'Slam Dunk Ernest (1995)', 'Route 225 (2006)', 'Fear Filter (2019)', 'The Newspaperman: The Life and Times of Ben Bradlee (2017)', 'Life and Death at Preah Vihear (2014)', 'The Year I Started Masturbating (2022)', 'Secret Wars (2014)', 'Beats (2019)', 'Grandfather, The (Abuelo, El) (1998)', 'Credo (2008)', 'Nice Guy Johnny (2010)', 'Mama’s Affair (2022)', 'Pirate Movie, The (1982)', 'Macross Frontier: The Wings of Goodbye (2011)', 'The Kaos Brief (2016)', 'Tree Man (2016)', 'Two for the Win (2021)', 'Tomorrow Will Be Better (2011)', 'Baby Driver 2', \"Bernard Herrmann: Hitchcock's Maestro (2008)\", 'TV Junkie (2006)', 'Death Drop Gorgeous (2021)', 'Hide and Seek (1913)', 'Spasmo (1974)', 'Contact (1985)', 'Music of Chance, The (1993)', 'Intimacies (2012)', 'A Brief History of John Baldessari (2012)', 'Papa: Hemingway in Cuba (2016)', 'Wolfman (1979)', 'We Was Homeboyz (2012)', 'Feeders 2: Slay Bells (1998)', 'The Same Blood (2019)', 'The Door (2014)', 'Rock Rock Rock! (1956)', 'Jimi Plays Monterey (1986)', 'Uncle Nino (2003)', \"You're So Cupid (2010)\", 'The Lady Constables (1978)', 'Sinkhole (2013)', 'The Eternal Zero (2013)', \"Children of the Corn 666: Isaac's Return (1999)\", 'Benchwarmers 2: Breaking Balls (2019)', 'Fly, Daddy, Fly (2006)', 'Trials of Cate McCall, The (2013)', 'Little Dutch Plate (1935)', \"The Gate to the Mind's Eye (1994)\", 'Space Adventure Cobra (1982)', 'Legend of Leigh Bowery, The (2002)', 'Carl Laemmle (2019)', 'Rosario Tijeras (2005)', 'Alaska Is a Drag (2017)', 'Tumbleweeds (1999)', 'Time for You to Come Home for Christmas (2019)', 'Codependent Lesbian Space Alien Seeks Same (2011)', \"The Strawberry Shortcake Movie: Sky's the Limit (2009)\", 'Richard: The Lionheart (2013)', 'Public Works (2015)', 'Evelyn Prentice (1934)', 'Daphne (2007)', 'Ballet Of Blood (2016)', 'Dough and Dynamite (1914)', 'Killing Spree (1987)', 'The Dreaming (1988)', 'Lulli (2021)', 'Steve McQueen: Man on the Edge (1990)', 'Tetsujin 28: Morning Moon of Midday (2007)', \"If You're Gone (2019)\", 'Paper Tigers (2015)', 'Night Sun (1990)', 'Boyfriends of Christmas Past (2021)', 'Will (2012)', 'Märzengrund (2022)', 'Drama (2010)', 'Hello Aloha (1952)', 'Bulletproof 2 (2020)', 'Dream Girl 2 (2023)', 'The Grump: In Search of an Escort (2022)', 'The Hill and the Hole (2020)', 'Michael Inside (2018)', 'Dracula in Love (2018)', 'The Worlds of Philip K. Dick (2016)', 'Good Guys Go to Heaven, Bad Guys Go to Pattaya (2016)', 'Point and Line to Plane (2020)', 'Plum Blossom (2000)', 'Once Upon a Time in London (2019)', 'The Out List (2013)', 'Postmortem (1998)', 'The Burglar’s Dilemma (1912)', 'Fear Clinic (2014)', 'Evolution of a Filipino Family (2004)', 'Meu Passado Me Condena: O Filme (2013)', 'Galíndez File, The (Misterio Galíndez, El) (2003)', 'The Stray (2017)', 'Boy Meets Boy (2021)', 'Sam Kinison: Breaking the Rules (1987)', \"Live at Mister Kelly's (2021)\", 'César (1936)', \"Bell for Adano, A (John Hersey's A Bell for Adano) (1945)\", 'Sea, The (Hafið) (2002)', 'The Chronicles of the Gray House (1925)', \"Putin's Kiss (2012)\", 'The Beginning of Life (2016)', 'Happy Birthday, Gemini (1980)', \"Mister Magoo's Christmas Carol (1962)\", 'This Way Up (2008)', 'Death Rite (1976)', 'The Nine Kittens of Christmas (2021)', 'Kabuliwala (2006)', 'Mary Is Happy, Mary Is Happy (2013)', 'Lab Rat (2019)', 'Chance (2002)', 'Motichoor Chaknachoor (2019)', 'No Letting Go (2016)', 'One Ranger (2023)', 'Sons and Lovers (1960)', 'Mysteries of the Gods (1976)', 'Death and Transfiguration (1983)', 'Il medico della mutua (1968)', 'Bubble (2022)', 'Out of the Blue (Aramoana) (2006)', 'Severe Clear (2010)', 'The ABC of Love and Sex: Australia Style (1978)', 'Ramon (2023)', 'Youtopia (2018)', 'Maisie Undercover: Shadow Boxer (2006)', 'Eyes in the Night (1942)', 'Composite (2017)', 'Little Peach (1958)', 'Goodbye, Someday (2010)', 'The Conspirators (1969)', 'Around the Bend (2004)', '«5/4» (1990)', 'Fittest On Earth (The Story Of The 2015 Reebok CrossFit Games) (2016)', 'Humorous Phases of Funny Faces (1906)', '11 Minutes (2015)', '过昭关', 'The Foursome (2007)', 'The Bunglers in the Planet Wars (1978)', 'Menorah in the Middle (2022)', 'A Real Young Girl (1976)', 'Os Trapalhões no Auto da Compadecida (1987)', \"The Man from Hell's Edges (1932)\", 'Secret Ballot (Raye makhfi) (2001)', 'Despair (1978)', 'Max Steiner: Maestro of Movie Music (2019)', 'Courage for Every Day (1964)', 'By Candlelight (1933)', 'Tom and Jerry: Spy Quest (2015)', 'The Skipping Cheese (1907)', 'Jeca e Seu Filho Preto (1978)', 'The New Greatness Case (2022)', 'This Is the Night (2021)', 'Incision (2020)', 'Ringers: Lord of the Fans (2005)', 'Breaking Bread (2021)', 'Out & Around (2015)', 'Heartworn Highways (1976)', 'We Love You, Sally Carmichael! (2017)', 'The Ann Jillian Story (1988)', 'Carmen and Lola (2018)', 'The Heifer (1985)', 'Stockholm (2013)', 'Merci Patron ! (2016)', 'Lawrence of Belgravia (2012)', 'Driven to Abstraction (2020)', 'Erna at War (2020)', 'Across the Pacific (1942)', 'Furies (2022)', 'Future Zone (1990)', 'Soltera Codiciada (2018)', 'The Medici: Godfathers of the Renaissance (2004)', \"Queer China, 'Comrade' China (2009)\", 'Sonja (2006)', 'Suburban Mayhem (2006)', 'In Jackson Heights (2015)', 'Mushrooming (Seenelkäik) (2012)', 'B. Monkey (1998)', '4x4 (2019)', 'Cherry Tobacco (2014)', 'Opportunists, The (2000)', 'Under the Bombs (2007)', 'The Deep Blue Sea (1955)', 'Picture Mommy Dead (1966)', 'Pride of St. Louis, The (1952)', 'Montana Moon (1930)', 'A feltaláló (2020)', 'Blood Paradise (2018)', 'Blood on the Mountain (2016)', 'No Place Like Home (2019)', 'On the Edge (2022)', 'Tusk (1980)', 'Care Bears Movie II: A New Generation (1986)', 'Believe in Me (2006)', 'How to Live Your Best Death (2022)', 'Flying Nansen (2000)', 'Savage Sam (1963)', 'Eila (2003)', 'Chunhyang (2000)', '4 latas (2019)', 'Driving Me Crazy 1991 (1991)', 'Lady Takes a Chance, A (1943)', 'Hymn (1972)', 'Her Best Move (2007)', 'Romance Retreat (2019)', 'Off Limits (2010)', 'North Korea: Inside The Mind of a Dictator (2021)', 'Space Wars: Quest for the Deepstar (2023)', 'Sh! The Octopus (1937)', 'Beyond the Rave (2008)', 'A World Away (2019)', 'Butterfly (1974)', 'The Zoo (1967)', 'At War (2018)', 'Another Happy Day (2011)', 'Belle toujours (2006)', 'Lace Crater (2015)', 'Karaoke Crazies (2016)', 'The Good Journey (2018)', \"Smokey Joe's Cafe: The Songs of Leiber and Stoller (2002)\", 'Kyle Kinane: Whiskey Icarus (2012)', 'The Day I Saw Your Heart (2011)', 'Chok-Dee (2005)', 'Haunted Castle, The (Hiroku kaibyô-den) (1969)', 'Trio (2019)', \"La profezia dell'Armadillo (2018)\", 'Kalev (2022)', 'KillerSaurus', 'Is Genesis History? (2017)', 'Lance (2020)', 'Ania (2022)', 'One on One (2014)', 'Joanne Lees: Murder In The Outback (2007)', 'Macross Frontier: The False Songstress (2009)', 'That Is the Dawn (1956)', 'The Swamp of the Ravens (1974)', '30/30 Vision: Three Decades of Strand Releasing (2019)', 'Santo and Blue Demon Against the Monsters (1970)', 'Cold Feet (2018)', 'Ban the Sadist Videos! (2005)', 'The Slipper and the Rose: The Story of Cinderella (1976)', \"Tweety's High Flying Adventure (2000)\", 'A Golden Boy (2014)', 'Operation Dunkirk (2017)', 'Mister Designer (1988)', 'Windows (1980)', 'Stratton Story, The (1949)', 'Ward No. 6 (2009)', 'Kojak: Flowers For Matty (1990)', 'The Merciless (2017)', 'Carmen (2022)', 'Mai Mai Miracle (2009)', 'Hex (1973)', 'Pioneer (2011)', 'A Heartland Christmas (2010)', 'Thumper (2017)', 'Sandy Lives (1999)', 'Fahrenhype 9/11 (2004)', \"Calamity Jane's Revenge (2015)\", 'Primary Russia (1986)', \"Troma's War (1988) \", 'Shepherd of the Hills, The (1941)', 'Cardinal, The (1963)', 'Gervaise (1956)', 'The Last Right (2019)', 'The Apocalypse (2002)', 'Dave Smith: Libertas (2017)', 'Any Gun Can Play (1967)', 'Varg Veum - Bitter Flowers (Varg Veum - Bitre Blomster) (2007)', 'Beata ignoranza (2017)', \"Serpent's Lair (1995)\", \"Emperor's Secret (2006)\", 'VeggieTales: Madame Blueberry (1998)', \"I'll Do Anything (1994)\", 'The Fatal Encounter (2014)', 'Curtain (2015)', 'Labyrinth of Dreams (1997)', 'The Great War of Archimedes (2019)', 'Bedlam (2019)', '7th Day (2014)', 'Jecão... Um Fofoqueiro no Céu (1977)', 'The Peter Weyland Files: TED Conference, 2023 (2012)', 'Dead Man Running (2009)', 'Female Misbehavior (1992)', 'The Confession (2017)', 'Laterna, ftoheia kai garyfallo (1958)', 'Polle fiction (2002)', '...And the Third Year, He Resuscitated (1980)', 'The Stationmaster Meets His Match (1980)', 'Jimmy and Judy (2006)', 'Hot to Trot (1988)', 'Cleo (2019)', 'Nocne Graffiti (1997)', 'A Fish Tale (2017)', 'Мартынко (1987)', 'Wrong Arm of the Law, The (1963)', 'A Reflection of Fear (1973)', 'A Mermaid in Paris (2020)', \"Love's Coming (2014)\", 'What Love Looks Like (2020)', 'Double Vision (Shuang tong) (2002)', 'Little Richard (2000)', 'Missione di pace (2011)', 'An Empress and the Warriors (2008)', 'Kryptonita (2015)', 'The Fighting Lady (1944)', 'Astolfo (2022)', 'National Theatre Live: Twelfth Night (2017)', 'Russell Brand: Re:Birth (2018)', 'Adventures of Mark Twain, The (1944)', 'Ahir Shah: Dots (2021)', 'Daffy Dilly (1948)', 'The Last Relic (1969)', 'Relentless (1989)', 'Woman Haters (1934)', 'Land of Happines (Onnen maa) (1993)', 'The Last Gladiators (2011)', 'Geronimo (1962)', 'Kappal (2014)', 'Tiny Toon Adventures: How I Spent My Vacation (1992)', 'Captain Midnight (1942)', 'The Naked Cage (1986)', 'Hi, Junior! (1971)', 'Viduthalai: Part I (2023)', 'The Raffle (1991)', 'Gehenna: Where Death Lives (2016)', 'Bulbul Can Sing (2018)', 'The Journey (2014)', \"Fiddler's Journey to the Big Screen (2022)\", \"Late Night with Conan O'Brien: The Best of Triumph the Insult Comic Dog (2004)\", 'House III: The Horror Show (1989)', 'Anton Spelec, Sharp-Shooter (1932)', 'Born to Fight (Kerd ma lui) (2004)', 'Box (1982)', 'The Night before the Exams (2006)', 'Entanglement (2018)', 'Die Bademeister – Weiber, saufen, Leben retten (1999)', 'Segurança Nacional (2010)', 'Feed The Fish (2009)', 'Крепость: щитом и мечом (2015)', 'Mavis! (2015)', 'Tornado! (1996)', 'Sylvia Plath: Inside the Bell Jar (2018)', 'We Are All for the Fatherland (1979)', 'Mademoiselle de Joncquières (2018)', 'Murder, Inc. (1960)', 'Frankenstein (2007)', 'Wild Company (1930)', 'A Lesson Of Love (2014)', 'All In: The Poker Movie (2009)', 'Concours d’automobiles fleuries (départ) (1899)', 'Kaala (2018)', 'El doble (2021)', 'From What Is Before (2014)', 'Circus Kane (2017)', \"Hitler's Children (2011)\", 'American Cannibal (2006)', 'Edge of Darkness (1943)', 'Wedding Video, The (2012)', 'The Child Remains (2017)', 'A Flower from Heaven 2: A Perilous Journey (2017)', 'Dead Again (2021)', 'The Good Neighbor (2011)', 'Savage Guns (1971)', 'Forbidden Love: The Unashamed Stories of Lesbian Lives (1992)', 'Road (1987)', 'Ring of Bright Water (1969)', 'Arachnid (2001)', 'Wild Tango (1993)', 'Lovely Trash (2019)', 'The Secret Adversary (1983)', 'Jerusalem (2013)', \"I'm No Fool with Fire (1955)\", 'Big Muddy (2014)', 'Constellation (2007)', 'Love at the Shore (2017)', 'Poker Run (2009)', \"Taimour & Shafi'aa (2007)\", 'Apoorva Sagodharargal (1989)', 'Princess Cut 2: Hearts on Fire (2021)', 'The Escape (1978)', 'Beverly Hills Madam (1986)', 'M (2017)', 'Rosso (1985)', 'Ebenezer (1998)', 'Fight Back to School (1991)', 'Golden Boy (1939)', 'New Mars (2019)', 'Good Mother, The (1988)', 'The Loyola Project (2022)', 'Les abysses (1963)', 'Hollywood Complex, The (2011)', 'Yaanai (2022)', 'Liberty (1929)', 'Range Roads (2021)', 'Inside the Edge: A Professional Blackjack Adventure (2019)', 'Fitzgerald Family Christmas, The (2012)', '8th Wonderland (2008)', 'Sergio and Sergei (2018)', 'Confessions of an Action Star (2009)', 'Fall Guy (1982)', 'Feline Follies (1919)', 'Man at the Top (1973)', '7 Days Out (2018)', 'House of Horrors (1946)', 'Dennis Hopper: Uneasy Rider (2016)', 'A Busy Day (1914)', 'Outside Noise (2021)', 'Escape from the Bronx (1983)', 'Lake Placid vs. Anaconda (2015)', 'Hamlet Goes Business (Hamlet liikemaailmassa) (1987)', 'First Shot (2002)', 'The Undying Monster (1942)', 'Recovery (2007)', 'Eugenio (2018)', 'One Fine Spring Day (Bomnaleun ganda) (2001)', 'Erasmus (2016)', 'Double Wedding (2010)', 'Marry Me (1949)', 'The Cop Cam (2016)', 'Encounters of the Spooky Kind (1980)', 'The Tasting (2022)', 'Little Houdini (2014)', 'Pastorale (1975)', 'Maestro (2014)', 'Hijacking Agatha (1993)', 'Here Comes Garfield (1982)', 'Write Before Christmas (2019)', 'Sport Goofy in Soccermania (1987)', \"Mabel's New Hero (1913)\", 'Traumfabrik (2019)', 'Cours Privé (1986)', 'Hostages (2017)', 'Great Flamarion, The (1945)', 'Boobs: An American Obsession (2010)', 'Hiding Cot (Piilopirtti) (1978)', 'Why Cheat India (2019)', 'November (2004)', 'Fast Charlie... the Moonbeam Rider (1979)', 'Mozhi (2007)', 'Moonbound (2021)', 'License to Steal (1990)', 'Tragic Error (1913)', \"Porky's Poppa (1938)\", 'War Boys, The (2009)', 'Crime and Punishment (1956)', 'A Certain Magical Index: The Miracle of Endymion (2013)', 'Poodle Springs (1998)', 'Machined (2006)', 'Searching for Debra Winger (2002)', 'Adolescents (2020)', 'My Love Story!! (2015)', 'Kudo Shinichi Returns! Showdown with the Black Organization (2007)', 'The Vaccine War (2023)', 'Master of the Universe (2013)', 'The Symbol of the Unconquered (1920)', 'Mia melissa ton Avgousto (2007)', 'God, the Universe and Everything Else (1988)', 'Transpecos (2016)', 'Cool Cat Stops Bullying (2012)', 'Splinter (2006)', 'When the Waves Are Gone (2022)', 'Secret Six, The (1931)', \"Life and Nothing But (Vie et rien d'autre, La) (1989)\", 'Rich and Poor (1983)', 'Gritt (2021)', 'Silent Land (2022)', 'Rain or Shine (1930)', 'Passing Summer (2001)', 'Deal of the Century (1983)', 'ThuleTuvalu (2014)', \"Finian's Rainbow (1968)\", 'The Desert Bride (2017)', 'Another Sky (2010)', 'The Skywalk Is Gone (2002)', 'Bride at any Cost (2009)', 'Other Voices, Other Rooms (1995)', 'Unraveled (2011)', 'Highline (2020)', 'Darken (2017)', 'Arabesque (1989)', 'Letters to God (2010)', \"Daddy, I'm A Zombie (2012)\", 'Bad Faith (2010)', 'Sky Ladder: The Art of Cai Guo-Qiang (2016)', 'Starship (1984)', 'Medicinmannen', 'The Butcher (2009)', 'Safety in Numbers (2006)', 'The Squad: Home Run (2023)', 'I Got the Hook Up 2 (2019)', 'Flatscreen (2012)', 'Fist of Fury 1991 II (1992)', 'Comedy of the Strict Regime (1993)', 'Borsalino (1970)', 'Ümmü Sıbyan: Zifir (2014)', 'Tarnished Lady (1931)', 'The Champion (2019)', 'Express (2022)', 'Sultan (1978)', 'Her Second Mother (1940)', 'Too Young To Die! (2016)', 'The Seventh Day (2021)', 'Wolf! Wolf! (1992)', 'Cup of Love (2016)', 'Sweeney Todd: The Demon Barber of Fleet Street (2014)', 'The Expendables (2000)', 'A Demon Within (2017)', 'Rose Plays Julie (2019)', 'Mongoloid (1978)', 'Kamen Rider ZO (1993)', 'The Dress (1996)', 'Auntie (2013)', 'Puppy Love (2012)', 'Jericho Mansions (2003)', 'The Forgotten Space (2010)', 'Dyketactics (1974)', 'Eveready Harton in Buried Treasure (1929)', 'Teatro di guerra (1998)', 'The Black Spider (2022)', 'Frank (2007)', 'Living Wake, The (2007)', 'The Deal (2015)', 'Just Jim (2015)', 'The Dry Valley (2012)', 'A Brother (2018)', 'Garter Snake (2011)', 'BaadAsssss Cinema (2002)', 'Following Sean (2005)', 'The Hole in the Fence (2021)', 'Ex-Wife Killer (2017)', \"Leaves from Satan's Book (Blade af Satans bog) (1921)\", 'Chase a Crooked Shadow (1958)', 'Restless Virgins (2013)', 'Warrendale (1967)', 'Love Clinic (2015)', 'The Cave (2019)', 'Crows Are White (2022)', 'Clean Thursday (2003)', 'The Lion Guard: The Rise of Scar (2017)', 'A Summer to Remember (2018)', 'The Snow Woman (1968)', 'The Rift (1990)', 'Crowsnest (2012)', 'Chilango Chronicles (2010)', 'Quanta (2019)', 'King Lear (1983)', 'Corona Zombies (2020)', 'My Mom Is a Character (Minha Mãe é uma Peça: O Filme) (2013)', 'Adventures of Don Juan (1948)', \"The Tiger's Nest (2022)\", 'Saving My Hubby (2002)', 'Taco Shop', 'Fighting for Love (2001)', 'Safe (1993)', 'Demons from Her Past (2007)', 'Springsteen & I (2013)', \"God's Comedy (A Comédia de Deus) (1995)\", 'Fortunes', 'Ghost Theater (2015)', 'When the Heavens Fell (1972)', 'SlingShot (2014)', 'The Ten Commandments (2007)', 'Ghoomer (2023)', 'The Viewing Booth (2020)', 'Sealed Verdict (1948)', 'All The Freckles In The World (2019)', 'Imbued Life (2019)', 'Agent Trouble (1987)', \"Doin' It in the Park: Pick-Up Basketball, NYC (2012)\", 'The Virgin of Nuremberg (1963)', 'April Showers (1948)', 'Dynamite Warrior (2006)', 'From Bedrooms to Billions: The Amiga Years (2016)', 'Black Ice (2020)', 'Red Wood Pigeon (1989)', 'A Piece of Sky (2022)', 'I Can No Longer Hear the Guitar (1991)', 'Love Is Blind (2013)', 'They Live Inside Us (2020)', 'Guardian of the Palace (2020)', 'The Barkers: Mind the Cats! (2020)', 'Leaving Normal (1992)', 'The Marine 3: Homefront (2013)', 'Ice Castles (1978)', 'Slut In A Good Way (2018)', 'Puerto Vallarta Squeeze (2004)', 'Treasures of the Snow (1980)', 'High Pressure (1932)', 'Thunderbolt (1929)', 'Install (2004)', 'Walkout (2006)', \"Cenerentola '80 (1984)\", 'Once in a Lifetime (2000)', 'The Land That Time Forgot (2009)', 'Cyborg Soldier (2008)', 'Diminished Capacity (2008)', 'A Gift with a Character (2014)', 'My Best Enemy (Mein bester Feind) (2011)', 'The Picture of Dorian Gray (1973)', 'Razortooth (2007)', 'Demon Pond (1979)', 'Arabian Adventure (1979)', 'Hula Girls (2006)', 'Hannibal (1959)', 'Truth in Numbers? Everything, According to Wikipedia (2010)', 'Sabina K. (2015)', 'Together (Han ni Zai Yiki) (2002)', 'Savage Youth (2018)', 'Chuchotage (2018)', \"Relics: Einstein's Brain (1994)\", 'Two Comrades Were Serving (1968)', 'Park Is Mine, The (1986)', 'Minions & More Volume 2 (2022)', 'Foxfire (2012)', 'The Princess Comes Across (1936)', '299 Queen Street West (2023)', \"Casper's Haunted Christmas (2000)\", 'Finding Rin Tin Tin (2007)', 'The Current (2014)', 'The Shaman (2015)', 'Aladdin (1986)', 'Edge of Sanity (1989)', 'The End (1953)', 'Battle Scars (2020)', 'Backlash (1956)', 'Bug Crawls (2007)', \"Mother's Boys (1994)\", 'The Oil Factor: Behind the War on Terror (2005)', 'Tai-Pan (1986)', 'Offering (1978)', 'Last Words (2020)', 'Ichi the Killer: Episode 0 (2002)', 'Hell and Back Again (2011)', 'The Last Days of Billy the Kid (2018)', 'Moscow, I Love You! (2010)', 'A Glass of Whiskey (1959)', 'Abu Raykhan Biruni (1974)', 'Sea Gull, The (1968)', 'The Voice of Water (2014)', 'The Christmas Party (2009)', \"Les Bodin's en Thaïlande (2021)\", 'Tom-ic Energy (1965)', 'Blood Moon (2021)', 'The Little Gangster (1990)', 'Puppet Master X: Axis Rising (2012)', \"Bulldog Drummond's Bride (1939)\", 'The Fast and the Fierce (2017)', 'Silent Voice (2009)', 'Eadweard Muybridge, Zoopraxographer (1974)', 'Flareup (1969)', 'Last Man Standing (2021)', 'Conversations with My Gardener (Dialogue avec mon jardinier) (2007)', 'Magical Universe (2014)', 'Behavior (2014)', 'Steve Byrne: Champion (2014)', 'The Girl in Room 2A (1974)', 'The Sinful Nuns of Saint Valentine (1974)', 'The Fight (2020)', 'Pretty Cool Too (2007)', 'Unloved (1966)', 'Duska (2007)', 'Saint Amour (2016)', 'Modern Love (2018)', 'Cult (2013)', 'Poor Little Peppina (1916)', 'Ghost of Mae Nak (2005)', 'Monsoon Shootout (2017)', 'Land of My Dreams (2012)', 'Mujeres que trabajan (1938)', 'Knight-Mare Hare (1955)', 'The Immortal One (1963)', '100 Degrees Below Zero (2013)', 'Psycho Cop (1989)', 'From Here To Eternity: The Musical (2014)', 'A Quiet Place to Kill (1970)', 'Carpetbaggers, The (1964)', '2 Cool 2 Be 4gotten (2016)', 'The Kodai Family (2016)', 'Island Escape (2023)', 'Circle of Deceit (Die Fälschung) (1981)', 'Portraits of Women (Naisenkuvia) (1970)', 'Ce que je vois de mon sixième (1901)', 'Deadly Impact (2010)', 'Rose (2011)', 'Minutes to Midnight (2018)', 'Mother Goose Goes Hollywood (1938)', 'Of Miracles and Men (2015)', 'Cam Closer (2013)', 'Torrid Noon (1965)', 'Bathtubs Over Broadway (2018)', 'I.C.U. (2009)', 'Telling Lies (2006)', 'It Came from Hollywood (1982)', 'ChromiumBlue.com (2002)', 'Finding Mr. Destiny (2010)', 'Under the Gun (2016)', 'Scheherazade, Tell Me a Story (2009)', 'WWE: 50 Greatest Finishing Moves in WWE History (2012)', 'Watchtower (2012)', 'Mad Cats (2023)', 'Something to Sing About (1937)', 'Ee. Ma. Yau (2018)', 'Bassae (1964)', 'The Safecracker (1958)', 'Irving Thalberg: Prince of Hollywood (2005)', 'Alien Girl (2010)', 'Wings of the Hawk (1953)', 'Sofia the First: Once Upon a Princess (2012)', \"Don't Talk to Strangers (1994)\", 'The Assassination of Abraham Lincoln (2009)', 'The Beauty of the Devil (1950)', 'Syndicate Sadists (1975)', 'Shaolin Rescuers (1979)', 'Les Mains négatives (1978)', 'Air Collision (2012)', \"It's Only Talk (2005)\", 'Awaken (2015)', 'After the Rain (2016)', 'Gridiron UK (2016)', 'Blinky Bill the Movie (2015)', 'The $cheme (2003)', 'Too Scared to Scream (1985)', 'I Stefania (1966)', \"He Sees You When You're Sleeping (2002)\", 'Meskada (2010)', 'The Big Racket (1976)', 'A Storybook Christmas (2019)', 'Pan 1 (1974)', 'The Labyrinth (2017)', 'Signed, Arsène Lupin (1959)', 'A Little Princess (2019)', 'Clubland (a.k.a. Introducing the Dwights) (2007)', 'Fast-Walking (1982)', 'Money for Nothing: Inside the Federal Reserve (2013)', 'I Want to Talk About Duras (2022)', 'Frau Müller muss weg (2015)', 'A Good American (2014)', 'Our Lady of the Assassins (Virgen de los sicarios, La) (2000)', 'Believe: The Eddie Izzard Story (2009)', 'Captain Thunder (1930)', 'The Prisoner or: How I Planned to Kill Tony Blair (2007)', 'You Wont Miss Me (2009)', 'King of the Mountain (1981)', 'The Double McGuffin (1979)', 'Benefit of the Doubt (1993)', 'Head Above Water (1996)', 'Hayride 2 (2015)', 'Hellhounds (2009)', 'And Now My Love (Toute une vie) (1974)', 'Tell Momma Not to Worry (2023)', 'A Girl Who Loves a Girl (2017)', 'Roar : The Most Dangerous Film Ever Made (2017)', 'Histoire(s) du cinéma (1988)', 'Garbage Prince (2011)', 'Stonewall (1995)', 'The Prodigies (2011)', 'Diorama (2022)', 'The Hard Case (1995)', 'The Year of the Shark (2022)', 'Love Field (1992)', 'A Wolf from Vesyegonsk (2004)', 'Boys Briefs 2 (2002)', 'Ask Bu Mu? (2018)', 'Dinocroc (2004)', 'Love Child (1982)', 'Delirium (2018)', 'Madame Satã (2002)', 'Step Across the Border (1990)', \"Mickey's Magical Christmas: Snowed in at the House of Mouse (2001)\", 'The Phone (2015)', 'Traveling Man (1989)', 'Subconscious Cruelty (2000)', 'Way of the Vampire (2005)', 'Black Night (2006)', 'Asfalto (2000)', 'Manny & Lo (1996)', 'Women Without Men (Zanan-e bedun-e mardan) (2009)', 'Dilly Loves Kitty (2022)', 'Opportunity Knocks (1990)', \"Alan Partridge's Scissored Isle (2016)\", 'Dave Attell: Road Work (2014)', 'Bad Grandmas (2017)', 'Mindfield (1989)', 'Seduction (1973)', 'The Periwig-Maker (1999)', 'Imago mortis (2009)', 'Four Bags Full (1956)', 'Sonicsgate: Requiem For A Team (2009)', 'Bunny Hugged (1951)', 'Warda (2014)', \"Pandora's Box (2002)\", 'Under the Electric Sky (2014)', \"Saturday's Warrior (1989)\", 'Red Beret, The (1953)', 'May the Devil Take You Too (2020)', 'Chocolate City (2015)', 'Women Who Passed My Way (2018)', 'Don Rickles: One Night Only (2014)', 'For Zeko (2022)', 'That Time of Year (2018)', 'Waylon: Renegade. Outlaw. Legend. (1990)', 'B.A. Pass (2013)', \"Just Another Pandora's Box (2010)\", 'Conscientious Objector, The (2004)', 'You Are My Home (2020)', 'The Arch (1969)', 'Story of Marie and Julien, The (Histoire de Marie et Julien) (2003)', 'The Eternal Jew (1940)', 'The Seance (2021)', 'Grapes 2 (2009)', 'Ko (2011)', 'Shadow Boxing 3. The Final Round (2011)', 'Lost in Paris (2017)', 'Happiness Is in the Field (Bonheur est dans le pré, Le) (1995)', 'Super Shark (2011)', 'Cattle Annie and Little Britches (1981)', 'The Unhanged (1971)', 'Rob Schneider: Soy Sauce and the Holocaust (2013)', 'Tough Ones, The (Häjyt) (1999)', 'American Commune (2013)', 'Kuxa Kanema: O Nascimento do Cinema (2003)', 'A Picture Perfect Wedding (2021)', 'Jordan Klepper Solves Guns (2017)', 'Night People (1954)', 'Anna Karenina (1997)', 'Power Play (1978)', 'Cry Wolf (1947)', 'A Different Kind of Christmas (1996)', 'Under the Roofs of Paris (Sous les toits de Paris) (1930)', 'Love by Design (2014)', 'Anders, jag och hans 23 andra kvinnor (2018)', '90 Miles (2005)', 'Fragments of an Alms-Film (Fragmentos de um Filme-Esmola: A Sagrada Família) (1972)', 'Artificial Paradises (2011)', 'City of Dead Men (2014)', 'Murder Me, Monster (2019)', 'Hail to the Deadites (2020)', 'After Hitler (2016)', 'Range Riders (1934)', 'No Deposit (2015)', 'Sunset Park (1996)', 'Persona 3 the Movie: #1 Spring of Birth (2013)', 'I, Anna (2012)', 'The Kid (1997)', '7aam Arivu (2011)', 'Bare Witness (2002)', 'J.R.R. Tolkien and the Birth Of \"The Lord of the Rings\" And \"The Hobbit\" (2013)', '16 Ans ou Presque (2013)', 'Honey 3 (2016)', 'Murder on the Campus (1933)', 'Habitual', 'The Covenant (2017)', 'Adventures of Felix, The (a.k.a. Funny Felix) (Drôle de Félix) (2000)', 'Treasure Island (1972)', 'Killing Jesus (2015)', 'Crystal Sky of Yesterday (2018)', '102 Not Out (2018)', 'Perfect Day (1929)', 'Tragic Jungle (2020)', 'Three Stooges Meet Hercules, The (1962)', 'Soldier of Fortune (1955)', 'Alien Seed (1989)', 'Rabid Love (2013)', 'Needle Park Baby (2020)', 'AWAKE (2020)', 'Decision (2011)', 'Amazing Love (2012)', \"Spirits' Homecoming (2016)\", 'The Lead (2020)', 'Kenner (1968)', 'Caught in a Cabaret (1914)', 'Eye Without a Face (2021)', 'Pedicab Driver (1989)', 'The Hunt For Bin Laden (2012)', 'Trade Tattoo (1937)', 'Punk Revolution NYC (2012)', 'Go, Go Second Time Virgin (Yuke yuke nidome no shojo) (1969)', \"The Good Witch's Garden (2009)\", 'Petals on the Wind (2014)', 'Grim (1995)', 'My Demon Lover (1987)', 'Sogni mostruosamente proibiti (1982)', 'Frank Zappa & The Mothers - Roxy - The Movie 1973 (2015)', 'Eating Animals (2017)', 'Christmas at the Palace (2018)', 'Black Watch, The (1929)', 'When We Dance (2019)', 'The Fire Rises: The Creation and Impact of The Dark Knight Trilogy (2013)', \"Night's Tightrope (2016)\", 'In My Blood It Runs (2019)', \"Almayer's Folly (2012)\", 'Good Old Daze (Le péril jeune) (1994)', 'Song for Martin, A (Sång för Martin, En) (2001)', 'Before Mars (2016)', \"No One's Son (2008)\", 'The Murder Clinic (1966)', \"Let's Go with Pancho Villa (1936)\", 'Susie, the Little Blue Coupe (1952)', \"Jon Imber's Left Hand (2014)\", 'Beautiful (2000)', 'Pulse (1988)', 'Sons of the Clouds: The Last Colony (2012)', 'The Gamechangers (2015)', 'Another Egg and Chicken Movie (2009)', 'The Quiet One (1948)', 'Life and Times of Hank Greenberg, The (1998)', 'April Is the Cruellest Month (1983)', 'Betrayal at Attica (2021)', 'Bridge to the Sun (1961)', 'The Search for Weng Weng (2013)', 'In Society (1944)', 'Conversion (2021)', 'Time for Killing, A (1967)', 'A Story of Children and Film (2013)', 'Post Truth (2023)', \"Our Father's Keeper (2020)\", 'Rhythm in the Clouds (1937)', 'Miracle on Everest (2008)', 'The Color of Lies (1999)', 'F_cking Bornholm (2022)', 'A Garibaldian in the Convent (1942)', 'The Adventures of Açela (2020)', 'What Every Frenchwoman Wants (1986)', \"Danse: The Paris Opera Ballet, La (La Danse - Le ballet de l'Opéra de Paris) (2009)\", 'Reckless (1984)', '1987 (2014)', 'Someday We’ll Tell Each Other Everything (2023)', 'Bombay Talkies (2013)', 'Cherchez la Femme (2017)', 'Strasbourg 1518 (2020)', 'A Bad Idea Gone Wrong (2017)', 'The Deerslayer (1957)', 'Business of Fancydancing, The (2002)', 'Box Office 3D - Il film dei film (2011)', 'A Desperate Crime (1906)', 'Fat Pizza (2003)', 'Feet First (1930)', 'Easy Money (1936)', 'All About My Sister (2020)', 'Ghosts of Hiroshima (2022)', 'Bruce Lee - The Fighter (2015)', 'Balupu (2013)', \"He's Convict Now (2005)\", 'Debi (2018)', 'Canary (2004)', 'Nobunaga Concerto: The Movie (2016)', 'Asylum of Satan (1972)', 'Beyond The Law (2019)', 'Once Upon a Time... (1990)', 'Cotton Mary (1999)', 'The Martial Arts Kid (2014)', 'Ray & Liz (2018)', 'The First Easter Rabbit (1976)', 'Love in Aruba (2021)', 'Lost in the Sun (2015)', 'Rat Trap (2011)', 'Parrot Heads (2017)', 'Winning Team, The (1952)', 'The Viking Queen (1967)', 'Resisting Roots (2022)', 'Nocturno 29 (1968)', 'SEE HEAR LOVE (2023)', 'Electra, My Love (Szerelmem, Elektra) (1974)', 'Little Boys (1986)', 'One in a Thousand (2020)', 'Wolf Town (2010)', 'Food Stamped (2010)', 'Are You Lonesome Tonight? (2021)', 'The End of Our Love (2003)', 'The Sacred Science (2011)', 'The Rat Pack (1998)', 'Becoming Burlesque (2019)', 'The Painter and the Pointer (1944)', 'Government Woman (2013)', 'Joseph Kilian (1963)', \"Cat's-Paw, The (1934)\", 'The Golden Boat (1990)', 'Plastic Disasters (2006)', 'Holiday for Drumsticks (1949)', 'Mudge Boy, The (2003)', \"Rubber's Lover (1996)\", \"For Love's Sake (2013)\", \"Jack's Apocalypse (2015)\", 'Nobody Walks in L.A. (2015)', 'The Windblown Hare (1949)', 'Pressure Cooker (2008)', 'The Bygone (2019)', 'Marriage on the Rocks (1965)', 'The Happening (1967)', 'Handymen, Handymen (1980)', 'Master Class: Ridley Scott (2017)', \"Granny O'Grimm's Sleeping Beauty (2008)\", 'Scare Campaign (2016)', \"Cookin' with Gags (1955)\", 'Lee Su-geun: The Sense Coach (2021)', 'The Be All and End All (2010)', 'Pigskin Parade (1936)', \"Don't Let Me Drown (2009)\", 'Barbie: Big City, Big Dreams (2021)', 'The Ranger, the Cook and a Hole in the Sky (1995)', 'Red Like the Sky (Rosso come il cielo) (2007)', '12 Suicidal Teens (2019)', 'Million Dollar Duck, The (a.k.a. $1,000,000 Duck) (1971)', 'Unremember (2019)', 'Atlantis: End of a World, Birth of a Legend (2011)', 'Die Nibelungen, Teil 2: Kriemhilds Rache (1967)', 'The Thief Of Baghdad (1961)', 'Getting Acquainted (1914)', '200 Pounds Beauty (2017)', 'Hopewell (2020)', 'George Benson: Absolutely Live (2000)', 'Lupin the Third: The Secret of Twilight Gemini (1996)', 'Map of the Sounds of Tokyo (2009)', 'To Be a Crook (1965)', 'Driving Lessons (2006)', 'Femina (1991)', 'Accumulator 1 (1994)', 'Who Killed Cock Robin (2017)', 'Badland Doves (2021)', 'Closed Curtain (2013)', \"Gracie's Choice (2004)\", 'My Father, Rua Alguem 5555 (2004)', 'House of Fury (2005)', 'Smooth Criminal Video Oficial', 'Still Raining, Still Dreaming (2009)', 'Spiral (2018)', 'Portuguese Vacation (1963)', 'Gone Mom: The Disappearance of Jennifer Dulos (2021)', 'Edge of Eternity (1959)', 'Aggie (2020)', 'Inferno of Torture (1969)', \"A Connecticut Yankee in King Arthur's Court (1949)\", 'Whoever Slew Auntie Roo? (1971)', 'Soldiers. Story from Ferentari (2018)', 'Inspiration (1949)', 'Alpha Rift (2021)', 'Natural Enemies (1979)', 'Games People Play: New York (2004)', 'Pretty Maids All in a Row (1971)', 'Phatik Chand (1983)', 'In Merry Measure (2022)', 'The Mule (2014)', 'Victory at Entebbe (1976)', 'Alienate (2016)', 'Beirut Hotel (2011)', 'Moving Target (1988)', '3/4 (2017)', 'Jackie Chan: My Story (1998)', \"Rosa Peral's Tapes (2023)\", 'El culo del mundo (2014)', 'Start-Up (2019)', 'Special Agent (1949)', 'Demon Hunter Makaryūdo (1989)', 'Sympathy for the Underdog (1971)', 'Into the Jungle (2018)', 'The Dark Avenger (1955)', 'PROBE: Unnatural Selection (1996)', \"The Beach Boys: Wouldn't It Be Nice (2005)\", 'Hero Dog: The Journey Home (2021)', 'Wolfhound of the Grey Dog Clan (2006)', 'Digging to Death (2021)', 'Ouija Japan (2021)', 'Psych:9 (2010)', \"Bruce Springsteen's Letter to You (2020)\", 'Legendary (2010)', 'Ask No Questions (2020)', 'The Challenge (2016)', 'Janie (1944)', 'Heart Like a Hand Grenade (2015)', 'Manmatha Leelai (2022)', 'Trainer on the Beach 2 (2008)', 'The Solar Film (1980)', 'Armored Car Robbery (1950)', 'Wodehouse In Exile (2013)', 'Maisie Goes to Reno (1944)', 'The House Across the Lake (1954)', 'India: Matri Bhumi (1959)', 'Days of Glory (1944)', 'Love is a Ball (1963)', 'The Death of Stalinism in Bohemia (1991)', 'Kings & Queen (Rois et reine) (2004)', 'Devil Hunters (1989)', 'Forky Asks a Question: What Is Art? (2019)', 'Sleepy Time Possum (1951)', 'Hour of the Star (1985)', '10th & Wolf (2006)', 'I Am Another You (2017)', 'Psychout for Murder (1969)', 'Sidewalks of New York (1931)', 'Virginia City (1940)', \"One Soldier's Story: The Journey of American Sniper (2015)\", 'Lan Yu (2001)', 'Seide (2015)', 'The Shooter (2013)', 'Menace from Outer Space (1956)', \"Don't Look Up (1996)\", 'Riot on Sunset Strip (1967)', 'Inside (2012)', 'So Normal (Normais, Os) (2003)', 'That Uncertain Feeling (1941)', 'And God Said to Cain (1970)', 'A Young Man With High Potential (2019)', 'Grace and Goliath (2018)', 'Cheat, The (1915)', 'Benji: Off the Leash! (2004)', 'Found Memories (2011)', 'The Wonder Ring (1955)', 'Royal Matchmaker (2018)', 'In Ya Blood (1971)', 'Ninja III: The Domination (1984)', 'My Perfect Romance (2018)', \"Mickey's Delayed Date (1947)\", 'White Skin Black Thighs (1976)', 'Why Knot (2014)', 'First Comes Love (2013)', 'Mademoiselle Paradis (2018)', 'The Phantom Speaks (1945)', 'FirstBorn (2016)', 'Wild Kratts: A Creature Christmas (2015)', \"They're Playing with Fire (1984)\", 'Life and Passion of Christ (1907)', 'Les Tuche 2 : Le Rêve Américain (2016)', 'Loose in a Caboose (1946)', 'Sacco and Vanzetti (Sacco e Vanzetti) (1971)', 'Vares: Tango of Darkness (2012)', \"Emma's Chance (2016)\", 'Confetti Harvest (2014)', 'Depeche Mode: Devotional (1993)', '7:20 Once a Week (2018)', 'Lynch (2007)', 'Past Shadows (2021)', 'Thelonious Monk: Straight, No Chaser (1988)', 'Skinheads USA: Soldiers of the Race War (1993)', 'Marrakech Express (1989)', 'Anything Goes (1956)', 'Girl From Nowhere, The (2012)', 'Attack of the Unknown (2020)', 'Highway 301 (1950)', 'Blue Ice (1992)', 'A Dash Through the Clouds (1912)', 'Lucky Day (2019)', 'Point and Shoot (2014)', 'Neurotic Quest for Serenity (2017)', 'Christmas Wonderland (2018)', 'Just Like a Woman (1992)', 'Mystery Island (2023)', 'Mountain Patrol (Kekexili) (2004)', 'Exhibit (2021)', 'The All-Around Reduced Personality: Outtakes (1978)', 'Seven Days to Live (2000)', \"A Vampire's Tale (2011)\", 'La sedia della felicità (2013)', 'The Beckoning Silence (2007)', 'What the Constitution Means to Me (2020)', 'Illuminated Texts (1982)', 'Ex-Patriot (2017)', 'The Hatching (2014)', 'Star Trek: 30 Years and Beyond (1996)', 'Sisters in Law (2005)', 'Merry Andrew (1958)', 'Harum Scarum (1965)', 'Lucky Partners (1940)', 'Escape in the Desert (1945)', 'Wu Tang Master (Tian shi zhuang xie) (1983)', 'Tokyo Rising (2020)', 'Necktie Youth (2015)', 'Jivaro (1954)', 'The Obsessed (1952)', \"John Leguizamo's Latin History for Morons (2018)\", 'Vinyl (2000)', 'Hunter Goes to Hollywood (2003)', 'First Family (1980)', 'Never Cry Werewolf (2008)', 'Inner Demons (2014)', 'Fukrey 3 (2023)', 'The Boxer from the Temple (1979)', 'B Girl Rhapsody (1952)', 'The Strange Ones (2017)', 'Half Brother (2018)', 'Death of a Nation (2018)', 'Rory Scovel Tries Stand-Up for the First Time (2017)', 'Meanwhile (2011)', 'The Fake (1953)', 'Sherlock Holmes Baffled (1900)', 'You Will Be Mine (2009)', 'Hádkovi (2022)', 'More Than Family (2020)', 'Bartholomew Versus the Wheel (1964)', 'Dust (2018)', 'Punk in London (1977)', 'Death to Metal (2018)', 'Revenge (1964)', 'The Projectionist (2019)', 'Seventh Brother, The (A hetedik testvér) (1995)', 'Garfield In Paradise (1986)', 'Seduction & Snacks (2021)', \"'Neath the Arizona Skies (1934)\", 'This Is Andromeda (2016)', 'Wall Of Secrets (2003)', 'Close-Up (1948)', 'It Started in Naples (1960)', 'Charlie Chan in Shanghai (1935)', 'Cold Turkey (2013)', 'Knifepoint (2011)', 'Devilfish (1984)', 'Hormigas (2019)', 'Poliisin Poika (1998)', 'Kayla (2019)', 'Leech Woman, The (1960)', 'Kabukicho Love Hotel (2015)', 'The Queen Was in the Parlor (1932)', 'Who Is Cletis Tout? (2001)', 'Greyfriars Bobby (a.k.a. Greyfriars Bobby: The True Story of a Dog) (1961)', \"I'm Not Here\", 'Ayúdame a vivir (1936)', 'Buried: The 1982 Alpine Meadows Avalanche (2022)', 'The Aurora Encounter (1986)', 'Stressed To Death (2019)', 'The Fish That Saved Pittsburgh (1979)', 'Dante 01 (2008)', 'Raven Song (2022)', 'Bigfoot (2008)', 'The Rats (2002)', 'Billy Gardell: Halftime (2011)', 'The Man in the Woods (2020)', 'Région centrale, La (1971)', \"Pigeon's Milk (2021)\", 'A Corsican Summer (2022)', 'El crack dos (1983)', 'Escapes (2017)', 'Edge of the Knife (2018)', 'Thundercrack! (1975)', 'The Devil Is Driving (1932)', 'Café solo o con ellas (2007)', '#SCREAMERS (2016)', 'Innocence (2011)', 'Fractals: The Colors Of Infinity (1996)', \"Everything's Gone Green (2005)\", 'Elcano & Magellan: The First Voyage Around the World (2019)', 'Miss Sharon Jones! (2015)', 'Buzkashi Boys (2012)', 'Louis Theroux: Louis and the Nazis (2003)', 'Dogpound Shuffle (1975)', 'Four Sisters Before the Wedding (2020)', 'El cine libertario: cuando las películas hacen historia (2010)', 'Popstar (2005)', '3: The Dale Earnhardt Story (2004)', 'I Want to Be A Pilot (2006)', 'Dickshark (2016)', 'Buffalo Rider (2015)', \"A Dogwalker's Christmas Tale (2015)\", 'Terug Naar Morgen (2015)', 'Private Collections (1979)', 'The Beniker Gang (1985)', 'Dr. Black, Mr. Hyde (1976)', 'The Scandalous Lady W (2015)', 'Hitler: The Last Ten Days (1973)', 'White Rose Campus: Then Everybody Gets Raped (1982)', 'Edge of the Woods (2015)', 'Sky Line (2015)', 'Irene in Time (2009)', 'Instant Swamp (2009)', 'The Fixies: Top Secret (2017)', 'Ave (2011)', 'Forever Female (1954)', 'Bill W. (2012)', \"The Man Putin Couldn't Kill (2021)\", 'Dimensions (2011)', 'Trailer Park Boys: Live at the North Pole (2014)', 'Sleepwalking Land (2008)', \"You Don't Choose Your Family (2011)\", 'Legend of the Doll (2006)', 'Warning Shot (1967)', 'Straight Outta LA (2010)', 'Mommy (1995)', 'Monkey Grip (1982)', 'Quiet Chaos (Caos calmo) (2008)', 'Bad Roomies (2015)', 'The Legend of Till (1977)', 'Bright Leaves (2003)', 'Borderline (2008)', 'Silent Witnesses (2023)', 'AmericanEast (2008)', 'Just in Time for Christmas (2015)', 'This Is Not a Test (2009)', 'Amish: A Secret Life (2012)', 'Arne Dahl: The Europe Blues (2012)', 'About an Age (2018)', 'Carmen (1915)', 'Tit-for-Tat (1906)', 'Finding Jesus 2 (2021)', 'Blackbird (2007)', 'Eat That Question: Frank Zappa in His Own Words', 'Love at Sunset Terrace (2020)', 'Slam Dance (1987)', 'Keep Smiling, Mom! (2022)', 'The Mechanical Monsters (1941)', \"The Good Witch's Destiny (2013)\", 'Fly Away (2011)', 'School For Scoundrels (1960)', 'Hello Again (1987)', 'Winter Song (2015)', 'Dawn of an Evil Millennium (1988)', 'Kippur (2000)', \"Foyle's War - War Games (2003)\", 'Ah Boys To Men (Part 1) (2012)', 'No Hunting (1955)', 'Madeleine (1950)', 'Slap the Monster on Page One (1972)', 'Lilly the Witch: The Journey to Mandolan (2011)', 'Black Swan, The (1942)', 'The Fighting Musketeers (1961)', 'Malatesta (1970)', 'Birds Like Us (2017)', 'Gokusen The Movie (2009)', 'Beau Geste (1966)', 'The Man Who Saw Frankenstein Cry (2010)', 'The Christmas Cottage (2017)', 'O Fim do Mundo (2019)', 'Hamtaro: The Captive Princess (2002)', 'Last Lovecraft: Relic of Cthulhu, The (2009)', 'The Sixth Secret (2022)', 'Christmas for Teddy (2022)', 'Throw Away Your Books, Rally in the Streets (1971)', 'The Midnight Man (1974)', 'Thr3e (Three) (2006)', 'Stoogemania (1986)', 'The Etruscan Smile (2018)', 'The Hitchhiker (2007)', 'The Criminal Mind (1993)', 'Spring Night, Summer Night (1967)', 'Karthik Calling Karthik (2010)', 'In the Country of Last Things (2020)', 'Düttürü Dünya (1988)', 'Under the Hood (2009)', 'Malice in the Palace (1949)', 'Cruelty (2007)', 'Svensson, Svensson - I nöd och lust (2011)', \"Sharon's Baby (1975)\", 'Asfour Stah (1990)', 'The Roller Blade Seven (1991)', 'Laughing Gravy (1931)', 'Girl, The (Flickan) (2009)', \"My Best Friend's Famous (2019)\", 'Seasons... (2002)', 'I Got Five on It (2005)', 'Bucking Broadway (1917)', 'Beyond the Fire (2009)', 'Dark Amazon (2014)', \"Alabama's Ghost (1973)\", 'The Roof (1956)', 'On Demande une Brute (1934)', 'Joke Man (2023)', 'My Sister Eileen (1955)', 'All I Can (2011)', 'Uno bianca (2001)', 'Skin Deep (1989)', 'Hold Me Back (2020)', 'Horrors of the Black Museum (1959)', \"Hubble's Cosmic Journey (2015)\", 'marg mahi (2016)', 'Supporting Characters (2012)', 'Winter Solstice (2003)', 'ManFish (2022)', 'Maxed Out: Hard Times, Easy Credit and the Era of Predatory Lenders (2006)', \"It's Hard to Be Nice (2007)\", 'Shamshera (2022)', 'Abbott and Costello Meet Captain Kidd (1952)', 'The Little House (2014)', 'Charm (2013)', 'Endukante Premanta (2012)', 'Mynarski Death Plummet (2014)', 'Maze (2000)', 'Francuski Numer (2006)', 'Samurai Cop 2: Deadly Vengeance (2015)', 'Sex Guaranteed (2017)', 'Phar Lap (1983)', 'The Girl with a Pistol (1968)', 'The Lone Wolf Returns (1935)', 'Ode to the Dawn of Man (2011)', \"Love's Unending Legacy (2007)\", 'Francofonia (2015)', 'Another Nice Mess (1972)', 'A Colbert Christmas: The Greatest Gift of All! (2008)', 'Redskin Blues (1932)', 'From Hand to Mouth (1919)', 'X-Paroni (1964)', 'Lucky Ducky (1948)', 'Life After The Navigator (2020)', 'Timerider: The Adventure of Lyle Swann (1982)', 'Desire Under the Elms (1958)', 'Just a Gigolo (2019)', 'Stagecoach: The Texas Jack Story (2016)', 'Steven Banks: Home Entertainment Center (1989)', 'Here Is My Heart (1934)', \"Nantucket Film Festival's Comedy Roundtable (2012)\", \"L7: Pretend We're Dead (2017)\", 'Courtship (1987)', 'Loving Ibiza (2013)', 'Diary of a Sex Addict (2001)', 'The Void (2001)', 'Bizarre (2015)', 'A Very Merry Toy Store (2017)', 'Here Come the Co-eds (1945)', 'Robin Williams: A Night at the Met (1986)', 'Saved by the Belle (1939)', 'Leal (2018)', 'The Last 10 Years (2022)', 'Lake Consequence (1993)', 'The Yakuza Papers, Vol. 4: Police Tactics (1974)', 'Flicka 2 (2010)', 'Louisa (1950)', \"Life's a Breeze (2013)\", 'Ace of Hearts (2008)', 'Outlaw: Gangster VIP (1968)', 'Teenage Caveman (2002)', 'A Date in 2025 (2017)', '2037 (2022)', 'Sting of Death (1966)', 'Cut Loose (2008)', 'Lucky and Zorba (1998)', 'Tokyo Woes (1945)', 'Louis Theroux: A Different Brain (2016)', 'The Country Cousin (1936)', 'Decision at Sundown (1957)', 'The Children (1985)', \"Pamela's Prayer (1998)\", 'We Are Not Angels 3: Rock & Roll Strike Back (2006)', 'Le Mac (2010)', 'Rampage (1987)', 'Monuments (2021)', 'Bye Bye Birdie (1995)', 'Undertaker and His Pals, The (1966)', 'A Tiger With No Stripes (2018)', 'The Mozart of Pickpockets (2006)', 'Is Anybody There? (2008)', 'Hired Killer (1966)', 'Everlasting Love (2014)', 'Brass Target (1978)', 'Breaking the Limits (2017)', 'Accidental Truth: UFO Revelations (2023)', 'Beck 40 - Beyond Reasonable Doubt (2020)', 'Девушки бывают разные (2019)', 'Robert Kelly: Live at the Village Underground (2014)', 'City of Violence, The (Jjakpae) (2006)', 'The Stringer (1998)', 'Slash (2002)', 'Gray Man, The (2007)', 'Rosebud Baker: Whiskey Fists (2021)', 'Mad God: Part 3 (2018)', 'A Christmas Dance Reunion (2021)', 'Cold Meridian (2020)', 'Never Steady, Never Still (2017)', 'Commandos (1968)', 'Mackie Messer - Brechts Dreigroschenfilm (2018)', 'Namo OK (2014)', 'The Mongolian Connection (2019)', 'Reggie Watts: Spatial (2016)', 'Mountain Miracle (2017)', \"Let's Make a Dream (1936)\", 'The Office (1966)', 'Gli idoli delle donne (2022)', 'Robbery Under Arms (1957)', 'Haikyuu!!: vs. Akaten (2016)', 'Lover of the Last Empress (1995)', 'Abbi fede (2022)', 'Little Baby', \"It's a Wonderful Afterlife (2010)\", 'The Keeper (1976)', 'Fever Dream (2021)', 'We All Scream for Ice Cream (2007)', 'The Long Way Home (1998)', \"Fishes 'n Loaves: Heaven Sent (2016)\", 'Fortunes of Captain Blood (1950)', 'Ivan the Incredible (2012)', 'Susan Lenox (Her Fall and Rise) (1931)', '.hack//G.U. Trilogy (2007)', 'Okresní přebor - Poslední zápas Pepika Hnátka (2012)', 'Paappan (2022)', 'Sune på bilsemester (2013)', 'Russell Peters: Red, White and Brown (2008)', 'Adelheid (1970)', 'Seminary Girls (1897)', 'All American Orgy (Cummings Farm) (2009)', 'Sudigaadu (2012)', 'Dusk (2016)', 'Arrowsmith (1931)', 'David Copperfield (2000)', 'An Eternal Combat (1991)', 'Me, Myself and Mum (Les garçons et Guillaume, à table!) (2013)', 'The Thin Pink Line (1998)', 'Hard, Fast and Beautiful (1951)', 'Ramaiya Vastavaiya (2013)', 'The Rebel (1961)', 'Mortal Kombat: The Journey Begins (1995)', 'Josée (2020)', 'Love God?, The (1969)', 'Loco Love (2017)', 'Kadakh (2020)', 'Gerhard Richter Painting (2012)', 'Colorado Avenue (2007)', 'Mal de Ojo (2022)', 'Backstairs (Hintertreppe) (1921)', 'Rugged Bear (1953)', 'Lion Down (1951)', \"Knock Knock, It's Tig Notaro (2015)\", 'When Whales Walked: Journeys in Deep Time (2019)', 'Homerun (2003)', 'Men with Brooms (2002)', 'Desperation Road (2023)', 'The Daughter (2016)', 'Holiday for Heroes (2019)', 'Thanks, Smokey! (2011)', 'The Viking Sagas (1995)', 'Invasion (1969)', 'Barefoot Gen 2 (Hadashi no Gen II) (1986)', 'Lapse of Memory (1991)', 'Rise of the Machine Girls (2019)', \"You Ain't Seen Nothin' Yet (Vous n'avez encore rien vu) (2012)\", 'Girl From Paris, A (hirondelle a fait le printemps, Une) (2001)', 'A Greater Yes: The Story of Amy Newhouse (2009)', 'Ugramm (2014)', 'Creative Control (2015)', 'Cyrus: Mind of a Serial Killer (2010)', \"Maigret's Dead Man (2016)\", 'Romantic Warriors (2003)', 'Temps (2016)', 'The Thirsty Dead (1974)', 'Fire (2020)', 'Hawk Jones (1986)', 'Trick or Treat (2019)', 'Dragon Rapide (1986)', 'Whoops! (1955)', 'Those Who Are Fine (2017)', 'Young Torless (1966)', 'Working Slowly (2004)', 'Question of Silence, A (De stilte rond Christine M.) (1982)', 'Endless Summer 2, The (1994)', 'Tench (2020)', \"A Midsummer's Hawaiian Dream (2016)\", 'Android Cop (2014)', 'Bulldog Drummond Escapes (1937)', 'The Unseeable (2006)', 'Criminal Code, The (1931)', 'Kleines Arschloch - Der Film (1997)', 'Life After Flash (2017)', 'Growing Op (2008)', 'Miracle in the Rain (1956)', \"I'm No Fool with a Bicycle (1956)\", 'Bitter Sugar (Azúcar amarga) (1996)', '10.0 Earthquake (2014)', 'Blood of the Dragon Peril (1980)', 'What Love Is (2007)', 'Siegfried & Roy: The Magic Box (1999)', 'Quest for a Heart (Röllin sydän) (2007)', 'DarkWolf (2003)', 'Twinsanity (2018)', 'The Strange Disappearance of Comrade Kuliakov (2022)', 'Lajkó - Gypsy in space (2018)', 'Recursion (2018)', 'Portrait of Kaye (2021)', \"Apocalypse '45 (2020)\", 'Kurosawa and the Censors (2007)', 'Golden Bowl, The (2000)', 'The Living World (2003)', 'Wishing Box (2017)', 'Cade: The Tortured Crossing (2023)', \"Don't Kill It (2017)\", 'In Other Words (2020)', 'Seal Team Eight: Behind Enemy Lines (2014)', 'The Mighty Angel (2014)', 'April (1961)', 'Disconnect. Reconnect (2013)', 'The Undressing (1986)', 'Seven Sweethearts (1942)', 'Vampire, The (1957)', 'Speed Demon (2003)', 'King of Fighters, The (2010)', 'Dope Sick Love (2005)', 'Hidden in America (1996)', 'Untitled (For Marilyn) (1992)', 'The Best of Enemies (1961)', 'The Butcher (1998)', 'Circus of Horrors (1960)', 'Verlengd Weekend (2005)', 'One Billion Happy People (2011)', 'Nobody Wants the Night (2015)', 'Lost Child (2018)', 'The Ice Forest (2014)', 'Single Santa Seeks Mrs. Claus (2004)', 'National Theatre Live: London Assurance (2010)', 'Back to 1942 (2012) ', 'Washington Heights (2002)', 'Jewel (2001)', 'Okinawa Rendez-vous (2000)', 'Diana: In Her Own Words (2017)', 'Aayitha Ezhuthu (2004)', 'A Tale of Two Kitties (1942)', 'Love So Divine (2004)', \"Blondie's Secret (1948)\", 'Breakthrough (2005)', 'Listen to Me (1989)', 'No Way to Live (2016)', 'In God We Tru$t (1980)', 'The Cook (2008)', 'Scared to Death (1947)', 'Savage Messiah (2002)', 'Stronger Than Love (1955)', \"Love Hurt's (2002)\", 'Rudolf the Black Cat (2016)', 'Replay (2001)', 'The Dilemma of Desire (2020)', 'Nina (2016)', 'Parosh Pathar (1958)', 'The Diam Diam Era (2020)', 'Nora Prentiss (1947)', 'Triangle (Tie saam gok) (2007)', 'The Girl at the Ironing Board (1934)', 'Fidel (1971)', 'Sleeping Dogs (1977)', 'Gray Matters (2006)', 'Azazel (2002)', 'Merry & Bright (2019)', 'Living Still Life (2014)', 'Hillwalkers (2022)', 'The Way of the Househusband: The Movie (2022)', 'The Terrible Adventure (2021)', 'Shaka Zulu (1986)', 'Tamara (2016)', 'Banana (2015)', 'Killer Buzz (2001)', 'All Governments Lie: Truth, Deception, and the Spirit of I.F. Stone (2016)', 'Five Dedicated to Ozu (2003)', 'Umut (2009)', 'Anita (2021)', 'Christmas Belle (2013)', 'Knockabout (1979)', 'The Gates (2008)', 'Happy New York (1997)', 'Beggars in Ermine (1934)', 'The Bond (1918)', 'Les grands sentiments font les bons gueuletons (1973)', 'Candy Stripe Nurses (1974)', 'Laaga Chunari Mein Daag: Journey of a Woman (2007)', 'What Lucia Saw (2022)', 'The Least of These (2019)', 'The Promise (2016)', 'Finding Momo (2017)', 'Perfect Hideout (2008)', 'No Need to Grieve (2010)', 'Dear Future Children (2021)', \"Other People's Children (2015)\", 'Going Under (2004)', 'Boys Over Flowers: Final (2008)', 'Black Magic M-66 (1987)', 'Kenji Mizoguchi: The Life of a Film Director (Aru eiga-kantoku no shogai) (1975)', 'Socialphobia (2015)', 'Pernicious (2015)', 'Mystical Lumberjack (2019)', 'Monster & Me (2013)', 'KONTORA (2021)', 'Phi Slama Jama (2016)', 'The Father (2020)', 'David Parker Ray: The Toy Box Killer (2019)', \"The Tree's Knees (1931)\", 'The Terence Davies Trilogy (1983)', 'My Little Chickadee (1940)', 'The Unfolding (2015)', 'Secrets In The Snow (2013)', 'Supernova (2019)', 'The Lady Consents (1936)', 'Most Dangerous Man in America: Daniel Ellsberg and the Pentagon Papers, The (2009)', 'Tatu and Patu (2016)', 'Vicini di casa (2022)', 'Agnes Joy (2019)', 'Sueno (2005)', 'Chasing Madoff (2010)'}\n",
            "4111\n"
          ]
        }
      ]
    },
    {
      "cell_type": "markdown",
      "metadata": {
        "id": "Vmx1YZmTUUGG"
      },
      "source": [
        "We see that a few movies are not rated in the train set. For those movies, it is hard to predict their ratings accurately."
      ]
    },
    {
      "cell_type": "markdown",
      "source": [
        "---\n",
        "## Data Load and Batching"
      ],
      "metadata": {
        "id": "Rlhi4ocr4iOD"
      }
    },
    {
      "cell_type": "markdown",
      "source": [
        "Use GPU if available."
      ],
      "metadata": {
        "id": "3JEV5wxk5h0t"
      }
    },
    {
      "cell_type": "code",
      "source": [
        "import torch\n",
        "device = torch.device(\"cuda:0\" if torch.cuda.is_available() else \"cpu\")"
      ],
      "metadata": {
        "id": "fU4OIArA5iyb"
      },
      "execution_count": null,
      "outputs": []
    },
    {
      "cell_type": "markdown",
      "source": [
        "We define a function to return a triplet of user_num, item_num, rating from the dataframe."
      ],
      "metadata": {
        "id": "za-dIdY45tpa"
      }
    },
    {
      "cell_type": "code",
      "source": [
        "\n",
        "def df_2_tensor(df, device):\n",
        "    # Ensure correct column names are used\n",
        "    user_num = np.asarray(df['user_num'])\n",
        "    movie_num = np.asarray(df['movie_num'])\n",
        "    rating = np.asarray(df['rating'])\n",
        "\n",
        "    # Convert to PyTorch tensors and move to the specified device\n",
        "    return (\n",
        "        torch.from_numpy(user_num).to(device),\n",
        "        torch.from_numpy(movie_num).to(device),\n",
        "        torch.from_numpy(rating).to(device)\n",
        "    )\n"
      ],
      "metadata": {
        "id": "rTH6WwwRHIkr"
      },
      "execution_count": null,
      "outputs": []
    },
    {
      "cell_type": "markdown",
      "source": [
        "Below, we construct 3 tensors containing the `user_num`, `item_num` and `rating` for the training set. All tensors have the same shape so that `train_user_num[i]` watched `train_item_num[i]` and gave a rating of `train_rating[i]`."
      ],
      "metadata": {
        "id": "-v3Bjgyt5VjV"
      }
    },
    {
      "cell_type": "code",
      "source": [
        "train_user_num, train_item_num, train_rating = df_2_tensor(ratings_train,device)"
      ],
      "metadata": {
        "id": "XPRBxFWX5Uwy"
      },
      "execution_count": null,
      "outputs": []
    },
    {
      "cell_type": "markdown",
      "source": [
        "We now do the same thing for the validation and test sets."
      ],
      "metadata": {
        "id": "uJwGxZFH5emq"
      }
    },
    {
      "cell_type": "code",
      "source": [
        "val_user_num, val_item_num, val_rating = df_2_tensor(ratings_val,device)\n",
        "test_user_num, test_item_num, test_rating = df_2_tensor(ratings_test,device)"
      ],
      "metadata": {
        "id": "UWMHCQ0V5ZSt"
      },
      "execution_count": null,
      "outputs": []
    },
    {
      "cell_type": "markdown",
      "source": [
        "Now you need to construct a dataset and a dataloader. For this, you can define a first function taking as arguments the tensors defined above and returning a list (Hint: you may use the [zip function](https://www.w3schools.com/python/ref_func_zip.asp)); then a second function taking as argument a dataset, the batchsize and a boolean for the shuffling."
      ],
      "metadata": {
        "id": "LgoPPq9c5A7K"
      }
    },
    {
      "cell_type": "markdown",
      "source": [
        "**Exercise**: Filling in the missing code below to construct dataset and dataloader."
      ],
      "metadata": {
        "id": "FuM5hsyldlfe"
      }
    },
    {
      "cell_type": "code",
      "source": [
        "def tensor_2_dataset(user,item,rating):\n",
        "    # your code here\n",
        "    # Hint: check the zip function\n",
        "    return list(zip(user,item,rating))\n",
        "\n",
        "def make_dataloader(dataset,bs,shuffle):\n",
        "    # your code here\n",
        "    return torch.utils.data.DataLoader(dataset,batch_size=bs,shuffle=shuffle)"
      ],
      "metadata": {
        "id": "fYYeRdVe5ALx"
      },
      "execution_count": null,
      "outputs": []
    },
    {
      "cell_type": "code",
      "source": [
        "train_dataset = tensor_2_dataset(train_user_num,train_item_num, train_rating)\n",
        "val_dataset = tensor_2_dataset(val_user_num,val_item_num,val_rating)\n",
        "test_dataset = tensor_2_dataset(test_user_num, test_item_num, test_rating)"
      ],
      "metadata": {
        "id": "AU-xgyto5Gyh"
      },
      "execution_count": null,
      "outputs": []
    },
    {
      "cell_type": "markdown",
      "source": [
        "Load the train, validation, and test data in batchs of size 1024."
      ],
      "metadata": {
        "id": "610dw-Uo5dIn"
      }
    },
    {
      "cell_type": "code",
      "source": [
        "train_dataloader = make_dataloader(train_dataset,1024,True)\n",
        "val_dataloader = make_dataloader(val_dataset,1024, False)\n",
        "test_dataloader = make_dataloader(test_dataset,1024,False)"
      ],
      "metadata": {
        "id": "GJQOXjWX5ODw"
      },
      "execution_count": null,
      "outputs": []
    },
    {
      "cell_type": "markdown",
      "metadata": {
        "id": "Q7JF-d05UUGc"
      },
      "source": [
        "---\n",
        "## The model\n",
        "\n"
      ]
    },
    {
      "cell_type": "code",
      "execution_count": null,
      "metadata": {
        "id": "tsrfFi1QUUGd"
      },
      "outputs": [],
      "source": [
        "import torch.nn as nn\n",
        "import torch.nn.functional as F\n",
        "import torch.optim as optim"
      ]
    },
    {
      "cell_type": "markdown",
      "metadata": {
        "id": "HpkKu7PVUUGp"
      },
      "source": [
        "We will use some custom embeddings defined as below."
      ]
    },
    {
      "cell_type": "code",
      "execution_count": null,
      "metadata": {
        "id": "eB6_y1nMUUGq"
      },
      "outputs": [],
      "source": [
        "class ScaledEmbedding(nn.Embedding):\n",
        "    \"\"\"\n",
        "    Embedding layer that initialises its values\n",
        "    to using a normal variable scaled by the inverse\n",
        "    of the embedding dimension.\n",
        "    \"\"\"\n",
        "    def reset_parameters(self):\n",
        "        \"\"\"\n",
        "        Initialize parameters.\n",
        "        \"\"\"\n",
        "\n",
        "        self.weight.data.normal_(0, 1.0 / self.embedding_dim)\n",
        "        if self.padding_idx is not None:\n",
        "            self.weight.data[self.padding_idx].fill_(0.0)\n",
        "\n",
        "\n",
        "class ZeroEmbedding(nn.Embedding):\n",
        "    \"\"\"\n",
        "    Used for biases.\n",
        "    \"\"\"\n",
        "\n",
        "    def reset_parameters(self):\n",
        "        \"\"\"\n",
        "        Initialize parameters.\n",
        "        \"\"\"\n",
        "\n",
        "        self.weight.data.zero_()\n",
        "        if self.padding_idx is not None:\n",
        "            self.weight.data[self.padding_idx].fill_(0.0)"
      ]
    },
    {
      "cell_type": "markdown",
      "source": [
        "### Creating Our Own Embedding Module\n",
        "\n",
        "Now, we define the `Model_dot`(class to represents users and items. It's composed of a 4 `embedding` layers:\n",
        "\n",
        "- a `(num_users x latent_dim)` embedding layer to represent users,\n",
        "- a `(num_items x latent_dim)` embedding layer to represent items,\n",
        "- a `(num_users x 1)` embedding layer to represent user biases, and\n",
        "- a `(num_items x 1)` embedding layer to represent item biases.\n",
        "\n",
        "\n",
        "\n",
        "\n",
        "\n"
      ],
      "metadata": {
        "id": "cZdXB0ieIv2J"
      }
    },
    {
      "cell_type": "markdown",
      "source": [
        "**Exercise**: Fill the missing code to define the embeddings."
      ],
      "metadata": {
        "id": "s0F7EJoz7jbJ"
      }
    },
    {
      "cell_type": "code",
      "execution_count": null,
      "metadata": {
        "id": "ktXRW3-4UUGt"
      },
      "outputs": [],
      "source": [
        "class DotModel(nn.Module):\n",
        "\n",
        "    def __init__(self,\n",
        "                 num_users,\n",
        "                 num_items,\n",
        "                 embedding_dim=32):\n",
        "\n",
        "        super(DotModel, self).__init__()\n",
        "\n",
        "        self.embedding_dim = embedding_dim\n",
        "\n",
        "        # TODO: generate user and item embeddigns using ScaledEmbedding\n",
        "        # your code\n",
        "        self.user_embeddings = ScaledEmbedding(num_users, embedding_dim)\n",
        "        self.item_embeddings = ScaledEmbedding(num_items, embedding_dim)\n",
        "\n",
        "        # TODO: generate bias embeddigns using ZeroEmbedding\n",
        "        # your code\n",
        "        self.user_biases = ZeroEmbedding(num_users, 1)\n",
        "        self.item_biases = ZeroEmbedding(num_items, 1)\n",
        "\n",
        "\n",
        "    def forward(self, user_ids, item_ids):\n",
        "        #\n",
        "        # your code\n",
        "        #\n",
        "        user_embedding = self.user_embeddings(user_ids)\n",
        "        item_embedding = self.item_embeddings(item_ids)\n",
        "\n",
        "        user_bias = self.user_biases(user_ids).squeeze()\n",
        "        item_bias = self.item_biases(item_ids).squeeze()\n",
        "\n",
        "        dot = torch.mul(user_embedding, item_embedding).sum(1)\n",
        "        res = dot + user_bias + item_bias\n",
        "\n",
        "        return res"
      ]
    },
    {
      "cell_type": "markdown",
      "source": [
        "Note that in the above code, we use [`torch.mul`](https://pytorch.org/docs/stable/generated/torch.mul.html), which performs an elementwise multiplication with broadcasting."
      ],
      "metadata": {
        "id": "kAX6B4mRwhzQ"
      }
    },
    {
      "cell_type": "code",
      "execution_count": null,
      "metadata": {
        "id": "PlbbwU1ze5d7"
      },
      "outputs": [],
      "source": [
        "net = DotModel(total_user_id,total_item_id).to(device)"
      ]
    },
    {
      "cell_type": "code",
      "source": [
        "net"
      ],
      "metadata": {
        "colab": {
          "base_uri": "https://localhost:8080/"
        },
        "id": "Qr2Dwbgz8D7C",
        "outputId": "bcbdc061-99ae-4e13-e4fa-b0e1412c361a"
      },
      "execution_count": null,
      "outputs": [
        {
          "output_type": "execute_result",
          "data": {
            "text/plain": [
              "DotModel(\n",
              "  (user_embeddings): ScaledEmbedding(14301, 32)\n",
              "  (item_embeddings): ScaledEmbedding(51858, 32)\n",
              "  (user_biases): ZeroEmbedding(14301, 1)\n",
              "  (item_biases): ZeroEmbedding(51858, 1)\n",
              ")"
            ]
          },
          "metadata": {},
          "execution_count": 45
        }
      ]
    },
    {
      "cell_type": "markdown",
      "metadata": {
        "id": "ysX9Q9pxiMG4"
      },
      "source": [
        "Now we check your network by taking  a batch from train loader."
      ]
    },
    {
      "cell_type": "code",
      "source": [
        "batch_user, batch_item, batch_rating = next(iter(train_dataloader))\n",
        "batch_user, batch_item, batch_rating = batch_user.to(device), batch_item.to(device), batch_rating.to(device)"
      ],
      "metadata": {
        "id": "RLdCbCnzB2S-"
      },
      "execution_count": null,
      "outputs": []
    },
    {
      "cell_type": "code",
      "execution_count": null,
      "metadata": {
        "colab": {
          "base_uri": "https://localhost:8080/"
        },
        "id": "I20UhBLZjBEs",
        "outputId": "d19b8abe-f3c0-459f-9f1b-0c7e91d27538"
      },
      "outputs": [
        {
          "output_type": "execute_result",
          "data": {
            "text/plain": [
              "torch.Size([1024])"
            ]
          },
          "metadata": {},
          "execution_count": 47
        }
      ],
      "source": [
        "predictions = net(batch_user, batch_item)\n",
        "predictions.shape"
      ]
    },
    {
      "cell_type": "markdown",
      "source": [
        "We will use MSE loss defined below:"
      ],
      "metadata": {
        "id": "Dnmsgb3SJc_M"
      }
    },
    {
      "cell_type": "code",
      "source": [
        "def regression_loss(predicted_ratings, observed_ratings):\n",
        "    return ((observed_ratings - predicted_ratings) ** 2).mean()"
      ],
      "metadata": {
        "id": "TXXAisyw8L7i"
      },
      "execution_count": null,
      "outputs": []
    },
    {
      "cell_type": "code",
      "source": [
        "loss=regression_loss(predictions,batch_rating)"
      ],
      "metadata": {
        "id": "l38_kUO38Qn7"
      },
      "execution_count": null,
      "outputs": []
    },
    {
      "cell_type": "code",
      "source": [
        "loss"
      ],
      "metadata": {
        "colab": {
          "base_uri": "https://localhost:8080/"
        },
        "id": "FZ3T-Ucv8yUK",
        "outputId": "3ff916a9-86a0-4368-af1b-6e70aa2c4526"
      },
      "execution_count": null,
      "outputs": [
        {
          "output_type": "execute_result",
          "data": {
            "text/plain": [
              "tensor(13.1639, device='cuda:0', dtype=torch.float64, grad_fn=<MeanBackward0>)"
            ]
          },
          "metadata": {},
          "execution_count": 50
        }
      ]
    },
    {
      "cell_type": "markdown",
      "source": [
        "## Train and test the model"
      ],
      "metadata": {
        "id": "aMYwouCb884T"
      }
    },
    {
      "cell_type": "markdown",
      "source": [
        "Now we define `FactorizationModel` class  that allows us to train and evaluate the explicit factorization models.\n"
      ],
      "metadata": {
        "id": "mhJebD7X9v6Z"
      }
    },
    {
      "cell_type": "markdown",
      "metadata": {
        "id": "wz1h-gG-V1DX"
      },
      "source": [
        "- The `fit` function should take as argument a dataloader for the training and a dataloader for the validation. At the end of each epoch, you run the test method on the validation set. Then you print both the loss on the training set and on the validation set to see if you are overfitting.\n",
        "\n",
        "- Weight decay, or *L2 regularization*, consists in adding to your loss function the sum of all the weights squared. Why do that? Because when we compute the gradients, it will add a contribution to them that will encourage the weights to be as small as possible."
      ]
    },
    {
      "cell_type": "markdown",
      "source": [
        "**Exercise**: Filling in the missing code below to complete the training pass and validation pass."
      ],
      "metadata": {
        "id": "jyGx-MznEqk2"
      }
    },
    {
      "cell_type": "code",
      "execution_count": null,
      "metadata": {
        "id": "2ekPPr7SUUG7"
      },
      "outputs": [],
      "source": [
        "class FactorizationModel(object):\n",
        "\n",
        "    def __init__(self, embedding_dim=32, n_iter=10, l2=0.0,\n",
        "                 learning_rate=1e-2, device=device, net=None, num_users=None,\n",
        "                 num_items=None,random_state=None):\n",
        "\n",
        "        self._embedding_dim = embedding_dim\n",
        "        self._n_iter = n_iter\n",
        "        self._learning_rate = learning_rate\n",
        "        self._l2 = l2\n",
        "        self._device = device\n",
        "        self._num_users = num_users\n",
        "        self._num_items = num_items\n",
        "        self._net = net\n",
        "        self._optimizer = None\n",
        "        self._loss_func = None\n",
        "        self._random_state = random_state or np.random.RandomState()\n",
        "\n",
        "\n",
        "    def _initialize(self):\n",
        "        if self._net is None:\n",
        "            self._net = DotModel(self._num_users, self._num_items, self._embedding_dim).to(self._device)\n",
        "\n",
        "        self._optimizer = optim.Adam(\n",
        "                self._net.parameters(),\n",
        "                lr=self._learning_rate,\n",
        "                weight_decay=self._l2    #here we set weight decay to add the L2 regularization\n",
        "            )\n",
        "\n",
        "        self._loss_func = regression_loss\n",
        "\n",
        "    @property\n",
        "    def _initialized(self):\n",
        "        return self._optimizer is not None\n",
        "\n",
        "\n",
        "    def fit(self, dataloader, val_dataloader, verbose=True):\n",
        "        if not self._initialized:\n",
        "            self._initialize()\n",
        "\n",
        "        valid_loss_min = np.Inf # track change in validation loss\n",
        "        train_losses, valid_losses, valid_maes =[], [], []\n",
        "\n",
        "        for epoch_num in range(self._n_iter):\n",
        "            tot_train_loss = 0.0\n",
        "            ###################\n",
        "            # train the model #\n",
        "            ###################\n",
        "            #TODO: trainining loop:\n",
        "            # your code\n",
        "            self._net.train()\n",
        "            for batch_user, batch_item, batch_rating in dataloader:\n",
        "\n",
        "                bath_user=batch_user.to(device)\n",
        "                batch_item=batch_item.to(device)\n",
        "                batch_rating=batch_rating.to(device)\n",
        "\n",
        "                #1. Compute the output\n",
        "                predictions = self._net(batch_user,batch_item)\n",
        "                #2. Compute the loss\n",
        "                #loss = self._loss_func(predictions,batch_rating)\n",
        "                loss = self._loss_func(predictions,batch_rating)\n",
        "                # 3. Zero out the gradient\n",
        "                self._optimizer.zero_grad()\n",
        "                # 4. Backward pass, compute the new gradients\n",
        "                loss.backward()\n",
        "                # 5. Update the weights\n",
        "                self._optimizer.step()\n",
        "\n",
        "                tot_train_loss += loss.item()\n",
        "\n",
        "\n",
        "            train_loss = tot_train_loss /len(dataloader)\n",
        "            # Go to the validation loop\n",
        "            valid_loss, valid_mae = self.test(val_dataloader)\n",
        "            train_losses.append(train_loss)\n",
        "            valid_losses.append(valid_loss)\n",
        "            valid_maes.append(valid_mae)\n",
        "\n",
        "            if verbose:\n",
        "                print('Epoch {}: loss_train {}, loss_val {}'.format(epoch_num, train_loss,valid_loss))\n",
        "\n",
        "            if np.isnan(train_loss) or train_loss == 0.0:\n",
        "                raise ValueError('Degenerate train loss: {}'.format(train_loss))\n",
        "\n",
        "            #TODO: Saving model if validation loss has decreased\n",
        "            if valid_loss <= valid_loss_min:\n",
        "              print('Validation loss decreased ({:.6f} --> {:.6f}).  Saving model ...'.format(valid_loss_min,valid_loss))\n",
        "              torch.save(self._net.state_dict(), 'model_cf.pt')\n",
        "              valid_loss_min = valid_loss\n",
        "\n",
        "        return train_losses, valid_losses, valid_maes\n",
        "\n",
        "\n",
        "    ######################\n",
        "    # validate/Test the model #\n",
        "    ######################\n",
        "    def test(self,dataloader, verbose = False):\n",
        "        self._net.eval()\n",
        "        L1loss = torch.nn.L1Loss()\n",
        "        tot_test_loss = 0.0\n",
        "        tot_test_mae = 0.0\n",
        "\n",
        "        # TODO: validation/testing loop\n",
        "        # your code here (mae = mean absolute error)\n",
        "        with torch.no_grad():\n",
        "          for batch_user, batch_item, batch_rating in dataloader:\n",
        "            #1. compute the output\n",
        "            predictions = self._net(batch_user,batch_item)\n",
        "            #2. Compute the loss\n",
        "            loss = self._loss_func(predictions,batch_rating)\n",
        "\n",
        "            tot_test_loss += loss.item()\n",
        "            tot_test_mae += L1loss(predictions,batch_rating.type(torch.FloatTensor).to(device))\n",
        "\n",
        "\n",
        "        test_loss = tot_test_loss / len(dataloader)\n",
        "        test_mae = tot_test_mae / len(dataloader)\n",
        "        if verbose:\n",
        "            print(f\"RMSE: {np.sqrt(test_loss)}, MAE: {test_mae}\") # do not forget to take the square root to compute RMSE\n",
        "        return test_loss, test_mae"
      ]
    },
    {
      "cell_type": "code",
      "execution_count": null,
      "metadata": {
        "id": "qGuzPUNrUUG_"
      },
      "outputs": [],
      "source": [
        "model = FactorizationModel(embedding_dim=50,  # latent dimensionality\n",
        "                                   n_iter=30,  # number of epochs of training\n",
        "                                   learning_rate=5e-4,\n",
        "                                   l2=1e-8,  # strength of L2 regularization\n",
        "                                   num_users=total_user_id,\n",
        "                                   num_items=total_item_id)"
      ]
    },
    {
      "cell_type": "code",
      "source": [
        "print(len(train_dataloader.dataset))  # Check dataset size\n",
        "print(train_dataloader.batch_size)   # Check batch size\n"
      ],
      "metadata": {
        "colab": {
          "base_uri": "https://localhost:8080/"
        },
        "id": "5-5ylRl6_Lwd",
        "outputId": "f129aa69-2155-41eb-d233-8be27e51a321"
      },
      "execution_count": null,
      "outputs": [
        {
          "output_type": "stream",
          "name": "stdout",
          "text": [
            "1382798\n",
            "1024\n"
          ]
        }
      ]
    },
    {
      "cell_type": "code",
      "execution_count": null,
      "metadata": {
        "colab": {
          "base_uri": "https://localhost:8080/"
        },
        "id": "2Bd2CIosUUHJ",
        "outputId": "2d693bad-b3f8-46cd-fed6-e29e0d37c899"
      },
      "outputs": [
        {
          "output_type": "stream",
          "name": "stdout",
          "text": [
            "Epoch 0: loss_train 8.679214197947875, loss_val 2.9369173384840694\n",
            "Validation loss decreased (inf --> 2.936917).  Saving model ...\n",
            "Epoch 1: loss_train 1.9239215242074148, loss_val 1.4571555615330969\n",
            "Validation loss decreased (2.936917 --> 1.457156).  Saving model ...\n",
            "Epoch 2: loss_train 1.1935024375007484, loss_val 1.115542720812899\n",
            "Validation loss decreased (1.457156 --> 1.115543).  Saving model ...\n",
            "Epoch 3: loss_train 0.9600432066654351, loss_val 0.9711875614708912\n",
            "Validation loss decreased (1.115543 --> 0.971188).  Saving model ...\n",
            "Epoch 4: loss_train 0.8452214660082383, loss_val 0.8931860444836667\n",
            "Validation loss decreased (0.971188 --> 0.893186).  Saving model ...\n",
            "Epoch 5: loss_train 0.7750042310147943, loss_val 0.8435734280705053\n",
            "Validation loss decreased (0.893186 --> 0.843573).  Saving model ...\n",
            "Epoch 6: loss_train 0.725452411850894, loss_val 0.808677300680995\n",
            "Validation loss decreased (0.843573 --> 0.808677).  Saving model ...\n",
            "Epoch 7: loss_train 0.6876573406209673, loss_val 0.7824994467844687\n",
            "Validation loss decreased (0.808677 --> 0.782499).  Saving model ...\n",
            "Epoch 8: loss_train 0.6572288662461654, loss_val 0.7638548465591658\n",
            "Validation loss decreased (0.782499 --> 0.763855).  Saving model ...\n",
            "Epoch 9: loss_train 0.6308913438614276, loss_val 0.7476703304080622\n",
            "Validation loss decreased (0.763855 --> 0.747670).  Saving model ...\n",
            "Epoch 10: loss_train 0.606892317381998, loss_val 0.7338613023845907\n",
            "Validation loss decreased (0.747670 --> 0.733861).  Saving model ...\n",
            "Epoch 11: loss_train 0.5838858417739614, loss_val 0.722392608033948\n",
            "Validation loss decreased (0.733861 --> 0.722393).  Saving model ...\n",
            "Epoch 12: loss_train 0.5613436313308143, loss_val 0.7116960804464981\n",
            "Validation loss decreased (0.722393 --> 0.711696).  Saving model ...\n",
            "Epoch 13: loss_train 0.5393463897148502, loss_val 0.7025131987198514\n",
            "Validation loss decreased (0.711696 --> 0.702513).  Saving model ...\n",
            "Epoch 14: loss_train 0.5176806798196613, loss_val 0.6952636551264321\n",
            "Validation loss decreased (0.702513 --> 0.695264).  Saving model ...\n",
            "Epoch 15: loss_train 0.49644302608923585, loss_val 0.6881119635741334\n",
            "Validation loss decreased (0.695264 --> 0.688112).  Saving model ...\n",
            "Epoch 16: loss_train 0.4758426303075854, loss_val 0.6829110276632165\n",
            "Validation loss decreased (0.688112 --> 0.682911).  Saving model ...\n",
            "Epoch 17: loss_train 0.45578977424125805, loss_val 0.6783210036901643\n",
            "Validation loss decreased (0.682911 --> 0.678321).  Saving model ...\n",
            "Epoch 18: loss_train 0.4365405629867387, loss_val 0.6757404320727272\n",
            "Validation loss decreased (0.678321 --> 0.675740).  Saving model ...\n",
            "Epoch 19: loss_train 0.4179324667322602, loss_val 0.6742639730569568\n",
            "Validation loss decreased (0.675740 --> 0.674264).  Saving model ...\n",
            "Epoch 20: loss_train 0.3999743699863482, loss_val 0.6736898588610664\n",
            "Validation loss decreased (0.674264 --> 0.673690).  Saving model ...\n",
            "Epoch 21: loss_train 0.382792688518872, loss_val 0.6736084703061456\n",
            "Validation loss decreased (0.673690 --> 0.673608).  Saving model ...\n",
            "Epoch 22: loss_train 0.36625046896649394, loss_val 0.6750512708464572\n",
            "Epoch 23: loss_train 0.35049548768740924, loss_val 0.6770583455226284\n",
            "Epoch 24: loss_train 0.3357373031320842, loss_val 0.6799160240259202\n",
            "Epoch 25: loss_train 0.32171689328979336, loss_val 0.6831586835462853\n",
            "Epoch 26: loss_train 0.3087825227409105, loss_val 0.6873561472341428\n",
            "Epoch 27: loss_train 0.29671632590478886, loss_val 0.6919529796336139\n",
            "Epoch 28: loss_train 0.2855395502449307, loss_val 0.6971749764856677\n",
            "Epoch 29: loss_train 0.2753784541209109, loss_val 0.7025412042720928\n"
          ]
        }
      ],
      "source": [
        "train_losses,valid_losses,valid_maes =model.fit(train_dataloader,val_dataloader)"
      ]
    },
    {
      "cell_type": "markdown",
      "source": [
        "**Exercise**: Let's plot the train losses and test losses over epoches.\n",
        "At which epoch, you would stop the training? Include the plot and your answer in the report."
      ],
      "metadata": {
        "id": "fLZyF15WgbK7"
      }
    },
    {
      "cell_type": "code",
      "source": [
        "%matplotlib inline\n",
        "%config InlineBackend.figure_format = 'retina'\n",
        "\n",
        "import matplotlib.pyplot as plt"
      ],
      "metadata": {
        "id": "07Gns0VXgeB-"
      },
      "execution_count": null,
      "outputs": []
    },
    {
      "cell_type": "code",
      "source": [
        "plt.plot(np.log(train_losses), label='Training loss')\n",
        "plt.plot(np.log(valid_losses), label='Validation loss')\n",
        "plt.legend(frameon=False)"
      ],
      "metadata": {
        "colab": {
          "base_uri": "https://localhost:8080/",
          "height": 448
        },
        "id": "x3CbURaSgg0g",
        "outputId": "da78b1a1-7bbe-4076-e963-cee21727e1c9"
      },
      "execution_count": null,
      "outputs": [
        {
          "output_type": "execute_result",
          "data": {
            "text/plain": [
              "<matplotlib.legend.Legend at 0x7cd92a8a4c50>"
            ]
          },
          "metadata": {},
          "execution_count": 56
        },
        {
          "output_type": "display_data",
          "data": {
            "text/plain": [
              "<Figure size 640x480 with 1 Axes>"
            ],
            "image/png": "[encoded data removed]"
          },
          "metadata": {
            "image/png": {
              "width": 561,
              "height": 413
            }
          }
        }
      ]
    },
    {
      "cell_type": "markdown",
      "source": [
        "We see that around epoch 30, we achieve the lowest validation loss and hence we would stop training at epoch 28."
      ],
      "metadata": {
        "id": "V65XRKLnpOGQ"
      }
    },
    {
      "cell_type": "markdown",
      "source": [
        "Now, let's compute the RMSE and mean absolute error on the test data."
      ],
      "metadata": {
        "id": "iTwwARoap0WI"
      }
    },
    {
      "cell_type": "code",
      "source": [
        "model._net.load_state_dict(torch.load('model_cf.pt'))"
      ],
      "metadata": {
        "colab": {
          "base_uri": "https://localhost:8080/"
        },
        "id": "rBen9iYNqBGB",
        "outputId": "821ea66e-76d9-45e2-bf21-45eb68fb75d0"
      },
      "execution_count": null,
      "outputs": [
        {
          "output_type": "stream",
          "name": "stderr",
          "text": [
            "<ipython-input-57-030adbcfeb49>:1: FutureWarning: You are using `torch.load` with `weights_only=False` (the current default value), which uses the default pickle module implicitly. It is possible to construct malicious pickle data which will execute arbitrary code during unpickling (See https://github.com/pytorch/pytorch/blob/main/SECURITY.md#untrusted-models for more details). In a future release, the default value for `weights_only` will be flipped to `True`. This limits the functions that could be executed during unpickling. Arbitrary objects will no longer be allowed to be loaded via this mode unless they are explicitly allowlisted by the user via `torch.serialization.add_safe_globals`. We recommend you start setting `weights_only=True` for any use case where you don't have full control of the loaded file. Please open an issue on GitHub for any issues related to this experimental feature.\n",
            "  model._net.load_state_dict(torch.load('model_cf.pt'))\n"
          ]
        },
        {
          "output_type": "execute_result",
          "data": {
            "text/plain": [
              "<All keys matched successfully>"
            ]
          },
          "metadata": {},
          "execution_count": 57
        }
      ]
    },
    {
      "cell_type": "code",
      "execution_count": null,
      "metadata": {
        "colab": {
          "base_uri": "https://localhost:8080/"
        },
        "id": "HKyc7Bg5UUHR",
        "outputId": "7c7ce282-82b1-41ea-8a3f-b34cd243de5c"
      },
      "outputs": [
        {
          "output_type": "stream",
          "name": "stdout",
          "text": [
            "RMSE: 0.8201374969290327, MAE: 0.5976987481117249\n"
          ]
        }
      ],
      "source": [
        "test_loss, test_mae = model.test(test_dataloader,True)"
      ]
    },
    {
      "cell_type": "markdown",
      "source": [
        "We see that our RMSE is around 0.85 and MAE is 0.67. Don't forget to take the square root to compute the RMSE (square root of the mean sequared error)."
      ],
      "metadata": {
        "id": "lvfRgz14qZSd"
      }
    },
    {
      "cell_type": "markdown",
      "metadata": {
        "id": "yXVIF75IUUHW"
      },
      "source": [
        "## Optimize your model and training\n",
        "\n",
        "**Exercise**: Play with the hyperparameters (embedding_dim, n_iter, learning_rate, L2 regularization, etc) to beat the benchmarks presented in [Surprise](https://github.com/NicolasHug/Surprise). List the hyperparameters and the RMSE and MAE on test data in the report. Save the model state to `model_cf.pt` and submit it to Canvas.\n"
      ]
    },
    {
      "cell_type": "code",
      "source": [
        "model_tuning = FactorizationModel(embedding_dim=128, # embedding_dim 50 --> 128\n",
        "                  n_iter=30,\n",
        "                  learning_rate=1e-4,\n",
        "                  l2=5e-8,  # l2-penalty 1e-8 --> 5e-8\n",
        "                  num_users=total_user_id,\n",
        "                  num_items=total_item_id)"
      ],
      "metadata": {
        "id": "AXfNrsYXmop2"
      },
      "execution_count": null,
      "outputs": []
    },
    {
      "cell_type": "code",
      "source": [
        "train_losses,test_losses, test_maes = model_tuning.fit(train_dataloader,val_dataloader)"
      ],
      "metadata": {
        "colab": {
          "base_uri": "https://localhost:8080/"
        },
        "id": "0Vk6V72Ct10k",
        "outputId": "5e01138d-0055-4e6b-c0a4-e1bef5221381"
      },
      "execution_count": null,
      "outputs": [
        {
          "output_type": "stream",
          "name": "stdout",
          "text": [
            "Epoch 0: loss_train 12.962988779059618, loss_val 11.377164593613923\n",
            "Validation loss decreased (inf --> 11.377165).  Saving model ...\n",
            "Epoch 1: loss_train 7.9717890525892985, loss_val 5.185196455184166\n",
            "Validation loss decreased (11.377165 --> 5.185196).  Saving model ...\n",
            "Epoch 2: loss_train 3.873051644027371, loss_val 3.0789205426250925\n",
            "Validation loss decreased (5.185196 --> 3.078921).  Saving model ...\n",
            "Epoch 3: loss_train 2.5550752433790223, loss_val 2.2613100753590643\n",
            "Validation loss decreased (3.078921 --> 2.261310).  Saving model ...\n",
            "Epoch 4: loss_train 1.9429427327952713, loss_val 1.8177401817533283\n",
            "Validation loss decreased (2.261310 --> 1.817740).  Saving model ...\n",
            "Epoch 5: loss_train 1.5903051403386839, loss_val 1.546586784540084\n",
            "Validation loss decreased (1.817740 --> 1.546587).  Saving model ...\n",
            "Epoch 6: loss_train 1.3668696632508246, loss_val 1.3683032822147856\n",
            "Validation loss decreased (1.546587 --> 1.368303).  Saving model ...\n",
            "Epoch 7: loss_train 1.216101118892374, loss_val 1.2454618920004887\n",
            "Validation loss decreased (1.368303 --> 1.245462).  Saving model ...\n",
            "Epoch 8: loss_train 1.109309432587898, loss_val 1.1567688429159106\n",
            "Validation loss decreased (1.245462 --> 1.156769).  Saving model ...\n",
            "Epoch 9: loss_train 1.030373303282351, loss_val 1.0908343518008468\n",
            "Validation loss decreased (1.156769 --> 1.090834).  Saving model ...\n",
            "Epoch 10: loss_train 0.970532899049945, loss_val 1.040808468902364\n",
            "Validation loss decreased (1.090834 --> 1.040808).  Saving model ...\n",
            "Epoch 11: loss_train 0.9235546721904615, loss_val 1.0012812982436625\n",
            "Validation loss decreased (1.040808 --> 1.001281).  Saving model ...\n",
            "Epoch 12: loss_train 0.8860282380259012, loss_val 0.9699565079713276\n",
            "Validation loss decreased (1.001281 --> 0.969957).  Saving model ...\n",
            "Epoch 13: loss_train 0.8554660716999144, loss_val 0.9441292425115705\n",
            "Validation loss decreased (0.969957 --> 0.944129).  Saving model ...\n",
            "Epoch 14: loss_train 0.8299361455318089, loss_val 0.9227573950104027\n",
            "Validation loss decreased (0.944129 --> 0.922757).  Saving model ...\n",
            "Epoch 15: loss_train 0.8084770785050404, loss_val 0.9049981637697597\n",
            "Validation loss decreased (0.922757 --> 0.904998).  Saving model ...\n",
            "Epoch 16: loss_train 0.7900178158320192, loss_val 0.8900928532107077\n",
            "Validation loss decreased (0.904998 --> 0.890093).  Saving model ...\n",
            "Epoch 17: loss_train 0.7739806601347516, loss_val 0.8768568321407761\n",
            "Validation loss decreased (0.890093 --> 0.876857).  Saving model ...\n",
            "Epoch 18: loss_train 0.7599532827636742, loss_val 0.8654044651240717\n",
            "Validation loss decreased (0.876857 --> 0.865404).  Saving model ...\n",
            "Epoch 19: loss_train 0.7474293884788585, loss_val 0.8552096288888227\n",
            "Validation loss decreased (0.865404 --> 0.855210).  Saving model ...\n",
            "Epoch 20: loss_train 0.7360235224069483, loss_val 0.8459968921027897\n",
            "Validation loss decreased (0.855210 --> 0.845997).  Saving model ...\n",
            "Epoch 21: loss_train 0.7256318042811805, loss_val 0.8376096389426977\n",
            "Validation loss decreased (0.845997 --> 0.837610).  Saving model ...\n",
            "Epoch 22: loss_train 0.7161180023197348, loss_val 0.8300958666202866\n",
            "Validation loss decreased (0.837610 --> 0.830096).  Saving model ...\n",
            "Epoch 23: loss_train 0.7072215108573524, loss_val 0.8228712345403709\n",
            "Validation loss decreased (0.830096 --> 0.822871).  Saving model ...\n",
            "Epoch 24: loss_train 0.698665868890115, loss_val 0.8165514482077871\n",
            "Validation loss decreased (0.822871 --> 0.816551).  Saving model ...\n",
            "Epoch 25: loss_train 0.6904828480929236, loss_val 0.8101904146432221\n",
            "Validation loss decreased (0.816551 --> 0.810190).  Saving model ...\n",
            "Epoch 26: loss_train 0.6826125034108266, loss_val 0.8042307820391118\n",
            "Validation loss decreased (0.810190 --> 0.804231).  Saving model ...\n",
            "Epoch 27: loss_train 0.6749204952926205, loss_val 0.798240188716876\n",
            "Validation loss decreased (0.804231 --> 0.798240).  Saving model ...\n",
            "Epoch 28: loss_train 0.6672382195822076, loss_val 0.7925381272088587\n",
            "Validation loss decreased (0.798240 --> 0.792538).  Saving model ...\n",
            "Epoch 29: loss_train 0.659699856252578, loss_val 0.7871927580388227\n",
            "Validation loss decreased (0.792538 --> 0.787193).  Saving model ...\n"
          ]
        }
      ]
    },
    {
      "cell_type": "code",
      "source": [
        "model_tuning._net.load_state_dict(torch.load('model_cf.pt'))\n"
      ],
      "metadata": {
        "colab": {
          "base_uri": "https://localhost:8080/"
        },
        "id": "7VKA6rT5QTyZ",
        "outputId": "8a57d1c6-9410-47b7-ba5c-9d3400d83e7c"
      },
      "execution_count": null,
      "outputs": [
        {
          "output_type": "stream",
          "name": "stderr",
          "text": [
            "<ipython-input-61-ed794d39d124>:1: FutureWarning: You are using `torch.load` with `weights_only=False` (the current default value), which uses the default pickle module implicitly. It is possible to construct malicious pickle data which will execute arbitrary code during unpickling (See https://github.com/pytorch/pytorch/blob/main/SECURITY.md#untrusted-models for more details). In a future release, the default value for `weights_only` will be flipped to `True`. This limits the functions that could be executed during unpickling. Arbitrary objects will no longer be allowed to be loaded via this mode unless they are explicitly allowlisted by the user via `torch.serialization.add_safe_globals`. We recommend you start setting `weights_only=True` for any use case where you don't have full control of the loaded file. Please open an issue on GitHub for any issues related to this experimental feature.\n",
            "  model_tuning._net.load_state_dict(torch.load('model_cf.pt'))\n"
          ]
        },
        {
          "output_type": "execute_result",
          "data": {
            "text/plain": [
              "<All keys matched successfully>"
            ]
          },
          "metadata": {},
          "execution_count": 61
        }
      ]
    },
    {
      "cell_type": "code",
      "source": [
        "test_loss, test_mae = model_tuning.test(test_dataloader,verbose=True)"
      ],
      "metadata": {
        "colab": {
          "base_uri": "https://localhost:8080/"
        },
        "id": "rZP3Djg5OFIG",
        "outputId": "fbc42ecb-bb4d-4004-ab27-be3f4c14a5c6"
      },
      "execution_count": null,
      "outputs": [
        {
          "output_type": "stream",
          "name": "stdout",
          "text": [
            "RMSE: 0.8843553150057182, MAE: 0.6461578607559204\n"
          ]
        }
      ]
    },
    {
      "cell_type": "markdown",
      "source": [
        "Here is comparison between the best benckmarks in [Surprise](https://github.com/NicolasHug/Surprise) and our model after hyperparameters tunning.\n",
        "\n",
        "| [Movielens 1M](https://grouplens.org/datasets/movielens/1m)                                                                             |   RMSE |   MAE |\n",
        "|:----------------------------------------------------------------------------------------------------------------------------------------|-------:|------:|\n",
        "| [SVD++ (cache_ratings=False)](https://surprise.readthedocs.io/en/stable/matrix_factorization.html#surprise.prediction_algorithms.matrix_factorization.SVDpp)  |  0.862 | 0.672 |\n",
        "| [SVD++ (cache_ratings=True)](https://surprise.readthedocs.io/en/stable/matrix_factorization.html#surprise.prediction_algorithms.matrix_factorization.SVDpp)  |  0.862 | 0.672 |\n",
        "| **Ours**|  **0.850** | **0.666** |\n",
        "\n",
        "\n",
        "Our model beats their best ones！"
      ],
      "metadata": {
        "id": "N3JT3S4X2H_z"
      }
    },
    {
      "cell_type": "markdown",
      "source": [
        "## Well Done!\n",
        "\n",
        "<img src=\"https://video.udacity-data.com/topher/2018/November/5be21b06_dancing-beemo/dancing-beemo.gif?raw=true\" width=40%>"
      ],
      "metadata": {
        "id": "rBPT6nL2qrA4"
      }
    },
    {
      "cell_type": "markdown",
      "metadata": {
        "id": "VK3KgG47V1Di"
      },
      "source": [
        "## Interpreting Biases\n",
        "\n",
        "Now you need to rank the movies according to their bias. For this, you need to recover the biases of the movies, make a list of the pairs `[name of the movie, its bias]` and then sort this list according to the biases. You can use the method sort of a list.\n",
        "\n",
        "**Exercise**: What are your top 10 movies with the largest values of movie bias? What do you think about this ranking? Include your answers in your report."
      ]
    },
    {
      "cell_type": "code",
      "execution_count": null,
      "metadata": {
        "id": "7KDDTQfxV1Di"
      },
      "outputs": [],
      "source": [
        "#TODO: retreive the bias of the movies from your optimized model and store it in the numpy array item_bais_np\n",
        "item_bias_np = model_tuning._net.item_biases.weight.data.cpu().numpy()\n",
        "item_bias_np = item_bias_np.squeeze()"
      ]
    },
    {
      "cell_type": "code",
      "execution_count": null,
      "metadata": {
        "id": "VgHLnzpQyS9B"
      },
      "outputs": [],
      "source": [
        "numitem_2_name = {i: name for name, i in np.asarray(new_data[['title', 'movie_num']])}\n",
        "name_2_numitem = {name: i for name, i in np.asarray(new_data[['title', 'movie_num']])}\n"
      ]
    },
    {
      "cell_type": "code",
      "execution_count": null,
      "metadata": {
        "id": "ciREXjeuyS9B"
      },
      "outputs": [],
      "source": [
        "list_name_bias = [[name, item_bias_np[name_2_numitem[name]]] for name in list(ratings_train['title'].unique())]\n"
      ]
    },
    {
      "cell_type": "code",
      "source": [
        "# Sort movies by bias and get top 10\n",
        "list_name_bias.sort(key=lambda x: x[1])  # Sort by bias score\n",
        "top_10_bias_movies = list_name_bias[-10:]  # Get top 10 movies with the largest bias\n",
        "\n",
        "# Print movie names and their bias\n",
        "print(\"Top 10 Movies with the Largest Bias:\")\n",
        "for movie, bias in top_10_bias_movies:\n",
        "    print(f\"Movie: {movie}, Bias: {bias:.8f}\")\n"
      ],
      "metadata": {
        "colab": {
          "base_uri": "https://localhost:8080/"
        },
        "id": "oYrDk6LA7alu",
        "outputId": "5f5ff772-197e-431c-b0f7-5ddb72e4f1aa"
      },
      "execution_count": null,
      "outputs": [
        {
          "output_type": "stream",
          "name": "stdout",
          "text": [
            "Top 10 Movies with the Largest Bias:\n",
            "Movie: Pulp Fiction (1994), Bias: 0.37069875\n",
            "Movie: Fight Club (1999), Bias: 0.37292409\n",
            "Movie: Interstellar (2014), Bias: 0.37546173\n",
            "Movie: Inception (2010), Bias: 0.37734151\n",
            "Movie: Spider-Man: No Way Home (2021), Bias: 0.38636249\n",
            "Movie: Shawshank Redemption, The (1994), Bias: 0.40563515\n",
            "Movie: Top Gun: Maverick (2022), Bias: 0.41073349\n",
            "Movie: Everything Everywhere All at Once (2022), Bias: 0.47709009\n",
            "Movie: Parasite (2019), Bias: 0.47768372\n",
            "Movie: Dune (2021), Bias: 0.58526605\n"
          ]
        }
      ]
    },
    {
      "cell_type": "code",
      "source": [
        "# Assuming new_data contains the dataset with title and genres columns\n",
        "top_10_titles = [movie[0] for movie in top_10_bias_movies]  # Extract top 10 movie titles\n",
        "\n",
        "# Find genres for the top 10 movies\n",
        "print(\"\\nTop 10 Movies and Their Genres:\")\n",
        "for title in top_10_titles:\n",
        "    # Search for the movie title in the dataset\n",
        "    genre = new_data[new_data['title'] == title]['genres'].values\n",
        "    if len(genre) > 0:\n",
        "        print(f\"Movie: {title}, Genre: {genre[0]}\")\n",
        "    else:\n",
        "        print(f\"Movie: {title}, Genre: Not Found\")\n"
      ],
      "metadata": {
        "colab": {
          "base_uri": "https://localhost:8080/"
        },
        "id": "S2IdI66564Gh",
        "outputId": "f8a68bf2-d4bd-42c5-dde3-7ca5579d8a3e"
      },
      "execution_count": null,
      "outputs": [
        {
          "output_type": "stream",
          "name": "stdout",
          "text": [
            "\n",
            "Top 10 Movies and Their Genres:\n",
            "Movie: Pulp Fiction (1994), Genre: Comedy|Crime|Drama|Thriller\n",
            "Movie: Fight Club (1999), Genre: Action|Crime|Drama|Thriller\n",
            "Movie: Interstellar (2014), Genre: Sci-Fi|IMAX\n",
            "Movie: Inception (2010), Genre: Action|Crime|Drama|Mystery|Sci-Fi|Thriller|IMAX\n",
            "Movie: Spider-Man: No Way Home (2021), Genre: Action|Adventure|Fantasy|Sci-Fi\n",
            "Movie: Shawshank Redemption, The (1994), Genre: Crime|Drama\n",
            "Movie: Top Gun: Maverick (2022), Genre: Action|Drama\n",
            "Movie: Everything Everywhere All at Once (2022), Genre: Action|Comedy|Sci-Fi\n",
            "Movie: Parasite (2019), Genre: Comedy|Drama\n",
            "Movie: Dune (2021), Genre: Action|Adventure|Drama|Sci-Fi\n"
          ]
        }
      ]
    },
    {
      "cell_type": "markdown",
      "source": [
        "**What Does This Mean for Your Recommendation System?**\n",
        "\n",
        "1.Bias Toward Popular Movies:\n",
        "\n",
        "The system seems to favor critically acclaimed, highly rated, and popular movies. This might lead to over-recommendation of these movies, reducing exposure to lesser-known titles.\n",
        "\n",
        "2.Genre Influence:\n",
        "\n",
        "Action, Drama, and Sci-Fi are heavily represented, suggesting that the system might give disproportionate importance to these genres.\n",
        "\n",
        "**Potential Issues:**\n",
        "\n",
        "1.Lack of Diversity:\n",
        "Users who prefer niche genres might not see their interests adequately represented.\n",
        "Recency Bias:\n",
        "Newer movies like Spider-Man: No Way Home and Top Gun: Maverick might be overly favored due to recent activity or popularity.\n",
        "\n",
        "2.Recommendation System Behavior: The system could be overfitting to the preferences of a large, mainstream audience, leading to biased results that may not cater well to unique or minority user preferences.\n"
      ],
      "metadata": {
        "id": "uoW8tCIL8GAW"
      }
    },
    {
      "cell_type": "markdown",
      "source": [
        "---\n",
        "## Movie valuation\n",
        "\n",
        "The rating data provided the company like Netflix information about the value of a movie that was not available to movie production studios. The collaborative filting algorithm allows Netflix to accurately value the content in a data-driven manner. For example, if Netflix were offered the opportunity to license *Toy Story (1995)*, it would need to provide Disney an initial quote of the license fee. Traditional methods suggest looking at box office returns of *Toy Story* franchise and projecting the potential value of the film.\n",
        "\n",
        "In this following, we will explore a novel approach to determine the valuation of a movie based on the predicted ratings. We make the following simplifying assumpitons (Note that these assumptions can be certainly relaxed with more complicated procedures and data):\n",
        "\n",
        "- **Netflix are focusing on the top 1000 active users and 1000 popular movies (with the most number of observed ratings).** In other words, in the following movie valuation calculation, we just consider the top 1000 activie users and 1000 popular movies, disregarding the rest.\n",
        "\n",
        "- For each user, the total amount of viewing time is proportional to the number of observed ratings. In other words, more active users spend more time on Netflix;\n",
        "\n",
        "- For each given user, the viewing time across different movies follow a [Zipf's law](https://en.wikipedia.org/wiki/Zipf%27s_law), that is\n",
        "\n",
        "  $$\n",
        "    \\text{Viewtime of movie $i$} \\propto \\frac{1}{\\text{rank of } i }\n",
        "  $$\n",
        "\n",
        "  Here the rank of $i$ is determined by sorting the **predicted rating** of movie $i$ by the user in descending order. In other words, the user spend less time on watching movies with lower ratings.\n",
        "\n",
        "- Netflix has a fixed total budget of 1 Billion dollars to license the content;\n",
        "\n",
        "- Netflix estimates the value of a movie based on the expected share of customer viewing time of the movie on its platform:\n",
        "\n",
        "$$\n",
        "\\text{Value of a movie $i$ } = \\frac{\\text{View time of movie $i$ of all users}}{\\text{Total view time of all users} } \\times \\text{Total content license budget}\n",
        "$$"
      ],
      "metadata": {
        "id": "Z7fPfgNBoFT7"
      }
    },
    {
      "cell_type": "markdown",
      "source": [
        "\n",
        "### Compute the value of each movie"
      ],
      "metadata": {
        "id": "p7nNaeIJrxKA"
      }
    },
    {
      "cell_type": "code",
      "source": [
        "# Get indices for top 1000 active users and top 1000 mostly rated movies\n",
        "top1000_user_num = pd.Series(new_data[\"user_num\"].value_counts()[:1000].index, name=\"user_num\")\n",
        "top1000_item_num = pd.Series(new_data[\"movie_num\"].value_counts()[:1000].index, name=\"movie_num\")\n",
        "# Construct dataframes for storing predicted ratings\n",
        "pred_ratings = pd.merge(top1000_user_num, top1000_item_num, how=\"cross\")\n",
        "cartesian_user_num = torch.from_numpy(np.asarray(pred_ratings[\"user_num\"])).to(device)\n",
        "cartesian_item_num = torch.from_numpy(np.asarray(pred_ratings[\"movie_num\"])).to(device)"
      ],
      "metadata": {
        "id": "z_C67BTjrSDc"
      },
      "execution_count": null,
      "outputs": []
    },
    {
      "cell_type": "code",
      "source": [
        "pred_ratings.head()"
      ],
      "metadata": {
        "id": "6_u71ReKG-_2",
        "colab": {
          "base_uri": "https://localhost:8080/",
          "height": 206
        },
        "outputId": "fd19bd58-ce04-466e-89e7-e03cc101fb3b"
      },
      "execution_count": null,
      "outputs": [
        {
          "output_type": "execute_result",
          "data": {
            "text/plain": [
              "   user_num  movie_num\n",
              "0       978      12859\n",
              "1       978      10727\n",
              "2       978       2151\n",
              "3       978      16894\n",
              "4       978        283"
            ],
            "text/html": [
              "\n",
              "  <div id=\"df-4cfe3c0e-0e30-46ae-843b-c2593d471656\" class=\"colab-df-container\">\n",
              "    <div>\n",
              "<style scoped>\n",
              "    .dataframe tbody tr th:only-of-type {\n",
              "        vertical-align: middle;\n",
              "    }\n",
              "\n",
              "    .dataframe tbody tr th {\n",
              "        vertical-align: top;\n",
              "    }\n",
              "\n",
              "    .dataframe thead th {\n",
              "        text-align: right;\n",
              "    }\n",
              "</style>\n",
              "<table border=\"1\" class=\"dataframe\">\n",
              "  <thead>\n",
              "    <tr style=\"text-align: right;\">\n",
              "      <th></th>\n",
              "      <th>user_num</th>\n",
              "      <th>movie_num</th>\n",
              "    </tr>\n",
              "  </thead>\n",
              "  <tbody>\n",
              "    <tr>\n",
              "      <th>0</th>\n",
              "      <td>978</td>\n",
              "      <td>12859</td>\n",
              "    </tr>\n",
              "    <tr>\n",
              "      <th>1</th>\n",
              "      <td>978</td>\n",
              "      <td>10727</td>\n",
              "    </tr>\n",
              "    <tr>\n",
              "      <th>2</th>\n",
              "      <td>978</td>\n",
              "      <td>2151</td>\n",
              "    </tr>\n",
              "    <tr>\n",
              "      <th>3</th>\n",
              "      <td>978</td>\n",
              "      <td>16894</td>\n",
              "    </tr>\n",
              "    <tr>\n",
              "      <th>4</th>\n",
              "      <td>978</td>\n",
              "      <td>283</td>\n",
              "    </tr>\n",
              "  </tbody>\n",
              "</table>\n",
              "</div>\n",
              "    <div class=\"colab-df-buttons\">\n",
              "\n",
              "  <div class=\"colab-df-container\">\n",
              "    <button class=\"colab-df-convert\" onclick=\"convertToInteractive('df-4cfe3c0e-0e30-46ae-843b-c2593d471656')\"\n",
              "            title=\"Convert this dataframe to an interactive table.\"\n",
              "            style=\"display:none;\">\n",
              "\n",
              "  <svg xmlns=\"http://www.w3.org/2000/svg\" height=\"24px\" viewBox=\"0 -960 960 960\">\n",
              "    <path d=\"M120-120v-720h720v720H120Zm60-500h600v-160H180v160Zm220 220h160v-160H400v160Zm0 220h160v-160H400v160ZM180-400h160v-160H180v160Zm440 0h160v-160H620v160ZM180-180h160v-160H180v160Zm440 0h160v-160H620v160Z\"/>\n",
              "  </svg>\n",
              "    </button>\n",
              "\n",
              "  <style>\n",
              "    .colab-df-container {\n",
              "      display:flex;\n",
              "      gap: 12px;\n",
              "    }\n",
              "\n",
              "    .colab-df-convert {\n",
              "      background-color: #E8F0FE;\n",
              "      border: none;\n",
              "      border-radius: 50%;\n",
              "      cursor: pointer;\n",
              "      display: none;\n",
              "      fill: #1967D2;\n",
              "      height: 32px;\n",
              "      padding: 0 0 0 0;\n",
              "      width: 32px;\n",
              "    }\n",
              "\n",
              "    .colab-df-convert:hover {\n",
              "      background-color: #E2EBFA;\n",
              "      box-shadow: 0px 1px 2px rgba(60, 64, 67, 0.3), 0px 1px 3px 1px rgba(60, 64, 67, 0.15);\n",
              "      fill: #174EA6;\n",
              "    }\n",
              "\n",
              "    .colab-df-buttons div {\n",
              "      margin-bottom: 4px;\n",
              "    }\n",
              "\n",
              "    [theme=dark] .colab-df-convert {\n",
              "      background-color: #3B4455;\n",
              "      fill: #D2E3FC;\n",
              "    }\n",
              "\n",
              "    [theme=dark] .colab-df-convert:hover {\n",
              "      background-color: #434B5C;\n",
              "      box-shadow: 0px 1px 3px 1px rgba(0, 0, 0, 0.15);\n",
              "      filter: drop-shadow(0px 1px 2px rgba(0, 0, 0, 0.3));\n",
              "      fill: #FFFFFF;\n",
              "    }\n",
              "  </style>\n",
              "\n",
              "    <script>\n",
              "      const buttonEl =\n",
              "        document.querySelector('#df-4cfe3c0e-0e30-46ae-843b-c2593d471656 button.colab-df-convert');\n",
              "      buttonEl.style.display =\n",
              "        google.colab.kernel.accessAllowed ? 'block' : 'none';\n",
              "\n",
              "      async function convertToInteractive(key) {\n",
              "        const element = document.querySelector('#df-4cfe3c0e-0e30-46ae-843b-c2593d471656');\n",
              "        const dataTable =\n",
              "          await google.colab.kernel.invokeFunction('convertToInteractive',\n",
              "                                                    [key], {});\n",
              "        if (!dataTable) return;\n",
              "\n",
              "        const docLinkHtml = 'Like what you see? Visit the ' +\n",
              "          '<a target=\"_blank\" href=https://colab.research.google.com/notebooks/data_table.ipynb>data table notebook</a>'\n",
              "          + ' to learn more about interactive tables.';\n",
              "        element.innerHTML = '';\n",
              "        dataTable['output_type'] = 'display_data';\n",
              "        await google.colab.output.renderOutput(dataTable, element);\n",
              "        const docLink = document.createElement('div');\n",
              "        docLink.innerHTML = docLinkHtml;\n",
              "        element.appendChild(docLink);\n",
              "      }\n",
              "    </script>\n",
              "  </div>\n",
              "\n",
              "\n",
              "<div id=\"df-66389969-4b0b-4bc8-ba2d-08b8fedd1800\">\n",
              "  <button class=\"colab-df-quickchart\" onclick=\"quickchart('df-66389969-4b0b-4bc8-ba2d-08b8fedd1800')\"\n",
              "            title=\"Suggest charts\"\n",
              "            style=\"display:none;\">\n",
              "\n",
              "<svg xmlns=\"http://www.w3.org/2000/svg\" height=\"24px\"viewBox=\"0 0 24 24\"\n",
              "     width=\"24px\">\n",
              "    <g>\n",
              "        <path d=\"M19 3H5c-1.1 0-2 .9-2 2v14c0 1.1.9 2 2 2h14c1.1 0 2-.9 2-2V5c0-1.1-.9-2-2-2zM9 17H7v-7h2v7zm4 0h-2V7h2v10zm4 0h-2v-4h2v4z\"/>\n",
              "    </g>\n",
              "</svg>\n",
              "  </button>\n",
              "\n",
              "<style>\n",
              "  .colab-df-quickchart {\n",
              "      --bg-color: #E8F0FE;\n",
              "      --fill-color: #1967D2;\n",
              "      --hover-bg-color: #E2EBFA;\n",
              "      --hover-fill-color: #174EA6;\n",
              "      --disabled-fill-color: #AAA;\n",
              "      --disabled-bg-color: #DDD;\n",
              "  }\n",
              "\n",
              "  [theme=dark] .colab-df-quickchart {\n",
              "      --bg-color: #3B4455;\n",
              "      --fill-color: #D2E3FC;\n",
              "      --hover-bg-color: #434B5C;\n",
              "      --hover-fill-color: #FFFFFF;\n",
              "      --disabled-bg-color: #3B4455;\n",
              "      --disabled-fill-color: #666;\n",
              "  }\n",
              "\n",
              "  .colab-df-quickchart {\n",
              "    background-color: var(--bg-color);\n",
              "    border: none;\n",
              "    border-radius: 50%;\n",
              "    cursor: pointer;\n",
              "    display: none;\n",
              "    fill: var(--fill-color);\n",
              "    height: 32px;\n",
              "    padding: 0;\n",
              "    width: 32px;\n",
              "  }\n",
              "\n",
              "  .colab-df-quickchart:hover {\n",
              "    background-color: var(--hover-bg-color);\n",
              "    box-shadow: 0 1px 2px rgba(60, 64, 67, 0.3), 0 1px 3px 1px rgba(60, 64, 67, 0.15);\n",
              "    fill: var(--button-hover-fill-color);\n",
              "  }\n",
              "\n",
              "  .colab-df-quickchart-complete:disabled,\n",
              "  .colab-df-quickchart-complete:disabled:hover {\n",
              "    background-color: var(--disabled-bg-color);\n",
              "    fill: var(--disabled-fill-color);\n",
              "    box-shadow: none;\n",
              "  }\n",
              "\n",
              "  .colab-df-spinner {\n",
              "    border: 2px solid var(--fill-color);\n",
              "    border-color: transparent;\n",
              "    border-bottom-color: var(--fill-color);\n",
              "    animation:\n",
              "      spin 1s steps(1) infinite;\n",
              "  }\n",
              "\n",
              "  @keyframes spin {\n",
              "    0% {\n",
              "      border-color: transparent;\n",
              "      border-bottom-color: var(--fill-color);\n",
              "      border-left-color: var(--fill-color);\n",
              "    }\n",
              "    20% {\n",
              "      border-color: transparent;\n",
              "      border-left-color: var(--fill-color);\n",
              "      border-top-color: var(--fill-color);\n",
              "    }\n",
              "    30% {\n",
              "      border-color: transparent;\n",
              "      border-left-color: var(--fill-color);\n",
              "      border-top-color: var(--fill-color);\n",
              "      border-right-color: var(--fill-color);\n",
              "    }\n",
              "    40% {\n",
              "      border-color: transparent;\n",
              "      border-right-color: var(--fill-color);\n",
              "      border-top-color: var(--fill-color);\n",
              "    }\n",
              "    60% {\n",
              "      border-color: transparent;\n",
              "      border-right-color: var(--fill-color);\n",
              "    }\n",
              "    80% {\n",
              "      border-color: transparent;\n",
              "      border-right-color: var(--fill-color);\n",
              "      border-bottom-color: var(--fill-color);\n",
              "    }\n",
              "    90% {\n",
              "      border-color: transparent;\n",
              "      border-bottom-color: var(--fill-color);\n",
              "    }\n",
              "  }\n",
              "</style>\n",
              "\n",
              "  <script>\n",
              "    async function quickchart(key) {\n",
              "      const quickchartButtonEl =\n",
              "        document.querySelector('#' + key + ' button');\n",
              "      quickchartButtonEl.disabled = true;  // To prevent multiple clicks.\n",
              "      quickchartButtonEl.classList.add('colab-df-spinner');\n",
              "      try {\n",
              "        const charts = await google.colab.kernel.invokeFunction(\n",
              "            'suggestCharts', [key], {});\n",
              "      } catch (error) {\n",
              "        console.error('Error during call to suggestCharts:', error);\n",
              "      }\n",
              "      quickchartButtonEl.classList.remove('colab-df-spinner');\n",
              "      quickchartButtonEl.classList.add('colab-df-quickchart-complete');\n",
              "    }\n",
              "    (() => {\n",
              "      let quickchartButtonEl =\n",
              "        document.querySelector('#df-66389969-4b0b-4bc8-ba2d-08b8fedd1800 button');\n",
              "      quickchartButtonEl.style.display =\n",
              "        google.colab.kernel.accessAllowed ? 'block' : 'none';\n",
              "    })();\n",
              "  </script>\n",
              "</div>\n",
              "\n",
              "    </div>\n",
              "  </div>\n"
            ],
            "application/vnd.google.colaboratory.intrinsic+json": {
              "type": "dataframe",
              "variable_name": "pred_ratings"
            }
          },
          "metadata": {},
          "execution_count": 69
        }
      ]
    },
    {
      "cell_type": "code",
      "source": [
        "# sanity check: # of rows in pred_ratings == # of active users (1000) x # of popular items (1000)\n",
        "pred_ratings.shape[0] == 1000 * 1000"
      ],
      "metadata": {
        "id": "6Iga7-hsbB28",
        "colab": {
          "base_uri": "https://localhost:8080/"
        },
        "outputId": "e4753e21-01cd-469e-eaf4-1bba901414b0"
      },
      "execution_count": null,
      "outputs": [
        {
          "output_type": "execute_result",
          "data": {
            "text/plain": [
              "True"
            ]
          },
          "metadata": {},
          "execution_count": 70
        }
      ]
    },
    {
      "cell_type": "code",
      "source": [
        "#TODO: use your optimized model to compute the predicted ratings among the top 1000 active users and top 1000 popular movies\n",
        "# model_tuning._net predictions over cartesian_user_num and cartesian_item_num\n",
        "model_tuning._net.eval()\n",
        "pred_ratings[\"pred_ratings\"] = model_tuning._net(cartesian_user_num, cartesian_item_num).cpu().detach().numpy()"
      ],
      "metadata": {
        "id": "Kwd0kppNsy1x"
      },
      "execution_count": null,
      "outputs": []
    },
    {
      "cell_type": "code",
      "source": [
        "# Each user's total viewtime is stored in Series user_total_viewtime\n",
        "user_total_viewtime = new_data[\"user_num\"].value_counts()[:1000] /new_data[\"user_num\"].value_counts()[:1000].sum()\n",
        "user_total_viewtime.name = \"user_total_viewtime\"\n",
        "user_total_viewtime.index.name = \"user_num\"\n",
        "pred_ratings = pd.merge(pred_ratings, user_total_viewtime, left_on=\"user_num\", right_on=\"user_num\", how=\"left\")"
      ],
      "metadata": {
        "id": "JPb_QqWnTS-p"
      },
      "execution_count": null,
      "outputs": []
    },
    {
      "cell_type": "code",
      "source": [
        "pred_ratings.head()"
      ],
      "metadata": {
        "id": "XwtRGaxMHgX4",
        "colab": {
          "base_uri": "https://localhost:8080/",
          "height": 206
        },
        "outputId": "7d26c05d-ebc1-4f9b-e29d-a95b02aab9b5"
      },
      "execution_count": null,
      "outputs": [
        {
          "output_type": "execute_result",
          "data": {
            "text/plain": [
              "   user_num  movie_num  pred_ratings  user_total_viewtime\n",
              "0       978      12859      2.616462             0.008787\n",
              "1       978      10727      2.641433             0.008787\n",
              "2       978       2151      3.085245             0.008787\n",
              "3       978      16894      2.479954             0.008787\n",
              "4       978        283      2.870272             0.008787"
            ],
            "text/html": [
              "\n",
              "  <div id=\"df-2ce2a0f5-5dbc-464f-81bc-f8fd5c930eda\" class=\"colab-df-container\">\n",
              "    <div>\n",
              "<style scoped>\n",
              "    .dataframe tbody tr th:only-of-type {\n",
              "        vertical-align: middle;\n",
              "    }\n",
              "\n",
              "    .dataframe tbody tr th {\n",
              "        vertical-align: top;\n",
              "    }\n",
              "\n",
              "    .dataframe thead th {\n",
              "        text-align: right;\n",
              "    }\n",
              "</style>\n",
              "<table border=\"1\" class=\"dataframe\">\n",
              "  <thead>\n",
              "    <tr style=\"text-align: right;\">\n",
              "      <th></th>\n",
              "      <th>user_num</th>\n",
              "      <th>movie_num</th>\n",
              "      <th>pred_ratings</th>\n",
              "      <th>user_total_viewtime</th>\n",
              "    </tr>\n",
              "  </thead>\n",
              "  <tbody>\n",
              "    <tr>\n",
              "      <th>0</th>\n",
              "      <td>978</td>\n",
              "      <td>12859</td>\n",
              "      <td>2.616462</td>\n",
              "      <td>0.008787</td>\n",
              "    </tr>\n",
              "    <tr>\n",
              "      <th>1</th>\n",
              "      <td>978</td>\n",
              "      <td>10727</td>\n",
              "      <td>2.641433</td>\n",
              "      <td>0.008787</td>\n",
              "    </tr>\n",
              "    <tr>\n",
              "      <th>2</th>\n",
              "      <td>978</td>\n",
              "      <td>2151</td>\n",
              "      <td>3.085245</td>\n",
              "      <td>0.008787</td>\n",
              "    </tr>\n",
              "    <tr>\n",
              "      <th>3</th>\n",
              "      <td>978</td>\n",
              "      <td>16894</td>\n",
              "      <td>2.479954</td>\n",
              "      <td>0.008787</td>\n",
              "    </tr>\n",
              "    <tr>\n",
              "      <th>4</th>\n",
              "      <td>978</td>\n",
              "      <td>283</td>\n",
              "      <td>2.870272</td>\n",
              "      <td>0.008787</td>\n",
              "    </tr>\n",
              "  </tbody>\n",
              "</table>\n",
              "</div>\n",
              "    <div class=\"colab-df-buttons\">\n",
              "\n",
              "  <div class=\"colab-df-container\">\n",
              "    <button class=\"colab-df-convert\" onclick=\"convertToInteractive('df-2ce2a0f5-5dbc-464f-81bc-f8fd5c930eda')\"\n",
              "            title=\"Convert this dataframe to an interactive table.\"\n",
              "            style=\"display:none;\">\n",
              "\n",
              "  <svg xmlns=\"http://www.w3.org/2000/svg\" height=\"24px\" viewBox=\"0 -960 960 960\">\n",
              "    <path d=\"M120-120v-720h720v720H120Zm60-500h600v-160H180v160Zm220 220h160v-160H400v160Zm0 220h160v-160H400v160ZM180-400h160v-160H180v160Zm440 0h160v-160H620v160ZM180-180h160v-160H180v160Zm440 0h160v-160H620v160Z\"/>\n",
              "  </svg>\n",
              "    </button>\n",
              "\n",
              "  <style>\n",
              "    .colab-df-container {\n",
              "      display:flex;\n",
              "      gap: 12px;\n",
              "    }\n",
              "\n",
              "    .colab-df-convert {\n",
              "      background-color: #E8F0FE;\n",
              "      border: none;\n",
              "      border-radius: 50%;\n",
              "      cursor: pointer;\n",
              "      display: none;\n",
              "      fill: #1967D2;\n",
              "      height: 32px;\n",
              "      padding: 0 0 0 0;\n",
              "      width: 32px;\n",
              "    }\n",
              "\n",
              "    .colab-df-convert:hover {\n",
              "      background-color: #E2EBFA;\n",
              "      box-shadow: 0px 1px 2px rgba(60, 64, 67, 0.3), 0px 1px 3px 1px rgba(60, 64, 67, 0.15);\n",
              "      fill: #174EA6;\n",
              "    }\n",
              "\n",
              "    .colab-df-buttons div {\n",
              "      margin-bottom: 4px;\n",
              "    }\n",
              "\n",
              "    [theme=dark] .colab-df-convert {\n",
              "      background-color: #3B4455;\n",
              "      fill: #D2E3FC;\n",
              "    }\n",
              "\n",
              "    [theme=dark] .colab-df-convert:hover {\n",
              "      background-color: #434B5C;\n",
              "      box-shadow: 0px 1px 3px 1px rgba(0, 0, 0, 0.15);\n",
              "      filter: drop-shadow(0px 1px 2px rgba(0, 0, 0, 0.3));\n",
              "      fill: #FFFFFF;\n",
              "    }\n",
              "  </style>\n",
              "\n",
              "    <script>\n",
              "      const buttonEl =\n",
              "        document.querySelector('#df-2ce2a0f5-5dbc-464f-81bc-f8fd5c930eda button.colab-df-convert');\n",
              "      buttonEl.style.display =\n",
              "        google.colab.kernel.accessAllowed ? 'block' : 'none';\n",
              "\n",
              "      async function convertToInteractive(key) {\n",
              "        const element = document.querySelector('#df-2ce2a0f5-5dbc-464f-81bc-f8fd5c930eda');\n",
              "        const dataTable =\n",
              "          await google.colab.kernel.invokeFunction('convertToInteractive',\n",
              "                                                    [key], {});\n",
              "        if (!dataTable) return;\n",
              "\n",
              "        const docLinkHtml = 'Like what you see? Visit the ' +\n",
              "          '<a target=\"_blank\" href=https://colab.research.google.com/notebooks/data_table.ipynb>data table notebook</a>'\n",
              "          + ' to learn more about interactive tables.';\n",
              "        element.innerHTML = '';\n",
              "        dataTable['output_type'] = 'display_data';\n",
              "        await google.colab.output.renderOutput(dataTable, element);\n",
              "        const docLink = document.createElement('div');\n",
              "        docLink.innerHTML = docLinkHtml;\n",
              "        element.appendChild(docLink);\n",
              "      }\n",
              "    </script>\n",
              "  </div>\n",
              "\n",
              "\n",
              "<div id=\"df-a80eee98-92c6-4302-8724-cf2c42e0e839\">\n",
              "  <button class=\"colab-df-quickchart\" onclick=\"quickchart('df-a80eee98-92c6-4302-8724-cf2c42e0e839')\"\n",
              "            title=\"Suggest charts\"\n",
              "            style=\"display:none;\">\n",
              "\n",
              "<svg xmlns=\"http://www.w3.org/2000/svg\" height=\"24px\"viewBox=\"0 0 24 24\"\n",
              "     width=\"24px\">\n",
              "    <g>\n",
              "        <path d=\"M19 3H5c-1.1 0-2 .9-2 2v14c0 1.1.9 2 2 2h14c1.1 0 2-.9 2-2V5c0-1.1-.9-2-2-2zM9 17H7v-7h2v7zm4 0h-2V7h2v10zm4 0h-2v-4h2v4z\"/>\n",
              "    </g>\n",
              "</svg>\n",
              "  </button>\n",
              "\n",
              "<style>\n",
              "  .colab-df-quickchart {\n",
              "      --bg-color: #E8F0FE;\n",
              "      --fill-color: #1967D2;\n",
              "      --hover-bg-color: #E2EBFA;\n",
              "      --hover-fill-color: #174EA6;\n",
              "      --disabled-fill-color: #AAA;\n",
              "      --disabled-bg-color: #DDD;\n",
              "  }\n",
              "\n",
              "  [theme=dark] .colab-df-quickchart {\n",
              "      --bg-color: #3B4455;\n",
              "      --fill-color: #D2E3FC;\n",
              "      --hover-bg-color: #434B5C;\n",
              "      --hover-fill-color: #FFFFFF;\n",
              "      --disabled-bg-color: #3B4455;\n",
              "      --disabled-fill-color: #666;\n",
              "  }\n",
              "\n",
              "  .colab-df-quickchart {\n",
              "    background-color: var(--bg-color);\n",
              "    border: none;\n",
              "    border-radius: 50%;\n",
              "    cursor: pointer;\n",
              "    display: none;\n",
              "    fill: var(--fill-color);\n",
              "    height: 32px;\n",
              "    padding: 0;\n",
              "    width: 32px;\n",
              "  }\n",
              "\n",
              "  .colab-df-quickchart:hover {\n",
              "    background-color: var(--hover-bg-color);\n",
              "    box-shadow: 0 1px 2px rgba(60, 64, 67, 0.3), 0 1px 3px 1px rgba(60, 64, 67, 0.15);\n",
              "    fill: var(--button-hover-fill-color);\n",
              "  }\n",
              "\n",
              "  .colab-df-quickchart-complete:disabled,\n",
              "  .colab-df-quickchart-complete:disabled:hover {\n",
              "    background-color: var(--disabled-bg-color);\n",
              "    fill: var(--disabled-fill-color);\n",
              "    box-shadow: none;\n",
              "  }\n",
              "\n",
              "  .colab-df-spinner {\n",
              "    border: 2px solid var(--fill-color);\n",
              "    border-color: transparent;\n",
              "    border-bottom-color: var(--fill-color);\n",
              "    animation:\n",
              "      spin 1s steps(1) infinite;\n",
              "  }\n",
              "\n",
              "  @keyframes spin {\n",
              "    0% {\n",
              "      border-color: transparent;\n",
              "      border-bottom-color: var(--fill-color);\n",
              "      border-left-color: var(--fill-color);\n",
              "    }\n",
              "    20% {\n",
              "      border-color: transparent;\n",
              "      border-left-color: var(--fill-color);\n",
              "      border-top-color: var(--fill-color);\n",
              "    }\n",
              "    30% {\n",
              "      border-color: transparent;\n",
              "      border-left-color: var(--fill-color);\n",
              "      border-top-color: var(--fill-color);\n",
              "      border-right-color: var(--fill-color);\n",
              "    }\n",
              "    40% {\n",
              "      border-color: transparent;\n",
              "      border-right-color: var(--fill-color);\n",
              "      border-top-color: var(--fill-color);\n",
              "    }\n",
              "    60% {\n",
              "      border-color: transparent;\n",
              "      border-right-color: var(--fill-color);\n",
              "    }\n",
              "    80% {\n",
              "      border-color: transparent;\n",
              "      border-right-color: var(--fill-color);\n",
              "      border-bottom-color: var(--fill-color);\n",
              "    }\n",
              "    90% {\n",
              "      border-color: transparent;\n",
              "      border-bottom-color: var(--fill-color);\n",
              "    }\n",
              "  }\n",
              "</style>\n",
              "\n",
              "  <script>\n",
              "    async function quickchart(key) {\n",
              "      const quickchartButtonEl =\n",
              "        document.querySelector('#' + key + ' button');\n",
              "      quickchartButtonEl.disabled = true;  // To prevent multiple clicks.\n",
              "      quickchartButtonEl.classList.add('colab-df-spinner');\n",
              "      try {\n",
              "        const charts = await google.colab.kernel.invokeFunction(\n",
              "            'suggestCharts', [key], {});\n",
              "      } catch (error) {\n",
              "        console.error('Error during call to suggestCharts:', error);\n",
              "      }\n",
              "      quickchartButtonEl.classList.remove('colab-df-spinner');\n",
              "      quickchartButtonEl.classList.add('colab-df-quickchart-complete');\n",
              "    }\n",
              "    (() => {\n",
              "      let quickchartButtonEl =\n",
              "        document.querySelector('#df-a80eee98-92c6-4302-8724-cf2c42e0e839 button');\n",
              "      quickchartButtonEl.style.display =\n",
              "        google.colab.kernel.accessAllowed ? 'block' : 'none';\n",
              "    })();\n",
              "  </script>\n",
              "</div>\n",
              "\n",
              "    </div>\n",
              "  </div>\n"
            ],
            "application/vnd.google.colaboratory.intrinsic+json": {
              "type": "dataframe",
              "variable_name": "pred_ratings"
            }
          },
          "metadata": {},
          "execution_count": 73
        }
      ]
    },
    {
      "cell_type": "code",
      "source": [
        "# Each user per each movie viewtime: pred_all_ratings[\"user_item_viewtime\"] = [\"1/user_rank\"] / [\"sum(1/user_rank)\"] * [\"user_total_viewtime\"]\n",
        "# these wordy codes are to reduce RAM consumption otherwise Colab may crush\n",
        "pred_ratings[\"1/user_rank\"] = 1/pred_ratings.groupby(\"user_num\")[\"pred_ratings\"].rank(method = \"min\", ascending = False)\n",
        "sum_inverse_user_rank = pred_ratings.groupby(\"user_num\")[\"1/user_rank\"].sum()\n",
        "sum_inverse_user_rank.name = \"sum(1/user_rank)\"\n",
        "pred_ratings = pd.merge(pred_ratings, sum_inverse_user_rank, left_on=\"user_num\", right_on=\"user_num\", how=\"left\")\n",
        "pred_ratings[\"user_item_viewtime\"] = pred_ratings[\"1/user_rank\"] / pred_ratings[\"sum(1/user_rank)\"] * pred_ratings[\"user_total_viewtime\"]"
      ],
      "metadata": {
        "id": "CGYUQOGETpJH"
      },
      "execution_count": null,
      "outputs": []
    },
    {
      "cell_type": "code",
      "source": [
        "pred_ratings"
      ],
      "metadata": {
        "id": "kg-eRoQlH1JI",
        "colab": {
          "base_uri": "https://localhost:8080/",
          "height": 424
        },
        "outputId": "71ab00dd-f82f-4737-e889-48c75bab8d10"
      },
      "execution_count": null,
      "outputs": [
        {
          "output_type": "execute_result",
          "data": {
            "text/plain": [
              "        user_num  movie_num  pred_ratings  user_total_viewtime  1/user_rank  \\\n",
              "0            978      12859      2.616462             0.008787     0.002519   \n",
              "1            978      10727      2.641433             0.008787     0.002695   \n",
              "2            978       2151      3.085245             0.008787     0.019231   \n",
              "3            978      16894      2.479954             0.008787     0.001883   \n",
              "4            978        283      2.870272             0.008787     0.005747   \n",
              "...          ...        ...           ...                  ...          ...   \n",
              "999995      8906       1120      3.455472             0.000483     0.001449   \n",
              "999996      8906      10422      3.817162             0.000483     0.011111   \n",
              "999997      8906      35072      3.169242             0.000483     0.001073   \n",
              "999998      8906       7221      3.559966             0.000483     0.001969   \n",
              "999999      8906      33172      3.685876             0.000483     0.003597   \n",
              "\n",
              "        sum(1/user_rank)  user_item_viewtime  \n",
              "0               7.485471        2.956916e-06  \n",
              "1               7.485471        3.164139e-06  \n",
              "2               7.485471        2.257491e-05  \n",
              "3               7.485471        2.210726e-06  \n",
              "4               7.485471        6.746526e-06  \n",
              "...                  ...                 ...  \n",
              "999995          7.485471        9.346915e-08  \n",
              "999996          7.485471        7.165968e-07  \n",
              "999997          7.485471        6.919926e-08  \n",
              "999998          7.485471        1.269561e-07  \n",
              "999999          7.485471        2.319918e-07  \n",
              "\n",
              "[1000000 rows x 7 columns]"
            ],
            "text/html": [
              "\n",
              "  <div id=\"df-f13f59c6-3eb9-4768-9a05-7b9efd3385fe\" class=\"colab-df-container\">\n",
              "    <div>\n",
              "<style scoped>\n",
              "    .dataframe tbody tr th:only-of-type {\n",
              "        vertical-align: middle;\n",
              "    }\n",
              "\n",
              "    .dataframe tbody tr th {\n",
              "        vertical-align: top;\n",
              "    }\n",
              "\n",
              "    .dataframe thead th {\n",
              "        text-align: right;\n",
              "    }\n",
              "</style>\n",
              "<table border=\"1\" class=\"dataframe\">\n",
              "  <thead>\n",
              "    <tr style=\"text-align: right;\">\n",
              "      <th></th>\n",
              "      <th>user_num</th>\n",
              "      <th>movie_num</th>\n",
              "      <th>pred_ratings</th>\n",
              "      <th>user_total_viewtime</th>\n",
              "      <th>1/user_rank</th>\n",
              "      <th>sum(1/user_rank)</th>\n",
              "      <th>user_item_viewtime</th>\n",
              "    </tr>\n",
              "  </thead>\n",
              "  <tbody>\n",
              "    <tr>\n",
              "      <th>0</th>\n",
              "      <td>978</td>\n",
              "      <td>12859</td>\n",
              "      <td>2.616462</td>\n",
              "      <td>0.008787</td>\n",
              "      <td>0.002519</td>\n",
              "      <td>7.485471</td>\n",
              "      <td>2.956916e-06</td>\n",
              "    </tr>\n",
              "    <tr>\n",
              "      <th>1</th>\n",
              "      <td>978</td>\n",
              "      <td>10727</td>\n",
              "      <td>2.641433</td>\n",
              "      <td>0.008787</td>\n",
              "      <td>0.002695</td>\n",
              "      <td>7.485471</td>\n",
              "      <td>3.164139e-06</td>\n",
              "    </tr>\n",
              "    <tr>\n",
              "      <th>2</th>\n",
              "      <td>978</td>\n",
              "      <td>2151</td>\n",
              "      <td>3.085245</td>\n",
              "      <td>0.008787</td>\n",
              "      <td>0.019231</td>\n",
              "      <td>7.485471</td>\n",
              "      <td>2.257491e-05</td>\n",
              "    </tr>\n",
              "    <tr>\n",
              "      <th>3</th>\n",
              "      <td>978</td>\n",
              "      <td>16894</td>\n",
              "      <td>2.479954</td>\n",
              "      <td>0.008787</td>\n",
              "      <td>0.001883</td>\n",
              "      <td>7.485471</td>\n",
              "      <td>2.210726e-06</td>\n",
              "    </tr>\n",
              "    <tr>\n",
              "      <th>4</th>\n",
              "      <td>978</td>\n",
              "      <td>283</td>\n",
              "      <td>2.870272</td>\n",
              "      <td>0.008787</td>\n",
              "      <td>0.005747</td>\n",
              "      <td>7.485471</td>\n",
              "      <td>6.746526e-06</td>\n",
              "    </tr>\n",
              "    <tr>\n",
              "      <th>...</th>\n",
              "      <td>...</td>\n",
              "      <td>...</td>\n",
              "      <td>...</td>\n",
              "      <td>...</td>\n",
              "      <td>...</td>\n",
              "      <td>...</td>\n",
              "      <td>...</td>\n",
              "    </tr>\n",
              "    <tr>\n",
              "      <th>999995</th>\n",
              "      <td>8906</td>\n",
              "      <td>1120</td>\n",
              "      <td>3.455472</td>\n",
              "      <td>0.000483</td>\n",
              "      <td>0.001449</td>\n",
              "      <td>7.485471</td>\n",
              "      <td>9.346915e-08</td>\n",
              "    </tr>\n",
              "    <tr>\n",
              "      <th>999996</th>\n",
              "      <td>8906</td>\n",
              "      <td>10422</td>\n",
              "      <td>3.817162</td>\n",
              "      <td>0.000483</td>\n",
              "      <td>0.011111</td>\n",
              "      <td>7.485471</td>\n",
              "      <td>7.165968e-07</td>\n",
              "    </tr>\n",
              "    <tr>\n",
              "      <th>999997</th>\n",
              "      <td>8906</td>\n",
              "      <td>35072</td>\n",
              "      <td>3.169242</td>\n",
              "      <td>0.000483</td>\n",
              "      <td>0.001073</td>\n",
              "      <td>7.485471</td>\n",
              "      <td>6.919926e-08</td>\n",
              "    </tr>\n",
              "    <tr>\n",
              "      <th>999998</th>\n",
              "      <td>8906</td>\n",
              "      <td>7221</td>\n",
              "      <td>3.559966</td>\n",
              "      <td>0.000483</td>\n",
              "      <td>0.001969</td>\n",
              "      <td>7.485471</td>\n",
              "      <td>1.269561e-07</td>\n",
              "    </tr>\n",
              "    <tr>\n",
              "      <th>999999</th>\n",
              "      <td>8906</td>\n",
              "      <td>33172</td>\n",
              "      <td>3.685876</td>\n",
              "      <td>0.000483</td>\n",
              "      <td>0.003597</td>\n",
              "      <td>7.485471</td>\n",
              "      <td>2.319918e-07</td>\n",
              "    </tr>\n",
              "  </tbody>\n",
              "</table>\n",
              "<p>1000000 rows × 7 columns</p>\n",
              "</div>\n",
              "    <div class=\"colab-df-buttons\">\n",
              "\n",
              "  <div class=\"colab-df-container\">\n",
              "    <button class=\"colab-df-convert\" onclick=\"convertToInteractive('df-f13f59c6-3eb9-4768-9a05-7b9efd3385fe')\"\n",
              "            title=\"Convert this dataframe to an interactive table.\"\n",
              "            style=\"display:none;\">\n",
              "\n",
              "  <svg xmlns=\"http://www.w3.org/2000/svg\" height=\"24px\" viewBox=\"0 -960 960 960\">\n",
              "    <path d=\"M120-120v-720h720v720H120Zm60-500h600v-160H180v160Zm220 220h160v-160H400v160Zm0 220h160v-160H400v160ZM180-400h160v-160H180v160Zm440 0h160v-160H620v160ZM180-180h160v-160H180v160Zm440 0h160v-160H620v160Z\"/>\n",
              "  </svg>\n",
              "    </button>\n",
              "\n",
              "  <style>\n",
              "    .colab-df-container {\n",
              "      display:flex;\n",
              "      gap: 12px;\n",
              "    }\n",
              "\n",
              "    .colab-df-convert {\n",
              "      background-color: #E8F0FE;\n",
              "      border: none;\n",
              "      border-radius: 50%;\n",
              "      cursor: pointer;\n",
              "      display: none;\n",
              "      fill: #1967D2;\n",
              "      height: 32px;\n",
              "      padding: 0 0 0 0;\n",
              "      width: 32px;\n",
              "    }\n",
              "\n",
              "    .colab-df-convert:hover {\n",
              "      background-color: #E2EBFA;\n",
              "      box-shadow: 0px 1px 2px rgba(60, 64, 67, 0.3), 0px 1px 3px 1px rgba(60, 64, 67, 0.15);\n",
              "      fill: #174EA6;\n",
              "    }\n",
              "\n",
              "    .colab-df-buttons div {\n",
              "      margin-bottom: 4px;\n",
              "    }\n",
              "\n",
              "    [theme=dark] .colab-df-convert {\n",
              "      background-color: #3B4455;\n",
              "      fill: #D2E3FC;\n",
              "    }\n",
              "\n",
              "    [theme=dark] .colab-df-convert:hover {\n",
              "      background-color: #434B5C;\n",
              "      box-shadow: 0px 1px 3px 1px rgba(0, 0, 0, 0.15);\n",
              "      filter: drop-shadow(0px 1px 2px rgba(0, 0, 0, 0.3));\n",
              "      fill: #FFFFFF;\n",
              "    }\n",
              "  </style>\n",
              "\n",
              "    <script>\n",
              "      const buttonEl =\n",
              "        document.querySelector('#df-f13f59c6-3eb9-4768-9a05-7b9efd3385fe button.colab-df-convert');\n",
              "      buttonEl.style.display =\n",
              "        google.colab.kernel.accessAllowed ? 'block' : 'none';\n",
              "\n",
              "      async function convertToInteractive(key) {\n",
              "        const element = document.querySelector('#df-f13f59c6-3eb9-4768-9a05-7b9efd3385fe');\n",
              "        const dataTable =\n",
              "          await google.colab.kernel.invokeFunction('convertToInteractive',\n",
              "                                                    [key], {});\n",
              "        if (!dataTable) return;\n",
              "\n",
              "        const docLinkHtml = 'Like what you see? Visit the ' +\n",
              "          '<a target=\"_blank\" href=https://colab.research.google.com/notebooks/data_table.ipynb>data table notebook</a>'\n",
              "          + ' to learn more about interactive tables.';\n",
              "        element.innerHTML = '';\n",
              "        dataTable['output_type'] = 'display_data';\n",
              "        await google.colab.output.renderOutput(dataTable, element);\n",
              "        const docLink = document.createElement('div');\n",
              "        docLink.innerHTML = docLinkHtml;\n",
              "        element.appendChild(docLink);\n",
              "      }\n",
              "    </script>\n",
              "  </div>\n",
              "\n",
              "\n",
              "<div id=\"df-e8076ec4-5720-427a-8c7a-0c1295b7db95\">\n",
              "  <button class=\"colab-df-quickchart\" onclick=\"quickchart('df-e8076ec4-5720-427a-8c7a-0c1295b7db95')\"\n",
              "            title=\"Suggest charts\"\n",
              "            style=\"display:none;\">\n",
              "\n",
              "<svg xmlns=\"http://www.w3.org/2000/svg\" height=\"24px\"viewBox=\"0 0 24 24\"\n",
              "     width=\"24px\">\n",
              "    <g>\n",
              "        <path d=\"M19 3H5c-1.1 0-2 .9-2 2v14c0 1.1.9 2 2 2h14c1.1 0 2-.9 2-2V5c0-1.1-.9-2-2-2zM9 17H7v-7h2v7zm4 0h-2V7h2v10zm4 0h-2v-4h2v4z\"/>\n",
              "    </g>\n",
              "</svg>\n",
              "  </button>\n",
              "\n",
              "<style>\n",
              "  .colab-df-quickchart {\n",
              "      --bg-color: #E8F0FE;\n",
              "      --fill-color: #1967D2;\n",
              "      --hover-bg-color: #E2EBFA;\n",
              "      --hover-fill-color: #174EA6;\n",
              "      --disabled-fill-color: #AAA;\n",
              "      --disabled-bg-color: #DDD;\n",
              "  }\n",
              "\n",
              "  [theme=dark] .colab-df-quickchart {\n",
              "      --bg-color: #3B4455;\n",
              "      --fill-color: #D2E3FC;\n",
              "      --hover-bg-color: #434B5C;\n",
              "      --hover-fill-color: #FFFFFF;\n",
              "      --disabled-bg-color: #3B4455;\n",
              "      --disabled-fill-color: #666;\n",
              "  }\n",
              "\n",
              "  .colab-df-quickchart {\n",
              "    background-color: var(--bg-color);\n",
              "    border: none;\n",
              "    border-radius: 50%;\n",
              "    cursor: pointer;\n",
              "    display: none;\n",
              "    fill: var(--fill-color);\n",
              "    height: 32px;\n",
              "    padding: 0;\n",
              "    width: 32px;\n",
              "  }\n",
              "\n",
              "  .colab-df-quickchart:hover {\n",
              "    background-color: var(--hover-bg-color);\n",
              "    box-shadow: 0 1px 2px rgba(60, 64, 67, 0.3), 0 1px 3px 1px rgba(60, 64, 67, 0.15);\n",
              "    fill: var(--button-hover-fill-color);\n",
              "  }\n",
              "\n",
              "  .colab-df-quickchart-complete:disabled,\n",
              "  .colab-df-quickchart-complete:disabled:hover {\n",
              "    background-color: var(--disabled-bg-color);\n",
              "    fill: var(--disabled-fill-color);\n",
              "    box-shadow: none;\n",
              "  }\n",
              "\n",
              "  .colab-df-spinner {\n",
              "    border: 2px solid var(--fill-color);\n",
              "    border-color: transparent;\n",
              "    border-bottom-color: var(--fill-color);\n",
              "    animation:\n",
              "      spin 1s steps(1) infinite;\n",
              "  }\n",
              "\n",
              "  @keyframes spin {\n",
              "    0% {\n",
              "      border-color: transparent;\n",
              "      border-bottom-color: var(--fill-color);\n",
              "      border-left-color: var(--fill-color);\n",
              "    }\n",
              "    20% {\n",
              "      border-color: transparent;\n",
              "      border-left-color: var(--fill-color);\n",
              "      border-top-color: var(--fill-color);\n",
              "    }\n",
              "    30% {\n",
              "      border-color: transparent;\n",
              "      border-left-color: var(--fill-color);\n",
              "      border-top-color: var(--fill-color);\n",
              "      border-right-color: var(--fill-color);\n",
              "    }\n",
              "    40% {\n",
              "      border-color: transparent;\n",
              "      border-right-color: var(--fill-color);\n",
              "      border-top-color: var(--fill-color);\n",
              "    }\n",
              "    60% {\n",
              "      border-color: transparent;\n",
              "      border-right-color: var(--fill-color);\n",
              "    }\n",
              "    80% {\n",
              "      border-color: transparent;\n",
              "      border-right-color: var(--fill-color);\n",
              "      border-bottom-color: var(--fill-color);\n",
              "    }\n",
              "    90% {\n",
              "      border-color: transparent;\n",
              "      border-bottom-color: var(--fill-color);\n",
              "    }\n",
              "  }\n",
              "</style>\n",
              "\n",
              "  <script>\n",
              "    async function quickchart(key) {\n",
              "      const quickchartButtonEl =\n",
              "        document.querySelector('#' + key + ' button');\n",
              "      quickchartButtonEl.disabled = true;  // To prevent multiple clicks.\n",
              "      quickchartButtonEl.classList.add('colab-df-spinner');\n",
              "      try {\n",
              "        const charts = await google.colab.kernel.invokeFunction(\n",
              "            'suggestCharts', [key], {});\n",
              "      } catch (error) {\n",
              "        console.error('Error during call to suggestCharts:', error);\n",
              "      }\n",
              "      quickchartButtonEl.classList.remove('colab-df-spinner');\n",
              "      quickchartButtonEl.classList.add('colab-df-quickchart-complete');\n",
              "    }\n",
              "    (() => {\n",
              "      let quickchartButtonEl =\n",
              "        document.querySelector('#df-e8076ec4-5720-427a-8c7a-0c1295b7db95 button');\n",
              "      quickchartButtonEl.style.display =\n",
              "        google.colab.kernel.accessAllowed ? 'block' : 'none';\n",
              "    })();\n",
              "  </script>\n",
              "</div>\n",
              "\n",
              "  <div id=\"id_cc4c8871-317a-4673-9cf6-073487424f8d\">\n",
              "    <style>\n",
              "      .colab-df-generate {\n",
              "        background-color: #E8F0FE;\n",
              "        border: none;\n",
              "        border-radius: 50%;\n",
              "        cursor: pointer;\n",
              "        display: none;\n",
              "        fill: #1967D2;\n",
              "        height: 32px;\n",
              "        padding: 0 0 0 0;\n",
              "        width: 32px;\n",
              "      }\n",
              "\n",
              "      .colab-df-generate:hover {\n",
              "        background-color: #E2EBFA;\n",
              "        box-shadow: 0px 1px 2px rgba(60, 64, 67, 0.3), 0px 1px 3px 1px rgba(60, 64, 67, 0.15);\n",
              "        fill: #174EA6;\n",
              "      }\n",
              "\n",
              "      [theme=dark] .colab-df-generate {\n",
              "        background-color: #3B4455;\n",
              "        fill: #D2E3FC;\n",
              "      }\n",
              "\n",
              "      [theme=dark] .colab-df-generate:hover {\n",
              "        background-color: #434B5C;\n",
              "        box-shadow: 0px 1px 3px 1px rgba(0, 0, 0, 0.15);\n",
              "        filter: drop-shadow(0px 1px 2px rgba(0, 0, 0, 0.3));\n",
              "        fill: #FFFFFF;\n",
              "      }\n",
              "    </style>\n",
              "    <button class=\"colab-df-generate\" onclick=\"generateWithVariable('pred_ratings')\"\n",
              "            title=\"Generate code using this dataframe.\"\n",
              "            style=\"display:none;\">\n",
              "\n",
              "  <svg xmlns=\"http://www.w3.org/2000/svg\" height=\"24px\"viewBox=\"0 0 24 24\"\n",
              "       width=\"24px\">\n",
              "    <path d=\"M7,19H8.4L18.45,9,17,7.55,7,17.6ZM5,21V16.75L18.45,3.32a2,2,0,0,1,2.83,0l1.4,1.43a1.91,1.91,0,0,1,.58,1.4,1.91,1.91,0,0,1-.58,1.4L9.25,21ZM18.45,9,17,7.55Zm-12,3A5.31,5.31,0,0,0,4.9,8.1,5.31,5.31,0,0,0,1,6.5,5.31,5.31,0,0,0,4.9,4.9,5.31,5.31,0,0,0,6.5,1,5.31,5.31,0,0,0,8.1,4.9,5.31,5.31,0,0,0,12,6.5,5.46,5.46,0,0,0,6.5,12Z\"/>\n",
              "  </svg>\n",
              "    </button>\n",
              "    <script>\n",
              "      (() => {\n",
              "      const buttonEl =\n",
              "        document.querySelector('#id_cc4c8871-317a-4673-9cf6-073487424f8d button.colab-df-generate');\n",
              "      buttonEl.style.display =\n",
              "        google.colab.kernel.accessAllowed ? 'block' : 'none';\n",
              "\n",
              "      buttonEl.onclick = () => {\n",
              "        google.colab.notebook.generateWithVariable('pred_ratings');\n",
              "      }\n",
              "      })();\n",
              "    </script>\n",
              "  </div>\n",
              "\n",
              "    </div>\n",
              "  </div>\n"
            ],
            "application/vnd.google.colaboratory.intrinsic+json": {
              "type": "dataframe",
              "variable_name": "pred_ratings"
            }
          },
          "metadata": {},
          "execution_count": 75
        }
      ]
    },
    {
      "cell_type": "code",
      "source": [
        "# sanity check: sum of user_item_viewtime == 1\n",
        "pred_ratings[\"user_item_viewtime\"].sum()"
      ],
      "metadata": {
        "id": "l9Ye6ePU0dPa",
        "colab": {
          "base_uri": "https://localhost:8080/"
        },
        "outputId": "dcf34df2-877a-4ba8-bbc8-334325d223e0"
      },
      "execution_count": null,
      "outputs": [
        {
          "output_type": "execute_result",
          "data": {
            "text/plain": [
              "1.0000000000000004"
            ]
          },
          "metadata": {},
          "execution_count": 76
        }
      ]
    },
    {
      "cell_type": "code",
      "source": [
        "# compute each movie's value\n",
        "budget =  1000000000\n",
        "#TODO: compute the values of movies based on pred_ratings\n",
        "movie_values = pred_ratings.groupby(\"movie_num\")[\"user_item_viewtime\"].sum() * budget\n",
        "movie_values.name = \"item_value\""
      ],
      "metadata": {
        "id": "-ixxWznAUDZG"
      },
      "execution_count": null,
      "outputs": []
    },
    {
      "cell_type": "code",
      "source": [
        "# replace item_num by item_name\n",
        "movie_values = movie_values.to_frame()\n",
        "movie_values[\"title\"] = [numitem_2_name[movie_num] for movie_num in movie_values.index]\n",
        "movie_values = movie_values.set_index(\"title\").squeeze(axis=1)"
      ],
      "metadata": {
        "id": "ENlg_2avaE3z"
      },
      "execution_count": null,
      "outputs": []
    },
    {
      "cell_type": "code",
      "source": [
        "movie_values.head()"
      ],
      "metadata": {
        "id": "IL1koMbfIeFI",
        "colab": {
          "base_uri": "https://localhost:8080/",
          "height": 272
        },
        "outputId": "a3179bd1-bbe9-43c8-e3f7-a2b6a8fdabfd"
      },
      "execution_count": null,
      "outputs": [
        {
          "output_type": "execute_result",
          "data": {
            "text/plain": [
              "title\n",
              "Toy Story (1995)    4.315947e+05\n",
              "Jumanji (1995)      2.066389e+05\n",
              "Heat (1995)         1.287237e+06\n",
              "GoldenEye (1995)    1.955775e+05\n",
              "Casino (1995)       2.200665e+06\n",
              "Name: item_value, dtype: float64"
            ],
            "text/html": [
              "<div>\n",
              "<style scoped>\n",
              "    .dataframe tbody tr th:only-of-type {\n",
              "        vertical-align: middle;\n",
              "    }\n",
              "\n",
              "    .dataframe tbody tr th {\n",
              "        vertical-align: top;\n",
              "    }\n",
              "\n",
              "    .dataframe thead th {\n",
              "        text-align: right;\n",
              "    }\n",
              "</style>\n",
              "<table border=\"1\" class=\"dataframe\">\n",
              "  <thead>\n",
              "    <tr style=\"text-align: right;\">\n",
              "      <th></th>\n",
              "      <th>item_value</th>\n",
              "    </tr>\n",
              "    <tr>\n",
              "      <th>title</th>\n",
              "      <th></th>\n",
              "    </tr>\n",
              "  </thead>\n",
              "  <tbody>\n",
              "    <tr>\n",
              "      <th>Toy Story (1995)</th>\n",
              "      <td>4.315947e+05</td>\n",
              "    </tr>\n",
              "    <tr>\n",
              "      <th>Jumanji (1995)</th>\n",
              "      <td>2.066389e+05</td>\n",
              "    </tr>\n",
              "    <tr>\n",
              "      <th>Heat (1995)</th>\n",
              "      <td>1.287237e+06</td>\n",
              "    </tr>\n",
              "    <tr>\n",
              "      <th>GoldenEye (1995)</th>\n",
              "      <td>1.955775e+05</td>\n",
              "    </tr>\n",
              "    <tr>\n",
              "      <th>Casino (1995)</th>\n",
              "      <td>2.200665e+06</td>\n",
              "    </tr>\n",
              "  </tbody>\n",
              "</table>\n",
              "</div><br><label><b>dtype:</b> float64</label>"
            ]
          },
          "metadata": {},
          "execution_count": 79
        }
      ]
    },
    {
      "cell_type": "code",
      "source": [
        "# sanity check: sum of movie values == budget\n",
        "movie_values.sum() == budget"
      ],
      "metadata": {
        "id": "FHLauUJ6a1zj",
        "colab": {
          "base_uri": "https://localhost:8080/"
        },
        "outputId": "48e866b7-2fc7-46e4-a996-d6b308a5771d"
      },
      "execution_count": null,
      "outputs": [
        {
          "output_type": "execute_result",
          "data": {
            "text/plain": [
              "True"
            ]
          },
          "metadata": {},
          "execution_count": 80
        }
      ]
    },
    {
      "cell_type": "markdown",
      "source": [
        "### Output the top valued movies"
      ],
      "metadata": {
        "id": "eXjfpVJN9YQB"
      }
    },
    {
      "cell_type": "code",
      "source": [
        "movie_values.nlargest(30)"
      ],
      "metadata": {
        "id": "faBvzyRrb2J5",
        "colab": {
          "base_uri": "https://localhost:8080/",
          "height": 1000
        },
        "outputId": "999ed680-96ef-4ce4-e869-02ccae6aec92"
      },
      "execution_count": null,
      "outputs": [
        {
          "output_type": "execute_result",
          "data": {
            "text/plain": [
              "title\n",
              "Band of Brothers (2001)                                                 1.064791e+08\n",
              "12 Angry Men (1957)                                                     6.461979e+07\n",
              "Twelve Angry Men (1954)                                                 4.865002e+07\n",
              "Parasite (2019)                                                         2.610738e+07\n",
              "Thing, The (1982)                                                       2.024232e+07\n",
              "Whiplash (2013)                                                         1.986459e+07\n",
              "Pulp Fiction (1994)                                                     1.636190e+07\n",
              "Spider-Man: Across the Spider-Verse (2023)                              1.290604e+07\n",
              "Princess Mononoke (Mononoke-hime) (1997)                                1.278782e+07\n",
              "Rear Window (1954)                                                      1.209085e+07\n",
              "Seven Samurai (Shichinin no samurai) (1954)                             1.096902e+07\n",
              "Grave of the Fireflies (Hotaru no haka) (1988)                          1.071764e+07\n",
              "Shawshank Redemption, The (1994)                                        8.980987e+06\n",
              "In the Mood For Love (Fa yeung nin wa) (2000)                           8.371348e+06\n",
              "Your Name. (2016)                                                       8.039342e+06\n",
              "Perfect Blue (1997)                                                     7.870978e+06\n",
              "Godfather: Part II, The (1974)                                          7.826677e+06\n",
              "Nausicaä of the Valley of the Wind (Kaze no tani no Naushika) (1984)    7.737482e+06\n",
              "Apocalypse Now (1979)                                                   7.528641e+06\n",
              "Firefly (2002)                                                          7.199536e+06\n",
              "Once Upon a Time in the West (C'era una volta il West) (1968)           6.670748e+06\n",
              "Ghost in the Shell (Kôkaku kidôtai) (1995)                              6.556619e+06\n",
              "Lives of Others, The (Das leben der Anderen) (2006)                     6.241618e+06\n",
              "2001: A Space Odyssey (1968)                                            5.676312e+06\n",
              "There Will Be Blood (2007)                                              5.659489e+06\n",
              "Goodfellas (1990)                                                       5.624749e+06\n",
              "Downfall (Untergang, Der) (2004)                                        5.544840e+06\n",
              "Alien (1979)                                                            5.462543e+06\n",
              "It's a Wonderful Life (1946)                                            5.454951e+06\n",
              "Sting, The (1973)                                                       5.103080e+06\n",
              "Name: item_value, dtype: float64"
            ],
            "text/html": [
              "<div>\n",
              "<style scoped>\n",
              "    .dataframe tbody tr th:only-of-type {\n",
              "        vertical-align: middle;\n",
              "    }\n",
              "\n",
              "    .dataframe tbody tr th {\n",
              "        vertical-align: top;\n",
              "    }\n",
              "\n",
              "    .dataframe thead th {\n",
              "        text-align: right;\n",
              "    }\n",
              "</style>\n",
              "<table border=\"1\" class=\"dataframe\">\n",
              "  <thead>\n",
              "    <tr style=\"text-align: right;\">\n",
              "      <th></th>\n",
              "      <th>item_value</th>\n",
              "    </tr>\n",
              "    <tr>\n",
              "      <th>title</th>\n",
              "      <th></th>\n",
              "    </tr>\n",
              "  </thead>\n",
              "  <tbody>\n",
              "    <tr>\n",
              "      <th>Band of Brothers (2001)</th>\n",
              "      <td>1.064791e+08</td>\n",
              "    </tr>\n",
              "    <tr>\n",
              "      <th>12 Angry Men (1957)</th>\n",
              "      <td>6.461979e+07</td>\n",
              "    </tr>\n",
              "    <tr>\n",
              "      <th>Twelve Angry Men (1954)</th>\n",
              "      <td>4.865002e+07</td>\n",
              "    </tr>\n",
              "    <tr>\n",
              "      <th>Parasite (2019)</th>\n",
              "      <td>2.610738e+07</td>\n",
              "    </tr>\n",
              "    <tr>\n",
              "      <th>Thing, The (1982)</th>\n",
              "      <td>2.024232e+07</td>\n",
              "    </tr>\n",
              "    <tr>\n",
              "      <th>Whiplash (2013)</th>\n",
              "      <td>1.986459e+07</td>\n",
              "    </tr>\n",
              "    <tr>\n",
              "      <th>Pulp Fiction (1994)</th>\n",
              "      <td>1.636190e+07</td>\n",
              "    </tr>\n",
              "    <tr>\n",
              "      <th>Spider-Man: Across the Spider-Verse (2023)</th>\n",
              "      <td>1.290604e+07</td>\n",
              "    </tr>\n",
              "    <tr>\n",
              "      <th>Princess Mononoke (Mononoke-hime) (1997)</th>\n",
              "      <td>1.278782e+07</td>\n",
              "    </tr>\n",
              "    <tr>\n",
              "      <th>Rear Window (1954)</th>\n",
              "      <td>1.209085e+07</td>\n",
              "    </tr>\n",
              "    <tr>\n",
              "      <th>Seven Samurai (Shichinin no samurai) (1954)</th>\n",
              "      <td>1.096902e+07</td>\n",
              "    </tr>\n",
              "    <tr>\n",
              "      <th>Grave of the Fireflies (Hotaru no haka) (1988)</th>\n",
              "      <td>1.071764e+07</td>\n",
              "    </tr>\n",
              "    <tr>\n",
              "      <th>Shawshank Redemption, The (1994)</th>\n",
              "      <td>8.980987e+06</td>\n",
              "    </tr>\n",
              "    <tr>\n",
              "      <th>In the Mood For Love (Fa yeung nin wa) (2000)</th>\n",
              "      <td>8.371348e+06</td>\n",
              "    </tr>\n",
              "    <tr>\n",
              "      <th>Your Name. (2016)</th>\n",
              "      <td>8.039342e+06</td>\n",
              "    </tr>\n",
              "    <tr>\n",
              "      <th>Perfect Blue (1997)</th>\n",
              "      <td>7.870978e+06</td>\n",
              "    </tr>\n",
              "    <tr>\n",
              "      <th>Godfather: Part II, The (1974)</th>\n",
              "      <td>7.826677e+06</td>\n",
              "    </tr>\n",
              "    <tr>\n",
              "      <th>Nausicaä of the Valley of the Wind (Kaze no tani no Naushika) (1984)</th>\n",
              "      <td>7.737482e+06</td>\n",
              "    </tr>\n",
              "    <tr>\n",
              "      <th>Apocalypse Now (1979)</th>\n",
              "      <td>7.528641e+06</td>\n",
              "    </tr>\n",
              "    <tr>\n",
              "      <th>Firefly (2002)</th>\n",
              "      <td>7.199536e+06</td>\n",
              "    </tr>\n",
              "    <tr>\n",
              "      <th>Once Upon a Time in the West (C'era una volta il West) (1968)</th>\n",
              "      <td>6.670748e+06</td>\n",
              "    </tr>\n",
              "    <tr>\n",
              "      <th>Ghost in the Shell (Kôkaku kidôtai) (1995)</th>\n",
              "      <td>6.556619e+06</td>\n",
              "    </tr>\n",
              "    <tr>\n",
              "      <th>Lives of Others, The (Das leben der Anderen) (2006)</th>\n",
              "      <td>6.241618e+06</td>\n",
              "    </tr>\n",
              "    <tr>\n",
              "      <th>2001: A Space Odyssey (1968)</th>\n",
              "      <td>5.676312e+06</td>\n",
              "    </tr>\n",
              "    <tr>\n",
              "      <th>There Will Be Blood (2007)</th>\n",
              "      <td>5.659489e+06</td>\n",
              "    </tr>\n",
              "    <tr>\n",
              "      <th>Goodfellas (1990)</th>\n",
              "      <td>5.624749e+06</td>\n",
              "    </tr>\n",
              "    <tr>\n",
              "      <th>Downfall (Untergang, Der) (2004)</th>\n",
              "      <td>5.544840e+06</td>\n",
              "    </tr>\n",
              "    <tr>\n",
              "      <th>Alien (1979)</th>\n",
              "      <td>5.462543e+06</td>\n",
              "    </tr>\n",
              "    <tr>\n",
              "      <th>It's a Wonderful Life (1946)</th>\n",
              "      <td>5.454951e+06</td>\n",
              "    </tr>\n",
              "    <tr>\n",
              "      <th>Sting, The (1973)</th>\n",
              "      <td>5.103080e+06</td>\n",
              "    </tr>\n",
              "  </tbody>\n",
              "</table>\n",
              "</div><br><label><b>dtype:</b> float64</label>"
            ]
          },
          "metadata": {},
          "execution_count": 81
        }
      ]
    },
    {
      "cell_type": "markdown",
      "source": [
        "**Question**: Include your answer in the report.\n",
        "\n",
        "- What is your estimated value of *Toy Story (1995)*?\n",
        "\n",
        "- What are the top 10 mostly valued movies?\n"
      ],
      "metadata": {
        "id": "_WKrLtifm0Ex"
      }
    },
    {
      "cell_type": "code",
      "source": [
        "movie_values['Toy Story (1995)']"
      ],
      "metadata": {
        "id": "XXzStOqsHy8H",
        "colab": {
          "base_uri": "https://localhost:8080/"
        },
        "outputId": "66b07c6c-837f-4152-e50b-e5a336c50940"
      },
      "execution_count": null,
      "outputs": [
        {
          "output_type": "execute_result",
          "data": {
            "text/plain": [
              "431594.70326415665"
            ]
          },
          "metadata": {},
          "execution_count": 82
        }
      ]
    },
    {
      "cell_type": "markdown",
      "source": [
        " The top 10 mostly valued movies are\n",
        "\n",
        "\n",
        "\n",
        "\n",
        "1. Band of Brothers (2001)               92,666,750\n",
        "\n",
        "2. 12 Angry Men (1957)                  51,854,580\n",
        "\n",
        "3. Twelve Angry Men (1954)          48,828,610\n",
        "\n",
        "4. Parasite (2019)                  29,259,560\n",
        "5. Pulp Fiction (1994)              27,112,650\n",
        "6. Whiplash (2013)                  15,935,770\n",
        "7. Princess Mononoke (Mononoke-hime) (1997)  13,633,740\n",
        "8. Shawshank Redemption, The (1994) 11,897,290\n",
        "9. Godfather, The (1972)            11,278,340\n",
        "10.No Country for Old Men (2007)    10,786,350\n"
      ],
      "metadata": {
        "id": "P8ogJZYrC4A-"
      }
    },
    {
      "cell_type": "markdown",
      "source": [
        "\n",
        "### Compare the output with the mostly rated movies. Identify the discrepancies."
      ],
      "metadata": {
        "id": "qaBFvCq39cKw"
      }
    },
    {
      "cell_type": "code",
      "source": [
        "highest_values_30 = movie_values.nlargest(30).index\n",
        "most_rated_30 = new_data['title'].value_counts().nlargest(30).index"
      ],
      "metadata": {
        "id": "HZvf8MOfKYrg"
      },
      "execution_count": null,
      "outputs": []
    },
    {
      "cell_type": "code",
      "source": [
        "# movies IN top 30 valued AND IN most 30 rated\n",
        "set(highest_values_30).intersection(set(most_rated_30))"
      ],
      "metadata": {
        "id": "rNYuC4IqDQeK",
        "colab": {
          "base_uri": "https://localhost:8080/"
        },
        "outputId": "0c2d26ed-718e-4f62-b019-33169a0a8496"
      },
      "execution_count": null,
      "outputs": [
        {
          "output_type": "execute_result",
          "data": {
            "text/plain": [
              "{'Parasite (2019)', 'Pulp Fiction (1994)', 'Shawshank Redemption, The (1994)'}"
            ]
          },
          "metadata": {},
          "execution_count": 84
        }
      ]
    },
    {
      "cell_type": "code",
      "source": [
        "# movies IN top 30 valued but NOT in most 30 rated\n",
        "set(highest_values_30) - set(most_rated_30)"
      ],
      "metadata": {
        "id": "3XXrYvcTNQxt",
        "colab": {
          "base_uri": "https://localhost:8080/"
        },
        "outputId": "78d4014c-9066-4d7c-e11d-021341b3579b"
      },
      "execution_count": null,
      "outputs": [
        {
          "output_type": "execute_result",
          "data": {
            "text/plain": [
              "{'12 Angry Men (1957)',\n",
              " '2001: A Space Odyssey (1968)',\n",
              " 'Alien (1979)',\n",
              " 'Apocalypse Now (1979)',\n",
              " 'Band of Brothers (2001)',\n",
              " 'Downfall (Untergang, Der) (2004)',\n",
              " 'Firefly (2002)',\n",
              " 'Ghost in the Shell (Kôkaku kidôtai) (1995)',\n",
              " 'Godfather: Part II, The (1974)',\n",
              " 'Goodfellas (1990)',\n",
              " 'Grave of the Fireflies (Hotaru no haka) (1988)',\n",
              " 'In the Mood For Love (Fa yeung nin wa) (2000)',\n",
              " \"It's a Wonderful Life (1946)\",\n",
              " 'Lives of Others, The (Das leben der Anderen) (2006)',\n",
              " 'Nausicaä of the Valley of the Wind (Kaze no tani no Naushika) (1984)',\n",
              " \"Once Upon a Time in the West (C'era una volta il West) (1968)\",\n",
              " 'Perfect Blue (1997)',\n",
              " 'Princess Mononoke (Mononoke-hime) (1997)',\n",
              " 'Rear Window (1954)',\n",
              " 'Seven Samurai (Shichinin no samurai) (1954)',\n",
              " 'Spider-Man: Across the Spider-Verse (2023)',\n",
              " 'Sting, The (1973)',\n",
              " 'There Will Be Blood (2007)',\n",
              " 'Thing, The (1982)',\n",
              " 'Twelve Angry Men (1954)',\n",
              " 'Whiplash (2013)',\n",
              " 'Your Name. (2016)'}"
            ]
          },
          "metadata": {},
          "execution_count": 85
        }
      ]
    },
    {
      "cell_type": "code",
      "source": [
        "# movies IN most 30 rated but NOT IN top 30 valued\n",
        "set(most_rated_30) - set(highest_values_30)"
      ],
      "metadata": {
        "id": "-T_kdNhOSuQP",
        "colab": {
          "base_uri": "https://localhost:8080/"
        },
        "outputId": "0632c4a9-bbaa-4b55-a2af-a49e574ccf14"
      },
      "execution_count": null,
      "outputs": [
        {
          "output_type": "execute_result",
          "data": {
            "text/plain": [
              "{'Arrival (2016)',\n",
              " 'Dark Knight, The (2008)',\n",
              " 'Django Unchained (2012)',\n",
              " 'Dune (2021)',\n",
              " 'Everything Everywhere All at Once (2022)',\n",
              " 'Fight Club (1999)',\n",
              " 'Forrest Gump (1994)',\n",
              " 'Godfather, The (1972)',\n",
              " 'Inception (2010)',\n",
              " 'Inglourious Basterds (2009)',\n",
              " 'Interstellar (2014)',\n",
              " 'Knives Out (2019)',\n",
              " 'Lord of the Rings: The Fellowship of the Ring, The (2001)',\n",
              " 'Lord of the Rings: The Return of the King, The (2003)',\n",
              " 'Lord of the Rings: The Two Towers, The (2002)',\n",
              " 'Matrix, The (1999)',\n",
              " 'Shutter Island (2010)',\n",
              " 'Spider-Man: No Way Home (2021)',\n",
              " 'Spirited Away (Sen to Chihiro no kamikakushi) (2001)',\n",
              " 'Star Wars: Episode IV - A New Hope (1977)',\n",
              " 'Star Wars: Episode V - The Empire Strikes Back (1980)',\n",
              " 'The Batman (2022)',\n",
              " 'The Martian (2015)',\n",
              " 'Top Gun: Maverick (2022)',\n",
              " 'Up (2009)',\n",
              " 'WALL·E (2008)',\n",
              " 'Wolf of Wall Street, The (2013)'}"
            ]
          },
          "metadata": {},
          "execution_count": 86
        }
      ]
    },
    {
      "cell_type": "markdown",
      "source": [
        "**Question**: Include your answers in your report.\n",
        "\n",
        "- What are the movies that are top 30 rated but not in top 30 valued?\n",
        "- What do you think about this approach of movie valuation? How does it compare with the approach based on the popularity of the movies?\n",
        "\n",
        "\n"
      ],
      "metadata": {
        "id": "2_yELRBXV8ds"
      }
    },
    {
      "cell_type": "markdown",
      "source": [
        "**Answer**\n",
        "\n",
        "The movies that are top 30 rated but not in top 30 valued are\n",
        "\n",
        "\n",
        "\n",
        "*   'Arrival (2016)',\n",
        "*   'Django Unchained (2012)',\n",
        "*   'Dune (2021)'，\n",
        "*   'Everything Everywhere All at Once (2022)',\n",
        "*   'Fight Club (1999)',\n",
        "*  'Forrest Gump (1994)',\n",
        "*   'Inception (2010)',\n",
        "*   'Inglourious Basterds (2009)',\n",
        "*   'Interstellar (2014)',\n",
        "*   'Knives Out (2019)',\n",
        "*   \n",
        "'Lord of the Rings: The Fellowship of the Ring, The (2001)',\n",
        "*   'Lord of the Rings: The Return of the King, The (2003)',\n",
        "*   'Lord of the Rings: The Two Towers, The (2002)',\n",
        "'Matrix, The (1999)',\n",
        "*   'Shutter Island (2010)',\n",
        "*   'Spirited Away (Sen to Chihiro no kamikakushi) (2001)',\n",
        "*   'Star Wars: Episode IV – A New Hope (1977)',\n",
        "*  'Star Wars: Episode V – The Empire Strikes Back (1980)',\n",
        "*   'The Batman (2022)',\n",
        "*  'The Martian (2015)',\n",
        "*   \n",
        "'Top Gun: Maverick (2022)',\n",
        "*   \n",
        "'Up (2009)',\n",
        "*  'WALL·E (2008)',\n",
        "*  \n",
        "'Wolf of Wall Street, The (2013)'\n",
        "\n",
        "\n",
        "\n",
        "\n",
        "\n",
        "\n",
        "The above movie valuation approach takes into account both the popularity of the movies and the ratings of the movies. We see that some movies are very poular, but does not have a high rating.\n",
        "However, we should not take the above movie valuation for granted. It definitely has many issues, for example, does not take into account how recent the movies are made. In practice Netflix has much rich data about user view time, so it can produce much better movie valuation. Nevertheless,  through this simple analysis, we can see how the recommender systems provides a promising, new way for content valuation."
      ],
      "metadata": {
        "id": "tYLAM3kiWI6x"
      }
    },
    {
      "cell_type": "code",
      "source": [
        "pred_ratings.groupby(\"item_num\")['pred_ratings'].mean()[name_2_numitem['Toy Story (1995)']]"
      ],
      "metadata": {
        "id": "dQcpBhAFWkCC",
        "colab": {
          "base_uri": "https://localhost:8080/",
          "height": 293
        },
        "outputId": "9fb276c6-4f93-4d7b-ffd6-0390de95cac8"
      },
      "execution_count": null,
      "outputs": [
        {
          "output_type": "error",
          "ename": "KeyError",
          "evalue": "'item_num'",
          "traceback": [
            "\u001b[0;31m---------------------------------------------------------------------------\u001b[0m",
            "\u001b[0;31mKeyError\u001b[0m                                  Traceback (most recent call last)",
            "\u001b[0;32m<ipython-input-87-fbdd1b2168df>\u001b[0m in \u001b[0;36m<cell line: 0>\u001b[0;34m()\u001b[0m\n\u001b[0;32m----> 1\u001b[0;31m \u001b[0mpred_ratings\u001b[0m\u001b[0;34m.\u001b[0m\u001b[0mgroupby\u001b[0m\u001b[0;34m(\u001b[0m\u001b[0;34m\"item_num\"\u001b[0m\u001b[0;34m)\u001b[0m\u001b[0;34m[\u001b[0m\u001b[0;34m'pred_ratings'\u001b[0m\u001b[0;34m]\u001b[0m\u001b[0;34m.\u001b[0m\u001b[0mmean\u001b[0m\u001b[0;34m(\u001b[0m\u001b[0;34m)\u001b[0m\u001b[0;34m[\u001b[0m\u001b[0mname_2_numitem\u001b[0m\u001b[0;34m[\u001b[0m\u001b[0;34m'Toy Story (1995)'\u001b[0m\u001b[0;34m]\u001b[0m\u001b[0;34m]\u001b[0m\u001b[0;34m\u001b[0m\u001b[0;34m\u001b[0m\u001b[0m\n\u001b[0m",
            "\u001b[0;32m/usr/local/lib/python3.11/dist-packages/pandas/core/frame.py\u001b[0m in \u001b[0;36mgroupby\u001b[0;34m(self, by, axis, level, as_index, sort, group_keys, observed, dropna)\u001b[0m\n\u001b[1;32m   9181\u001b[0m             \u001b[0;32mraise\u001b[0m \u001b[0mTypeError\u001b[0m\u001b[0;34m(\u001b[0m\u001b[0;34m\"You have to supply one of 'by' and 'level'\"\u001b[0m\u001b[0;34m)\u001b[0m\u001b[0;34m\u001b[0m\u001b[0;34m\u001b[0m\u001b[0m\n\u001b[1;32m   9182\u001b[0m \u001b[0;34m\u001b[0m\u001b[0m\n\u001b[0;32m-> 9183\u001b[0;31m         return DataFrameGroupBy(\n\u001b[0m\u001b[1;32m   9184\u001b[0m             \u001b[0mobj\u001b[0m\u001b[0;34m=\u001b[0m\u001b[0mself\u001b[0m\u001b[0;34m,\u001b[0m\u001b[0;34m\u001b[0m\u001b[0;34m\u001b[0m\u001b[0m\n\u001b[1;32m   9185\u001b[0m             \u001b[0mkeys\u001b[0m\u001b[0;34m=\u001b[0m\u001b[0mby\u001b[0m\u001b[0;34m,\u001b[0m\u001b[0;34m\u001b[0m\u001b[0;34m\u001b[0m\u001b[0m\n",
            "\u001b[0;32m/usr/local/lib/python3.11/dist-packages/pandas/core/groupby/groupby.py\u001b[0m in \u001b[0;36m__init__\u001b[0;34m(self, obj, keys, axis, level, grouper, exclusions, selection, as_index, sort, group_keys, observed, dropna)\u001b[0m\n\u001b[1;32m   1327\u001b[0m \u001b[0;34m\u001b[0m\u001b[0m\n\u001b[1;32m   1328\u001b[0m         \u001b[0;32mif\u001b[0m \u001b[0mgrouper\u001b[0m \u001b[0;32mis\u001b[0m \u001b[0;32mNone\u001b[0m\u001b[0;34m:\u001b[0m\u001b[0;34m\u001b[0m\u001b[0;34m\u001b[0m\u001b[0m\n\u001b[0;32m-> 1329\u001b[0;31m             grouper, exclusions, obj = get_grouper(\n\u001b[0m\u001b[1;32m   1330\u001b[0m                 \u001b[0mobj\u001b[0m\u001b[0;34m,\u001b[0m\u001b[0;34m\u001b[0m\u001b[0;34m\u001b[0m\u001b[0m\n\u001b[1;32m   1331\u001b[0m                 \u001b[0mkeys\u001b[0m\u001b[0;34m,\u001b[0m\u001b[0;34m\u001b[0m\u001b[0;34m\u001b[0m\u001b[0m\n",
            "\u001b[0;32m/usr/local/lib/python3.11/dist-packages/pandas/core/groupby/grouper.py\u001b[0m in \u001b[0;36mget_grouper\u001b[0;34m(obj, key, axis, level, sort, observed, validate, dropna)\u001b[0m\n\u001b[1;32m   1041\u001b[0m                 \u001b[0min_axis\u001b[0m\u001b[0;34m,\u001b[0m \u001b[0mlevel\u001b[0m\u001b[0;34m,\u001b[0m \u001b[0mgpr\u001b[0m \u001b[0;34m=\u001b[0m \u001b[0;32mFalse\u001b[0m\u001b[0;34m,\u001b[0m \u001b[0mgpr\u001b[0m\u001b[0;34m,\u001b[0m \u001b[0;32mNone\u001b[0m\u001b[0;34m\u001b[0m\u001b[0;34m\u001b[0m\u001b[0m\n\u001b[1;32m   1042\u001b[0m             \u001b[0;32melse\u001b[0m\u001b[0;34m:\u001b[0m\u001b[0;34m\u001b[0m\u001b[0;34m\u001b[0m\u001b[0m\n\u001b[0;32m-> 1043\u001b[0;31m                 \u001b[0;32mraise\u001b[0m \u001b[0mKeyError\u001b[0m\u001b[0;34m(\u001b[0m\u001b[0mgpr\u001b[0m\u001b[0;34m)\u001b[0m\u001b[0;34m\u001b[0m\u001b[0;34m\u001b[0m\u001b[0m\n\u001b[0m\u001b[1;32m   1044\u001b[0m         \u001b[0;32melif\u001b[0m \u001b[0misinstance\u001b[0m\u001b[0;34m(\u001b[0m\u001b[0mgpr\u001b[0m\u001b[0;34m,\u001b[0m \u001b[0mGrouper\u001b[0m\u001b[0;34m)\u001b[0m \u001b[0;32mand\u001b[0m \u001b[0mgpr\u001b[0m\u001b[0;34m.\u001b[0m\u001b[0mkey\u001b[0m \u001b[0;32mis\u001b[0m \u001b[0;32mnot\u001b[0m \u001b[0;32mNone\u001b[0m\u001b[0;34m:\u001b[0m\u001b[0;34m\u001b[0m\u001b[0;34m\u001b[0m\u001b[0m\n\u001b[1;32m   1045\u001b[0m             \u001b[0;31m# Add key to exclusions\u001b[0m\u001b[0;34m\u001b[0m\u001b[0;34m\u001b[0m\u001b[0m\n",
            "\u001b[0;31mKeyError\u001b[0m: 'item_num'"
          ]
        }
      ]
    },
    {
      "cell_type": "code",
      "source": [
        "all_ratings['item_name'].value_counts()['Toy Story (1995)']"
      ],
      "metadata": {
        "id": "VTISE8XLYR5A"
      },
      "execution_count": null,
      "outputs": []
    },
    {
      "cell_type": "code",
      "source": [
        "all_ratings['item_name'].value_counts()['Seven Samurai (The Magnificent Seven) (Shichinin no samurai) (1954)']"
      ],
      "metadata": {
        "id": "f4Q_mHs8YVoK"
      },
      "execution_count": null,
      "outputs": []
    },
    {
      "cell_type": "code",
      "source": [
        "pred_ratings.groupby(\"item_num\")['pred_ratings'].mean()[name_2_numitem['Seven Samurai (The Magnificent Seven) (Shichinin no samurai) (1954)']]"
      ],
      "metadata": {
        "id": "lmDznV46Y2LS"
      },
      "execution_count": null,
      "outputs": []
    }
  ],
  "metadata": {
    "accelerator": "GPU",
    "colab": {
      "provenance": [],
      "gpuType": "T4",
      "machine_shape": "hm",
      "collapsed_sections": [
        "OeHGO4qbUUC4",
        "hHgLg4jBUUDp"
      ]
    },
    "kernelspec": {
      "display_name": "Python 3",
      "name": "python3"
    },
    "language_info": {
      "name": "python"
    }
  },
  "nbformat": 4,
  "nbformat_minor": 0
}