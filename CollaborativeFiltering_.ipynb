{
  "cells": [
    {
      "cell_type": "markdown",
      "source": [
        " Collaborative Filtering via Deep Learning\n",
        "-----\n",
        "\n",
        "There are two main tasks in this case:\n",
        "\n",
        "- Build a deep learning model to predict the movie ratings.\n",
        "\n",
        "- Analyze the predicted ratings and provide an estimate of the movie valuation.\n"
      ],
      "metadata": {
        "id": "VXhAZ3q1c2ZT"
      }
    },
    {
      "cell_type": "markdown",
      "metadata": {
        "id": "tkEE3Ghd9azj"
      },
      "source": [
        "## Introduction\n",
        "One very common problem to solve is when you have a number of users and a number of products, and you want to recommend which products are most likely to be useful for which users. There are many variations of this: for example, recommending movies (such as on Netflix), figuring out what to highlight for a user on a home page, deciding what stories to show in a social media feed, and so forth. There is a general solution to this problem, called *collaborative filtering*, which works like this: look at what products the current user has used or liked, find other users that have used or liked similar products, and then recommend other products that those users have used or liked.\n",
        "\n",
        "For example, on Netflix you may have watched lots of movies that are science fiction, full of action, and were made in the 1970s. Netflix may not know these particular properties of the films you have watched, but it will be able to see that other people that have watched the same movies that you watched also tended to watch other movies that are science fiction, full of action, and were made in the 1970s. In other words, to use this approach we don't necessarily need to know anything about the movies, except who like to watch them.\n",
        "\n",
        "There is actually a more general class of problems that this approach can solve, not necessarily involving users and products. Indeed, for collaborative filtering we more commonly refer to *items*, rather than *products*. Items could be links that people click on, diagnoses that are selected for patients, and so forth.\n",
        "\n",
        "The key foundational idea is that of *latent factors*. In the Netflix example, we started with the assumption that you like old, action-packed sci-fi movies. But you never actually told Netflix that you like these kinds of movies. And Netflix never actually needed to add columns to its movies table saying which movies are of these types. Still, there must be some underlying concept of sci-fi, action, and movie age, and these concepts must be relevant for at least some people's movie watching decisions.\n",
        "\n"
      ]
    },
    {
      "cell_type": "markdown",
      "source": [
        "---\n",
        "In this case, we'll build an explicit feedback recommender system: that is, a model that takes into account explicit feedback signals (like ratings) to recommend new content. We'll use an approach first made popular by the [Netflix prize](https://en.wikipedia.org/wiki/Netflix_Prize) contest: [matrix factorization](https://datajobs.com/data-science-repo/Recommender-Systems-[Netflix].pdf).\n",
        "\n",
        "The basic idea is very simple:\n",
        "\n",
        "1. Start with user-item-rating triplets, conveying the information that user _i_ gave some item _j_ rating _r_.\n",
        "2. Represent both users and items as high-dimensional vectors of numbers. For example, a user could be represented by `[0.3, -1.2, 0.5]` and an item by `[1.0, -0.3, -0.6]`.\n",
        "3. The representations should be chosen so that, when we multiplied together (via [dot products](https://en.wikipedia.org/wiki/Dot_product)), we can recover the original ratings.\n",
        "4. The utility of the model then is derived from the fact that if we multiply the user vector of a user with the item vector of some item they _have not_ rated, we hope to obtain a predicition for the rating they would have given to it had they seen it.\n",
        "\n",
        "<img src='https://storage.googleapis.com/gweb-cloudblog-publish/images/f1-collab_filtering.max-900x900.png?raw=true' width=50% />"
      ],
      "metadata": {
        "id": "Ov5kAMHECNyW"
      }
    },
    {
      "cell_type": "markdown",
      "metadata": {
        "id": "pK7DyF_ZUUDQ"
      },
      "source": [
        "We do not have access to Netflix's entire dataset of movie watching history, but there is a great dataset that we can use, called [MovieLens](https://grouplens.org/datasets/movielens/). This dataset contains tens of millions of movie rankings (a combination of a movie ID, a user ID, and a numeric rating).\n",
        "\n",
        "We start with importing the [Movielens 32M dataset](https://grouplens.org/datasets/movielens/32m/).  It contains 32 million anonymous ratings of approximately 87,585 movies made by 200,948 MovieLens users."
      ]
    },
    {
      "cell_type": "markdown",
      "metadata": {
        "id": "OeHGO4qbUUC4"
      },
      "source": [
        "## Preparations"
      ]
    },
    {
      "cell_type": "markdown",
      "source": [
        "We first import the packages and download the data."
      ],
      "metadata": {
        "id": "lvWi4dUf1dQx"
      }
    },
    {
      "cell_type": "code",
      "source": [
        "import torch\n",
        "torch.cuda.empty_cache()  # Clear GPU cache"
      ],
      "metadata": {
        "id": "qd_qn9FpBxWi"
      },
      "execution_count": 1,
      "outputs": []
    },
    {
      "cell_type": "code",
      "execution_count": 2,
      "metadata": {
        "id": "frj5rX9wUUC_"
      },
      "outputs": [],
      "source": [
        "%matplotlib inline\n",
        "import matplotlib.pyplot as plt\n",
        "import numpy as np\n",
        "import os.path as op\n",
        "import imp\n",
        "import numpy as np\n",
        "\n",
        "from zipfile import ZipFile\n",
        "try:\n",
        "    from urllib.request import urlretrieve\n",
        "except ImportError:  # Python 2 compat\n",
        "    from urllib import urlretrieve\n",
        "\n",
        "# this line need to be changed if not on colab:\n",
        "data_folder = '/content/'\n",
        "\n",
        "\n",
        "ML_1M_URL = \"https://files.grouplens.org/datasets/movielens/ml-32m.zip\"\n",
        "ML_1M_FILENAME = op.join(data_folder,ML_1M_URL.rsplit('/', 1)[1])\n",
        "ML_1M_FOLDER = op.join(data_folder,'ml-32m')"
      ]
    },
    {
      "cell_type": "code",
      "execution_count": 3,
      "metadata": {
        "id": "utzHaMDsV1Bq"
      },
      "outputs": [],
      "source": [
        "if not op.exists(ML_1M_FILENAME):\n",
        "    print('Downloading %s to %s...' % (ML_1M_URL, ML_1M_FILENAME))\n",
        "    urlretrieve(ML_1M_URL, ML_1M_FILENAME)\n",
        "\n",
        "if not op.exists(ML_1M_FOLDER):\n",
        "    print('Extracting %s to %s...' % (ML_1M_FILENAME, ML_1M_FOLDER))\n",
        "    ZipFile(ML_1M_FILENAME).extractall(data_folder)"
      ]
    },
    {
      "cell_type": "markdown",
      "metadata": {
        "id": "hHgLg4jBUUDp"
      },
      "source": [
        "## Check the data"
      ]
    },
    {
      "cell_type": "code",
      "source": [
        "import os\n",
        "\n",
        "# Path to the extracted dataset folder\n",
        "dataset_path = '/content/ml-32m'  # Adjust this path if needed\n",
        "\n",
        "# List all files in the folder\n",
        "files = os.listdir(dataset_path)\n",
        "print(\"Files in the dataset:\")\n",
        "for file in files:\n",
        "    print(file)\n"
      ],
      "metadata": {
        "colab": {
          "base_uri": "https://localhost:8080/"
        },
        "id": "J6ktivH0-9su",
        "outputId": "3c60c395-c896-404e-b3b1-0cb9b200f9c0"
      },
      "execution_count": 4,
      "outputs": [
        {
          "output_type": "stream",
          "name": "stdout",
          "text": [
            "Files in the dataset:\n",
            "links.csv\n",
            "tags.csv\n",
            "README.txt\n",
            "movies.csv\n",
            "checksums.txt\n",
            "ratings.csv\n"
          ]
        }
      ]
    },
    {
      "cell_type": "markdown",
      "source": [
        "There are six different files:\n",
        "\n",
        "- README\n",
        "- movies.csv\n",
        "- ratings.csv\n",
        "- tags.csv\n",
        "- links.csv\n",
        "- checksums.txt\n",
        "\n",
        "\n",
        "\n",
        "\n",
        "\n",
        "You may read README to get the description of each dat files."
      ],
      "metadata": {
        "id": "omZ80S7J1voX"
      }
    },
    {
      "cell_type": "code",
      "source": [
        "#check the ratings.csv file\n",
        "import pandas as pd\n",
        "\n",
        "ratings = pd.read_csv('/content/ml-32m/ratings.csv')\n",
        "print(ratings.head())\n"
      ],
      "metadata": {
        "colab": {
          "base_uri": "https://localhost:8080/"
        },
        "id": "ZXYVvjyW_Re3",
        "outputId": "a83c96f3-23a3-4786-f4a7-ab2eb3692844"
      },
      "execution_count": 5,
      "outputs": [
        {
          "output_type": "stream",
          "name": "stdout",
          "text": [
            "   userId  movieId  rating  timestamp\n",
            "0       1       17     4.0  944249077\n",
            "1       1       25     1.0  944250228\n",
            "2       1       29     2.0  943230976\n",
            "3       1       30     5.0  944249077\n",
            "4       1       32     5.0  943228858\n"
          ]
        }
      ]
    },
    {
      "cell_type": "code",
      "source": [
        "#check the movies.csv file\n",
        "movies = pd.read_csv('/content/ml-32m/movies.csv')\n",
        "print(movies.head())"
      ],
      "metadata": {
        "colab": {
          "base_uri": "https://localhost:8080/"
        },
        "id": "wAbSkNxY_und",
        "outputId": "1bec8faa-228b-4839-cee4-40ca059459df"
      },
      "execution_count": 6,
      "outputs": [
        {
          "output_type": "stream",
          "name": "stdout",
          "text": [
            "   movieId                               title  \\\n",
            "0        1                    Toy Story (1995)   \n",
            "1        2                      Jumanji (1995)   \n",
            "2        3             Grumpier Old Men (1995)   \n",
            "3        4            Waiting to Exhale (1995)   \n",
            "4        5  Father of the Bride Part II (1995)   \n",
            "\n",
            "                                        genres  \n",
            "0  Adventure|Animation|Children|Comedy|Fantasy  \n",
            "1                   Adventure|Children|Fantasy  \n",
            "2                               Comedy|Romance  \n",
            "3                         Comedy|Drama|Romance  \n",
            "4                                       Comedy  \n"
          ]
        }
      ]
    },
    {
      "cell_type": "markdown",
      "source": [
        "When showing the data, we would rather see movie titles than their IDs. The `movies.csv` contains the correspondence of IDs to movie titles."
      ],
      "metadata": {
        "id": "BiYoxkZqDbVo"
      }
    },
    {
      "cell_type": "code",
      "execution_count": 7,
      "metadata": {
        "colab": {
          "base_uri": "https://localhost:8080/"
        },
        "id": "UDPeRguMV1Bz",
        "scrolled": true,
        "outputId": "5de17197-2c0d-480c-c9a0-fc48a00dbddf"
      },
      "outputs": [
        {
          "output_type": "stream",
          "name": "stdout",
          "text": [
            "   userId  movieId  rating  timestamp  \\\n",
            "0       1       17     4.0  944249077   \n",
            "1       1       25     1.0  944250228   \n",
            "2       1       29     2.0  943230976   \n",
            "3       1       30     5.0  944249077   \n",
            "4       1       32     5.0  943228858   \n",
            "\n",
            "                                               title  \\\n",
            "0                       Sense and Sensibility (1995)   \n",
            "1                           Leaving Las Vegas (1995)   \n",
            "2  City of Lost Children, The (Cité des enfants p...   \n",
            "3  Shanghai Triad (Yao a yao yao dao waipo qiao) ...   \n",
            "4          Twelve Monkeys (a.k.a. 12 Monkeys) (1995)   \n",
            "\n",
            "                                   genres  \n",
            "0                           Drama|Romance  \n",
            "1                           Drama|Romance  \n",
            "2  Adventure|Drama|Fantasy|Mystery|Sci-Fi  \n",
            "3                             Crime|Drama  \n",
            "4                 Mystery|Sci-Fi|Thriller  \n"
          ]
        }
      ],
      "source": [
        "\n",
        "# Ensure `movieId` in both datasets is of the same type\n",
        "ratings['movieId'] = ratings['movieId'].astype(int)\n",
        "movies['movieId'] = movies['movieId'].astype(int)\n",
        "\n",
        "# Merge the ratings and movies datasets on the common column 'movieId'\n",
        "all_ratings = ratings.merge(movies, on='movieId')\n",
        "\n",
        "# Preview the merged data\n",
        "print(all_ratings.head())\n"
      ]
    },
    {
      "cell_type": "markdown",
      "metadata": {
        "id": "6nVdjC0IV1B3"
      },
      "source": [
        "Here we add the title of the movies to the `all_ratings` data."
      ]
    },
    {
      "cell_type": "markdown",
      "metadata": {
        "id": "enyJuYhUUUEL"
      },
      "source": [
        "The dataframe `all_ratings` contains all the raw data for our problem."
      ]
    },
    {
      "cell_type": "code",
      "execution_count": 8,
      "metadata": {
        "colab": {
          "base_uri": "https://localhost:8080/"
        },
        "id": "3M7-jinQUUEO",
        "outputId": "da78a817-ed9c-492b-f3ef-9693f523a04f"
      },
      "outputs": [
        {
          "output_type": "execute_result",
          "data": {
            "text/plain": [
              "32000204"
            ]
          },
          "metadata": {},
          "execution_count": 8
        }
      ],
      "source": [
        "#number of entries\n",
        "len(all_ratings)"
      ]
    },
    {
      "cell_type": "markdown",
      "source": [
        "# Subseting"
      ],
      "metadata": {
        "id": "ZS_WxC5iBDil"
      }
    },
    {
      "cell_type": "markdown",
      "source": [
        "Because of limited computing power, we need to downsample the dataset to make the code more manageable."
      ],
      "metadata": {
        "id": "x2b8qat0Z0js"
      }
    },
    {
      "cell_type": "markdown",
      "source": [
        "Here we use timestamp as a cutoff point to filter the ratings after 2021."
      ],
      "metadata": {
        "id": "0Y4msW_maDgu"
      }
    },
    {
      "cell_type": "code",
      "source": [
        "# Define the cutoff UNIX timestamp for January 1, 2022\n",
        "cutoff_timestamp_2022 = 1640995200\n",
        "\n",
        "# Filter the dataset for data after 2021\n",
        "new_data = all_ratings[all_ratings['timestamp'] >= cutoff_timestamp_2022].copy()\n",
        "\n",
        "# Count the number of records\n",
        "num_records_after_2021 = len(new_data)\n",
        "\n",
        "print(f\"Number of records after 2021: {num_records_after_2021}\")\n"
      ],
      "metadata": {
        "colab": {
          "base_uri": "https://localhost:8080/"
        },
        "id": "YtiC687RBCdg",
        "outputId": "f04d40c8-71bd-4d98-98f3-33ab4163cf95"
      },
      "execution_count": 9,
      "outputs": [
        {
          "output_type": "stream",
          "name": "stdout",
          "text": [
            "Number of records after 2021: 1707159\n"
          ]
        }
      ]
    },
    {
      "cell_type": "code",
      "source": [
        "# Statistics of ratings\n",
        "ratings_stats = new_data['rating'].describe()\n",
        "print(ratings_stats)\n"
      ],
      "metadata": {
        "colab": {
          "base_uri": "https://localhost:8080/"
        },
        "id": "_YoJJecjEiR8",
        "outputId": "e557f3b6-3f20-4844-e815-002de2ce3c2d"
      },
      "execution_count": 10,
      "outputs": [
        {
          "output_type": "stream",
          "name": "stdout",
          "text": [
            "count    1.707159e+06\n",
            "mean     3.532153e+00\n",
            "std      1.062279e+00\n",
            "min      5.000000e-01\n",
            "25%      3.000000e+00\n",
            "50%      3.500000e+00\n",
            "75%      4.000000e+00\n",
            "max      5.000000e+00\n",
            "Name: rating, dtype: float64\n"
          ]
        }
      ]
    },
    {
      "cell_type": "code",
      "execution_count": 11,
      "metadata": {
        "colab": {
          "base_uri": "https://localhost:8080/"
        },
        "id": "tCdV2qzMUUEk",
        "outputId": "9078f579-ee7c-433a-9bc3-9df241cd6b0d"
      },
      "outputs": [
        {
          "output_type": "stream",
          "name": "stdout",
          "text": [
            "Unique ratings: [5.  3.5 4.5 4.  2.5 2.  3.  1.  0.5 1.5]\n"
          ]
        }
      ],
      "source": [
        "# Find unique ratings\n",
        "unique_ratings = new_data['rating'].unique()\n",
        "print(\"Unique ratings:\", unique_ratings)\n"
      ]
    },
    {
      "cell_type": "markdown",
      "source": [
        "We now check the user IDs."
      ],
      "metadata": {
        "id": "Q5qXp4HX3P_D"
      }
    },
    {
      "cell_type": "code",
      "source": [
        "# Statistics for the userId column\n",
        "user_stats = new_data['userId'].describe()\n",
        "print(user_stats)\n"
      ],
      "metadata": {
        "colab": {
          "base_uri": "https://localhost:8080/"
        },
        "id": "c1c1lNFG3LM0",
        "outputId": "ed7cb0f6-fcbd-4845-aecc-6219fd7b0650"
      },
      "execution_count": 12,
      "outputs": [
        {
          "output_type": "stream",
          "name": "stdout",
          "text": [
            "count    1.707159e+06\n",
            "mean     1.009894e+05\n",
            "std      5.845256e+04\n",
            "min      2.200000e+01\n",
            "25%      4.988900e+04\n",
            "50%      1.012350e+05\n",
            "75%      1.524850e+05\n",
            "max      2.009330e+05\n",
            "Name: userId, dtype: float64\n"
          ]
        }
      ]
    },
    {
      "cell_type": "code",
      "execution_count": 13,
      "metadata": {
        "colab": {
          "base_uri": "https://localhost:8080/"
        },
        "id": "P1QoS71CUUE7",
        "outputId": "285239c4-1b12-4f73-a95f-aac1a70bad1c"
      },
      "outputs": [
        {
          "output_type": "stream",
          "name": "stdout",
          "text": [
            "Total number of unique users: 14301\n"
          ]
        }
      ],
      "source": [
        "# Calculate the number of unique users\n",
        "total_user_id = len(new_data['userId'].unique())\n",
        "print(\"Total number of unique users:\", total_user_id)\n"
      ]
    },
    {
      "cell_type": "markdown",
      "metadata": {
        "id": "-Az4KDFgV1CQ"
      },
      "source": [
        " Let's check that whether the users are indexed from 0 below using the following code.\n"
      ]
    },
    {
      "cell_type": "code",
      "source": [
        "# Create a sorted list of unique user IDs\n",
        "list_user_id = list(new_data['userId'].unique())\n",
        "list_user_id.sort()\n",
        "\n",
        "# Preview the sorted list (optional)\n",
        "print(\"Sorted list of user IDs:\", list_user_id[:10])  # Display the first 10 user IDs\n"
      ],
      "metadata": {
        "colab": {
          "base_uri": "https://localhost:8080/"
        },
        "id": "QwvbgppwGZrW",
        "outputId": "c7b13c04-a7e9-4926-8c9d-50c98e8009a3"
      },
      "execution_count": 14,
      "outputs": [
        {
          "output_type": "stream",
          "name": "stdout",
          "text": [
            "Sorted list of user IDs: [22, 25, 28, 31, 58, 75, 79, 94, 101, 110]\n"
          ]
        }
      ]
    },
    {
      "cell_type": "markdown",
      "source": [
        "We can see that `list_user_id` contains contiguous indices from 22."
      ],
      "metadata": {
        "id": "7wElJE5T2zKx"
      }
    },
    {
      "cell_type": "markdown",
      "metadata": {
        "id": "h-LytszyV1CV"
      },
      "source": [
        "We create a new column `user_num` to get an index from 0 to  for users:"
      ]
    },
    {
      "cell_type": "code",
      "source": [
        "\n",
        "# Map user IDs to indices starting from 0\n",
        "user_id_to_index = {user_id: index for index, user_id in enumerate(list_user_id)}\n",
        "\n",
        "# Add the new column `user_num` to the ratings DataFrame\n",
        "new_data['user_num'] = new_data['userId'].map(user_id_to_index)\n"
      ],
      "metadata": {
        "id": "8FMw8MJZGwZg"
      },
      "execution_count": 15,
      "outputs": []
    },
    {
      "cell_type": "markdown",
      "metadata": {
        "id": "W0OThRYhV1Cb"
      },
      "source": [
        "We now look at movies."
      ]
    },
    {
      "cell_type": "code",
      "source": [
        "# Find unique movies\n",
        "unique_movies = new_data['movieId'].unique()\n",
        "print(\"Unique movies:\", len(unique_movies))\n"
      ],
      "metadata": {
        "colab": {
          "base_uri": "https://localhost:8080/"
        },
        "id": "pNSmMfReUBx8",
        "outputId": "59a1ea94-0a5c-4fae-c5f7-2fcc48258ab9"
      },
      "execution_count": 16,
      "outputs": [
        {
          "output_type": "stream",
          "name": "stdout",
          "text": [
            "Unique movies: 51858\n"
          ]
        }
      ]
    },
    {
      "cell_type": "code",
      "source": [
        "# Create a sorted list of unique user IDs\n",
        "list_movie_id = list(new_data['movieId'].unique())\n",
        "list_movie_id.sort()\n",
        "\n",
        "# Preview the sorted list (optional)\n",
        "print(list_movie_id[:10])  # First 10 values\n",
        "print(list_movie_id[-10:]) # Last 10 values\n"
      ],
      "metadata": {
        "colab": {
          "base_uri": "https://localhost:8080/"
        },
        "id": "8cIMKcvuTV55",
        "outputId": "f4c8cd6a-59f9-4161-998d-c8660a870d1e"
      },
      "execution_count": 17,
      "outputs": [
        {
          "output_type": "stream",
          "name": "stdout",
          "text": [
            "[1, 2, 3, 4, 5, 6, 7, 8, 9, 10]\n",
            "[292617, 292619, 292625, 292627, 292709, 292731, 292737, 292753, 292755, 292757]\n"
          ]
        }
      ]
    },
    {
      "cell_type": "markdown",
      "metadata": {
        "id": "3gGu2LjiV1Ci"
      },
      "source": [
        "Here there is a clear problem: there are 51858 different movies but the range of `movieId` starts at 1 and ends at 292,757. So there are gaps, so the first thing you will need to do is to create a new column `movie_num` so that all movies are indexed from 0 to 51857."
      ]
    },
    {
      "cell_type": "markdown",
      "source": [
        "We can see that `movieId` contains contiguous indices from 1, but there are gaps somewhere."
      ],
      "metadata": {
        "id": "PxbHTyDqUnvj"
      }
    },
    {
      "cell_type": "markdown",
      "source": [
        "We create a new column `movie_num` to get an index from 0, and make sure it is increased by 1."
      ],
      "metadata": {
        "id": "8cVDuX9SUsw4"
      }
    },
    {
      "cell_type": "code",
      "source": [
        "\n",
        "# Map movie IDs to indices starting from 0\n",
        "movie_id_to_index = {movie_id: index for index, movie_id in enumerate(list_movie_id)}\n",
        "\n",
        "# Add the new column `movie_num` to the ratings DataFrame\n",
        "new_data['movie_num'] = new_data['movieId'].map(movie_id_to_index)"
      ],
      "metadata": {
        "id": "UWjsRCtcVC7p"
      },
      "execution_count": 18,
      "outputs": []
    },
    {
      "cell_type": "markdown",
      "metadata": {
        "id": "weNJOlzcV1Cl"
      },
      "source": [
        "This function will verify that we have created `movie_num` correctly."
      ]
    },
    {
      "cell_type": "code",
      "execution_count": 19,
      "metadata": {
        "id": "ktctMT12V1Cl"
      },
      "outputs": [],
      "source": [
        "# Function to verify the `movie_num` column is correctly created\n",
        "def check_ratings_num(df):\n",
        "    movie_num = set(df['movie_num'])\n",
        "    if movie_num == set(range(len(movie_num))):\n",
        "        return True\n",
        "    else:\n",
        "        return False"
      ]
    },
    {
      "cell_type": "code",
      "execution_count": 20,
      "metadata": {
        "colab": {
          "base_uri": "https://localhost:8080/"
        },
        "id": "w4w1XQnfV1Cp",
        "outputId": "d73324b9-4b42-463b-aefd-ab620ab25e6d"
      },
      "outputs": [
        {
          "output_type": "stream",
          "name": "stdout",
          "text": [
            "Verification result: True\n"
          ]
        }
      ],
      "source": [
        "# Apply the function to the DataFrame\n",
        "result = check_ratings_num(new_data)\n",
        "print(\"Verification result:\", result)\n"
      ]
    },
    {
      "cell_type": "markdown",
      "source": [
        "Let's check the dataset:"
      ],
      "metadata": {
        "id": "zVjIdt0IZvtV"
      }
    },
    {
      "cell_type": "code",
      "source": [
        "\n",
        "# Preview the updated DataFrame\n",
        "print(new_data.head())\n"
      ],
      "metadata": {
        "colab": {
          "base_uri": "https://localhost:8080/"
        },
        "id": "lTcmYoYbT3TH",
        "outputId": "beac1525-860e-4916-ba3f-a0f25968270f"
      },
      "execution_count": 21,
      "outputs": [
        {
          "output_type": "stream",
          "name": "stdout",
          "text": [
            "      userId  movieId  rating   timestamp  \\\n",
            "2184      22      745     5.0  1668909890   \n",
            "2185      22     1036     3.5  1674334081   \n",
            "2187      22     1148     5.0  1668909874   \n",
            "2196      22     2762     3.5  1668895472   \n",
            "2199      22     4979     4.5  1650330136   \n",
            "\n",
            "                                            title  \\\n",
            "2184       Wallace & Gromit: A Close Shave (1995)   \n",
            "2185                              Die Hard (1988)   \n",
            "2187  Wallace & Gromit: The Wrong Trousers (1993)   \n",
            "2196                      Sixth Sense, The (1999)   \n",
            "2199                 Royal Tenenbaums, The (2001)   \n",
            "\n",
            "                               genres  user_num  movie_num  \n",
            "2184        Animation|Children|Comedy         0        641  \n",
            "2185            Action|Crime|Thriller         0        863  \n",
            "2187  Animation|Children|Comedy|Crime         0        945  \n",
            "2196             Drama|Horror|Mystery         0       2314  \n",
            "2199                     Comedy|Drama         0       4263  \n"
          ]
        }
      ]
    },
    {
      "cell_type": "markdown",
      "source": [
        "Now, we are using 'new_data' as our raw dataset to build our network."
      ],
      "metadata": {
        "id": "WPcXTxB_alXI"
      }
    },
    {
      "cell_type": "markdown",
      "source": [
        "# Exploratory analysis"
      ],
      "metadata": {
        "id": "lzKQ8wPGabr1"
      }
    },
    {
      "cell_type": "code",
      "execution_count": 22,
      "metadata": {
        "colab": {
          "base_uri": "https://localhost:8080/"
        },
        "id": "l3gfokbNUUFH",
        "outputId": "5f248147-1e6b-41df-d909-a9492510ec94"
      },
      "outputs": [
        {
          "output_type": "stream",
          "name": "stdout",
          "text": [
            "count    1.707159e+06\n",
            "mean     1.522382e+04\n",
            "std      1.400011e+04\n",
            "min      0.000000e+00\n",
            "25%      3.610000e+03\n",
            "50%      1.095600e+04\n",
            "75%      2.244800e+04\n",
            "max      5.185700e+04\n",
            "Name: movie_num, dtype: float64\n"
          ]
        }
      ],
      "source": [
        "# Describe the movieId column in new_data\n",
        "movie_stats = new_data['movie_num'].describe()\n",
        "print(movie_stats)\n"
      ]
    },
    {
      "cell_type": "code",
      "execution_count": 23,
      "metadata": {
        "colab": {
          "base_uri": "https://localhost:8080/"
        },
        "id": "8ncInsk_V1Cg",
        "outputId": "3bc4695f-7400-43f8-fbb9-17a24909db59"
      },
      "outputs": [
        {
          "output_type": "stream",
          "name": "stdout",
          "text": [
            "Total number of unique rated items: 51858\n"
          ]
        }
      ],
      "source": [
        "# Number of unique rated items\n",
        "total_item_id = len(new_data['movieId'].unique())\n",
        "print(\"Total number of unique rated items:\", total_item_id)\n"
      ]
    },
    {
      "cell_type": "markdown",
      "source": [
        "### Preliminary data analysis\n",
        "Top 10 most popular movies in the dataset.\n"
      ],
      "metadata": {
        "id": "y2XGHdnbLms4"
      }
    },
    {
      "cell_type": "code",
      "source": [
        "# Find the top 10 most frequently rated movies\n",
        "top_movies = new_data['title'].value_counts().nlargest(10)\n",
        "print(top_movies)\n"
      ],
      "metadata": {
        "colab": {
          "base_uri": "https://localhost:8080/"
        },
        "id": "V-jcrW96lwsW",
        "outputId": "b2e287d7-0d06-42ea-f494-fafaae8a017d"
      },
      "execution_count": 24,
      "outputs": [
        {
          "output_type": "stream",
          "name": "stdout",
          "text": [
            "title\n",
            "Inception (2010)                                             5063\n",
            "Dark Knight, The (2008)                                      4737\n",
            "Matrix, The (1999)                                           4697\n",
            "Interstellar (2014)                                          4556\n",
            "Shawshank Redemption, The (1994)                             4454\n",
            "Fight Club (1999)                                            4382\n",
            "Lord of the Rings: The Fellowship of the Ring, The (2001)    4007\n",
            "Everything Everywhere All at Once (2022)                     3989\n",
            "Lord of the Rings: The Return of the King, The (2003)        3842\n",
            "Dune (2021)                                                  3838\n",
            "Name: count, dtype: int64\n"
          ]
        }
      ]
    },
    {
      "cell_type": "markdown",
      "source": [
        "The histogram of popularity (x-axis: # of given ratings, y-axis: # of movies with the given # of ratings)."
      ],
      "metadata": {
        "id": "1KOFiKMCr0_4"
      }
    },
    {
      "cell_type": "code",
      "source": [
        "import matplotlib.pyplot as plt\n",
        "\n",
        "# Calculate the number of ratings per movie\n",
        "ratings_per_movie = new_data['title'].value_counts()\n",
        "\n",
        "# Plot the histogram\n",
        "plt.figure(figsize=(8, 6))\n",
        "plt.hist(ratings_per_movie, bins=50, color='skyblue', edgecolor='black', log=True)\n",
        "\n",
        "# Add labels and title\n",
        "plt.title('Histogram of Movie Popularity', fontsize=14)\n",
        "plt.xlabel('# of Ratings', fontsize=12)\n",
        "plt.ylabel('# of Movies', fontsize=12)\n",
        "plt.grid(axis='y', linestyle='--', alpha=0.7)\n",
        "\n",
        "# Show the plot\n",
        "plt.tight_layout()\n",
        "plt.show()\n"
      ],
      "metadata": {
        "colab": {
          "base_uri": "https://localhost:8080/",
          "height": 607
        },
        "id": "iES1dtjRmnvv",
        "outputId": "e733011a-bc29-4e1f-cf28-893a9b60b985"
      },
      "execution_count": 25,
      "outputs": [
        {
          "output_type": "display_data",
          "data": {
            "text/plain": [
              "<Figure size 800x600 with 1 Axes>"
            ],
            "image/png": "[encoded data removed]"
          },
          "metadata": {}
        }
      ]
    },
    {
      "cell_type": "markdown",
      "source": [
        "The histogram of user activity (x-axis: # of given ratings, y-axis: # of users with the given # of ratings)."
      ],
      "metadata": {
        "id": "9e7Er529r3xY"
      }
    },
    {
      "cell_type": "code",
      "source": [
        "\n",
        "# Calculate the number of ratings per user\n",
        "ratings_per_user = new_data['userId'].value_counts()\n",
        "\n",
        "# Plot the histogram\n",
        "plt.figure(figsize=(8, 6))\n",
        "plt.hist(ratings_per_user, bins=50, color='orange', edgecolor='black', log=True)\n",
        "\n",
        "# Add labels and title\n",
        "plt.title('Histogram of User Activity', fontsize=14)\n",
        "plt.xlabel('# of Ratings Given by Users', fontsize=12)\n",
        "plt.ylabel('# of Users', fontsize=12)\n",
        "plt.grid(axis='y', linestyle='--', alpha=0.7)\n",
        "\n",
        "# Show the plot\n",
        "plt.tight_layout()\n",
        "plt.show()\n"
      ],
      "metadata": {
        "colab": {
          "base_uri": "https://localhost:8080/",
          "height": 607
        },
        "id": "f-5mN1F6qLLF",
        "outputId": "4e08f921-f743-4e9c-f5a2-3ca055eec7d0"
      },
      "execution_count": 26,
      "outputs": [
        {
          "output_type": "display_data",
          "data": {
            "text/plain": [
              "<Figure size 800x600 with 1 Axes>"
            ],
            "image/png": "[encoded data removed]"
          },
          "metadata": {}
        }
      ]
    },
    {
      "cell_type": "markdown",
      "source": [
        "Let's check the distribution of the movies."
      ],
      "metadata": {
        "id": "0WoXNZuSxFmc"
      }
    },
    {
      "cell_type": "markdown",
      "source": [
        "Firstly, we need to check if all rows contain 'year' information:"
      ],
      "metadata": {
        "id": "NR1PoZR_xLmk"
      }
    },
    {
      "cell_type": "code",
      "source": [
        "\n",
        "# Check if the title column contains a year in parentheses\n",
        "new_data['has_year'] = new_data['title'].str.contains(r'\\(\\d{4}\\)', regex=True)\n",
        "\n",
        "# Identify titles missing the year\n",
        "missing_year_titles = new_data[~new_data['has_year']]\n",
        "\n",
        "# Output the result\n",
        "if missing_year_titles.empty:\n",
        "    print(\"All titles include a bracket containing year information.\")\n",
        "else:\n",
        "    print(\"The following titles are missing year information:\")\n",
        "    print(missing_year_titles[['title']])\n"
      ],
      "metadata": {
        "colab": {
          "base_uri": "https://localhost:8080/"
        },
        "id": "RY1knHVqxExm",
        "outputId": "14fa7406-8b76-4052-eeda-1789e1a5a70d"
      },
      "execution_count": 27,
      "outputs": [
        {
          "output_type": "stream",
          "name": "stdout",
          "text": [
            "The following titles are missing year information:\n",
            "                                  title\n",
            "5348                       The Northman\n",
            "5607      I'm Thinking of Ending Things\n",
            "12295                      Enola Holmes\n",
            "14904                          Paterson\n",
            "14912     I'm Thinking of Ending Things\n",
            "...                                 ...\n",
            "31988999                   The Northman\n",
            "31990208                       The King\n",
            "31992142              Nocturnal Animals\n",
            "31992149                      Moonlight\n",
            "31997158                    Bones & All\n",
            "\n",
            "[9916 rows x 1 columns]\n"
          ]
        }
      ]
    },
    {
      "cell_type": "markdown",
      "source": [
        "Count how many movies are missing their 'year' information:"
      ],
      "metadata": {
        "id": "xl4NfMxwx8ih"
      }
    },
    {
      "cell_type": "code",
      "source": [
        "# Step 1: Filter rows where the title is missing year information\n",
        "missing_year_titles = new_data[~new_data['has_year']]\n",
        "\n",
        "# Step 2: Count unique movies (titles) missing year information\n",
        "unique_missing_titles_count = missing_year_titles['title'].nunique()\n",
        "\n",
        "# Output the result\n",
        "print(f\"There are {unique_missing_titles_count} unique movies missing year information.\")\n"
      ],
      "metadata": {
        "colab": {
          "base_uri": "https://localhost:8080/"
        },
        "id": "zSQG4T01x7mp",
        "outputId": "0284315c-6dbe-4812-a196-898f06c435e5"
      },
      "execution_count": 28,
      "outputs": [
        {
          "output_type": "stream",
          "name": "stdout",
          "text": [
            "There are 250 unique movies missing year information.\n"
          ]
        }
      ]
    },
    {
      "cell_type": "markdown",
      "source": [
        "Considering that we have around 51k unique movies in this dataset, we can just ignore the missing information and generate a distribution plot of the rest movies."
      ],
      "metadata": {
        "id": "SbX2MCH_y_9B"
      }
    },
    {
      "cell_type": "markdown",
      "source": [
        "The histogram of movie years (x-axis: # year, y-axis: # of movies produed in that year)."
      ],
      "metadata": {
        "id": "jyB_iErJervy"
      }
    },
    {
      "cell_type": "code",
      "source": [
        "import pandas as pd\n",
        "import matplotlib.pyplot as plt\n",
        "\n",
        "# Step 1: Filter rows with valid year information\n",
        "new_data_with_year = new_data[new_data['has_year']].copy()\n",
        "\n",
        "# Step 2: Extract the year from the title column\n",
        "new_data_with_year['year'] = new_data_with_year['title'].str.extract(r'\\((\\d{4})\\)')\n",
        "\n",
        "# Step 3: Remove duplicates based on the title column\n",
        "unique_movies = new_data_with_year.drop_duplicates(subset='title')\n",
        "\n",
        "# Step 4: Count the number of unique movies produced each year\n",
        "movies_per_year = unique_movies['year'].value_counts().sort_index()\n",
        "\n",
        "# Step 5: Plot the histogram of unique movies by year\n",
        "plt.figure(figsize=(12, 6))\n",
        "movies_per_year.plot(kind='bar', width=0.8, color='skyblue')\n",
        "\n",
        "# Set x-axis labels to display every 5 years\n",
        "plt.title('Number of Unique Movies Produced by Year', fontsize=16)\n",
        "plt.xlabel('Year', fontsize=14)\n",
        "plt.ylabel('Number of Movies', fontsize=14)\n",
        "plt.xticks(range(0, len(movies_per_year), 5), movies_per_year.index[::5], rotation=45)\n",
        "plt.grid(axis='y', linestyle='--', alpha=0.7)\n",
        "plt.tight_layout()\n",
        "plt.show()\n"
      ],
      "metadata": {
        "colab": {
          "base_uri": "https://localhost:8080/",
          "height": 607
        },
        "id": "zjnfLqymy-_2",
        "outputId": "46b49637-e4d5-46b7-fc2c-59fe3e3cc5c4"
      },
      "execution_count": 29,
      "outputs": [
        {
          "output_type": "display_data",
          "data": {
            "text/plain": [
              "<Figure size 1200x600 with 1 Axes>"
            ],
            "image/png": "[encoded data removed]"
          },
          "metadata": {}
        }
      ]
    },
    {
      "cell_type": "markdown",
      "source": [
        "Compute the average ratings for every movie and find the top 20 highly rated movies."
      ],
      "metadata": {
        "id": "nI7Tomlfr64A"
      }
    },
    {
      "cell_type": "code",
      "source": [
        "\n",
        "# Compute the average rating for each movie\n",
        "movie_avg_ratings = new_data.groupby('title')['rating'].mean()\n",
        "\n",
        "# Sort the movies by their average ratings in descending order\n",
        "top_50_movies = movie_avg_ratings.sort_values(ascending=False).head(50)\n",
        "\n",
        "# Print the results\n",
        "print(\"Top 50 Highly Rated Movies:\")\n",
        "print(top_50_movies)\n"
      ],
      "metadata": {
        "colab": {
          "base_uri": "https://localhost:8080/"
        },
        "id": "3TFUhkPEqyLq",
        "outputId": "48c65965-bcf5-4630-b4ed-0ee0138d49fc"
      },
      "execution_count": 30,
      "outputs": [
        {
          "output_type": "stream",
          "name": "stdout",
          "text": [
            "Top 50 Highly Rated Movies:\n",
            "title\n",
            "Life is to Whistle (Vida es silbar, La) (1998)           5.0\n",
            "Classic Albums: The Doors - The Doors (2008)             5.0\n",
            "The Godfather Family: A Look Inside (1990)               5.0\n",
            "Classic Albums: Metallica - Metallica (2001)             5.0\n",
            "Class (2010)                                             5.0\n",
            "Suzy Snowflake (1951)                                    5.0\n",
            "Ace of Hearts (2008)                                     5.0\n",
            "Promise of Pisa (2019)                                   5.0\n",
            "Clancy Once Again (2017)                                 5.0\n",
            "Clancy (2009)                                            5.0\n",
            "Civilisation (1969)                                      5.0\n",
            "Civil Love (2012)                                        5.0\n",
            "City of Your Final Destination, The (2009)               5.0\n",
            "Susie's Hope (2013)                                      5.0\n",
            "With Love, Christmas (2017)                              5.0\n",
            "Autumn Stables (2018)                                    5.0\n",
            "Propaganda (2012)                                        5.0\n",
            "American Circumcision (2017)                             5.0\n",
            "City of Joy (2016)                                       5.0\n",
            "Surviving The Wild (2018)                                5.0\n",
            "Nine Days of One Year (1961)                             5.0\n",
            "Classic Albums: Nirvana - Nevermind (2005)               5.0\n",
            "Dällebach Kari (1970)                                    5.0\n",
            "Witnesses (2021)                                         5.0\n",
            "Warning: Parental Advisory (2002)                        5.0\n",
            "Hut in the Woods (2011)                                  5.0\n",
            "Clipping Adam (2004)                                     5.0\n",
            "Climate Change: The Facts (2019)                         5.0\n",
            "When the Raven Flies (1984)                              5.0\n",
            "Project Christmas Wish (2020)                            5.0\n",
            "A Greater Yes: The Story of Amy Newhouse (2009)          5.0\n",
            "Out of Liberty (2019)                                    5.0\n",
            "No Lost Cause (2011)                                     5.0\n",
            "Sweet Carolina (2021)                                    5.0\n",
            "The Atrocity Exhibition (2000)                           5.0\n",
            "Lambchops (1929)                                         5.0\n",
            "Sweet As (2022)                                          5.0\n",
            "Half a Dozen Babies (1999)                               5.0\n",
            "With or Without You (2021)                               5.0\n",
            "A Godwink Christmas: Second Chance, First Love (2020)    5.0\n",
            "Root of the Problem (2019)                               5.0\n",
            "Projectionist, The (1971)                                5.0\n",
            "A Girl's Best Friend (2015)                              5.0\n",
            "Tirza (2010)                                             5.0\n",
            "Nina's Heavenly Delights (2006)                          5.0\n",
            "She Spent So Many Hours Under the Sun Lamps (1985)       5.0\n",
            "Dying to Belong (1997)                                   5.0\n",
            "Cirque du Soleil: Saltimbanco (1997)                     5.0\n",
            "PsyWar: The real battlefield is your mind (2010)         5.0\n",
            "A Father for Brittany (1998)                             5.0\n",
            "Name: rating, dtype: float64\n"
          ]
        }
      ]
    },
    {
      "cell_type": "markdown",
      "source": [
        "We see that some highly rated movies are not popular ones."
      ],
      "metadata": {
        "id": "OYXD-eNv4PyD"
      }
    },
    {
      "cell_type": "markdown",
      "source": [
        "histogram of the movies(yesars)"
      ],
      "metadata": {
        "id": "6vpHXadZhff3"
      }
    },
    {
      "cell_type": "markdown",
      "metadata": {
        "id": "Ur4bjuniUUFj"
      },
      "source": [
        "---\n",
        "## Train, Validation, and Test Data\n",
        "\n",
        "Now we will split the data in _train_, _val_ and _test_ be using a pre-defined function from [scikit-learn](http://scikit-learn.org/stable/)"
      ]
    },
    {
      "cell_type": "code",
      "execution_count": 31,
      "metadata": {
        "id": "ZT5oxhoGUUFm"
      },
      "outputs": [],
      "source": [
        "#Split the data into train, validation and test\n",
        "from sklearn.model_selection import train_test_split\n",
        "\n",
        "ratings_trainval, ratings_test = train_test_split(new_data, test_size=0.1, random_state=42)\n",
        "\n",
        "ratings_train, ratings_val = train_test_split(ratings_trainval, test_size=0.1, random_state=42)"
      ]
    },
    {
      "cell_type": "code",
      "source": [
        "user_id_train = ratings_train['userId']\n",
        "item_id_train = ratings_train['movieId']\n",
        "rating_train = ratings_train['rating']\n",
        "\n",
        "user_id_test = ratings_test['userId']\n",
        "item_id_test = ratings_test['movieId']\n",
        "rating_test = ratings_test['rating']"
      ],
      "metadata": {
        "id": "_xIuapYfBssG"
      },
      "execution_count": 32,
      "outputs": []
    },
    {
      "cell_type": "code",
      "source": [
        "# Step 1: Identify movies not in the training set\n",
        "movies_not_train = list(set(new_data['movieId']) - set(item_id_train))\n",
        "\n",
        "# Step 2: Retrieve the names of these movies\n",
        "movies_not_train_names = set(new_data.loc[new_data['movieId'].isin(movies_not_train), 'title'])\n",
        "\n",
        "# Step 3: Print the movie names\n",
        "print(movies_not_train_names)\n",
        "print(len(movies_not_train_names))\n"
      ],
      "metadata": {
        "colab": {
          "base_uri": "https://localhost:8080/"
        },
        "id": "kRo_Un-IBiof",
        "outputId": "d86e4633-65b3-4f86-a477-89803cb3624d"
      },
      "execution_count": 33,
      "outputs": [
        {
          "output_type": "stream",
          "name": "stdout",
          "text": [
            "{'Aladdin (1986)', 'Return to Sender (2015)', 'The Other Side (1994)', 'Another Man, Another Chance (1977)', 'Night of Dark Shadows (1971)', 'Accumulator 1 (1994)', 'Rampage (1987)', 'Mommy (1995)', 'Center Stage (Ruan Lingyu) (Actress, The) (New China Woman, The) (1991)', 'The Perfect Pairing (2022)', 'The Agha (1985)', 'Nerkonda Paarvai (2019)', 'Impossible to Imagine (2019)', 'Moscow, I Love You! (2010)', 'The Slipper and the Rose: The Story of Cinderella (1976)', 'End of Days, Inc. (2015)', 'My Robot Brother (2022)', 'State Fair (1962)', 'Virginia City (1940)', 'A Walton Thanksgiving Reunion (1993)', \"Leaves from Satan's Book (Blade af Satans bog) (1921)\", 'The Fight (2020)', 'The Four of Us (2021)', 'A Young Man With High Potential (2019)', 'A Garibaldian in the Convent (1942)', 'Behavior (2014)', 'Lascars (2009)', 'Quest for a Heart (Röllin sydän) (2007)', 'Fist of Fury 1991 II (1992)', 'Python 2 (2002)', 'Goliath (2022)', 'Price Above Rubies, A (1998)', 'Seduction (1973)', 'Legend of the Doll (2006)', 'Nuts! (2016)', 'Birds Like Us (2017)', 'The Chaperone (2019)', 'A Reflection of Fear (1973)', 'The Ten Steps (2004)', 'I Want to Talk About Duras (2022)', 'Macross Frontier: The Wings of Goodbye (2011)', 'Jungle Beat: The Movie (2020)', 'Undone (2020)', 'Bad Grandmas (2017)', 'About Adam (2000)', 'Aalavandhan (2001)', 'Mayerling (1968)', \"Papa's Delicate Condition (1963)\", 'Jo & Jo (2022)', 'Incision (2020)', 'Good Old Daze (Le péril jeune) (1994)', 'Boys Briefs 2 (2002)', 'Razortooth (2007)', 'ChromiumBlue.com (2002)', 'The Shuttered Room (1967)', 'Christmas at the Palace (2018)', 'Wonderland (1997)', 'The Castle of Sand (1974)', 'My Mom Is a Character (Minha Mãe é uma Peça: O Filme) (2013)', '13 Washington Square (1928)', 'Guest Artist (2019)', 'Champion (2017)', '25 Million Pounds (1996)', 'Play the Flute (2019)', 'Three Orphan Kittens (1935)', 'Among the Living (2022)', 'Ward No. 6 (2009)', 'A Few Less Men (2016)', 'Murder Me, Monster (2019)', 'The Ape Man (1943)', 'Agent Trouble (1987)', 'Sin Filtro (2016)', 'A Night in 67 (2010)', 'The Amityville Moon (2021)', \"Sam's Lake (2005)\", 'Comedy of the Strict Regime (1993)', 'Menace from Outer Space (1956)', 'Boxer (1977)', 'Happy Birthday, Gemini (1980)', 'Roadside Prophets (1992)', 'The Little House (2014)', \"They're Playing with Fire (1984)\", 'Last Ones Out (2016)', 'Dallas 362 (2003)', 'Edge of the Woods (2015)', 'Tiananmen: The People Versus the Party (2019)', 'Fight Back to School 2 (1992)', 'Golden Boy (1939)', 'The Deal (2015)', 'Detective Conan: Quarter of Silence (2011)', 'Poker Run (2009)', 'A Sunday Horse (2016)', 'The Etruscan Smile (2018)', 'The Olsen Gang in a Fix (1969)', 'Post Truth (2023)', 'Couple Fucking (2013)', 'The Death of Stalinism in Bohemia (1991)', 'Eva', 'The Zookeeper (2001)', 'Body Troopers (1996)', 'Man with No Name (2010)', 'Android (1982)', 'Mountain Miracle (2017)', 'The Murder Clinic (1966)', \"The King's Wake (2000)\", 'Chamber of Horrors (1966)', 'Joke Man (2023)', 'Stump the Guesser (2020)', 'Double Wedding (2010)', 'O Candidato Honesto (2014)', 'Love Hurts (1990)', 'The Green Perfume (2022)', 'Shot (1973)', 'Woman Without a Face (1947)', 'Richard: The Lionheart (2013)', 'Demon Pond (1979)', \"Fishes 'n Loaves: Heaven Sent (2016)\", 'Olly, Olly, Oxen Free (1978)', 'Searching for Debra Winger (2002)', '100% Love (2011)', 'Russell Peters: Red, White and Brown (2008)', 'Wall Of Secrets (2003)', 'The Fifth Season (1997)', 'The Mount 2 (2023)', 'The Expendables (2000)', 'Estranged (2015)', 'The Living World (2003)', \"Live at Mister Kelly's (2021)\", 'Punk Revolution NYC (2012)', 'Dim Sum: A Little Bit of Heart (1985)', \"Gettin' Square (2003)\", 'King of Fighters, The (2010)', 'Soldier of Fortune (1955)', 'Bill W. (2012)', \"Summer's Moon (2009)\", 'Kút (2016)', 'Frank (2007)', 'Stella Maris (1918)', 'Young Lady Chatterley II (1985)', 'All That She Wants (2008)', 'Mad Cow (2010)', 'Argument About Basia (1959)', 'A Look Into the 23rd Century (1976)', 'Rose (2017)', 'Yuddham Sharanam (2017)', 'Remote Control (1992)', 'Everything Is Simple (2012)', 'Big Muddy (2014)', 'White Skin Black Thighs (1976)', 'Everything I Have is Yours (1952)', 'Teesri Kasam (1967)', 'Cry of the Heart (1974)', 'Maestro (2014)', 'The Siege (2023)', \"The Devil's Dozen (2013)\", 'Troops (1997)', 'Fierce (2020)', 'Imbued Life (2019)', 'Ania (2022)', \"Hubble's Cosmic Journey (2015)\", 'The Loyola Project (2022)', 'The Flood (2018)', 'Message from Akira Kurosawa: For Beautiful Movies, A (Kurosawa Akira kara no messêji: Utsukushii eiga o) (2000)', 'Rock Rock Rock! (1956)', 'Call Me Mrs. Miracle (2010)', 'More Than Chance (2010)', 'Love Exposure (2007)', 'Sicilian Vampire (2015)', \"Mariah Carey's Magical Christmas Special (2020)\", 'Wrong Side Up (Pribehy obycejneho silenstvi) (2005)', 'I Am Virgin (2010)', 'Sea Gull, The (1968)', 'The Queen of Clubs (2009)', \"L7: Pretend We're Dead (2017)\", 'Too Scared to Scream (1985)', 'By the Ravine (1962)', 'Charm (2013)', 'The Rift (1990)', 'Macross Frontier: The False Songstress (2009)', 'Circus of Horrors (1960)', 'J.R.R. Tolkien and the Birth Of \"The Lord of the Rings\" And \"The Hobbit\" (2013)', 'Shark Swarm (2008)', 'Ramaiya Vastavaiya (2013)', 'Curse of the Fly (1965)', 'The Unseen (1980)', 'Mysteries of the Gods (1976)', 'Tit-for-Tat (1906)', \"Fiddler's Journey to the Big Screen (2022)\", 'Dormant Beauty (2012)', 'Cool Cat Stops Bullying (2012)', 'Louis Cyr: The Strongest Man in the World (2013)', 'The Secret Adversary (1983)', 'Closed Curtain (2013)', 'Death by Design (2016)', 'The Snow Woman (1968)', 'CounterForce (1998)', '2021 Rock & Roll Hall of Fame Induction Ceremony (2021)', 'The Wedding Fix (2022)', 'Barbie: Big City, Big Dreams (2021)', '3 Geezers! (2013)', 'Mad God: Part 3 (2018)', 'My Friend the Polish Girl (2019)', 'Ace of Hearts (2008)', \"A Vampire's Tale (2011)\", 'Bon appétit (2010)', 'Rhythm in the Clouds (1937)', 'Untamed Romania (2018)', 'Moonrunners (1975)', 'Gringa (2023)', 'Artists Under the Big Top: Perplexed (1968)', 'The Door (2014)', 'A Sun-Tribe Myth from the Bakumatsu Era (1957)', 'Hacker: Trust No One (2022)', 'Lay It Down (2001)', 'Severe Clear (2010)', 'A Piece of Sky (2022)', 'Lost in Russia (2020)', 'Hart to Hart: Old Friends Never Die (1994)', 'The Building (2022)', 'The Projectionist (2019)', 'National Theatre Live: Twelfth Night (2017)', 'Cheat, The (1915)', 'Rise of the Machine Girls (2019)', \"Carla's Song (1996)\", 'Die Mondverschwörung (2011)', 'One Last Dive (2013)', 'Map of the Sounds of Tokyo (2009)', 'Space Adventure Cobra (1982)', 'Toto, Peppino, and the Hussy (1956)', 'Monkey Melodies (1930)', 'Riffraff (1936)', 'The Dress (1996)', 'Black and White in Color (Noirs et blancs en couleur) (1976)', 'Love So Divine (2004)', 'Furies (2022)', 'No Place Like Home (2019)', 'It Takes Two (1988)', 'Government Woman (2013)', '1987 (2014)', \"So Wrong They're Right (1995)\", 'Gehenna: Where Death Lives (2016)', 'Juliana & the Medicine Fish (2017)', 'Stratton Story, The (1949)', 'Circus Kane (2017)', 'Samurai Cop 2: Deadly Vengeance (2015)', \"Lupin the Third: The Pursuit of Harimao's Treasure (1995)\", 'Traces of the Trade: A Story from the Deep North (2008)', 'Alien Intruder (1993)', 'Daltry Calhoun (2005)', 'Sultan (1978)', 'Os Trapalhões no Auto da Compadecida (1987)', 'Growing Op (2008)', 'Baby (2020)', 'Eagle Shooting Heroes (1993)', 'Alpha and Omega: The Big Fureeze (2016)', 'The Unfolding (2015)', 'The Club (1980)', 'Mad Love (1985)', \"A Connecticut Yankee in King Arthur's Court (1989)\", \"Cookin' with Gags (1955)\", 'When You Remember Me (1990)', 'Are You Lonesome Tonight? (2021)', 'Sel8nne (2013)', 'Oresama (2003)', 'Anders, jag och hans 23 andra kvinnor (2018)', 'Dear Future Children (2021)', 'Lucky Day (2019)', 'Gokusen The Movie (2009)', 'Christmas Belle (2013)', 'One in a Thousand (2020)', 'Jewel (2001)', 'The Ex Next Door (2019)', 'Hornblower: The Fire Ships (1998)', 'Jackie Chan: My Story (1998)', 'Spasmo (1974)', 'Most Dangerous Man in America: Daniel Ellsberg and the Pentagon Papers, The (2009)', 'Under the Roofs of Paris (Sous les toits de Paris) (1930)', \"'Neath the Arizona Skies (1934)\", 'Спасибо деду за победу (2019)', 'When We Dance (2019)', 'Les Gagnants (2022)', 'My Entire High School Sinking Into the Sea (2016)', 'The Life of Fish (2010)', 'Freelance (2023)', 'Cymbeline (2014)', 'Süpürrr! (2009)', 'A Night of Horror: Nightmare Radio (2020)', 'Mutiny on the Buses (1972)', 'The Miracle Club (2023)', 'Josée (2020)', 'First Snow (2022)', 'Ladies Only (2021)', 'Cinderella (1977)', 'The Marine 5 Battleground (2017)', 'Mat Kilau (2022)', 'Love, Strange Love (1982)', 'City Rats (2009)', 'Villain (2010)', 'Casa de los babys (2003)', 'Relentless (1989)', 'Fire (2020)', 'Девочки', 'Dybbuk (2021)', 'The Stranger (1987)', 'Bound (2015)', 'Found. (2020)', 'The Virgin of Nuremberg (1963)', 'Decision (2011)', 'Treasure Island (1972)', 'Sam Kinison: Breaking the Rules (1987)', 'Bridal Wave (2015)', \"L'Ingorgo : Una storia impossibile (1979)\", 'Another Tango (2018)', 'Bitter Sugar (Azúcar amarga) (1996)', 'The View From Here (2017)', 'Erna at War (2020)', 'Glaze of Cathexis (1990)', 'Lab Rat (2019)', 'Wise Guys (1961)', 'The Long Way Home (1998)', 'Unfair Competition (Concorrenza sleale) (2001)', \"The Beach Boys: Wouldn't It Be Nice (2005)\", 'You Will Be Mine (2009)', 'Bats: Human Harvest (2007)', 'Paappan (2022)', 'Мартынко (1987)', \"No Sex Please: We're British (1973)\", '30 Beats (2012)', 'The Blue Bird (2008)', 'Pandemonium (1982)', 'The Little Mermaid (1976)', 'The Wish Tree (2008)', 'The Shipment (2018)', \"Don't Look Up (1996)\", 'Approved for Adoption (2012)', 'Jecão... Um Fofoqueiro no Céu (1977)', 'Mudge Boy, The (2003)', 'The Russell Girl (2008)', 'The Mule (2014)', 'Trixie Mattel: Skinny Legend (2019)', 'Music of Chance, The (1993)', \"My Best Friend's Famous (2019)\", 'Mission to the Sun (2018)', 'Les Invisibles (2019)', 'The Monster of Mangatiti (2015)', 'Good-bye, My Lady (1956)', \"Alabama's Ghost (1973)\", 'Write Before Christmas (2019)', 'Sport Goofy in Soccermania (1987)', 'Killer Eye: Halloween Haunt (2011)', 'Hard Promises (1991)', 'Million Dollar Weekend (1948)', 'Tim Dillon: A Real Hero (2022)', 'Chok-Dee (2005)', 'Concours d’automobiles fleuries (départ) (1899)', 'No Deposit (2015)', 'Spitfire (1934)', 'A Colbert Christmas: The Greatest Gift of All! (2008)', 'Joseph Kilian (1963)', 'Dough and Dynamite (1914)', 'Fahrenhype 9/11 (2004)', 'The Fish That Saved Pittsburgh (1979)', 'Beverly Hills Madam (1986)', 'Armored Car Robbery (1950)', 'The Journey (2014)', 'Codependent Lesbian Space Alien Seeks Same (2011)', 'My Brother the Pig (1999)', 'Worlds Apart (2015)', 'Stronger Than Love (1955)', 'Teatro di guerra (1998)', 'Service (Serbis) (2008)', 'Eating Animals (2017)', 'Laaga Chunari Mein Daag: Journey of a Woman (2007)', 'Nobody (2007)', 'Terror on a Train (Time Bomb) (1953)', 'Kojak: None So Blind (1990)', 'Elián', 'City Across the River (1949)', 'Feral (2012)', \"Gabriel's Inferno Part III (2020)\", 'Vampir (Cuadecuc, vampir) (1971)', \"Foyle's War - War Games (2003)\", 'Merry War, A (1997)', \"Jupiter's Darling (1955)\", 'Cours Privé (1986)', 'Monster from Green Hell (1957)', 'Hayride 2 (2015)', 'Period Piece (2006)', 'Café solo o con ellas (2007)', 'Goodbye, Columbus (1969)', 'Space Wars: Quest for the Deepstar (2023)', 'The Pointsman (1986)', 'The Little Wars (1982)', 'Men with Brooms (2002)', 'Garden Gopher (1950)', 'One Survivor Remembers (1995)', 'The Dreaming (1988)', 'The Haunting of Pendle Hill (2022)', 'The Birth of Love (1993)', 'Crooked Hearts (1991)', 'Cairo (1942)', 'Mother (1952)', 'Üç Harfliler: Beddua (2018)', 'Frau Müller muss weg (2015)', 'Dead Cool (2005)', 'Love, Wedding, Marriage (2011)', 'Suitor, The (Soupirant, Le) (1962)', 'Unconditional Love (2002)', 'Phatik Chand (1983)', 'Door on the Left as You Leave the Elevator (1988)', 'Caught in a Cabaret (1914)', 'Yank in the R.A.F., A (1941)', 'The Midnight Man (1974)', 'In the Country of Last Things (2020)', 'Desert Nights (1929)', 'Alfie Darling (1975)', 'Here Is My Heart (1934)', 'Vidar the Vampire (2017)', 'Darken (2017)', 'Goodbye to the Past (1961)', 'Footsteps in the Fog (1955)', 'Şoför Nebahat (1970)', 'The Christmas Edition (2020)', 'Chunhyang (2000)', 'Japon İşi (1987)', 'Skinner (1993)', 'Murder Ahoy (1964)', 'Gurgaon (2017)', 'Cup of Love (2016)', 'The End of Our Love (2003)', 'I Got Five on It (2005)', 'Face to Face (1966)', \"Guinea Pig 1: Devil's Experiment (1985)\", 'I Got the Hook Up 2 (2019)', \"A Woman's Vengeance (1948)\", \"I'm Not Here\", 'Nosotros los pobres (1948)', 'Ripples (1967)', \"I Do (but I Don't) (2004)\", 'A Girl in Australia (1971)', 'Sign of the Gladiator (1959)', 'Is This Fate? (1979)', 'Waqt: The Race Against Time (2005)', \"That's It, That's All (2008)\", \"Outlaw's Buckle (2021)\", 'The Forgotten Space (2010)', 'What Killed Michael Brown? (2020)', 'Hour of the Star (1985)', 'The Man Who Saw Frankenstein Cry (2010)', 'Our Lady of the Assassins (Virgen de los sicarios, La) (2000)', 'Crime Fiction (2007)', \"Passage à l'acte (1993)\", 'Kyle Kinane: Whiskey Icarus (2012)', 'Annie (1989)', '7:20 Once a Week (2018)', \"Jack's Apocalypse (2015)\", 'Eugenio (2018)', 'The Outsider (2019)', 'Polish Wedding (1998)', 'Rickover: The Birth of Nuclear Power (2014)', 'Tragic Error (1913)', 'Popstar (2005)', 'The Cook (1972)', 'Scare Campaign (2016)', \"Sharon's Baby (1975)\", \"La profezia dell'Armadillo (2018)\", 'Frank Zappa & The Mothers - Roxy - The Movie 1973 (2015)', 'Too Hot to Handle (1938)', \"Spirits' Homecoming (2016)\", \"Saturday's Warrior (1989)\", 'Game Changers: Inside the Video Game Wars (2019)', 'Mademoiselle Paradis (2018)', 'Les hautes solitudes (1974)', 'Oil City Confidential (2009)', 'Shark Attack (1999)', 'The Jinn (2013)', 'The Mechanical Monsters (1941)', 'Les Tuche 2 : Le Rêve Américain (2016)', 'This Is Not a Test (2009)', 'Montana Moon (1930)', \"One Deadly Summer (L'été meurtrier) (1983)\", 'Borsalino (1970)', 'Hard-Core (2018)', 'Replay (2001)', 'Softness of Bodies (2018)', 'Hidden Man (2018)', 'Before Mars (2016)', 'The Dangerous Sex Date (2001)', 'Fragments of an Alms-Film (Fragmentos de um Filme-Esmola: A Sagrada Família) (1972)', 'Million Dollar Duck, The (a.k.a. $1,000,000 Duck) (1971)', 'Last Order: Final Fantasy VII (2005)', 'The Unhanged (1971)', 'Straight Into a Storm (2018)', 'Delirium (2018)', 'Aanandam (2016)', 'Hunter Goes to Hollywood (2003)', 'It Came from Hollywood (1982)', 'Cave Crocs of Gabon (2018)', 'AI Love You (2022)', 'Clean Thursday (2003)', 'Body Guards (2000)', 'Ábel a rengetegben (1994)', \"Don't Talk to Strangers (1994)\", 'Dream Lover (1986)', 'Way Ahead, The (a.k.a. The Immortal Battalion) (1944)', 'Unraveled (2011)', 'Assassins Run (2013)', 'The Children (1985)', 'Max Steiner: Maestro of Movie Music (2019)', 'Artificial Paradises (2011)', 'Bridge to the Sun (1961)', 'Grandfather, The (Abuelo, El) (1998)', 'Mamba (1930)', 'Silent Voice (2009)', \"The Revengers' Comedies (1998)\", 'Diorama (2022)', 'Return of the Chinese Boxer (1977)', 'Is It Too Much to Ask? (2017)', 'Film Geek (2005)', 'Crowsnest (2012)', 'Freeze Frame (2004)', '4 Horror Tales - Hidden Floor (2006)', 'One Spy Too Many (1966)', 'Backlash (1956)', 'The Lost Prince (2020)', 'Hádkovi (2022)', 'Original Gangstas (1996)', 'The Devil Is Driving (1932)', 'Phone Call from a Stranger (1952)', 'Real Life (2004)', 'Someday We’ll Tell Each Other Everything (2023)', '4x4 (2019)', 'Last Words (2020)', 'Radiator (2014)', 'Popeye the Sailor (1933)', \"Porky's Poppa (1938)\", 'Michael Inside (2018)', \"Hitler's Children (2011)\", 'Russian Doll (2000)', '5ive Must Die (2018)', 'All the Good Ones Are Married (2007)', 'Warrendale (1967)', 'Babes in the Woods (1932)', 'Just in Time for Christmas (2015)', 'No Need to Grieve (2010)', 'The Empire of Dracula (1967)', 'What Can You Do about It? (2019)', 'Ground Zero (2000)', 'Jitney Elopement, A (1915)', 'Springsteen & I (2013)', 'Another Soul (2018)', \"Into The Lion's Den (2011)\", 'Flysch, Haitzen Hitza (2009)', 'Katie Tippel (Keetje Tippel) (1975)', 'Eadweard Muybridge, Zoopraxographer (1974)', 'Jesus (2020)', 'Street with No Name, The (1948)', 'Box (1982)', 'Wife vs. Secretary (1936)', 'Touch of Spice, A (Politiki kouzina) (2003)', 'Mega Cyclone (2011)', 'Lion Down (1951)', 'Myrnyi-21 (2023)', \"The Tree's Knees (1931)\", 'O Querido Lilás (1987)', 'The Diam Diam Era (2020)', 'Marquis (1989)', 'Mammoth (2006)', 'Attack the Gas Station 2 (2010)', 'Crystal Sky of Yesterday (2018)', 'Illuminated Texts (1982)', 'Anton Tchekhov 1980 (2015)', 'Last Ride (2009)', 'Persona 3 the Movie: #1 Spring of Birth (2013)', \"I'm Not Him (2021)\", 'Slices (2008)', '8eraf (2021)', 'In the Land of Saints and Sinners (2023)', 'The Escape (1978)', 'I Do (1921)', 'Lupin the Third: Farewell to Nostradamus (1995)', 'The Return of Draw Egan (1916)', 'Kojak: Flowers For Matty (1990)', 'The Diabolical (2015)', 'The Yellow Wallpaper (2021)', \"A Doll's House (1973)\", 'Kaduva (2022)', 'Nest of Tens (2000)', 'Lost in Paris (2017)', 'Joan Rivers: (Still A) Live at the London Palladium (2005)', 'The Yellow Handkerchief (1977)', 'Abandoned (2015)', 'Here comes another one (1984)', 'Moscow - Lopushki (2014)', 'Prince Igor (1969)', 'Passing Summer (2001)', 'Accidental Truth: UFO Revelations (2023)', 'Padosan (1968)', 'The Killing of Angel Street (1981)', 'Tom and Jerry Meet Sherlock Holmes (2010)', 'Death Rite (1976)', 'A Straightforward Boy (1929)', 'Little Dutch Plate (1935)', 'Why? (2021)', 'Skyman (2020)', 'Rudolf the Black Cat (2016)', 'The Thin Pink Line (1998)', 'First Shot (2002)', 'Wings of the Hawk (1953)', 'Love Is Blind (2013)', 'NYC Point Gods (2022)', \"Gore Vidal's Billy the Kid (1989)\", 'The Taste of Violence (1961)', 'Moving Target (1988)', 'A Wolf from Vesyegonsk (2004)', 'This Is Elvis (1981)', 'Lover of the Last Empress (1995)', 'The Russia We Lost (1992)', 'Recursion (2018)', \"Down 'n Dirty (2001)\", 'Umut (2009)', 'Master of the Universe (2013)', 'Mandela (2021)', 'Bad Guys (2008)', 'Circle of Deceit (Die Fälschung) (1981)', 'Malta Story (1953)', 'The Net (2003)', 'A Vineyard Romance (2021)', \"Children of the Corn 666: Isaac's Return (1999)\", 'Mix-Up (1986)', 'Daughter of the Bride (2023)', 'The Roof (1956)', 'All I Can (2011)', '11-11-11 (11-11-11: The Prophecy) (2011)', 'B. Monkey (1998)', 'Last Man Standing (2021)', 'Pete Smalls Is Dead (2010)', 'And Now My Love (Toute une vie) (1974)', 'A World Away (2019)', 'Finding Rin Tin Tin (2007)', 'All Things Pass (1979)', 'The People Across the Lake (1988)', 'Ooga Booga (2013)', 'Bread and Alley (Nan va Koutcheh) (1970)', 'Desperate Man Blues (2003)', 'Vares - The Sheriff (2015)', 'Far from Vietnam (1967)', \"Scenes from Allen's Last Three Days on Earth as a Spirit (1997)\", 'Disconnect. Reconnect (2013)', 'Il vigile (1960)', 'The Fast and the Fierce (2017)', 'Sailing Into Love (2019)', 'Seven Sweethearts (1942)', 'Sahara (1995)', 'Neurotic Quest for Serenity (2017)', 'Skin Deep (1989)', \"Night's Tightrope (2016)\", 'She Monkeys (2011)', 'The Princess Comes Across (1936)', 'Captain Thunder (1930)', 'Revenge (1964)', 'Supernova (2019)', 'Merry Andrew (1958)', 'The Nine Demons (1984)', 'Warrior and the Sorceress, The (1984)', 'Gill (2019)', 'Entrance (2012)', 'No Bad Days (2008)', 'The Ten Commandments (2007)', 'Permissive (1970)', 'Treasure Island (1971)', 'Maisie Goes to Reno (1944)', 'What Lies Ahead (2019)', 'David Foster: Off the Record (2019)', 'The Country Cousin (1936)', 'Red Family (2013)', 'Bubble (2022)', 'A Place for Annie (1994)', 'Anita (2021)', 'Stuck on You! (1982)', \"Don't Kill It (2017)\", 'Gunless (2010)', 'American Pain (2022)', 'Mercury 13 (2018)', 'Southerner, The (1945)', 'Everlasting Love (2014)', 'Vampire, The (1957)', 'Alpine Fire (1985)', 'Those Who Love, Hate (2017)', 'That Time of Year (2018)', \"Black Waters of Echo's Pond, The (2009)\", 'The Big Racket (1976)', 'Little Houdini (2014)', 'Gopher Spinach (1954)', \"Emma's Chance (2016)\", 'Tench (2020)', 'Breakthrough (2005)', 'Hammer, The (2007)', 'Sacrifice (2011)', 'Till Night Do Us Part (2012)', 'Diary of a Sex Addict (2001)', 'Soof (2013)', 'The Plague (2006)', 'Les Mains négatives (1978)', 'The Teachers’ Lounge (2023)', 'Snake and Crane Arts of Shaolin (She hao ba bu) (1978)', 'Legendary (2010)', 'Bheja Fry 2 (2011)', 'Life and Times of Hank Greenberg, The (1998)', '76 Days (2021)', 'Thunderbird Six (1968)', 'Poliisin Poika (1998)', \"My Father's Violin (2022)\", 'Girl From Paris, A (hirondelle a fait le printemps, Une) (2001)', 'Waiting Room (Bekleme odasi) (2004)', 'Cyborg Soldier (2008)', 'The Zoo (1967)', 'Mackie Messer - Brechts Dreigroschenfilm (2018)', 'Star! (1968)', 'A Quiet Place to Kill (1970)', 'Roadhouse 66 (1985)', \"Luna's Revenge (2018)\", 'Nollywood Babylon (2009)', 'Super Hybrid (2010)', 'Whiffs (1975)', 'Die Wolf-Gäng (2020)', 'The Fever (2004)', 'Border Incident (1949)', 'Mister Happiness (2017)', 'The League of Frightened Men (1937)', 'A Little Doll (1988)', 'Love and the City (2009)', 'Thomas Hart Benton (1989)', 'The Velvet Touch (1948)', 'Lupin the Third: Princess of the Breeze - Hidden City in the Sky (2013)', 'Long Lost Daughter (2018)', 'The State Within (2006)', 'Compulsion (2013)', 'Bluebird (2019)', 'Little Thief, The (La petite voleuse) (1988)', \"The Spirit of '43 (1943)\", 'Through Fire, Water and... Brass Pipes (1968)', 'Goodbye, Someday (2010)', 'Belle toujours (2006)', 'Chrystal (2004)', 'Contact (1985)', 'Secret Six, The (1931)', 'Lost Dream (2009)', 'The Touch (2005)', 'Montana (1950)', 'Sagara Sangamam (1983)', 'Inner Demons (2014)', 'Transatlantic (1931)', \"A Dogwalker's Christmas Tale (2015)\", 'Damon the Mower (1972)', \"Jill And Joy's Winter (2015)\", 'National Theatre Live: London Assurance (2010)', 'Escape Fire: The Fight to Rescue American Healthcare (2012)', 'Jigarthanda (2014)', 'House of Manson (2014)', 'Hostages (2017)', 'Encounters of the Spooky Kind (1980)', 'The Phone (2015)', 'Partanen (2003)', 'Looking for Venera (2022)', 'Smile Before Death (1972)', 'Lan Yu (2001)', 'An Amazing Couple (2002)', 'Itinerary of a Spoiled Child (1988)', 'Within (2005)', 'Lost Skeleton of Cadavra, The (2002)', 'Yumurta (Egg) (2007)', 'Jimmy and Judy (2006)', 'New York Subway (1905)', 'Inside the Edge: A Professional Blackjack Adventure (2019)', 'Tasmanian Devils (2013)', 'Tom and Jerry: Spy Quest (2015)', 'Noiseman Sound Insect (1997)', 'Arctic Antics (1930)', 'Greyfriars Bobby (a.k.a. Greyfriars Bobby: The True Story of a Dog) (1961)', 'George Benson: Absolutely Live (2000)', 'The Rose Technique (2002)', 'Outlanders (1986)', 'Timeman (2022)', 'Nico, 1988 (2017)', 'Sh! The Octopus (1937)', 'Raging Sun, Raging Sky (2009)', 'Marriage on the Rocks (1965)', 'Box Office 3D - Il film dei film (2011)', 'Recovery (2007)', 'Miss & Mrs. Cops (2019)', 'Alive (2018)', 'The Police Connection (1973)', 'Fall Guy (1982)', 'Ümmü Sıbyan: Zifir (2014)', 'Slaw (2016)', 'Dante 01 (2008)', 'Empties (2007)', 'Children Must Laugh (1936)', 'PROBE: Unnatural Selection (1996)', 'The Yakuza Papers, Vol. 4: Police Tactics (1974)', 'The Dentist (1932)', 'The Elementary School (1991)', 'Justin Bieber: Rise to Fame (2011)', 'Guest iin London (2017)', 'Papa: Hemingway in Cuba (2016)', 'The Lost Boys (2023)', 'The Wrong Teacher (2018)', \"Omar Killed Me (Omar m'a tuer) (2011)\", 'A Date in 2025 (2017)', 'La sedia della felicità (2013)', 'Märzengrund (2022)', 'One on One (2014)', 'Love Serenade (1996)', 'Sweatshop (2009)', 'The Truth (2006)', 'The Year I Started Masturbating (2022)', 'Vinyl (2000)', 'Sabina K. (2015)', 'Credo (2008)', 'Caruso Pascoski Di Padre Polacco (1988)', \"God's Comedy (A Comédia de Deus) (1995)\", 'Tomato Red (2017)', 'Hot to Trot (1988)', 'Buzkashi Boys (2012)', 'Carmen (1915)', 'Afghan Muscles (2006)', 'Never Better (2022)', 'Mosca addio (1987)', 'Family Time (2023)', 'O Fim do Mundo (2019)', 'Gervaise (1956)', 'Patsy & Loretta (2019)', 'Tidy Tims (2020)', 'Royal Matchmaker (2018)', 'C.I.A. Secret Story (1975)', 'The Curse of the Black Dahlia (2007)', 'The Last Gladiators (2011)', 'Erasmus (2016)', 'A Tale of Two Kitties (1942)', 'Юленька (2009)', 'Closer to God (2015)', \"Where's Marlowe? (1998)\", 'Our Lady of the Turks (1968)', 'Good Men, Good Women (1995)', 'The Criminal Mind (1993)', 'The Bone Snatcher (2003)', 'The Naked Cage (1986)', 'Double Daddy (2015)', 'The Fort (2014)', 'The Swissmakers (1979)', 'Take a Hard Ride (1975)', 'Laughing Gravy (1931)', 'Eveready Harton in Buried Treasure (1929)', 'It Came from Beneath the Sea (1955)', 'The Adventures of Açela (2020)', 'Captain Lightfoot (1955)', 'Pastorale (1975)', 'Without Borders (2015)', 'Beats (2019)', 'The Legend of Till (1977)', 'Mankatha (2011)', 'Businessmen (2018)', 'Double Vision (Shuang tong) (2002)', 'Cleopatra (1912)', 'Directly Kakha (2020)', 'Brass Target (1978)', 'An Exercise in Discipline: Peel (1982)', 'Chameleon, The (2010) ', 'CrissCross (1992)', 'Stolen Life, A (1946)', 'Jimi Hendrix: Electric Ladyland (2008)', 'Shadow Boxing 3. The Final Round (2011)', 'Bright Leaves (2003)', 'Just a Gigolo (2019)', 'Mon ami le traître (1988)', 'Deal, The (2008)', 'The Sector (2016)', 'Fortunes of Captain Blood (1950)', 'Love the Hard Way (2001)', 'A Time For Dying (1969)', \"Love Hurt's (2002)\", 'The Long Duel (1967)', \"The Haunting Hour: Don't Think About It (2007)\", 'Strays (1997)', \"Mister Magoo's Christmas Carol (1962)\", \"A Connecticut Yankee in King Arthur's Court (1949)\", 'Black Sun (Kuroi taiyô) (1964)', 'Le nuove comiche (1994)', 'The Sacred Science (2011)', 'Turn Around Jake (2014)', 'Suicide Tourist (2019)', 'Inside (2012)', 'Amateur Porn Star Killer 2 (2008)', 'Lulli (2021)', 'The Vulture (1966)', 'Terug Naar Morgen (2015)', 'Reckless (1935)', 'Adolescents (2020)', 'What Lucia Saw (2022)', 'Carcasses (2009)', \"King's Faith (2013)\", 'Ugly, The (1997)', 'Once More (1997)', 'Monster, The (1925)', 'Trick or Treat (2019)', 'Christmas Child (2004)', 'The Stringer (1998)', 'Fruitcake Fraud (2021)', 'Fukrey 3 (2023)', 'Autobiography of Miss Jane Pittman, The (1974)', 'Battle Scars (2020)', 'Tai-Pan (1986)', 'Sympathy for the Underdog (1971)', 'Speak Up (2017)', 'Planet of the Sharks (2016)', 'Eat That Question: Frank Zappa in His Own Words', 'The Call of the Wild: Dog of the Yukon (1997)', 'Imaikkaa Nodigal (2018)', 'Winter Song (2015)', 'Venus & Fleur (2004)', 'Tamara (2016)', 'Porn in the Hood (2012)', 'After Hitler (2016)', 'The Gamechangers (2015)', \"Alison's Choice (2015)\", 'G (2002)', 'Straight Outta LA (2010)', 'Longshots, The (2008)', 'Fat Girls (2006)', 'Suburban Mayhem (2006)', 'Bartholomew Versus the Wheel (1964)', 'The Other Me (2022)', 'Someone Behind the Door (1971)', 'CT Fletcher: My Magnificent Obsession (2015)', 'Home of Dark Butterflies, The (Tummien perhosten koti) (2008)', 'The Little Girl Who Was Too Fond of Matches (2017)', 'Madame Satã (2002)', 'Bound to Vengeance (2015)', 'Rosso (1985)', 'Silver Chalice, The (1954)', 'House III: The Horror Show (1989)', 'Young Mr. Jazz (1919)', 'Bulletproof 2 (2020)', 'Cider and Sunsets (2022)', 'Mister Designer (1988)', 'Return to Christmas Creek (2018)', 'Mekong Hotel (2012)', 'Love Field (1992)', 'Hype! (1996)', 'My Life So Far (1999)', 'Siao Yu (1995)', 'Crows Are White (2022)', 'Initial D: Third Stage (2001)', 'Lovey-Dovey (2007)', 'Perry Mason: The Case of the Silenced Singer (1990)', 'Those Who Are Fine (2017)', 'The Hard Case (1995)', 'Boy Meets Boy (2021)', 'Where the Lilies Bloom (1974)', \"The Munsters' Revenge (1981)\", 'The Brother from Space (1988)', 'Island Escape (2023)', 'Poor Little Peppina (1916)', 'Lake Placid vs. Anaconda (2015)', 'A Herb Alpert & the Tijuana Brass Double Feature (1966)', 'Anything Goes (1956)', 'Ransom! (1956)', 'Android Cop (2014)', 'The Jensen Project (2010)', 'Steve McQueen: The Man & Le Mans (2015)', 'In My Blood It Runs (2019)', 'To Be a Crook (1965)', 'Pink Force Commando (1982)', 'Varan (1958)', 'Harum Scarum (1965)', 'Solomon and Sheba (1959)', 'The All-Around Reduced Personality: Outtakes (1978)', 'Medicinmannen', 'Telling Lies (2006)', 'El futuro está en el Porno (2005)', 'Organization, The (1971)', 'Fiendish Plot of Dr. Fu Manchu, The (1980)', 'Sons of Provo (2004)', 'Redwood Highway (2013)', 'The Skywalk Is Gone (2002)', 'Hear Me (2009)', 'The Cop Cam (2016)', 'Walkout (2006)', 'The Debut (1977)', 'Into Your Dance (1935)', 'Svensson, Svensson - I nöd och lust (2011)', 'Hitler: The Last Ten Days (1973)', 'Opportunity Knocks (1990)', 'Siegfried & Roy: The Magic Box (1999)', 'Necktie Youth (2015)', 'The Antifascists (2017)', 'Nora Prentiss (1947)', 'Easy Money (1936)', 'Benedict Arnold: A Question of Honor (2003)', 'The Thief Of Baghdad (1961)', 'The Battle of Chile - Part 3 (1979)', 'The Laws of Thermodynamics (2018)', 'Virus Shark (2021)', 'Lauri Mäntyvaaran tuuheet ripset', 'Hail to the Deadites (2020)', '11 Minutes (2015)', 'Road to Your Heart (2014)', 'Mission Congo (2013)', 'Aiyaary (2018)', \"Let's Go with Pancho Villa (1936)\", 'The End (1953)', 'Yeti: The Giant of the 20th Century (1977)', 'Real Time (2008)', \"Mickey's Magical Christmas: Snowed in at the House of Mouse (2001)\", 'Miami Rhapsody (1995)', 'Messenger of Death (1988)', 'Romasanta: The Werewolf Hunt (2004)', 'Business of Fancydancing, The (2002)', 'Golden Swallow (1968)', 'Helen of Troy (1956)', 'No Child of Mine (1997)', 'Beyond the Rave (2008)', 'Dead Again (2021)', 'Death of a Nation (2018)', 'Grill Point (Halbe Treppe) (2002)', 'PLOEY - You Never Fly Alone (2018)', 'A Golden Boy (2014)', 'Untitled (For Marilyn) (1992)', 'Cult (2013)', 'Girl From Nowhere, The (2012)', \"Mum's List (2016)\", 'Blue Steel (1934)', 'Ratter (2015)', 'Ouija House (2018)', 'The Mongolian Connection (2019)', 'The American Success Company (1980)', 'Afraid (2019)', 'Wrong Man, The (1993)', 'Undertow (1996)', 'Beirut Hotel (2011)', 'Flying Disc Man from Mars (1950)', 'Facing the Fat (2009)', 'The Fatal Encounter (2014)', 'Angel Force (1991)', 'The Spy Who Loved Flowers (1966)', 'A Girl Who Loves a Girl (2017)', 'Digimon Adventure Tri. - Chapter 3: Confession (2016)', 'Cut Loose (2008)', 'Lupin the Third: The Secret of Twilight Gemini (1996)', 'Stress Position (2013)', 'Why Knot (2014)', \"Kein Bund für's Leben (2007)\", 'Tracktown (2017)', 'My Brother (2004)', 'Three Doors from Paradise (2018)', 'Leech Woman, The (1960)', 'True Blue (2001) ', 'Canary (2004)', 'Cul de Sac: A Suburban War Story (2002)', \"Hannah: Buddhism's Untold Journey (2014)\", \"Summer of '92 (2015)\", 'TransFatty Lives (2015)', \"Pigeon's Milk (2021)\", 'Nothing (2022)', 'The Water (2022)', 'Middle Class Melodies (2020)', 'Piłsudski (2019)', 'I Am Another You (2017)', 'Tough Ones, The (Häjyt) (1999)', 'Backstairs (Hintertreppe) (1921)', 'Lake Consequence (1993)', 'Amityville Exorcism (2017)', 'The Cave (2019)', 'The Promise (2016)', 'The Big Bus (1976)', \"Raven's End (1963)\", 'Wide Load (2019)', 'The Daughter (2016)', 'Clubland (a.k.a. Introducing the Dwights) (2007)', 'Taco Shop', 'Dance Town (2011)', 'Colorado Avenue (2007)', 'Born to Fight (Kerd ma lui) (2004)', 'Scorchers (1991)', 'Ouija Japan (2021)', 'Delhi-6 (2009)', 'Enforcer, The (1951)', 'Trunkfish (2021)', 'The Sixth Secret (2022)', 'Plenty of Money and You (1937)', 'Spanky: To the Pier and Back (2008)', 'Head Trauma (2006)', 'Jungle Fighters (1961)', 'Killer Buzz (2001)', 'Arsène Wenger: Invincible (2021)', 'Vares: Tango of Darkness (2012)', 'The Golden Boat (1990)', 'We Are All for the Fatherland (1979)', 'Gloss (2007)', 'Didi, o Cupido Trapalhão (2003)', 'Spork (2011)', 'The New Monsters (1977)', 'Black Irish (2007)', 'Escape in the Desert (1945)', 'Lucky Ducky (1948)', 'Cinderella (1957)', 'What We Left Unfinished (2019)', \"In a Stranger's House\", 'American Reject (2022)', 'Pictures of Hollis Woods (2007)', 'Sweet Karma (2009)', 'TV Junkie (2006)', 'Mammal (2016)', 'Lynch (2007)', 'The Love of Jeanne Ney (1927)', 'Devilfish (1984)', 'Why Cheat India (2019)', 'Final Recipe (2013)', 'BaadAsssss Cinema (2002)', 'Kumbalangi Nights (2019)', 'Love at Second Sight (2019)', 'Cloud Phenomena of Maloja (1924)', 'The Good Neighbor (2011)', 'I Am Paul Walker (2018)', 'Two Tars (1928)', 'Dreamcatcher (2015)', 'Washington Heights (2002)', 'Malice in the Palace (1949)', 'Paragraph 78: Film Two (2007)', 'Arabian Adventure (1979)', 'Hijacking Agatha (1993)', 'Miracle in the Rain (1956)', 'Sleeping Dogs (1977)', 'Edge of the Knife (2018)', 'The Marine 3: Homefront (2013)', 'Jack of Diamonds (1967)', 'Magnificent Bodyguards (Fei du juan yun shan) (1978)', 'Greased Lightning (1977)', 'A Glass of Whiskey (1959)', 'Three Stooges Meet Hercules, The (1962)', 'Last Plane Out (1983)', 'Woodstock Diary (1994)', 'Lilly the Witch: The Journey to Mandolan (2011)', 'Cured Duck (1945)', 'Sparrows Dance (2012)', 'Azazel (2002)', '3/4 (2017)', 'Nitrate Kisses (1992)', 'Apache Rifles (1964)', 'The Ark (2007)', 'Irving Thalberg: Prince of Hollywood (2005)', 'The Sweet Sex and Love (2003)', 'Mirapakay (2011)', 'Head of the Family (1996)', 'The Feather Fairy (1985)', 'Tony Arzenta (No Way Out) (Big Guns) (1973)', 'Marvel Rising: Playing with Fire (2019)', 'Bad Chicken (2013)', 'The Kid (1997)', 'Land of My Dreams (2012)', 'Nurse Sherri (1978)', 'The Black Battlefront Kidnappers (1973)', 'Sogni mostruosamente proibiti (1982)', 'Tiny Christmas (2017)', 'Dead Man Running (2009)', 'After Death (1989)', 'Depeche Mode: Devotional (1993)', \"Kill 'em All (2012)\", 'Luciano Serra, Pilot (1938)', \"Rosa Peral's Tapes (2023)\", 'Wrong Guys, The (1988)', 'Unknown Pleasures (Ren xiao yao) (2002)', 'Games People Play: New York (2004)', 'No Gogó do Paulinho (2020)', 'A Shape of Things to Come (2020)', 'Crazy (2000)', 'Big Men (2014)', 'The Best of Enemies (1961)', 'I Want To Go To Prison (1999)', 'Barn Red (2004)', 'Kleines Arschloch - Der Film (1997)', 'Pink Floyd: The Final Cut (1983)', 'Beck 40 - Beyond Reasonable Doubt (2020)', 'Transylvania Twist (1990)', 'A Greater Yes: The Story of Amy Newhouse (2009)', 'Beauty and the Beast (1934)', 'Solum (2019)', 'The Scarehouse (2014)', 'The Foursome (2007)', 'Alone in the Dark II (2008)', 'Socialphobia (2015)', 'Step Across the Border (1990)', 'The Fake (2013)', 'Francofonia (2015)', 'Carl Laemmle (2019)', 'Louisa (1950)', 'Kabuliwala (2006)', 'Fall of Ming (2013)', 'Shadow of Deception (1971)', 'Marilyn Monroe: Auction of a Lifetime (2017)', 'Kaala (2018)', 'No Hunting (1955)', 'Gritt (2021)', 'Flaming Cloud (2023)', 'Perry Mason: The Case of the Reckless Romeo (1992)', 'Velaiilla Pattadhari 2 (2017)', 'Fidel (1971)', 'Broadway Bill (1934)', 'The Wilding (2016)', 'Ahir Shah: Dots (2021)', 'Tetsujin 28: Morning Moon of Midday (2007)', 'Back to 1942 (2012) ', 'Submission (2019)', 'Children (1976)', 'Death Count (2022)', \"Maigret's Dead Man (2016)\", 'Amor? (2011)', 'The Boy Whose Skin Fell Off (2004)', 'Ishaqzaade (2012)', 'No Love for Johnnie (1961)', 'Santo and Blue Demon Against the Monsters (1970)', \"Relics: Einstein's Brain (1994)\", 'Jawaani Jaaneman (2020)', 'Explant (2021)', 'Skybound (2017)', 'Shark (2022)', \"Aren't You Happy? (2019)\", 'Kamen Rider ZO (1993)', 'Takaisin pintaan (2016)', 'On Board (1998)', 'Manhunt in the Dakotas (1991)', 'El crack dos (1983)', 'Frank Pierre Presents: Pierre Resort & Casino (2014)', 'Fieldwork Footage (1928)', 'Chilango Chronicles (2010)', 'The Mire (1978)', 'Dope Boys Alphabet (2021)', 'Sethupathi (2016)', 'El culo del mundo (2014)', 'Machined (2006)', 'Shaolin Wooden Men (Shao Lin mu ren xiang) (1976)', 'The Search for Weng Weng (2013)', 'Friendship! (2010)', 'Jericho Mansions (2003)', 'Raffles (1930)', 'The Conspirators (1969)', 'A Different Kind of Christmas (1996)', \"Dolly Parton's Christmas on the Square (2020)\", 'Haunted, Horrifying Sounds from Beyond the Grave (2018)', 'Liquidation (2007)', 'Alaska Is a Drag (2017)', 'Mortal Kombat: The Journey Begins (1995)', 'Marrakech Express (1989)', 'God, the Universe and Everything Else (1988)', 'Ballroom, The (Chega de Saudade) (2007)', 'Heilstätten (2018)', 'Escape from Wildcat Canyon (1998)', 'Zombiebox (2018)', 'Women Who Passed My Way (2018)', 'Ah Boys To Men (Part 1) (2012)', 'Dampfnudelblues (2013)', 'O Lamparina (1964)', 'Fast Charlie... the Moonbeam Rider (1979)', 'Black Swan, The (1942)', 'The Young Magician (1987)', 'Tusk (1980)', 'Las ovejas no pierden el tren (2015)', 'Awaken (2015)', 'A Tale of Love and Desire (2021)', 'Shotgun Love (2011)', 'Bharat (2019)', 'The 11th Green (2020)', \"All's Well, Ends Well (1992)\", 'Opportunists, The (2000)', 'Psych:9 (2010)', 'September Morning (2017)', 'Edge of Sanity (1989)', 'Anjaneyulu (2009)', 'Restless Virgins (2013)', 'Madeleine (1950)', 'Perry Mason: The Case of the Telltale Talk Show Host (1993)', 'The Man in the Woods (2020)', 'Borderline (2008)', 'Singing Nun, The (1966)', 'Fun Without Limits (1998)', 'Wishing Box (2017)', 'The Peter Weyland Files: TED Conference, 2023 (2012)', 'Mysterious Intruder (1946)', 'Daddy (1987)', 'Flareup (1969)', 'You Are My Home (2020)', '38 at the Garden (2022)', 'Ten Years Japan (2018)', 'International Velvet (1978)', 'Stressed To Death (2019)', 'The Postmodern Life of My Aunt (2007)', '19th Wife, The (2010)', 'Wasteland No. 1: Ardent Verdant (2017)', 'The Marriage Game (1935)', 'Sagan (2008)', 'Balkan Is Not Dead (2012)', 'Andy Warhol (1987)', 'Beauty and the Boss (1932)', 'Mozhi (2007)', 'Τέλειοι Ξένοι (2016)', 'Wolfman (1979)', 'Stonewall (1995)', 'From the Heart (2020)', \"Tekken: Kazuya's Revenge (2014)\", 'Non-Stop (1996)', 'My Last Year With The Nuns (2014)', 'The Fox and the Hare (1973)', 'La Vérité si je Mens ! 2 (2001)', 'Between Love and Goodbye (2009)', 'One of Us (2017)', 'Blackbird (2007)', 'Trails (Veredas) (1978)', 'The Child of Paris (1913)', 'A Certain Magical Index: The Miracle of Endymion (2013)', \"The Messenger's Box (2015)\", 'The Boss (1973)', 'In a Bedroom (2012)', 'Death and Transfiguration (1983)', 'New Alcatraz (2001)', 'Handymen, Handymen (1980)', 'Kurosawa and the Censors (2007)', 'The Extra Girl (1923)', 'El dinero tiene miedo (1970)', 'Lost Child (2018)', 'My Man (Mon homme) (1996)', 'Merry & Bright (2019)', 'Red Dirt (2000)', 'Life After Flash (2017)', 'star-crossed: the film (2021)', 'Feeders 2: Slay Bells (1998)', 'Slap the Monster on Page One (1972)', \"He Sees You When You're Sleeping (2002)\", '100% Service (1931)', 'Triangle (Tie saam gok) (2007)', 'Ye Maaya Chesave (2010)', 'The Void (2001)', 'Verlengd Weekend (2005)', 'Close-Up (1948)', 'Love in Aruba (2021)', 'A Demon Within (2017)', 'Foe (2023)', 'The Ranger, the Cook and a Hole in the Sky (1995)', 'Disorganized Crime (1989)', 'There Will Come a Day (2013)', 'Mother Lode (2021)', 'Heartbeat (1938)', 'Andiamo a quel paese (2014)', 'Rosebud Baker: Whiskey Fists (2021)', 'Loosies (2012)', 'Histoire(s) du cinéma (1988)', 'Barbie: Princess Adventure (2020)', 'Sonja (2006)', 'Spetters (1980)', 'Killer Weekend (2020)', 'Beyond the Border (2011)', 'Islam: Empire of Faith (2001)', 'The Incantation (2018)', 'Ballet Of Blood (2016)', 'Rose (2021)', '2 Cool 2 Be 4gotten (2016)', 'Women Who Kill (2016)', 'Battlecry (2021)', 'Ode to the Dawn of Man (2011)', 'Rabid Love (2013)', 'Variola Vera (1982)', 'Summerfield (1977)', 'Honey, I Shrunk the Audience (1994)', 'What Love Looks Like (2020)', 'The Salt Prince (1983)', 'Mary Is Happy, Mary Is Happy (2013)', \"Dive! (Dive!: Living off America's Waste) (2010)\", 'Subconscious Cruelty (2000)', 'Altitude (2017)', 'The Holly (2023)', 'All-American Murder (1991)', 'Finishing the Game: The Search for a New Bruce Lee (2007)', 'Sting of Death (1966)', 'Одиноким предоставляется общежитие (1983)', 'Lock Up: The Prisoners of Rikers Island (1994)', 'Nocne Graffiti (1997)', 'Kakegurui 2: Ultimate Russian Roulette (2021)', 'Amazing Grace and Chuck (1987)', 'The Stray (2017)', 'Lace Crater (2015)', '1000 Mabrouk (2009)', 'Listen to Me (1989)', 'Abbott and Costello Meet Captain Kidd (1952)', 'The Portuguese Woman (2019)', 'Red Lion (1969)', 'Provocateur (1998)', '1969 (1988)', 'Time Of My Life (2012)', 'Dave Smith: Libertas (2017)', 'A Complicated Story (2013)', 'All in My Family (2019)', 'The Fixies: Top Secret (2017)', 'Ce que je vois de mon sixième (1901)', 'VeggieTales: Beauty and the Beet (2014)', 'Good Guys Go to Heaven, Bad Guys Go to Pattaya (2016)', 'My Brothers and I (2022)', 'Jologs (2002)', 'Supercroc (2007)', 'Children of God (1994)', 'Black Dragons (1942)', 'Family of Cops (1995)', 'A Perfect Plan (2020)', 'Yaanai (2022)', 'Who Killed Cock Robin (2017)', 'Foxfire (2012)', 'Ladies They Talk About (1933)', 'Heist School (2006)', 'Drift (2013)', 'Morning Patrol (Proini peripolos) (1987)', 'A Chairy Tale (1957)', 'The Medici: Godfathers of the Renaissance (2004)', 'Point and Shoot (2014)', 'Puppy Love (2012)', 'Varg Veum - Fallen Angels (Varg Veum - Falne Engler) (2008)', \"Gulliver's Travels (1977)\", 'True Identity (1991)', 'Fantozzi va in pensione (1988)', 'Nos Amis Les Terriens (2007)', 'Christmas She Wrote (2020)', 'The Be All and End All (2010)', \"It's Christmas Again (2022)\", 'Esa ja Vesa - auringonlaskun ratsastajat (1994)', 'Cam Closer (2013)', 'Goopy Bagha Feere Elo (1992)', 'Kadakh (2020)', 'The Phantom Speaks (1945)', 'Cusp (2021)', 'Deal of the Century (1983)', 'The Law (1990)', 'Lance (2020)', 'The Butcher (2009)', 'Lydia (1941)', 'Home (2014)', 'Blood Born (2021)', 'Finding Bliss (2009)', 'One Six Right (2005)', 'The Legend of Bloody Mary (2008)', 'The Schoolmaster Games (2022)', 'The Guide to the Perfect Family (2021)', 'Outlaw: Heartless (1968)', 'Chasing Madoff (2010)', 'Cherchez la Femme (2017)', 'Carry On Cowboy (1966)', 'Gun for a Coward (1957)', 'But Forever in My Mind (1999)', 'Meteor Apocalypse (2010)', 'Geronimo (1962)', '60 Cycles (1965)', 'Nine Meals from Chaos (2018)', 'RiverBlue (2017)', 'Adventures of Huckleberry Finn, The (1939)', \"Marshall's Miracle (2015)\", 'Louis Theroux: Louis and the Nazis (2003)', 'Against the Wild (2014)', 'Jodi Arias: Dirty Little Secret (2013)', 'A Joy Ride (1922)', 'The New Testament (1936)', 'Take a Hike, Vasya! Lost In Bali (2021)', 'The Hatching (2014)', 'The Revengers (1972)', 'Rat Trap (2011)', 'Love at the Shore (2017)', 'Desert Redemption (2015)', 'The Iron Fisted Monk (1977)', 'Electra, My Love (Szerelmem, Elektra) (1974)', 'Minnale (2001)', 'Kiss or Kill (1997)', 'Normal Doors (2015)', 'Special Agent (1949)', 'The Eight Masters (1977)', \"Blondie's Secret (1948)\", 'Courtship (1987)', 'Breakthrough (1979)', 'Strasbourg 1518 (2020)', 'Blue Moon Ball (2021)', 'Land Shark (2017)', \"Whistle and I'll Come to You (2010)\", 'Truman (1995)', 'In Ya Blood (1971)', 'The Heifer (1985)', 'Magnificent Obsession (1935)', 'Sadako (2019)', 'Tsunami: The Aftermath (2006)', 'No Mercy (2019)', 'Flying Nansen (2000)', '60 Seconds to Live (2022)', 'Planet Outlaws (1953)', \"Bruce Springsteen's Letter to You (2020)\", 'The Least of These (2019)', 'Kayla (2019)', 'Arabesque (1989)', 'Lost Boys of Sudan (2003)', 'The New Swiss Family Robinson (1998)', 'Entropy (1999)', 'May the Devil Take You Too (2020)', 'Pride of St. Louis, The (1952)', 'The Cariboo Trail (1950)', 'Counterpoint (1967)', 'Four Bags Full (1956)', 'Rosemary (1958)', 'Countdown (2012)', 'Duska (2007)', 'Demons from Her Past (2007)', 'Carmen and Lola (2018)', 'Dilberay (2022)', 'A Woman Called Golda (1982)', 'Youngstown (2021)', 'Delta Space Mission (1984)', 'Fascism on a Thread: The Strange Story of Nazisploitation Cinema (2019)', 'The Presence of Love (2022)', 'Spaceways (1953)', 'ManFish (2022)', 'Resisting Roots (2022)', 'Jack and Diane (2012)', 'Roads to Koktebel (Koktebel) (2003)', 'White Woman (1933)', 'Lonesome (2023)', 'I Want to Be A Pilot (2006)', 'Love in Bloom (2022)', \"Where the Boys Are '84 (1984)\", 'Nobunaga Concerto: The Movie (2016)', 'Quiet Flows the Don (Tikhiy Don) (1957)', 'Romance Retreat (2019)', 'Drama (2010)', 'Portraits of Women (Naisenkuvia) (1970)', 'Sune på bilsemester (2013)', 'Karthik Calling Karthik (2010)', 'Rob Schneider: Soy Sauce and the Holocaust (2013)', 'Prime Minister (2009)', 'Reborn (2018)', 'Bokhandlaren som slutade bada (1969)', 'The Seven (2019)', 'Solomon King (1974)', 'Fear Filter (2019)', 'Michael Jackson: Dangerous Tour (Bucharest, 1992) (1992)', 'Helen (2009)', 'Bulldog Drummond Escapes (1937)', 'Zombie Shark (2015)', 'Requiem for Mrs. J (2017)', 'Alice in Wonderland (1966)', 'Carmen (1918)', 'marg mahi (2016)', 'Skies Above (1965)', 'Transistor Love Story (Monrak Transistor) (2001)', 'Our Lady of San Juan, Four Centuries of Miracles (2021)', 'Little Traitor, The (2007)', 'Bad Girl (2016)', 'Man at the Top (1973)', 'Demon Legacy (2014)', 'All Male, All Nude (2017)', \"I'll Do Anything (1994)\", 'A Match Made at Christmas (2021)', 'Under the Bombs (2007)', 'Bad for Each Other (1953)', \"Trevor Noah: You Laugh But It's True (2011)\", 'Steven Banks: Home Entertainment Center (1989)', 'Murder in New Hampshire: The Pamela Wojas Smart Story (1999)', 'A Bad Idea Gone Wrong (2017)', 'The Power of Few (2013)', 'Circle of Iron (1978)', 'My Son (2021)', 'Astolfo (2022)', 'Uncle Nino (2003)', 'A Man Called Blade (1977)', 'Sons and Lovers (1960)', 'License to Live (1998)', 'Seduction & Snacks (2021)', 'The Famous Box Trick (1898)', 'Trigger Man (2007)', 'Spring Night, Summer Night (1967)', 'Fixies VS Crabots (2019)', 'Scheherazade, Tell Me a Story (2009)', 'The Three from the Filling Station (1956)', 'Ebbie (1995)', 'Demon Hunter Makaryūdo (1989)', 'Tragic Jungle (2020)', 'Saint Bernard (2013)', 'Mal de Ojo (2022)', 'Punk in London (1977)', 'Flashwood (2020)', \"The Man from Hell's Edges (1932)\", \"Disney's Very Merry Christmas Sing Along Songs (1988)\", 'Toys of Terror (2020)', 'The Immortal One (1963)', 'Bye Bye Birdie (1995)', 'The Voice of Water (2014)', 'Trainer on the Beach 2 (2008)', 'Mr. Socrates (2005)', 'Benji: Off the Leash! (2004)', 'The Other Woman (1961)', 'Slotherhouse (2023)', 'Sugar Hill (1994)', 'Knots (2004)', 'Shamshera (2022)', 'The Masseuse (2018)', 'Postmortem (1998)', 'Varg Veum - Bitter Flowers (Varg Veum - Bitre Blomster) (2007)', 'Unremember (2019)', 'Kabukicho Love Hotel (2015)', \"Patrice O'Neal: Killing Is Easy (2021)\", 'Queen of Spades, The (1949)', 'Coolie No. 1 (2020)', \"L'Affaire SK1 (2015)\", 'Pet Shop (1995)', \"Princess Ka'iulani (2009)\", 'Memories of the Sword (2015)', 'Buffalo Rider (2015)', 'Renegades (2022)', 'Static (1985)', 'The Nine Kittens of Christmas (2021)', \"All in a Night's Work (1961)\", \"Relationship Status: It's Complicated (2014)\", 'Red, Hot and Blue (1949)', 'Gray Matters (2006)', 'Rage at Dawn (1955)', 'Vice and Virtue (1963)', 'Samurai Marathon (2019)', 'The Rebel (1961)', \"Hospital - Daughter's Mother (2021)\", 'Sunt o babă comunistă (2013)', 'The Little Witch (2018)', 'Whitney Cummings: I Love You (2014)', 'Twinsanity (2018)', 'El Paso (1949)', 'A Little Princess (2019)', 'Veetla Vishesham (2022)', 'Pigskin Parade (1936)', 'Susie, the Little Blue Coupe (1952)', 'The Quest for Tonewood (2021)', 'The Weapon (2023)', \"You Don't Choose Your Family (2011)\", 'Sylvia Plath: Inside the Bell Jar (2018)', 'Alien Siege (2005)', 'Speaking Parts (1989)', 'Percy (1971)', '180° South (180 Degrees South) (180° South: Conquerors of the Useless) (2010)', 'Young Torless (1966)', \"The Well-Digger's Daughter (1940)\", 'Empire V', 'Dear Santa (2011)', 'The Year of the Shark (2022)', \"Tyler Perry's The Single Moms Club (2014)\", 'Killing of Sister George, The (1968)', 'My First Client (2019)', 'London, Cinematography Entry (1896)', 'Shaka Zulu: The Citadel (2001)', \"I'm No Fool with Fire (1955)\", 'What the Constitution Means to Me (2020)', 'Skeletons (1997)', 'Voice (2005)', 'Like.Share.Follow. (2017)', 'All In: The Poker Movie (2009)', 'More Than a Miracle (1967)', 'Our Sons (1991)', 'Wise Girl (1937)', 'American Cannibal (2006)', 'Savage Guns (1971)', 'A Desperate Crime (1906)', 'Stealing Cars (2015)', 'The Way of the Househusband: The Movie (2022)', 'Positive (1990)', \"Something's Got to Give (1962)\", 'Non Non Biyori: Vacation (2018)', 'Trials of Cate McCall, The (2013)', 'Charlie Chan in Shanghai (1935)', 'Didier (1997)', 'End of the World (2002)', 'The Haunting of Margam Castle (2020)', 'Mata Hari (1931)', \"Donald's Double Trouble (1946)\", 'Shepherd of the Hills, The (1941)', 'Task, The (2011)', 'Growing Pains (2014)', 'A Real Young Girl (1976)', 'Reversion (2020)', 'Poor Rich Family (2020)', 'Heroes (2010)', 'Scared to Death (1947)', 'Heart of Stone (2016)', 'Tonkatsu DJ Agetaro (2020)', 'Unregistered (2019)', 'Running the Bases (2022)', 'The Broken Butterfly (1919)', 'Dinocroc (2004)', 'Parrot Heads (2017)', 'Highline (2020)', 'Outside Noise (2021)', 'The Tasting (2022)', 'Chimera Strain (2018)', 'Wood and Water (2021)', 'Great Flamarion, The (1945)', 'Dream and Reality (1901)', 'Under the Gun (2016)', 'The Hill and the Hole (2020)', 'Bandits of Orgosolo (1961)', 'Meskada (2010)', 'Just Eat It: A Food Waste Story (2014)', 'Day of the Warrior (1996)', 'Respect the Jux (2022)', 'Apenas o Fim (2008)', 'Svengali (2013)', 'Hillwalkers (2022)', 'Antony and Cleopatra (1983)', 'Kakurenbo: Hide and Seek (2005)', 'King of the Ants (2003)', 'A Broken Life (2007)', 'Casanova farebbe così! (1942)', 'The Mothman Legacy (2020)', '«5/4» (1990)', \"In Balanchine's Classroom (2021)\", 'See You Tomorrow, Everyone (2013)', 'The Queen of Spades (1916)', 'Cade: The Tortured Crossing (2023)', 'West of Hell (2018)', 'Abu Raykhan Biruni (1974)', 'The Pirates of Blood River (1962)', 'Not of This Earth (1988)', 'Aggie (2020)', 'Stoked: The Rise and Fall of Gator (2002)', 'Arrowsmith (1931)', 'Rain or Shine (1930)', 'Same Same But Different (2009)', 'Savage Hunt of King Stakh (1979)', 'Jeca e Seu Filho Preto (1978)', 'Fittest On Earth (The Story Of The 2015 Reebok CrossFit Games) (2016)', 'IMAX: Coral Reef Adventure (2003)', 'The Windblown Hare (1949)', \"The Gate to the Mind's Eye (1994)\", 'Ma ma (2015)', 'Escape from the Bronx (1983)', 'Mega Shark vs. Kolossus (2015)', 'Rose (2011)', \"It's Only Talk (2005)\", 'Mindfield (1989)', 'She Spent So Many Hours Under the Sun Lamps (1985)', 'Conversion (2021)', '6th Man, The (Sixth Man, The) (1997)', 'Parental Guidance (1996)', \"She's Beautiful When She's Angry (2014)\", 'Wild Rebels (1967)', 'Mama’s Affair (2022)', 'La leyenda de la Nahuala (2007)', 'The Demolitionist (1995)', 'Wings Above Berlin (2022)', 'Steve McQueen: Man on the Edge (1990)', 'El doble (2021)', 'How to Live Your Best Death (2022)', 'Happy New York (1997)', \"Bulldog Drummond's Bride (1939)\", 'Cyrus: Mind of a Serial Killer (2010)', 'Under Electric Clouds (2015)', 'Rose Plays Julie (2019)', 'Napoli, Napoli, Napoli (2009)', '16-love (2012)', 'A feltaláló (2020)', 'Ban the Sadist Videos! (2005)', 'Head Above Water (1996)', 'Days of Power (2018)', 'A Story of Children and Film (2013)', 'Once Upon a Time... (1990)', 'A Fish Tale (2017)', 'Born Romantic (2000)', 'Macabre (Macabro) (1980)', 'Reign of Terror (1949)', 'The Division: Agent Origins (2016)', 'Jump Tomorrow (2001)', 'The House Where Evil Dwells (1982)', 'The Contraption (1977)', 'Orphan Horse (2018)', 'Captain Midnight (1942)', 'All of My Heart (2015)', \"All's Well, Ends Well 2009 (2009)\", 'Quanta (2019)', 'Rendez-vous (1985)', 'The Boxer from the Temple (1979)', 'Of Miracles and Men (2015)', 'Lady Takes a Chance, A (1943)', 'Where Is Kyra? (2018)', 'Rosie the Riveter (1944)', 'The Man Who Drew God (2023)', 'Masked Mobsters (2007)', 'Legend of Leigh Bowery, The (2002)', 'Il tenente dei carabinieri (1986)', 'Cristela Alonzo: Lower Classy (2017)', 'Blood Moon (2021)', 'Next Goal Wins (2014)', 'Frankenstein (2007)', 'A Picture Perfect Wedding (2021)', 'Syndicate Sadists (1975)', 'Chasing Legends (2010)', 'Your Contemporary (1968)', 'The Speak (2011)', 'Och, Karol 2 (2011)', \"The Baker's Wife (1938)\", 'Saint Tropez - Saint Tropez (1992)', 'Pushpak (1987)', 'I Stefania (1966)', \"Cat's-Paw, The (1934)\", 'Holiday for Drumsticks (1949)', 'Taal (1999)', 'The Impossible Convicts (1906)', 'Abroad: Finding Faith (2018)', \"Mr. Rice's Secret (2000)\", 'Shaandaar (2015)', 'Diary (2006)', 'Exit Elena (2012)', 'Thundercrack! (1975)', 'Le noeud cravate (2008)', 'Carry On Again Doctor (1969)', 'Hold Me Tight (2021)', 'A Tiger With No Stripes (2018)', 'Four Last Songs (2007)', 'Gothic & Lolita Psycho (2010)', 'The Legend of Hallowaiian (2018)', 'Condemned (1953)', 'David Bowie: Five Years (2013)', 'Hackers Are People Too (2008)', 'The Desert Bride (2017)', '10 Magnificent Killers (1977)', 'The Bear Who Slept Through Christmas (1973)', 'Hello Again (1987)', 'Killer Angels (1989)', 'Voyage to the Planet of Prehistoric Women (1968)', 'The Hole in the Fence (2021)', 'Kickboxer 2: The Road Back (1991)', 'Heroes of the East (1978)', 'Ruby Herring Mysteries: Silent Witness (2019)', \"Nantucket Film Festival's Comedy Roundtable (2012)\", \"Alan Partridge's Scissored Isle (2016)\", 'Traumfabrik (2019)', 'Bassae (1964)', 'Black Night (2006)', 'Bang Bang (1971)', 'Flame (1975)', 'Beau Geste (1966)', 'Professional Sweetheart (1933)', 'Fahim (2019)', 'The Man on the Other Side (2021)', 'Monsoon Shootout (2017)', 'Alive (2006)', 'Know Fear (2021)', 'Sound! Euphonium the Movie – May the Melody Reach You! (2017)', 'Left Hand of God, The (1955)', 'Free and Easy (1930)', 'Driving Lessons (2006)', \"Just Another Pandora's Box (2010)\", 'Dear Heart (1964)', 'Fly, Daddy, Fly (2006)', 'Chocolate City (2015)', 'The Last 10 Years (2022)', 'Neo Ned (2005)', 'All About My Sister (2020)', 'Les grands sentiments font les bons gueuletons (1973)', 'Parking (2003)', 'School For Scoundrels (1960)', 'Aayitha Ezhuthu (2004)', 'Good After Bad (2017)', 'Double Confession (1950)', 'Chuchotage (2018)', 'Little Thirteen (2012)', 'Rings on Her Fingers (1942)', 'The Shell Shocked Egg (1948)', 'City Beneath the Sea (1971)', \"I'm No Fool with a Bicycle (1956)\", 'Super Juice Me! (2014)', 'Lady by Choice (1934)', 'The Marriage of Figaro (1975)', 'Dois na Lona (1968)', 'Manny & Lo (1996)', 'Mud and Sand (1922)', 'Groundswell (2020)', \"The Devil's Door (2022)\", 'Gabriel (2014)', 'Love is a Ball (1963)', 'Frozen Ghost, The (1945)', 'Wedding Video, The (2012)', 'Offering (1978)', 'T.R.A.N.S.I.T. (1998)', 'Los Negros (2022)', 'Dimensions (2011)', 'Reckless (1984)', \"Midsummer Night's Dream, A (1968)\", 'Hiding Cot (Piilopirtti) (1978)', 'Tanks for Stalin (2018)', 'Itsy Bitsy (2019)', \"Tarzan's Revenge (1938)\", \"Don's Plum (2001)\", 'Forget Me Not (2010)', 'AWAKE (2020)', 'Rescued by Rover (1905)', 'Life After The Navigator (2020)', 'Ithaca (2015)', 'Range Riders (1934)', 'Panama (2015)', 'A Bandit (1913)', 'When Whales Walked: Journeys in Deep Time (2019)', 'Starting Over (1979)', 'Claudine (1974)', \"The Damned Don't Cry (1950)\", 'Aadhi (2018)', 'The Prisoner or: How I Planned to Kill Tony Blair (2007)', 'Catalina (2017)', \"Life's a Breeze (2013)\", '16 Ans ou Presque (2013)', 'Sueno (2005)', 'Black Sun (2022)', 'I, Anna (2012)', 'Antakshari (2022)', 'Adventures of Mark Twain, The (1944)', 'Bat Whispers, The (1930)', 'La Fracture du myocarde (1991)', 'Vendetta (2013)', 'Hitler- Dead or Alive (1942)', 'Going Places (1938)', 'Three Miles North of Molkom (2008)', 'Cry Wolf (1947)', 'The Apocalypse (2002)', 'Pirate Movie, The (1982)', 'Blood Paradise (2018)', 'I See You (2019)', 'Beata ignoranza (2017)', 'There Will Come Soft Rains (1984)', 'The Eugenics Crusade (2018)', '100 Degrees Below Zero (2013)', 'The Fish Fall in Love (2006)', 'New Mars (2019)', 'Gray Man, The (2007)', 'Ko (2011)', 'Wild Horses (2015)', 'The Warrant (2020)', 'Betrayal at Attica (2021)', 'From Hand to Mouth (1919)', 'Asfour Stah (1990)', 'Targeted (2022)', 'Viktoria (2014)', 'Charming Mass Suicide, A (Hurmaava joukkoitsemurha) (2000)', 'A Christmas Dance Reunion (2021)', 'April Is the Cruellest Month (1983)', 'The Rats (2002)', 'Go West (2005)', \"Pandora's Box (2002)\", 'Belgrano: The Movie (2010)', 'The Musicians (1960)', 'A Face in the Fog (1936)', 'Blood Moon (2001)', 'At War (2018)', 'Seven Days to Live (2000)', 'Technological Threat (1988)', 'Little Red Wagon (2012)', \"Who's the Boss (2020)\", 'Death Link (2021)', 'Dilly Loves Kitty (2022)', 'Kind of Loving, A (1962)', 'Eugene Mirman: An Evening of Comedy in a Fake Underground Laboratory (2012)', 'Woman Haters (1934)', 'Hometown Holiday (2018)', 'Clash of the Wolves (1925)', 'Die Bademeister – Weiber, saufen, Leben retten (1999)', 'Vermilion Souls (2007)', \"Bridesmaid, The (Demoiselle d'honneur, La) (2004)\", 'Being Romanian: A Family Journal', 'The $cheme (2003)', 'Lucky Christmas (2011)', 'California Scheming (2014)', \"Since Otar Left (Depuis qu'Otar est parti...) (2003)\", 'Ex-Patriot (2017)', 'Ayúdame a vivir (1936)', 'Outlaw: Gangster VIP (1968)', 'The Lady Constables (1978)', 'Corro da te (2022)', \"It Couldn't Have Happened (But It Did) (1936)\", 'Gülen Gözler (1977)', 'The Shadow Boxer (1974)', 'Blame It on the Samba (1948)', 'Girls on Top 2 (2004)', 'Sleepwalking Land (2008)', 'Amityville Terror (2016)', 'Paper Tigers (2015)', 'Healed by Grace 2 : Ten Days of Grace (2018)', 'Atlantis Rising (2017)', 'Hospital! (1997)', 'Sandy Lives (1999)', 'Night People (1954)', 'How the Cossacks Played Hockey (1995)', 'Ringers: Lord of the Fans (2005)', 'Air Collision (2012)', 'First Period (2013)', 'The Men From Vidsel (2014)', 'Mobile Suit Gundam: The Origin IV – Eve of Destiny (2016)', 'Wild Company (1930)', 'The Labyrinth (2017)', \"No One's Son (2008)\", 'Suit for Wedding, A (a.k.a. The Wedding Suit) (Lebassi Baraye Arossi) (1976)', 'PLANT (2020)', 'The First Easter Rabbit (1976)', 'Plane Daffy (1944)', 'Pogey Beach (2019)', 'Gun-shy (2003)', 'Twilight of the Dark Master (1998)', 'Panorama of Eiffel Tower (1900)', 'The Last Sin Eater (2007)', 'Lover (2005)', 'Alias John Preston (1955)', 'My Girl and I (2005)', 'Fraternity Vacation (1985)', 'M (2017)', 'Reggie Watts: Spatial (2016)', 'Slipstream (2007)', 'Ascharya Fuck It (2018)', 'The Champion (2019)', 'Bombay Talkies (2013)', 'Spirit Bear: The Simon Jackson Story (2005)', 'Poor Cow (1967)', 'Brides (Nyfes) (2004)', 'Russian Riot (2000)', '23:59 (2011)', 'Honey 3 (2016)', 'Le garde du corps (1984)', 'Torrid Noon (1965)', 'Beastie Boys: Video Anthology (2000)', 'A Swingers Weekend (2018)', \"I'm Going to Santiago (1964)\", 'Spiral (2018)', 'The River Within (2009)', 'Tom-ic Energy (1965)', 'Sesame Street: The Best of Elmo (1994)', 'Any Day Now (2020)', 'Diminished Capacity (2008)', 'Strange Illusion (1945)', 'Endless Summer 2, The (1994)', 'Ask Bu Mu? (2018)', 'The King of the Hill (2008)', 'Blood Brothers (1973)', 'The Anonymous Venetian (1970)', 'Curse of the Blood Ghouls (1962)', '30/30 Vision: Three Decades of Strand Releasing (2019)', 'Ring of Fire (1961)', 'My Mother the Mermaid (2003)', 'Felix the Cat: The Movie (1988)', 'Dope Sick Love (2005)', 'Deadly Impact (2010)', 'They Live Inside Us (2020)', 'Alpha Rift (2021)', 'Install (2004)', 'Treasures of the Snow (1980)', 'Sleeping with my Student (2019)', 'An Empress and the Warriors (2008)', 'Confessions of a Police Captain (1971)', 'Cielo (2017)', 'The Snow Goose (1971)', \"Les Sièges de l'Alcazar (1989)\", 'Buccaneer Bunny (1948)', 'The Assassination of Abraham Lincoln (2009)', 'Dad must be crazy! (2005)', 'Rosario Tijeras (2005)', 'Leaving Normal (1992)', 'Hopewell (2020)', 'Protocols of Zion (2005)', 'The Magnificent Seven Deadly Sins (1971)', 'Hating Peter Tatchell (2020)', 'The Seance (2021)', 'Knight-Mare Hare (1955)', 'Springfield Rifle (1952)', \"Madame's Cravings (1907)\", 'We Are Still Here (2022)', 'Okul (2004)', 'Hi, Junior! (1971)', 'Owned: A Tale of Two Americas (2018)', 'Asfalto (2000)', 'Apoorva Sagodharargal (1989)', 'The Viewing Booth (2020)', 'Hell and Back Again (2011)', 'The Leisure Class (2015)', \"Smokey Joe's Cafe: The Songs of Leiber and Stoller (2002)\", 'Happy Valley (2014)', 'The Barkers: Mind the Cats! (2020)', 'The Outsiders (1990)', 'Entanglement (2018)', 'Barbie: Star Light Adventure (2016)', 'The Deep Blue Sea (1955)', 'Riverworld (2010)', 'Harakiri (1919)', 'Hearts in Bondage (1936)', 'My Love Story!! (2015)', 'So Normal (Normais, Os) (2003)', 'Nina (2016)', 'Glorifying the American Girl (1929)', 'Dead Again in Tombstone (2017)', 'When I Turned Nine (2004)', 'This Way Up (2008)', 'Truth in Numbers? Everything, According to Wikipedia (2010)', 'The Fjällbacka Murders: The Coast Rider (2013)', '18 Kilohertz (2020)', 'Ee. Ma. Yau (2018)', 'Skinheads USA: Soldiers of the Race War (1993)', 'Public Works (2015)', 'Body Parts (1991)', 'The Prize (2011)', 'Driving Me Crazy 1991 (1991)', 'Miranda Veil (2020)', 'Standoff (2020)', 'Reykjavik-Rotterdam (2008)', 'Gardens in Autumn (2006)', 'Friend of the World (2020)', 'Segurança Nacional (2010)', 'Bug Crawls (2007)', 'Christmas Cracker (1963)', 'Tune in Tomorrow... (1990)', 'Ugramm (2014)', 'Clandestine Childhood (2011)', \"A Midsummer's Hawaiian Dream (2016)\", 'Meanwhile (2011)', 'Journey Together (1945)', 'Living (2012)', \"Serpent's Lair (1995)\", 'O Trapalhão na Arca de Noé (1983)', 'Hunters (2021)', 'The Albatross (2016)', 'Heist (2008)', 'The Untameable Whiskers (1904)', 'Fight Back to School (1991)', 'Guardian of the Palace (2020)', 'Dead 7 (2016)', '102 Not Out (2018)', 'Viduthalai: Part I (2023)', 'Girl Fight (2011)', 'Rugged Bear (1953)', 'Cherry Tobacco (2014)', 'Deeply (2000)', 'Surviving Sid (2008)', 'Question of Silence, A (De stilte rond Christine M.) (1982)', 'Amanat (2022)', 'The Magic Blade (1976)', 'An Extremely Nutty Teacher (2011)', 'Little Baby', 'Killing Spree (1987)', 'The Relationtrip (2017)', 'Ice Castles (1978)', 'Devils of Darkness (1965)', 'Black Ice (2022)', 'The Pretend One (2018)', 'Kudo Shinichi Returns! Showdown with the Black Organization (2007)', '200 Pounds Beauty (2017)', 'The Secret of Karma (2020)', 'State buoni se potete (1983)', 'Country: Portraits of an American Sound (2015)', 'On Approval (1944)', '100 Vaginas (2019)', 'Девушки бывают разные (2019)', 'Haunted Castle, The (Hiroku kaibyô-den) (1969)', 'Aerial, The (La antena) (2007)', 'Enakkul Oruvan (2015)', 'Hyperlight (2018)', 'A Bride for Henry (1937)', 'Portrait of a Lazy Woman (1986)', 'Iron Angels (1987)', 'Royal Rendezvous (2023)', 'Lapse of Memory (1991)', 'Cold Meridian (2020)', 'It Takes Three (2019)', 'A Fool and His Money (1912)', 'Love, Bubbles & Crystal Cove (2021)', 'An American in Texas (2017)', 'Thorne: Sleepyhead (2010)', 'South of the Border (2009)', 'Monica and Friends: Lessons (2021)', 'The Secret Diary of the Holocaust (2009)', \"If It Don't Fit, Use a Bigger Hammer (2002)\", 'Tod@s Caen (2019)', \"It's an Adventure, Charlie Brown (1983)\", 'Living Still Life (2014)', 'Highway Patrolman (1991)', 'How to Draw a Bunny (2002)', 'Like Everyone Else (1944)', 'Finding Momo (2017)', 'Winning Team, The (1952)', 'Future Zone (1990)', 'Love Is Better Than Ever (1952)', 'Lion (2015)', 'Aware – Reise in das Bewusstsein (2021)', \"Hitler's Madman (1943)\", 'Nobody Wants the Night (2015)', 'Boys Cry (2018)', 'Shaka Zulu (1986)', 'Tokyo Woes (1945)', 'Piggy (2012)', 'Marfa Girl 2 (2018)', 'The Viking Sagas (1995)', 'Just Like a Woman (1992)', \"Doomed: The Untold Story of Roger Corman's the Fantastic Four (2015)\", 'We Love You, Sally Carmichael! (2017)', 'One Billion Happy People (2011)', 'Fort Bliss (2014)', 'The Babymoon (2017)', 'The Deliberate Stranger (1986)', 'Office Romance. Our time (2011)', 'El vendedor de humo (2012)', 'Love God?, The (1969)', 'A Flower from Heaven 2: A Perilous Journey (2017)', 'Maxed Out: Hard Times, Easy Credit and the Era of Predatory Lenders (2006)', 'Interceptor Force 2 (2002)', 'Journey to the Shore (2015)', 'Sean Banana Inside Seanfrica (2012)', 'Honeymooners, The (2005)', 'Brazilok (2017)', 'Stockholm (2013)', 'The Time Agent (2016)', 'Days of Glory (1944)', 'The Roller Blade Seven (1991)', 'Daughter of the Dragon (1931)', \"It's the Pied Piper, Charlie Brown (2000)\", 'After the Rain (2016)', 'Creative Control (2015)', 'Soldiers. Story from Ferentari (2018)', 'The Heart Machine (2014)', 'Summertime (2014)', 'Mass for the Dakota Sioux (1964)', 'In The Dead Of Winter (1993)', 'Three Men in a Boat (1975)', 'Redskin Blues (1932)', 'The Dallas Connection (1994)', 'Deadly Still (2018)', 'Kidco (1984)', 'Drew Peterson: Untouchable (2014)', 'Dear Chantal (2021)', 'Killing Jesus (2015)', 'The Mountain Road (1960)', 'Jimi Plays Monterey (1986)', 'Combat Obscura (2018)', 'Firecrackers (2018)', 'Oseam (2003)', 'Thumb Princess (1999)', 'Crossfire Hurricane (2012)', 'Sasquatch Hunters (2005)', 'That Old Dream That Moves (2001)', 'Killbird (2019)', 'Carved: The Slit-Mouthed Woman (2007)', 'King Lear (1983)', 'Going Under (2004)', 'Warning Shot (1967)', 'Invasion (1969)', 'Okoto and Sasuke (1935)', 'Debi (2018)', 'Lily & Kat (2015)', 'David (2011)', 'Possession (2022)', 'Haikyuu!!: vs. Akaten (2016)', 'Starship (1984)', 'World Apartment Horror (1991)', 'Five Days (1954)', 'Laerte-se (2017)', 'Love Clinic (2015)', 'Pioneer (2011)', 'Savage Youth (2018)', 'Blood Lake (2014)', 'Hello! (2017)', 'Phi Slama Jama (2016)', 'Crepuscule (2009)', 'The Delinquents (1989)', 'Wolf Town (2010)', 'That Is the Dawn (1956)', 'Thunder Over the Plains (1953)', 'Lost in Yonkers (1993)', 'Million Dollar Legs (1932)', 'KillerSaurus', 'City of Dead Men (2014)', 'Eila (2003)', 'Rollover (1981)', 'Believe: The Eddie Izzard Story (2009)', 'Crossing the Floor (1996)', 'Bad Ben: Benign (2021)', 'Once Upon a Time (1944)', 'Adventures of Felix, The (a.k.a. Funny Felix) (Drôle de Félix) (2000)', 'Natasha (2015)', 'Face of a Fugitive (1959)', 'The Art of Playing (2014)', 'The Art of Getting Along (1954)', \"Jessica Darling's It List (2016)\", 'Beast with a Million Eyes, The (1955)', 'Even Angels Eat Beans (1973)', 'The Chicken Chronicles (1977)', 'Ice Cream (1993)', 'A Man Who Was Superman (2008)', 'Seide (2015)', 'Witches, The (Le streghe) (1967)', 'Our Time (2022)', 'Another Sky (2010)', 'Pledge of Allegiance (2003)', 'Under the Electric Sky (2014)', 'The Ice Forest (2014)', 'Dil (1990)', 'The Last Rite (2021)', 'Wicked, Wicked (1973)', 'Moscow Gigolo (2008)', 'Action of the Tiger (1957)', 'Soof 2 (2016)', 'Hundra', 'One Too Many (1916)', 'My Lovely Angel (2021)', 'Mumford & Sons: We Wrote This Yesterday', 'Over the Moon in Love (2019)', 'Pumpkin Pie Wars (2016)', 'Sandcastles (1972)', 'My First Miracle (2015)', 'Saint Amour (2016)', 'Evil Does Not Exist (2023)', 'Inspector Hornleigh Goes to It (1941)', 'The Fourth Dimension (2012)', \"Rudolph and Frosty's Christmas in July (1979)\", 'A Life at Stake (1955)', 'For Queen and Country (1988)', 'Stoogemania (1986)', \"Saturday's Hero (1951)\", 'Around the Bend (2004)', \"Tout ce qu'il me reste de la révolution (2019)\", 'Last Shot, The (2004)', 'Mademoiselle de Joncquières (2018)', 'Ghost of Dragstrip Hollow (1959)', \"Cenerentola '80 (1984)\", 'Made in Poland (2010)', 'Lawyer Lawyer (1997)', 'Captain Salvation (1927)', 'Dead Air (2021)', 'The First Day of my Life (2023)', 'Gerhard Richter Painting (2012)', 'The Great War of Archimedes (2019)', \"Tytus, Romek and A'Tomek Versus the Thieves of Dreams (2002)\", 'The Last Right (2019)', 'La broma (2021)', 'Trio (2019)', 'The Dark Avenger (1955)', 'Fast and Loose (1930)', 'Disquiet (2023)', 'Silent Land (2022)', 'Irene in Time (2009)', 'The Insurrection (2020)', 'Moon Child (2003)', 'Bride at any Cost (2009)', 'Picture Mommy Dead (1966)', 'Occupied - Die Besatzung (2015)', 'The Obsessed (1952)', 'Our Daily Bread (1934)', 'I Come with the Rain (2009)', 'Embrace the Panda: Making Turning Red (2022)', 'Shattered Innocence (1988)', 'Gobble-Gobble (1977)', 'The Aurora Encounter (1986)', 'The Raffle (1991)', 'Kings & Queen (Rois et reine) (2004)', \"Doin' It in the Park: Pick-Up Basketball, NYC (2012)\", 'My Demon Lover (1987)', 'The Mysterious Box (1903)', \"Bernard Herrmann: Hitchcock's Maestro (2008)\", 'The Lead Shoes (1949)', 'Tumbleweeds (1999)', 'Express (2022)', 'Sancharram (2004)', 'What Every Frenchwoman Wants (1986)', 'Vasil (2022)', 'Chahar Changooli (2008)', 'Concrete Plans (2020)', 'Adam 2.0 (2020)', 'Pope Francis: A Man of His Word (2018)', 'Eye Without a Face (2021)', 'Rack, The (1956)', 'The Turning Point (2021)', 'Traveling Man (1989)', 'Joanne Lees: Murder In The Outback (2007)', 'Route 225 (2006)', 'Murder Games: The Life and Death of Breck Bednar (2016)', 'Heartworn Highways (1976)', 'Absolution (1997)', 'Revealing Ukraine (2019)', 'Intimacies (2012)', 'Out of the Blue (Aramoana) (2006)', 'Van Gogh: Painted with Words (2010)', 'In-Shadow: A Modern Odyssey (2017)', 'I Am Not Him (2013)', 'Snow Bride (2013)', 'Bucking Broadway (1917)', 'Diary of a Chambermaid, The (1946)', 'Kill a Rat (1977)', 'Trade Tattoo (1937)', 'Stagecoach: The Texas Jack Story (2016)', 'Furlough (2018)', 'Mrs. Dalloway (1997)', 'Everything Under Control (2023)', 'Animals are Beautiful People (1974)', 'Letter from Masanjia (2019)', 'Situation, The (2006)', 'Canvas (2021)', 'Fuzz (1972)', 'Alien Seed (1989)', 'Man I Love, The (1947)', 'Chutney Popcorn (2001)', 'The Terrible Adventure (2021)', 'Mountain Patrol (Kekexili) (2004)', 'In Jackson Heights (2015)', 'Puppet Master X: Axis Rising (2012)', 'Pretty Cool Too (2007)', 'David Parker Ray: The Toy Box Killer (2019)', 'Dreaming the Reality (1991)', 'Little Vera (1988)', \"Romeo and Juliet: Shakespeare's Globe Theatre (2010)\", 'Louis Theroux: A Different Brain (2016)', 'Land of Oblivion (2011)', 'The Faculties (2019)', 'The Symbol of the Unconquered (1920)', 'Hold Me Back (2020)', 'Eternal Breasts (1955)', 'The Young Stranger (1957)', 'The Red Book Ritual (2022)', \"Pandora's Box (Pandora'nin kutusu) (2008)\", 'Possessed (2022)', 'Hurt (2009)', 'Glasses (Megane) (2007)', \"My Baby's Daddy (2004)\", 'Sweeney Todd: The Demon Barber of Fleet Street (2014)', 'Private Parts (1972)', 'From Zero to I Love You (2019)', 'The Christmas Cottage (2017)', 'Barber Westchester (2021)', 'Murder on the Campus (1933)', 'The Viking Queen (1967)', 'Getting Acquainted (1914)', 'Bunny Hugged (1951)', 'Will (2012)', 'Jamie Marks Is Dead (2014)', 'Thunderclump (1974)', 'Scanners: The Showdown (1995)', 'The Eyes (2017)', 'Shadows (2023)', 'I Remember You (2015)', 'The Gauntlet (2013)', 'In Defense of Food (2015)', 'Killer Legends (2014)', 'Sweet Adeline (1934)', 'Menorah in the Middle (2022)', 'Douche (2018)', 'A Carrocinha (1955)', 'Ryde (2017)', 'We Was Homeboyz (2012)', 'Noémie dit oui (2022)', 'Justine (2019)', 'Four, The (Si da ming bu) (2012)', 'Monkey Grip (1982)', 'Parosh Pathar (1958)', 'A Very Honorable Guy (1934)', 'Mynarski Death Plummet (2014)', 'Horror of the Humongous Hungry Hungan (1991)', \"Jon Imber's Left Hand (2014)\", 'Separate Vacations (1986)', 'Blind & Ugly (2017)', 'Hollywood Handicap (1938)', 'Time Stands Still (1982)', 'The Cops Are Robbers (1990)', 'Ay Lav Yu (2010)', 'The Eternal Zero (2013)', 'Odessa steamboat (2019)', 'The Girl From the Other Side (2022)', 'Before All Others (2016)', 'Gridiron UK (2016)', 'Summer of Mesa (2020)', 'The Phantom of the Opera (1998)', 'Change of Plans (Le code a changé) (2009)', 'Plum Blossom (2000)', 'Boogeyman (2012)', 'Heart Like a Hand Grenade (2015)', 'Mount St. Elias (2009)', 'Hellhounds (2009)', 'The Quiet One (1948)', 'WWE: 50 Greatest Finishing Moves in WWE History (2012)', 'The Hunt For Bin Laden (2012)', 'Right Now (À tout de suite) (2004)', 'A Gift with a Character (2014)', 'Fabulous (2019)', 'Star (2014)', 'Bikes vs Cars (2015)', 'Time of Indifference (1964)', 'Abbi fede (2022)', 'Red Room (2017)', '7eventy 5ive (2007)', 'Victoria (2020)', 'Anatomy of a Love Seen (2014)', 'Villa Rides! (1968)', 'Turn It Around: The Story of East Bay Punk (2017)', 'Red Hollywood (1995)', 'Kikoriki. Deja Vu (2018)', 'Bajo el mismo techo (2019)', 'Hero Dog: The Journey Home (2021)', 'Armed Response (2017)', 'Walk for Me (2016)', 'The Shaman (2015)', 'Wu Tang Master (Tian shi zhuang xie) (1983)', 'Ghosts (2020)', 'Anna Karenina (1997)', 'Loco Love (2017)', 'Minutes to Midnight (2018)', 'Calamity, a Childhood of Martha Jane Cannary (2020)', 'Kalev (2022)', 'A Brother (2018)', 'The Mighty Angel (2014)', 'Agnes Joy (2019)', 'Relative (2022)', 'Steve-O: Gnarly (2020)', 'Drink Slay Love (2017)', 'Beltracchi - The Art of the Forgery (2014)', 'Ghost Theater (2015)', 'Red Wood Pigeon (1989)', 'The Strong Ones (2019)', 'Flora (2017)', 'The Strange Disappearance of Comrade Kuliakov (2022)', 'Burma VJ: Reporting from a Closed Country (Burma VJ: Reporter i et lukket land) (2008)', 'With or Without You (2021)', 'Map of the World, A (1999)', 'Billy the Kid (1941)', 'The Last Wagon (1956)', 'Mystery Island (2023)', 'Father and Son (Otets i syn) (2003)', 'Breaking Bread (2021)', 'A Heartland Christmas (2010)', 'American Zombie (2007)', 'Sherlock Holmes Baffled (1900)', 'The Blue Knight (1973)', 'Die Nibelungen, Teil 2: Kriemhilds Rache (1967)', \"Louis Theroux: America's Most Dangerous Pets (2011)\", 'Black Money (2019)', 'FirstBorn (2016)', 'Twenty-one (1991)', 'Riot on Sunset Strip (1967)', 'Dark Amazon (2014)', 'The Undressing (1986)', 'Life and Passion of Christ (1907)', 'Butterfly (1974)', 'Snakes on a Train (2006)', 'Eat with Me (2014)', 'Upswept Hare (1953)', 'Falling for You (2018)', 'Thammudu (1999)', 'In Merry Measure (2022)', 'The Black Panthers: Vanguard of the Revolution (2015)', 'The Deerslayer (1957)', \"Gracie's Choice (2004)\", 'The Lady Consents (1936)', 'Star Slammer (1986)', 'Temps (2016)', '10 Kalpanakal (2016)', '24 Hours at the South Street Diner (2012)', 'Dating & New York (2021)', 'Fast-Walking (1982)', \"The Rogues' Tavern (1936)\", 'The Happy House (2013)', 'The Price of Honor (2014)', 'Şabaniye (1984)', 'Sea, The (Hafið) (2002)', 'Tarnished Lady (1931)', \"If You're Gone (2019)\", 'Natural Enemies (1979)', 'Smooth Criminal Video Oficial', 'Stormy Trails (1936)', 'The Thirst: Blood War (2008)', 'Ashens and the Polybius Heist (2020)', 'Whoops! (1955)', 'Buchanan Rides Alone (1958)', 'The Bygone (2019)', 'Starve (2014)', 'Kryptonita (2015)', 'Scare Attraction (2019)', 'Class Dismissed (2015)', 'Patchwork (2015)', 'The Eternal Jew (1940)', 'Those Three French Girls (1930)', 'Have You Ever Seen Fireflies? (2021)', 'ThuleTuvalu (2014)', 'Jane Eyre (1997)', 'Sword Master (2016)', 'The Amityville Haunting (2011)', 'Travis Scott: Look Mom I Can Fly (2019)', \"A Witch's Tangled Hare (1959)\", '2037 (2022)', 'Quit Staring at My Plate (2016)', 'Searching for the Elephant (2009)', 'Ask No Questions (2020)', 'Our Nixon (2013)', 'The Lighthouse (2006)', 'Kanón (2015)', 'The Lone Wolf Returns (1935)', 'Grim (1995)', 'Psychout for Murder (1969)', 'Three Strangers (1946)', 'Fear Clinic (2014)', 'Tomorrow Is Another Day (1951)', 'The Cannibals (1972)', 'Daybreak Express (1953)', 'The Devil in a Convent (1899)', 'Garbage Prince (2011)', 'Undertaker and His Pals, The (1966)', 'Kuxa Kanema: O Nascimento do Cinema (2003)', 'A Gentleman (2017)', 'A Hound for Trouble (1951)', 'Ginza Cosmetics (1951)', 'The Double McGuffin (1979)', 'Who Is Cletis Tout? (2001)', 'Poodle Springs (1998)', 'The Changed (2021)', \"No One's with the Calves (2022)\", 'A Night at the Kindergarten (2022)', 'Prey (1978)', 'Real Boy (2016)', 'The Lead (2020)', \"Move Me Brightly - Celebrating Jerry Garcia's 70th Birthday (2013)\", 'Benny & Jolene (2014)', 'I Love You, I Love You Not (1996)', 'Qodrat (2022)', 'Hormigas (2019)', \"Apocalypse '45 (2020)\", 'Noël Noël (2003)', 'Mai Mai Miracle (2009)', 'Night to Remember, A (1942)', 'Christmas for Teddy (2022)', 'Streamers (1983)', 'Hiruko the Goblin (1991)', 'Pro Lyuboff (2010)', 'House of Horrors (1946)', 'The New Greatness Case (2022)', 'Sister Mary Explains It All (2001)', \"Pamela's Prayer (1998)\", 'Loving Leah (2009)', 'Dirty Sexy Saint (2019)', 'The Christmas Box (1995)', 'The Wedding Veil Journey (2023)', 'Café Chantant (1953)', 'So Fine (1981)', 'Hamlet Goes Business (Hamlet liikemaailmassa) (1987)', 'The Bond (1918)', 'The Undying Monster (1942)', 'First One In (2020)', 'Forbidden Love: The Unashamed Stories of Lesbian Lives (1992)', 'A Summer to Remember (2018)', 'Fools for Scandal (1938)', 'Time for Killing, A (1967)', 'Letters to God (2010)', 'My Little Chickadee (1940)', \"Don't Bother To Knock (1961)\", 'Pretty Maids All in a Row (1971)', 'Order of the Black Eagle (1987)', 'Naane Varuvean (2022)', 'Innocence (2011)', \"Servant's Entrance (1932)\", 'Femina (1991)', 'On the Edge (2022)', 'Rival (2020)', 'Toomas Beneath the Valley of the Wild Wolves (2019)', 'Beggars of Life (1928)', 'Magician: The Astonishing Life and Work of Orson Welles (2014)', 'Last Mountain, The (2011)', '...And the Third Year, He Resuscitated (1980)', 'Odayaka (2012)', 'Francis (2013)', 'Moonbound (2021)', \"The Tiger's Nest (2022)\", 'Yamaleela (1994)', 'Wild Side (1995)', 'Superworm (2022)', 'KickOff (2011)', 'Some Kind Of Hate (2015)', 'Blue Ice (1992)', 'The Flintstones & WWE: Stone Age Smackdown (2015)', 'Ex-Wife Killer (2017)', \"The Bride's Journey (1997)\", 'Bunny the Killer Thing (2015)', \"Mickey's Delayed Date (1947)\", 'Cold Eyes of Fear (1971)', 'The Rockford Files: Godfather Knows Best (1996)', 'The Bad Intentions (2011)', 'Something to Sing About (1937)', 'Joel Kim Booster: Psychosexual (2022)', 'Darkroom (1989)', 'Düttürü Dünya (1988)', 'Dissolve (2019)', 'Sleeping Dogs Lie (a.k.a. Stay) (2006)', 'Red Pony, The (1949)', 'The Pyramid (2007)', 'Titler (2000)', 'The Hunt (2011)', 'Easy To Love (1934)', 'X: The Unknown (1956)', 'Assault Girls (2009)', 'Larva (2005)', 'Four Seasons Lodge (2008)', 'Don Rickles: One Night Only (2014)', 'Killer Crocodile (1989)', '90 Miles (2005)', 'In My Country (a.k.a. Country of My Skull) (2004)', 'The Olsen Gang in Jutland (1971)', 'The Subject (2020)', 'Belonging (2019)', '4 latas (2019)', \"Serpent's Egg, The (Schlangenei, Das) (1977)\", 'Eyes in the Night (1942)', 'The Prodigies (2011)', 'The Same Blood (2019)', 'Gigante (2009)', 'Pedicab Driver (1989)', 'Tiny Toon Adventures: How I Spent My Vacation (1992)', 'Dancing On (2022)', 'Silent Witnesses (2023)', 'In Other Words (2020)', 'David Blaine: Beyond Magic (2016)', 'Another Egg and Chicken Movie (2009)', 'We Are Not Angels 3: Rock & Roll Strike Back (2006)', 'Mondo Weirdo (1990)', 'Seventh Brother, The (A hetedik testvér) (1995)', 'The Fixer (1998)', 'Blossoming of Maximo Oliveros, The (Ang pagdadalaga ni Maximo Oliveros) (2005)', 'Master Class: Ridley Scott (2017)', 'Song for Martin, A (Sång för Martin, En) (2001)', \"Casper's Haunted Christmas (2000)\", 'Rome, Armed to the Teeth (1976)', 'A Rifle and a Bag (2020)', 'Alley Cats, The (1966)', '¡Atraco! (2012)', 'Cardinal, The (1963)', 'Women Without Men (Zanan-e bedun-e mardan) (2009)', 'Love in Action (2010)', 'Chief Daddy (2018)', 'City of Violence, The (Jjakpae) (2006)', 'Enter... Zombie King! (2003)', 'Hired Killer (1966)', 'Magic Silver 2 (2011)', 'Mission to Mars (2022)', 'Pansy Division: Life in a Gay Rock Band (2008)', 'The Last Days of Billy the Kid (2018)', \"Mama's Boy (2022)\", \"Attenborough's Wonder of Song (2022)\", \"Elizabeth's Gift (2012)\", 'Chase a Crooked Shadow (1958)', 'The House of Flowers: The Movie (2021)', 'Portuguese Vacation (1963)', 'Sacco and Vanzetti (Sacco e Vanzetti) (1971)', 'Crazy Nights (1978)', 'Versailles - The Dream of a King (2008)', 'Ben Platt: Live from Radio City Music Hall (2020)', 'Berth Marks (1929)', 'The Happening (1967)', 'Evolution of a Filipino Family (2004)', 'We Are Gamily (2017)', 'Hamari Adhuri Kahaani (2015)', 'Oriental Elegy (1996)', 'In Society (1944)', \"Knock Knock, It's Tig Notaro (2015)\", 'Dealt (2017)', 'Fractals: The Colors Of Infinity (1996)', 'The Dry Valley (2012)', 'Daphnia (1928)', 'Death Drop Gorgeous (2021)', 'Beck 26 - Buried Alive (2010)', 'Loose in a Caboose (1946)', 'Pool Sharks (1915)', 'Innocent Steps (2005)', 'Black Watch, The (1929)', \"For Love's Sake (2013)\", 'Loving Ibiza (2013)', 'Too Young To Die! (2016)', \"Devil's Nightmare, The (Plus longue nuit du diable, La) (1971)\", 'The Legend of Hallowdega (2010)', 'The Current (2014)', 'Planeta Petrila (2017)', 'Sinkhole (2013)', 'Tokyo Eyes (1998)', 'Francuski Numer (2006)', 'Dickshark (2016)', 'Burial Ground (a.k.a. Zombie Horror) (a.k.a. Zombie 3) (Notti del Terrore, Le) (1981)', 'Zion (2018)', 'Cover-Up (1991)', 'Timerider: The Adventure of Lyle Swann (1982)', '299 Queen Street West (2023)', 'About an Age (2018)', 'The Girl at the Ironing Board (1934)', 'Margarita, Armando y su padre (1939)', 'The Bunglers in the Planet Wars (1978)', 'Asylum of Satan (1972)', \"Putin's Kiss (2012)\", 'Louie Bluie (1985)', 'Badland (2019)', \"One Soldier's Story: The Journey of American Sniper (2015)\", 'Fortunes', 'Super Shark (2011)', '.hack//G.U. Trilogy (2007)', 'Perfect High (2015)', 'Female Misbehavior (1992)', 'Statysci (2006)', 'The Swamp (2020)', '#SCREAMERS (2016)', 'The Adventures of Marco Polo (1938)', 'Rangle River (1936)', 'My Perfect Romance (2018)', 'Hymn (1972)', 'Thomas in Love (Thomas est Amoureux) (2000)', 'Adelheid (1970)', 'The Power of the Whistler (1945)', 'Grace and Goliath (2018)', 'Crest of the Stars: Birth (2000)', 'Wodehouse In Exile (2013)', 'Cheese Chasers (1951)', 'Daffy Dilly (1948)', 'Vicini di casa (2022)', 'The Mayfair Set (1999)', 'Hiding Victoria (2007)', 'The Little Gangster (1990)', 'The Whale God (1962)', 'Tomorrow Will Be Better (2011)', 'Jönssonligans största kupp (1995)', 'Never Cry Werewolf (2008)', 'In Your Dreams (1997)', 'Point and Line to Plane (2020)', 'Jimmy Vestvood: Amerikan Hero (2016)', 'Susan Lenox (Her Fall and Rise) (1931)', 'Masquerade (1965)', \"Life and Nothing But (Vie et rien d'autre, La) (1989)\", 'VeggieTales: Madame Blueberry (1998)', 'Bare Witness (2002)', 'A Storybook Christmas (2019)', 'Pachamama (2018)', 'Cinema Komunisto (2010)', 'Beggars in Ermine (1934)', 'Swiss Miss (1938)', 'The American Scream (2012)', \"Midsummer's Equation (2013)\", 'A Brand New Life (2009)', 'Tornado! (1996)', 'His New Job (1915)', 'Happiness Is in the Field (Bonheur est dans le pré, Le) (1995)', 'On ne meurt que deux fois (1985)', 'Homerun (2003)', 'Lillian (2019)', 'The Beginning of Life (2016)', 'Crack in the World (1965)', 'Bonitinha, Mas Ordinária (1981)', 'Me and Will (1999)', 'Arne Dahl: The Europe Blues (2012)', 'Japoteurs (1942)', 'Girl Followed (2017)', 'Food Stamped (2010)', 'Oh the Days! (1978)', 'One Ranger (2023)', '3: The Dale Earnhardt Story (2004)', 'The Last Day of August (2012)', 'Reckoning Day (2002)', 'Wolfsburg (2003)', 'Swamp Water (1941)', 'Two Comrades Were Serving (1968)', \"Cheech & Chong's The Corsican Brothers (1984)\", 'Top Gear: The Perfect Road Trip 2 (2014)', 'First Family (1980)', 'Feed The Fish (2009)', 'Kevorkian (2010)', \"Golda's Balcony (2007)\", 'Private Eye (2009)', 'Dynamite Warrior (2006)', 'The Karate Dog (2004)', 'Secret Wars (2014)', 'A Dash Through the Clouds (1912)', 'Conspiracy of Torture, The (Beatrice Cenci) (1969)', 'Hawking: Can You Hear Me? (2021)', 'Confetti Harvest (2014)', 'Bad Roomies (2015)', 'The River: A Documentary Film (2020)', 'Behind Closed Doors (2016)', 'Out & Around (2015)', 'National Theatre Live: Julie (2018)', 'Arctic Predator (2010)', 'Our Defeats (2019)', 'Singapore and Jahore (1938)', 'Lair of the Beast (2016)', 'Ó Paí, Ó (2007)', 'Brothers: The Return (2006)', 'The Umbrella Man (2011)', \"The Man Putin Couldn't Kill (2021)\", 'Merci Patron ! (2016)', 'Winter Wind (1969)', 'Roar : The Most Dangerous Film Ever Made (2017)', 'Mutant Blast (2019)', 'Some Call It Loving (1973)', 'Growing Up (1983)', 'Death of Nintendo (2020)', 'Fasthand (1973)', \"Dad, I'm Sorry (2021)\", 'Golden Bowl, The (2000)', 'The Check Is in the Mail... (1986)', 'Les abysses (1963)', 'Night Mayor (2009)', 'Secrets In The Snow (2013)', 'Elcano & Magellan: The First Voyage Around the World (2019)', 'A Brush with Christmas (2022)', 'Hannibal (1959)', 'Fireball (2009)', 'Perry Mason: The Case of the Scandalous Scoundrel (1987)', 'Bheemla Nayak (2022)', 'Ventoux (2015)', 'Flying Saucer, The (1950)', 'Alien Girl (2010)', 'Iblard Jikan (2007)', 'Prey (2019)', '76 (2016)', 'India: Matri Bhumi (1959)', 'Sound and Fury (1988)', 'Soltera Codiciada (2018)', 'Brother Orchid (1940)', 'Godavari (2006)', 'Cool Cat Fights Coronavirus (2021)', 'Barefoot Gen 2 (Hadashi no Gen II) (1986)', 'Off Limits (2010)', 'Marooned Awakening (2023)', 'The Convoy (2012)', 'Maytime in Mayfair (1949)', 'Nocturno 29 (1968)', 'Finding Mr. Destiny (2010)', 'Living Wake, The (2007)', 'Jacob the Liar (Jakob, der Lügner) (1975)', 'Four Sisters Before the Wedding (2020)', \"She's a Good Skate, Charlie Brown (1980)\", 'Change of Habit (1969)', 'Miyamoto Musashi: The Duel at Ichijo Temple (1964)', \"Velikaya kriminal'naya revolyutsiya (1994)\", 'Together (Han ni Zai Yiki) (2002)', 'Dead Creatures (2001)', 'Pan 1 (1974)', 'Kenner (1968)', 'Christmas Break-In (2019)', 'Balupu (2013)', 'Four Sisters (1985)', 'Peculiarities of the National Hunt in the Winter (2000)', 'Romantic Warriors (2003)', 'British Agent (1934)', 'Across the Pacific (1942)', 'The Christmas Party (2009)', 'Love at Sunset Terrace (2020)', 'Different for Girls (1996)', 'Knifepoint (2011)', 'By Candlelight (1933)', 'Here Come the Co-eds (1945)', 'Girl, The (Flickan) (2009)', 'Final Offer (2018)', 'Avenging Conscience, The (1914)', 'Regular Guys (Echte Kerle) (1996)', 'One Week and a Day (2016)', 'Rattlesnakes (2019)', 'Louise-Michel (2008)', 'The Dirk Diggler Story (1988)', 'I Can Quit Whenever I Want (2019)', 'Beautiful (2000)', 'The Unseeable (2006)', '48 Below (2012)', 'Mektoub, My Love: Canto Uno (2018)', 'Into the Jungle (2018)', 'Tears for Sale (2008)', 'Love in the End (2013)', 'Billy Gardell: Halftime (2011)', 'Lost in Alaska (1952)', 'The Prince and the Pauper (1962)', \"Mother's Boys (1994)\", 'Tokyo Rising (2020)', 'The Confession Musical (2023)', 'Auntie (2013)', 'War Boys, The (2009)', 'Commercial Entertainment Product (1992)', 'Thief of Paris, The (Le voleur) (1967)', 'Polish Legends: The Dragon (2015)', 'The Stork Club (1945)', 'The Stud (1979)', 'WWE: The American Dream: The Dusty Rhodes Story (2006)', 'Forever Female (1954)', 'Slash (2002)', 'Joji (2021)', 'You Ought to Be in Pictures (1940)', 'Future Soldier (2023)', 'The Violent Heart (2020)', 'Sky Ladder: The Art of Cai Guo-Qiang (2016)', 'Christmas in Wonderland (2007)', 'Her Best Move (2007)', 'Mikhaylo Lomonosov (1986)', 'In Defense of a Married Man (1990)', \"Soldier's Daughter Never Cries, A (1998)\", 'Coffee and Cigarettes II (1989)', 'The Fabulous Filipino Brothers (2021)', 'Artificial Light (1969)', 'Meu Passado Me Condena: O Filme (2013)', 'Tracers (2015)', 'Star Trek: 30 Years and Beyond (1996)', 'My Sister Eileen (1955)', 'Nice Guy Johnny (2010)', \"When He's Not a Stranger (1989)\", 'The Chronicles of the Gray House (1925)', 'We Are Boats (2019)', 'Monkey Enters Lanka (2022)', 'My Rainy Days (2009)', '8th Wonderland (2008)', 'Thanks, Smokey! (2011)', 'Watchtower (2012)', 'The Solar Film (1980)', 'Beyond the Fire (2009)', 'Throw Away Your Books, Rally in the Streets (1971)', 'Golden Door (Nuovomondo) (2006)', 'Déjà Vu (1997)', 'Habitual', 'The Mozart of Pickpockets (2006)', \"Queer China, 'Comrade' China (2009)\", 'The Lucky Guy (1998)', 'Dr. Black, Mr. Hyde (1976)', 'Game Over (2005)', 'Dennis Hopper: Uneasy Rider (2016)', 'Red Like the Sky (Rosso come il cielo) (2007)', \"You're So Cupid (2010)\", 'Double Happiness (1994)', 'Cool Cat in the Hollywood Parade (2012)', \"'Pimpernel' Smith (1941)\", 'Bad Faith (2010)', \"Everything's Gone Green (2005)\", 'Russell Brand: Messiah Complex (2013)', 'Personality Crisis: One Night Only (2022)', 'For Zeko (2022)', 'Hollywood Complex, The (2011)', 'Lili (1953)', 'Fitzgerald Family Christmas, The (2012)', 'Little Boys (1986)', 'Murder by Television (1935)', 'Ninguém Ama Ninguém por Mais de Dois Anos (2015)', 'Oscar Peterson: Black + White (2021)', 'Dracula in Love (2018)', 'Sky Force 3D (2012)', 'Smart Money (1931)', 'Lilith (1964)', 'Dads (2022)', \"John Leguizamo's Latin History for Morons (2018)\", 'Sonicsgate: Requiem For A Team (2009)', 'Tree Man (2016)', 'The Oil Factor: Behind the War on Terror (2005)', 'The Distant Barking of Dogs (2017)', 'Do You Believe in Angels? (1961)', \"It's Hard to Be Nice (2007)\", 'Advantages of Travelling by Train (2019)', 'Vaali (1999)', \"In Praise of Love (Éloge de l'amour) (2001)\", 'My First Wedding (2005)', 'Tell Me Your Name', 'Falling Leaves (1966)', 'Only Me (1929)', 'Curtain (2015)', 'Romeo Turns Bandit (1909)', 'A Corsican Summer (2022)', 'Thelonious Monk: Straight, No Chaser (1988)', 'The Grand Son (2018)', 'Accused of Murder (1956)', 'Golem (1980)', 'Duisburg - Linea di sangue (2019)', 'Whisky (2004)', 'Benchwarmers 2: Breaking Balls (2019)', 'Garfield In Paradise (1986)', 'Crazy Famous (2017)', 'Kurt Josef Wagle og legenden om Fjordheksa (2010)', 'Origin (2019)', '12 Suicidal Teens (2019)', 'The Brittany Murphy Story (2014)', 'Bullets or Ballots (1936)', 'After Midnight (2018)', 'The Art of Love (2011)', 'Snowball Express (1972)', \"Our Father's Keeper (2020)\", 'Kill Your Idols (2004)', 'Death Stalk (1975)', 'A Very Country Christmas Homecoming (2020)', 'Hex (1973)', \"Closer to God: Jessica's Journey (2012)\", 'Polle fiction (2002)', 'Modern Love (2018)', 'Wheely (2018)', 'American Sicario (2021)', 'Fiction (2006)', 'Fire (Pożar) (2018)', \"Almayer's Folly (2012)\", 'Slam Dance (1987)', 'Emerald Green (2016)', 'Start-Up (2019)', 'Mavis! (2015)', 'Papi Sitter (2020)', 'Lionman (1975)', 'Hide and Seek (1913)', 'Feline Follies (1919)', 'Story of Marie and Julien, The (Histoire de Marie et Julien) (2003)', 'Transpecos (2016)', 'Black Ice (2020)', 'Blood on the Mountain (2016)', \"Calamity Jane's Revenge (2015)\", 'Sunset Park (1996)', 'Conscientious Objector, The (2004)', 'Last Day of Summer (2009)', 'Over the Limit (2018)', 'Leal (2018)', 'As Good as Dead (2022)', 'Fire From Below (2009)', 'Jak to się dzieje, pyta Agnisia, że na ekranie widzimy misia (1970)', 'Single Santa Seeks Mrs. Claus (2004)', 'Lily C.A.T. (1987)', 'Miss Sharon Jones! (2015)', \"Look What's Happened to Rosemary's Baby (a.k.a. Rosemary's Baby II) (1976)\", 'Unloved (1966)', 'Flamenco (de Carlos Saura) (1995)', 'White Epilepsy (2012)', 'Marvel Studios: Expanding the Universe (2019)', 'The Orheim Company (2012)', 'Madtown (2016)', 'Curse of Bigfoot (1978)', 'Meeting Venus (1991)', 'San Demetrio London (1943)', 'Labyrinth of Dreams (1997)', '10.0 Earthquake (2014)', 'Eating (1990)', 'Mubarakan (2017)', 'Working Slowly (2004)', 'The Fighting Musketeers (1961)', 'Drifting States (2005)', 'Ask Me to Dance (2022)', \"Who's Driving Doug (2016)\", 'Needle Park Baby (2020)', 'Laterna, ftoheia kai garyfallo (1958)', 'The Keeper (1976)', 'Here Comes Garfield (1982)', 'The Newspaperman: The Life and Times of Ben Bradlee (2017)', 'Numb (2015)', 'Outrage (1950)', 'The Match (2020)', 'Despair (1978)', \"I Haven't Got a Hat (1935)\", 'Jet Pilot (1957)', 'Youtopia (2018)', 'A Mermaid in Paris (2020)', 'Endukante Premanta (2012)', 'Circus Maximus (2023)', 'Bombairiya (2019)', 'Other One, The (2014)', 'Savage Sam (1963)', \"Erika's Hot Summer (1971)\", 'My Name is Juani (Yo soy la Juani) (2006)', 'Neighbor, The (1993)', \"Emperor's Secret (2006)\", 'Ragamuffin (2014)', 'The Chivalry, The Gunman and The Killer (1977)', 'Adventures of Don Juan (1948)', 'Wild Kratts: A Creature Christmas (2015)', 'Twilight (1990)', 'April Showers (1948)', 'CSI: Immortality (2015)', 'Yarik (2008)', 'Seminary Girls (1897)', 'The Office (1966)', 'We All Scream for Ice Cream (2007)', 'The Day I Saw Your Heart (2011)', 'Care Bears Movie II: A New Generation (1986)', 'Porndemic (2018)', 'Zeitgeist: Beyond The Pale (2012)', 'Motichoor Chaknachoor (2019)', 'The Rat Pack (1998)', 'The Woman in Red (1935)', 'Robbery Under Arms (1957)', 'Daddy and Them (2001)', 'Girl with the Red Scarf, The (Selvi boylum, al yazmalim) (1978)', 'November (2004)', 'The Boy in the Plastic Bubble (1976)', 'Ice on Fire (2019)', \"The Alchemist's Letter (2015)\", 'In Your Shoes (2020)', 'Jimmy Dore: Sentenced To Live (2015)', 'Go for Sisters (2013)', 'The Wall (1982)', 'The Orion Loop (1980)', 'Price Check (2012)', 'Right to Die (2007)', '10th & Wolf (2006)', 'Cook Off (2017)', 'The Surrogate (2013)', 'Ivan the Incredible (2012)', 'I.C.U. (2009)', 'Battle Beyond the Sun (1959)', 'Feet First (1930)', 'Rory Scovel Tries Stand-Up for the First Time (2017)', \"A Child's Voice (2018)\", 'The Yellow Scarf (2000)', 'Tatu and Patu (2016)', 'The Grump: In Search of an Escort (2022)', 'Silent Heart (2014)', 'The White Haired Witch of Lunar Kingdom (2014)', 'Dragon Attack (1983)', 'So Young (Zhi wo men zhong jiang shi qu de qing chun) (2013)', 'Far North (2007)', 'The Squad: Home Run (2023)', 'The Good Journey (2018)', 'No One Killed Jessica (2011)', 'Party Girl (2014)', 'I Had A Bloody Good Time At House Harker (2016)', 'Maisie Undercover: Shadow Boxer (2006)', 'Walt: The Man Behind the Myth (2001)', 'Little Peach (1958)', 'Eismayer (2022)', 'Bedlam (2019)', 'Secret Admirer (1985)', 'Humorous Phases of Funny Faces (1906)', 'In God We Tru$t (1980)', 'Badland Doves (2021)', 'Applause (1929)', \"Finian's Rainbow (1968)\", 'Backyard, The (2002)', 'Trauma', 'The Night before the Exams (2006)', 'Stuff and Dough (Marfa si banii) (2001)', 'King of Boys (2018)', 'Project Moon Base (1953)', 'Pulse (1988)', 'Keep Smiling, Mom! (2022)', 'You Wont Miss Me (2009)', 'Moby Doc (2021)', 'From Here To Eternity: The Musical (2014)', 'Patriots, The (Patriotes, Les) (1994)', 'Flight of the Doves (1971)', 'The Ship ‘Night’ (1979)', 'That Uncertain Feeling (1941)', 'All American Orgy (Cummings Farm) (2009)', 'Elstree Calling (1930)', 'Avvai Shanmugi (1996)', 'Ballad of a Righteous Merchant (2017)', 'Edge of Darkness (1943)', 'Chop Kick Panda (2011)', 'The Sinful Nuns of Saint Valentine (1974)', 'Gate of Flesh (Nikutai no mon) (1964)', 'I Can No Longer Hear the Guitar (1991)', 'Taxi a Gibraltar (2019)', \"Dave Gorman's Googlewhack Adventure (2004)\", 'Cheetah (1989)', \"It's a Wonderful Afterlife (2010)\", 'Looop Lapeta (2022)', 'Go, Go Second Time Virgin (Yuke yuke nidome no shojo) (1969)', \"Late Night with Conan O'Brien: The Best of Triumph the Insult Comic Dog (2004)\", 'Images of the Unconscious (1986)', 'Prisoner X (2016)', 'Any Number Can Play (1949)', 'Tell Them We Are Rising: The Story of Black Colleges and Universities (2017)', 'Super November (2018)', 'Safe (1993)', 'Windows (1980)', 'Gates of the Night (1946)', 'Thumper (2017)', 'Gallagher: Stuck in the Sixties (1983)', 'Winter Solstice (2003)', 'Grigris (2013)', 'Number, Please? (1920)', 'The Curious (1986)', 'The Black Spider (2022)', 'Cup of my Blood (2005)', 'Ichthys (2005)', 'Between Showers (1914)', 'Mako (2021)', 'Trouble with Girls, The (1969)', 'King of the Mountain (1981)', 'My Best Enemy (Mein bester Feind) (2011)', 'To the Ends of the Earth (2016)', 'Saving My Hubby (2002)', 'Akam (2013)', 'No Way to Live (2016)', 'Kyaa Kool Hai Hum (2005)', 'Mystical Lumberjack (2019)', 'Nothing But the Night (1973)', 'The Martial Arts Kid (2014)', 'Seal Team Eight: Behind Enemy Lines (2014)', 'Our Homeland (2012)', 'Okresní přebor - Poslední zápas Pepika Hnátka (2012)', 'Dark Woods II (2015)', 'Down to Earth (1947)', 'Sanam Teri Kasam (2016)', 'Lost in the Sun (2015)', 'Emerson Heights (2020)', 'AmericanEast (2008)', 'Displacement (2017)', 'Still Life (2005)', 'The Arch (1969)', 'A Good American (2014)', 'San Babila-8 P.M. (San Babila ore 20: un delitto inutile) (1976)', 'Power Play (1978)', 'Eden (2018)', 'The Fire Rises: The Creation and Impact of The Dark Knight Trilogy (2013)', 'X, Y and Zee (Zee and Co.) (1972)', 'The Honeymoon (2022)', 'The Out List (2013)', 'Lucky Partners (1940)', \"The Warrior's Brother (2002)\", 'Io, Chiara e lo scuro (1982)', 'Terror Birds (2016)', 'Macon County Line (1974)', 'The Girl in Room 2A (1974)', 'I Am Elizabeth Smart (2017)', 'No Letting Go (2016)', 'Driven to Abstraction (2020)', 'Savage Messiah (2002)', 'Robin Williams: A Night at the Met (1986)', 'Let Me Die a Woman (1977)', 'Youth (2018)', \"Hitler's Disastrous Desert War (2021)\", 'Chez Nous (2013)', 'Flesh (1968)', 'Amazing Love (2012)', 'Between Two Worlds (1944)', 'Mother, May I Sleep with Danger? (1996)', 'Tales From the Dark 1 (2013)', 'King of Ping Pong, The (Ping-pongkingen) (2008)', 'Gone Mom: The Disappearance of Jennifer Dulos (2021)', 'Plastic China (2016)', 'Nobody Walks in L.A. (2015)', 'The Game of Truth (2013)', 'When the Waves Are Gone (2022)', 'Way of the Vampire (2005)', 'Raja (2003)', 'Sea Scouts (1939)', 'Galíndez File, The (Misterio Galíndez, El) (2003)', \"Other People's Children (2015)\", 'Dawn of an Evil Millennium (1988)', 'All Governments Lie: Truth, Deception, and the Spirit of I.F. Stone (2016)', 'Yesterday (2004)', 'El cine libertario: cuando las películas hacen historia (2010)', 'Land of Happines (Onnen maa) (1993)', 'Mr. Jones (1993)', 'Ego (2013)', 'El asfalto (2021)', 'April (1961)', 'Ebenezer (1998)', 'The Forest (2018)', 'Black Magic M-66 (1987)', 'Bathtubs Over Broadway (2018)', 'Boys Over Flowers: Final (2008)', 'The Gates (2008)', 'Kung Fu Zombie (1981)', '3 Nights in the Desert (2015)', 'The Mars Underground (2007)', 'Daphne (2007)', 'Pearls and Pigs (Helmiä ja sikoja) (2003)', 'A Woman Alone (1981)', 'Spy(ies) (Espion(s)) (2009)', 'The Color of Lies (1999)', 'Frisco Kid (1935)', 'The Forbidden Dance (1990)', 'The House Across the Lake (1954)', 'Dognapped (2014)', 'Melinda (1972)', 'The Secret Fury (1950)', 'Life and Death at Preah Vihear (2014)', 'One of My Wives Is Missing (1976)', 'Just Jim (2015)', 'Jedda (1955)', 'Norway (2014)', 'Supporting Characters (2012)', \"A spasso nel tempo - L'avventura continua (1997)\", 'Крепость: щитом и мечом (2015)', 'The Shooter (2013)', 'Gaspard at the Wedding (2017)', 'Varg Veum - The Dead Have It Easy (2012)', 'Australia Day (2017)', 'Thr3e (Three) (2006)', 'Forty Naughty Girls (1937)', 'Slut In A Good Way (2018)', 'The Secret Ways (1961)', 'Love Child (1982)', 'Magical Universe (2014)', 'High Pressure (1932)', 'Safe Passage (1994)', \"The Strawberry Shortcake Movie: Sky's the Limit (2009)\", 'The Kodai Family (2016)', 'Amityville Island (2020)', 'Chain Lightning (1950)', 'Dear Dad (2016)', 'Exhibit (2021)', 'Homesitters (2019)', 'The Skipping Cheese (1907)', 'Chongqing Hot Pot (2016)', 'Kołysanka (2010)', 'Peter Sellers: A State of Comic Ecstasy (2020)', 'Karaoke Crazies (2016)', 'The Absent-Minded Waiter (1977)', 'Secrets in the Hot Spring (2018)', 'Carmen (2022)', 'Onnenonkija (2016)', 'Wanted: Dead or Alive (1987)', 'The Affairs Of Cellini (1934)', 'Primary Russia (1986)', 'Past Life (2016)', 'Wolf! Wolf! (1992)', 'Cotton Mary (1999)', 'Another Happy Day (2011)', \"Girls' Encounter (2018)\", 'Madame Bovary (1949)', 'Inferno of Torture (1969)', 'Highway One (2021)', 'Poison Berry in my Brain (2015)', 'The Carrier (2015)', 'Fall of Hyperion (2008)', 'Monkey Warfare (2006)', 'Pressure Cooker (2008)', 'From Bedrooms to Billions: The Amiga Years (2016)', 'ExTerminators (2010)', 'Waiting for Happiness (Heremakono) (2002)', 'Beyond Existence (2022)', \"A Girl's Tears (1980)\", 'Dogpound Shuffle (1975)', 'Highball (1997)', 'Dangerous for Your Life! (1985)', 'Over the Sky (2020)', 'Getulio (2014)', 'Below the Deadline (1936)', 'Stille Nacht III: Tales from the Vienna Woods (1993)', 'Sidewalks of New York (1931)', 'Horrors of the Black Museum (1959)', 'Secret Mission (1942)', 'Hangmen (1987)', 'Cold Feet (2018)', 'A Lesson Of Love (2014)', 'Bruce Lee - The Fighter (2015)', 'Taro the Dragon Boy (1979)', 'Phar Lap (1983)', 'Tuna Girl (2019)', \"Doin' Time (1985)\", 'Habit (2021)', \"Garage Sale Mysteries: The Pandora's Box Murders (2018)\", 'The Alternate (2000)', 'Following Sean (2005)', 'Criminal Code, The (1931)', 'Mr. Rossi Looks for Happiness (1976)', 'Crime and Punishment (1956)', \"Pluto's Blue Note (1947)\", 'Boogie Man (2018)', 'Giants Being Lonely (2019)', 'Chalte Chalte (2003)', \"Pharaoh's Curse (1957)\", 'How Strange to be Named Federico: Scola Narrates Fellini (2013)', 'Diana: In Her Own Words (2017)', 'Archangel (1990)', 'Still Raining, Still Dreaming (2009)', 'It Started in Naples (1960)', 'Japanese Girls at the Harbor (Minato no nihon musume) (1933)', 'Flatscreen (2012)', 'Me, Myself and Mum (Les garçons et Guillaume, à table!) (2013)', 'Ichi the Killer: Episode 0 (2002)', 'Candy Stripe Nurses (1974)', 'The Confession (2017)', 'Parakalo, gynaikes, min klaite... (1992)', 'Alienate (2016)', 'Oxide Ghosts: The Brass Eye Tapes (2017)', 'Kippur (2000)', 'Is Anybody There? (2008)', 'Hot Saturday (1932)', 'Love, Marilyn (2012)', 'Conversations with My Gardener (Dialogue avec mon jardinier) (2007)', 'Imagine the Sound (1981)', 'By Courier (2001)', 'Under Your Bed (2019)', 'Trash (1970)', 'Ave (2011)', 'Christmas Festival of Ice (2017)', 'The Vaccine War (2023)', 'Maze (2000)', 'Fire City: End of Days (2015)', 'Holiday for Heroes (2019)', 'Kiss the Abyss (2010)', 'Fursonas (2016)', 'The Yakuza Papers, Vol. 5: Final Episode (1974)', 'Mujeres que trabajan (1938)', 'The Prisoner of If Castle (1988)', 'The Atrocity Exhibition (2000)', 'Gen-X Cops (1999)', 'Portrait of Kaye (2021)', 'The Evil Spirit of Yambuy (1977)', 'Kenji Mizoguchi: The Life of a Film Director (Aru eiga-kantoku no shogai) (1975)', 'Chance (2002)', 'Lovesick (2016)', 'Underground Inc: The Rise and Fall of Alternative Rock (2019)', 'Sudigaadu (2012)', 'The Ann Jillian Story (1988)', 'Stinking Heaven (2015)', 'Alis (2023)', 'The Family I Had (2017)', 'Le Mac (2010)', 'Heroic (2023)', 'Mad Cats (2023)', 'First Contact (1982)', 'Ecce bombo (1978)', 'Inbred (2012)', 'Highway 301 (1950)', 'B Girl Rhapsody (1952)', 'A Busy Day (1914)', 'Monster & Me (2013)', 'The Law and Jake Wade (1958)', 'The Picture Show Man (1977)', 'Bulbul Can Sing (2018)', 'Automatic (1995)', 'Doomsdays (2013)', 'A Colony (2019)', 'Toolsidas Junior (2022)', 'Spin (2005)', 'Sylvester Stallone Bio. (2005)', 'I Hate Luv Storys (2010)', 'Black Something (2016)', 'Khakee (2004)', 'The Child Remains (2017)', 'Digging to Death (2021)', 'Um Caipira em Bariloche (1973)', 'Money for Nothing: Inside the Federal Reserve (2013)', 'Jivaro (1954)', 'The Fighting Lady (1944)', 'Pluk van de Petteflet (2004)', 'The Murder Pact (2015)', 'Two for the Win (2021)', 'The Covenant (2017)', 'Operation Dunkirk (2017)', 'F_cking Bornholm (2022)', 'The Safecracker (1958)', '7aam Arivu (2011)', 'The Fox & the Child (2007)', 'Silver Medalist (2009)', 'Steel Cold Winter (2013)', 'All of a Sudden (2016)', 'Puerto Vallarta Squeeze (2004)', 'Carpet Cowboys (2023)', 'Remote Control (1988)', 'Love on the Menu (2019)', 'Mongoloid (1978)', 'Junk Head 1 (2013)', 'Road (1987)', 'Silent Fall (1994)', 'White Rose Campus: Then Everybody Gets Raped (1982)', '100% Coco (2017)', 'Untamed Woman (1957)', 'Little Forest: Summer/Autumn (2014)', 'The Messenger (2019)', 'Bizarre (2015)', 'Keeping Up with the Steins (2006)', 'Heroic Purgatory (Rengoku eroica) (1970)', 'Once in a Lifetime (2000)', 'Decision at Sundown (1957)', 'Windfall (2010)', 'Princess Cut 2: Hearts on Fire (2021)', 'Parsifal (1951)', 'In Lieu of Flowers (2013)', 'Signed, Arsène Lupin (1959)', 'Hit Man (1972)', 'Detective Conan: The Fist of Blue Sapphire (2019)', 'Magnificent Desolation: Walking on the Moon (2005)', 'Her Second Mother (1940)', 'Ghoomer (2023)', 'The Wonder Ring (1955)', 'The Sauce of Love (2021)', 'Gente bien (1939)', 'Plastic Planet (2009)', \"March '68 (2022)\", 'Courage for Every Day (1964)', 'Desire Under the Elms (1958)', 'Alien Abduction: Incident in Lake County (1998)', 'Last Lovecraft: Relic of Cthulhu, The (2009)', 'Half Brother (2018)', 'Iruvar (1997)', 'Arrowhead (1953)', 'Richie (2007)', 'The Merciless (2017)', 'Lee Su-geun: The Sense Coach (2021)', 'Commandos (1968)', 'El astronauta (1970)', 'Greetings to the Devil (2011)', 'All In: The Fight for Democracy (2020)', 'Slam (2021)', 'Hidden in America (1996)', 'Shaolin Rescuers (1979)', 'Park Is Mine, The (1986)', 'Easy Money 3 (2013)', 'Quiet Chaos (Caos calmo) (2008)', 'To Be King (Koning van Katoren) (2012)', 'City of Gold (2016)', 'Silent Night, Lonely Night (1969)', 'Russell Brand: Re:Birth (2018)', 'Blood Thirst (1971)', 'The Hybrid (2014)', 'Cuba (1979)', 'Vibrator (2003)', 'When Hari Got Married (2013)', 'Middle of the Night (1959)', 'The Secret Life of Plants (1979)', 'Psycho Cop (1989)', 'Bachelor Party in the Bungalow of the Damned (2008)', 'Unlovable (2018)', 'The Four Horsemen (2008)', 'Imago mortis (2009)', 'Mazzaropi - O Vendedor de Linguiça (1962)', 'The Lion Guard: The Rise of Scar (2017)', 'Finding Jesus 2 (2021)', 'Go West (1940)', 'Burglars, The (Le casse) (1971)', \"Droopy's Double Trouble (1951)\", 'Via Carpatia', 'The Amorous Adventures of Moll Flanders (1965)', 'DarkWolf (2003)', 'Day Of The Assassin (1979)', 'Deadliest Prey (2013)', 'Grand Exit (1935)', 'Once Upon a Time in London (2019)', 'Little Richard (2000)', 'The Kaos Brief (2016)', 'Rip Tide (2017)', 'Dyketactics (1974)', 'SEE HEAR LOVE (2023)', 'D.B. Cooper: Where Are You?!', 'Egged On (1926)', 'Time for You to Come Home for Christmas (2019)', 'Knockabout (1979)', 'Janie (1944)', 'Bad Trip (2017)', 'The Shower (1979)', 'The Meeting Point (1989)', 'Dachra (2019)', 'Boyfriends of Christmas Past (2021)', \"Danse: The Paris Opera Ballet, La (La Danse - Le ballet de l'Opéra de Paris) (2009)\", 'Axis (2017)', 'Uno bianca (2001)', 'Whoever Slew Auntie Roo? (1971)', 'Il medico della mutua (1968)', 'Time of the Gods (1992)', 'Confessions of an Action Star (2009)', 'Three Men on a Horse (1936)', 'Joyride (1997)', 'Banana (2015)', 'Ramon (2023)', 'Bad Girls Dormitory (1986)', 'Night Sun (1990)', 'From What Is Before (2014)', 'Up at the Villa (2000)', 'Hell Below Zero (1954)', 'Gabi (2012)', 'The Skirt Chaser (1979)', 'The Gang That Sold America (1979)', 'Attack of the Unknown (2020)', 'More Than Only (2017)', 'Comedy Central Roast of Roseanne (2012)', 'Tum Bin (2001)', 'The Dovekeepers (2015)', 'haveababy (2017)', 'Roommate Wanted (2015)', 'The Cook (2008)', 'One Fine Spring Day (Bomnaleun ganda) (2001)', 'The ABC of Love and Sex: Australia Style (1978)', 'Mr. Fix-It (1918)', 'Range Roads (2021)', 'Cold Turkey (2013)', \"Les Bodin's en Thaïlande (2021)\", 'Iowa (2005)', 'Gli idoli delle donne (2022)', 'Sex Guaranteed (2017)', 'Any Gun Can Play (1967)', 'Muska (2014)', '11:59 (2005)', 'The Painter and the Pointer (1944)', 'Sleepy Time Possum (1951)', 'Hello Aloha (1952)', 'Private Collections (1979)', 'Fugitives (2014)', 'Magnetic (2018)', 'Hollywood or Bust (1956)', 'Sachertorte (2022)', 'Jerusalem (2013)', 'The Father (2020)', 'Crimea (2017)', 'Speed Demon (2003)', 'The Terence Davies Trilogy (1983)', 'The Book of Stone (1969)', \"Tweety's High Flying Adventure (2000)\", \"Didn't Do It For Love (1998)\", 'After Office Hours (1935)', 'Five Dedicated to Ozu (2003)', 'House of Fury (2005)', 'The Affairs of Annabel (1938)', 'Iguana (1988)', 'Каникулы президента (2018)', 'Eat Me (2018)', 'Strongest Man in the World, The (1975)', 'Actors and Sin (1952)', 'A Prince (almost) Charming (2013)', 'The Golden Cane Warrior (2014)', 'Shor in the City (2011)', 'Queen and Country (2014)', 'Death in Small Doses (1995)', 'Les Luthiers: El Grosso Concerto (2001)', 'Jitterbugs (1943)', 'Henry Rollins: Keep Talking, Pal. (2018)', 'Under the Hood (2009)', 'Ring of Bright Water (1969)', 'Endless Loop (2018)', 'Seasons... (2002)', 'My New Partner II (1990)', 'Ghosts of Hiroshima (2022)', 'Dragon Rapide (1986)', 'Dust (2018)', 'Talking Head (1992)', 'Sergio and Sergei (2018)', 'The Sunrise Trail (1931)', 'Svenska bilder (1964)', \"Bell for Adano, A (John Hersey's A Bell for Adano) (1945)\", 'Other Voices, Other Rooms (1995)', 'This Is Andromeda (2016)', 'Wild Tango (1993)', 'Back to the Beach (1987)', 'Tell Momma Not to Worry (2023)', 'Dave Attell: Road Work (2014)', 'Bunker Palace Hôtel (1989)', 'And God Said to Cain (1970)', 'Married Couple, A (1969)', 'Death to Metal (2018)', 'Making Dazed (2005)', 'The Periwig-Maker (1999)', 'Bangarraju (2022)', 'Clash in the College (2011)', 'Constellation (2007)', 'Monuments (2021)', 'On Demande une Brute (1934)', 'The Thirsty Dead (1974)', 'Ivory Tower (2014)', 'El Héroe (1994)', 'The Beniker Gang (1985)', 'Days Before the Millennium (2022)', 'Fantastic Lies (2016)', 'Bright Nights (2017)', 'Ex 2: Still Friends (2011)', 'Dandelion (2004)', 'Beyond Desire (1995)', 'A Brief History of John Baldessari (2012)', 'Just Add Romance (2020)', 'Believe in Me (2006)', 'Seattle Superstorm (2012)', 'The Death Lullaby (1985)', 'Hall (2020)', 'Atlantis: End of a World, Birth of a Legend (2011)', 'Fly Away (2011)', 'The Cleaner (2021)', \"Hey, Boo: Harper Lee and 'To Kill a Mockingbird' (2011)\", 'Westwood: Punk. Icon. Activist. (2018)', 'The Man Who Knew Too Much (2020)', 'East Side of Heaven (1939)', 'An Object at Rest (2015)', 'Shallow Yellow Sky (2013)', 'Chemsex (2015)', 'Murder, She Wrote: The Celtic Riddle (2003)', 'The Girl with a Pistol (1968)', 'Ghost of Mae Nak (2005)', 'Wrong Arm of the Law, The (1963)', '7th Day (2014)', 'Clipping Adam (2004)', 'Kappal (2014)', 'A Letter for Joe (2013)', 'Rich and Poor (1983)', 'Perfect Day (1929)', 'Barbarosa (1982)', 'Whip and the Body, The (Frusta e il corpo, La) (1963)', 'Married Bachelor (1941)', 'Tugging Diary (2021)', 'Plastic Disasters (2006)', 'Do You Know Me (2009)', 'Mardaani 2 (2019)', 'Kilukkam (1991)', 'Anna (2017)', 'Magical Mystery or: The Return of Karl Schmidt (2017)', 'World Wide Woven Bodies (2015)', \"Don't Let Me Drown (2009)\", 'Heal for Free (2014)', 'Skid Marks (2007)', 'Behave Yourself! (1951)', 'Région centrale, La (1971)', 'Expedition Mars (2016)', 'Bleeding Heart (2015)', 'The Indian (2007)', 'Ville-Marie (2015)', 'The Stolen (2017)', 'X-Paroni (1964)', 'The Growing Pains Movie (2000)', 'Iron Horse, The (1924)', \"The Good Witch's Destiny (2013)\", 'Miracle on Everest (2008)', 'Itlu Maredumilli Prajaneekam (2022)', 'Love by Design (2014)', 'Swamp Women (1956)', 'Cattle Annie and Little Britches (1981)', 'What Men Want (2018)', 'Know Your Enemy - Japan (1945)', 'Busters verden (1984)', 'Desperation Road (2023)', 'Pernicious (2015)', 'Miracle in Cell No. 7 (2022)', 'Devil in the Dark (2017)', 'You Are Not an Orphan (1962)', 'I Was a Shoplifter (1950)', 'Semi-Nude Woman Hopping on Left Foot (1887)', \"Daddy, I'm A Zombie (2012)\", 'Okinawa Rendez-vous (2000)', 'Sweet As (2022)', 'The Hitchhiker (2007)', 'Rialto (2019)', 'A Syrian Love Story (2015)', 'La palabra de Pablo (2017)', 'Raven Song (2022)', 'Arachnid (2001)', 'The Butcher (1998)', 'Waylon: Renegade. Outlaw. Legend. (1990)', 'The Fake (1953)', 'Extended Play (2006)', 'Anche se volesse lavorare, che faccio? (1972)', 'Allnighter, The (1987)', \"Baelin's Route: An Epic NPC Man Adventure (2021)\", 'The Stationmaster Meets His Match (1980)', 'Soft Fiction (1979)', 'The Challenge (2016)', \"Devil's Whisper (2017)\", 'Grapes 2 (2009)', 'DamNation (2014)', 'Found Memories (2011)', 'License to Steal (1990)', 'America, America (1963)', 'Lovely Trash (2019)', 'Namo OK (2014)', 'Bigfoot (2008)', 'Android Kunjappan Version 5.25 (2019)', '1400 (2015)', 'Doctor on Call (2021)', 'Fighting for Love (2001)', 'The Charge (2003)', 'Lobster Cop (2018)', 'Plain Truth (2004)', 'The Burglar’s Dilemma (1912)', 'Chhapaak (2020)', 'The Swamp of the Ravens (1974)', 'You Are Not I (1981)', 'Cruelty (2007)', 'An Unseen Enemy (1912)', 'Abbott and Costello in the Foreign Legion (1950)', 'The Queen Was in the Parlor (1932)', 'Garter Snake (2011)', 'First Comes Love (2013)', 'Fat Pizza (2003)', 'Good Mother, The (1988)', 'Beer League (2006)', 'British Sounds (1970)', 'Sundowners, The (1960)', 'The 7th Dimension (2009)', 'All Stars (1997)', 'Blackbird (2014)', 'Volcano (2018)', 'Perfect Hideout (2008)', 'Women in the Night (1948)', \"Monkey Business: The Adventures of Curious George's Creators (2017)\", 'Temptation of St. Tony, The (Püha Tõnu kiusamine) (2009)', 'As Far As The Eye Can See (2016)', 'Instant Swamp (2009)', \"He's Convict Now (2005)\", 'My Brother Chases Dinosaurs (2019)', 'Zaï Zaï Zaï Zaï (2022)', 'Cleo (2019)', 'Fever Dream (2021)', 'RX 100 (2018)', 'Lawrence of Belgravia (2012)', 'Ghost Soup (1993)', 'The Beckoning Silence (2007)', 'Blowing Wild (1953)', 'Camp Takota (2014)', 'Benefit of the Doubt (1993)', 'The Scandalous Lady W (2015)', 'Hamtaro: The Captive Princess (2002)', 'Blood of the Dragon Peril (1980)', 'Manmatha Leelai (2022)', 'The Witches of Oz (2011)', 'Parasceve, retrato de una Semana Santa', \"You Ain't Seen Nothin' Yet (Vous n'avez encore rien vu) (2012)\", 'The Wait (2013)', 'Flicka 2 (2010)', 'Very, Very, Valentine (2018)', 'A Czechoslovak Fairy Tale (2022)', 'Hula Girls (2006)', \"Love's Coming (2014)\", 'Buried: The 1982 Alpine Meadows Avalanche (2022)', 'Affair With A Stranger (1953)', 'Bitcoin Heist (2016)', 'Missione di pace (2011)', 'Red Beret, The (1953)', 'Breaking the Limits (2017)', 'Steve Byrne: Champion (2014)', 'Mia melissa ton Avgousto (2007)', 'Headshot (2011)', 'Jimmy Neutron: Win, Lose and Kaboom (2004)', 'The Landline Detective (2020)', 'Is Genesis History? (2017)', 'Saved by the Belle (1939)', 'Hi-Lo Country, The (1998)', 'The Alternate (2021)', \"Mr. Mike's Mondo Video (1979)\", \"Rubber's Lover (1996)\", 'Secret Ballot (Raye makhfi) (2001)', 'Marketing the Messiah (2020)', 'Resolution Song (2018)', 'I camionisti (1982)', 'The Rolling Stones Olé Olé Olé! : A Trip Across Latin America (2016)', 'Against the Wild II: Survive the Serengeti (2016)', 'Angelus (2000)', 'The Land That Time Forgot (2009)', 'Spark: A Space Tail (2017)', 'What Love Is (2007)', 'Trust (2018)', 'Meditation on Violence (1949)', 'Anton Spelec, Sharp-Shooter (1932)', 'The Picture of Dorian Gray (1973)', 'Marry Me (1949)', 'A Very Merry Toy Store (2017)', 'A Tattered Web (1971)', \"She's Working Her Way Through College (1952)\", 'Sandra Gets a Job (2021)', 'Christmas Wonderland (2018)', 'Colonel Redl (Oberst Redl) (1985)', 'Honeydripper (2007)', 'Kentucky Pride (1925)', 'The Loves of Hercules (1960)', 'B.A. Pass (2013)', 'Sofia the First: Once Upon a Princess (2012)', '过昭关', 'Sold (2016)', 'São Paulo, Sociedade Anônima (1965)', 'Boobs: An American Obsession (2010)', 'Petals on the Wind (2014)', 'Becoming Burlesque (2019)', 'When the Heavens Fell (1972)', 'Beyond The Law (2019)', 'Sisters in Law (2005)', 'Snow Queen (2002)', 'Slam Dunk Ernest (1995)', \"Eleanor's Secret (2009)\", 'Monsoon (2017)', 'Victory at Entebbe (1976)', 'Jonathan (1970)', 'Bear-Like (2019)', 'Blinky Bill the Movie (2015)', 'Violent Road (1958)', 'An Eternal Combat (1991)', 'The Hair of the Beast (2010)', 'A Girl and A Guy (2021)', 'Pancho, the Millionaire Dog (2014)', 'Minions & More Volume 2 (2022)', 'I Eat Your Skin (1971)', 'Cantata (1963)', 'The Hunted (2014)', 'Nightflyers (1987)', 'The Worlds of Philip K. Dick (2016)', 'Dallos Special (1983)', 'Forky Asks a Question: What Is Art? (2019)', 'Devil Hunters (1989)', 'Floor Number 7 (2022)', 'Si Ringrazia La Regione Puglia Per Averci Fornito I Milanesi (1982)', 'His Only Son (2023)', \"Jane's Journey (2011)\", 'Lucky and Zorba (1998)', 'Callie & Son (1981)', 'Banzai (1997)', 'The Magic Of Mushrooms (2014)', 'A Whole Life Ahead (2008)', 'Mariupolis (2016)', 'Mountain Top (2017)', 'The 90 Day Plan (2021)', 'Liberty (1929)', 'César (1936)', 'Puss in Boots (1985)', 'This Is the Night (2021)', 'Flesh Feast (1970)', 'Danny Boy (2021)', 'Black Cat Mansion (1958)', \"Devil's Dynamite (1987)\", \"Troma's War (1988) \", 'Amish: A Secret Life (2012)', 'Corona Zombies (2020)', 'Luzifer (2022)', \"Mabel's New Hero (1913)\", 'Lupin the Third: Dragon of Doom (1994)', 'Malatesta (1970)', \"Nobody's Fool (1986)\", 'Carpetbaggers, The (1964)', 'Man on the Tracks (1957)', 'Burning Paradise (1994)', 'Hymn to a Tired Man (1968)', 'Dream Girl 2 (2023)', 'Las Poquianchis (1976)', 'Goldilocks (2016)', 'Rocky Marciano (1999)', 'Happy New Year, Colin Burstead (2018)', 'The Seventh Day (2021)', 'Message from Space (Uchu Kara no Messeji) (Return to Jelucia) (1978)', 'Ricky & Barabba (1992)', 'Flunkyball (2023)', 'Mushrooming (Seenelkäik) (2012)', 'Where the Tracks End (2023)', 'Trailer Park Boys: Live at the North Pole (2014)', 'The Kill Hole (2012)', 'All The Freckles In The World (2019)', 'Robert Kelly: Live at the Village Underground (2014)', 'Death Trance (2005)', 'Hard, Fast and Beautiful (1951)', 'North Korea: Inside The Mind of a Dictator (2021)', 'Sky Line (2015)', 'Jordan Klepper Solves Guns (2017)', \"The Legend of Hell's Gate: An American Conspiracy (2011)\", 'Baby Driver 2', 'Andromeda (2022)', 'Sons of the Clouds: The Last Colony (2012)', 'All I Want (Try Seventeen) (2002)', 'La Bohème (2009)', '7 Days Out (2018)', 'Red Snow (2019)', 'Dreadspace (2017)', 'Golden Eighties (1986)', 'Student Body (2022)', 'Haiku Tunnel (2001)', 'KONTORA (2021)', 'The Dilemma of Desire (2020)', 'Teenage Caveman (2002)', 'Mother Goose Goes Hollywood (1938)', 'Silent World, The (Le monde du silence) (1956)', 'Evelyn Prentice (1934)', 'Innocent Sleep, The (1996)', 'Thunderbolt (1929)', 'The Sun King (2005)', 'The Strange Ones (2017)', 'Ninja III: The Domination (1984)', 'Cyclo (Xich lo) (1995)', 'Deer Woman (2005)', 'Wackiest Ship in the Army, The (1960)', \"Love's Unending Legacy (2007)\", 'Inspiration (1949)', 'American Commune (2013)', \"The Good Witch's Garden (2009)\", 'Miyamoto Musashi (1961)', 'The Beauty of the Devil (1950)', \"Granny O'Grimm's Sleeping Beauty (2008)\", 'Splinter (2006)', 'Psyched Out (2018)', 'Code 2600 (2011)', \"Babe Ruth Story: That Ever Livin' Babe (1962)\", 'More Than Family (2020)', 'SlingShot (2014)', 'Banksy and the Rise of Outlaw Art (2020)', 'It Takes Three (2021)', 'Hellions (2015)', 'The Legend of the Candy Cane (2001)', 'Sealed Verdict (1948)', 'Dusk (2016)', 'Poran (2022)', 'Composite (2017)', 'Warda (2014)', 'The Last Relic (1969)', 'Escapes (2017)', 'House on Bare Mountain (1962)', \"It's Your First Kiss, Charlie Brown (1977)\", 'Wolfhound of the Grey Dog Clan (2006)', 'Hawk Jones (1986)', 'Another Nice Mess (1972)', 'Under the Mountain (2009)', 'Marvelous (2008)', 'Water Birds (1952)', 'Dumb Bobes, or Czech Tarzan (1971)', 'Ray & Liz (2018)', 'Little Girls in Pretty Boxes (1997)', \"Piker's Peak (1957)\", 'My Father, Rua Alguem 5555 (2004)', 'Next Door (2022)', 'Safety in Numbers (2006)', 'Never Steady, Never Still (2017)', 'Diamond 13 (2009)', 'Secret (2011)', 'The Last of the Blonde Bombshells (2000)', 'David Copperfield (2000)', 'Lajkó - Gypsy in space (2018)', 'Past Shadows (2021)', 'April in Paris (1952)', 'Hotel Magnezit (1978)', 'Angry, White and American (2017)', 'Murder, Inc. (1960)', 'Treachery Rides the Range (1936)', 'Blast-Off Girls (1967)', 'Ibiza Undead (2016)', \"Let's Make a Dream (1936)\", 'Vampire Dad (2020)', \"It's Gradiva Who Is Calling You (2006)\", \"Jingle & Bell's Christmas Star (2012)\", \"Taimour & Shafi'aa (2007)\", 'Edge of Eternity (1959)', 'Complicit (2013)', 'Mazzaropi - Chofer de Praça (1959)', 'Duvidha (1973)', 'A Christmas Movie Christmas (2019)'}\n",
            "4111\n"
          ]
        }
      ]
    },
    {
      "cell_type": "markdown",
      "metadata": {
        "id": "Vmx1YZmTUUGG"
      },
      "source": [
        "We see that a few movies are not rated in the train set. For those movies, it is hard to predict their ratings accurately."
      ]
    },
    {
      "cell_type": "markdown",
      "source": [
        "---\n",
        "## Data Load and Batching"
      ],
      "metadata": {
        "id": "Rlhi4ocr4iOD"
      }
    },
    {
      "cell_type": "markdown",
      "source": [
        "Use GPU if available."
      ],
      "metadata": {
        "id": "3JEV5wxk5h0t"
      }
    },
    {
      "cell_type": "code",
      "source": [
        "import torch\n",
        "device = torch.device(\"cuda:0\" if torch.cuda.is_available() else \"cpu\")"
      ],
      "metadata": {
        "id": "fU4OIArA5iyb"
      },
      "execution_count": 34,
      "outputs": []
    },
    {
      "cell_type": "markdown",
      "source": [
        "We define a function to return a triplet of user_num, item_num, rating from the dataframe."
      ],
      "metadata": {
        "id": "za-dIdY45tpa"
      }
    },
    {
      "cell_type": "code",
      "source": [
        "\n",
        "def df_2_tensor(df, device):\n",
        "    # Ensure correct column names are used\n",
        "    user_num = np.asarray(df['user_num'])\n",
        "    movie_num = np.asarray(df['movie_num'])\n",
        "    rating = np.asarray(df['rating'])\n",
        "\n",
        "    # Convert to PyTorch tensors and move to the specified device\n",
        "    return (\n",
        "        torch.from_numpy(user_num).to(device),\n",
        "        torch.from_numpy(movie_num).to(device),\n",
        "        torch.from_numpy(rating).to(device)\n",
        "    )\n"
      ],
      "metadata": {
        "id": "rTH6WwwRHIkr"
      },
      "execution_count": 35,
      "outputs": []
    },
    {
      "cell_type": "markdown",
      "source": [
        "Below, we construct 3 tensors containing the `user_num`, `item_num` and `rating` for the training set. All tensors have the same shape so that `train_user_num[i]` watched `train_item_num[i]` and gave a rating of `train_rating[i]`."
      ],
      "metadata": {
        "id": "-v3Bjgyt5VjV"
      }
    },
    {
      "cell_type": "code",
      "source": [
        "train_user_num, train_item_num, train_rating = df_2_tensor(ratings_train,device)"
      ],
      "metadata": {
        "id": "XPRBxFWX5Uwy"
      },
      "execution_count": 36,
      "outputs": []
    },
    {
      "cell_type": "markdown",
      "source": [
        "We now do the same thing for the validation and test sets."
      ],
      "metadata": {
        "id": "uJwGxZFH5emq"
      }
    },
    {
      "cell_type": "code",
      "source": [
        "val_user_num, val_item_num, val_rating = df_2_tensor(ratings_val,device)\n",
        "test_user_num, test_item_num, test_rating = df_2_tensor(ratings_test,device)"
      ],
      "metadata": {
        "id": "UWMHCQ0V5ZSt"
      },
      "execution_count": 37,
      "outputs": []
    },
    {
      "cell_type": "markdown",
      "source": [
        "Now we need to construct a dataset and a dataloader. For this, we can define a first function taking as arguments the tensors defined above and returning a list (Hint: use the [zip function](https://www.w3schools.com/python/ref_func_zip.asp)); then a second function taking as argument a dataset, the batchsize and a boolean for the shuffling."
      ],
      "metadata": {
        "id": "LgoPPq9c5A7K"
      }
    },
    {
      "cell_type": "markdown",
      "source": [
        "**Exercise**: Filling in the missing code below to construct dataset and dataloader."
      ],
      "metadata": {
        "id": "FuM5hsyldlfe"
      }
    },
    {
      "cell_type": "code",
      "source": [
        "def tensor_2_dataset(user,item,rating):\n",
        "\n",
        "    # Hint: check the zip function\n",
        "    return list(zip(user,item,rating))\n",
        "\n",
        "def make_dataloader(dataset,bs,shuffle):\n",
        "\n",
        "    return torch.utils.data.DataLoader(dataset,batch_size=bs,shuffle=shuffle)"
      ],
      "metadata": {
        "id": "fYYeRdVe5ALx"
      },
      "execution_count": 38,
      "outputs": []
    },
    {
      "cell_type": "code",
      "source": [
        "train_dataset = tensor_2_dataset(train_user_num,train_item_num, train_rating)\n",
        "val_dataset = tensor_2_dataset(val_user_num,val_item_num,val_rating)\n",
        "test_dataset = tensor_2_dataset(test_user_num, test_item_num, test_rating)"
      ],
      "metadata": {
        "id": "AU-xgyto5Gyh"
      },
      "execution_count": 39,
      "outputs": []
    },
    {
      "cell_type": "markdown",
      "source": [
        "Load the train, validation, and test data in batchs of size 1024."
      ],
      "metadata": {
        "id": "610dw-Uo5dIn"
      }
    },
    {
      "cell_type": "code",
      "source": [
        "train_dataloader = make_dataloader(train_dataset,1024,True)\n",
        "val_dataloader = make_dataloader(val_dataset,1024, False)\n",
        "test_dataloader = make_dataloader(test_dataset,1024,False)"
      ],
      "metadata": {
        "id": "GJQOXjWX5ODw"
      },
      "execution_count": 40,
      "outputs": []
    },
    {
      "cell_type": "markdown",
      "metadata": {
        "id": "Q7JF-d05UUGc"
      },
      "source": [
        "---\n",
        "## The model\n",
        "\n"
      ]
    },
    {
      "cell_type": "code",
      "execution_count": 41,
      "metadata": {
        "id": "tsrfFi1QUUGd"
      },
      "outputs": [],
      "source": [
        "import torch.nn as nn\n",
        "import torch.nn.functional as F\n",
        "import torch.optim as optim"
      ]
    },
    {
      "cell_type": "markdown",
      "metadata": {
        "id": "HpkKu7PVUUGp"
      },
      "source": [
        "We will use some custom embeddings defined as below."
      ]
    },
    {
      "cell_type": "code",
      "execution_count": 42,
      "metadata": {
        "id": "eB6_y1nMUUGq"
      },
      "outputs": [],
      "source": [
        "class ScaledEmbedding(nn.Embedding):\n",
        "    \"\"\"\n",
        "    Embedding layer that initialises its values\n",
        "    to using a normal variable scaled by the inverse\n",
        "    of the embedding dimension.\n",
        "    \"\"\"\n",
        "    def reset_parameters(self):\n",
        "        \"\"\"\n",
        "        Initialize parameters.\n",
        "        \"\"\"\n",
        "\n",
        "        self.weight.data.normal_(0, 1.0 / self.embedding_dim)\n",
        "        if self.padding_idx is not None:\n",
        "            self.weight.data[self.padding_idx].fill_(0.0)\n",
        "\n",
        "\n",
        "class ZeroEmbedding(nn.Embedding):\n",
        "    \"\"\"\n",
        "    Used for biases.\n",
        "    \"\"\"\n",
        "\n",
        "    def reset_parameters(self):\n",
        "        \"\"\"\n",
        "        Initialize parameters.\n",
        "        \"\"\"\n",
        "\n",
        "        self.weight.data.zero_()\n",
        "        if self.padding_idx is not None:\n",
        "            self.weight.data[self.padding_idx].fill_(0.0)"
      ]
    },
    {
      "cell_type": "markdown",
      "source": [
        "### Creating Our Own Embedding Module\n",
        "\n",
        "Now, we define the `Model_dot`(class to represents users and items. It's composed of a 4 `embedding` layers:\n",
        "\n",
        "- a `(num_users x latent_dim)` embedding layer to represent users,\n",
        "- a `(num_items x latent_dim)` embedding layer to represent items,\n",
        "- a `(num_users x 1)` embedding layer to represent user biases, and\n",
        "- a `(num_items x 1)` embedding layer to represent item biases.\n",
        "\n",
        "\n",
        "\n",
        "\n",
        "\n"
      ],
      "metadata": {
        "id": "cZdXB0ieIv2J"
      }
    },
    {
      "cell_type": "code",
      "execution_count": 43,
      "metadata": {
        "id": "ktXRW3-4UUGt"
      },
      "outputs": [],
      "source": [
        "class DotModel(nn.Module):\n",
        "\n",
        "    def __init__(self,\n",
        "                 num_users,\n",
        "                 num_items,\n",
        "                 embedding_dim=32):\n",
        "\n",
        "        super(DotModel, self).__init__()\n",
        "\n",
        "        self.embedding_dim = embedding_dim\n",
        "\n",
        "        # generate user and item embeddigns using ScaledEmbedding\n",
        "\n",
        "        self.user_embeddings = ScaledEmbedding(num_users, embedding_dim)\n",
        "        self.item_embeddings = ScaledEmbedding(num_items, embedding_dim)\n",
        "\n",
        "        # generate bias embeddigns using ZeroEmbedding\n",
        "\n",
        "        self.user_biases = ZeroEmbedding(num_users, 1)\n",
        "        self.item_biases = ZeroEmbedding(num_items, 1)\n",
        "\n",
        "\n",
        "    def forward(self, user_ids, item_ids):\n",
        "\n",
        "        #\n",
        "        user_embedding = self.user_embeddings(user_ids)\n",
        "        item_embedding = self.item_embeddings(item_ids)\n",
        "\n",
        "        user_bias = self.user_biases(user_ids).squeeze()\n",
        "        item_bias = self.item_biases(item_ids).squeeze()\n",
        "\n",
        "        dot = torch.mul(user_embedding, item_embedding).sum(1)\n",
        "        res = dot + user_bias + item_bias\n",
        "\n",
        "        return res"
      ]
    },
    {
      "cell_type": "markdown",
      "source": [
        "Note that in the above code, we use [`torch.mul`](https://pytorch.org/docs/stable/generated/torch.mul.html), which performs an elementwise multiplication with broadcasting."
      ],
      "metadata": {
        "id": "kAX6B4mRwhzQ"
      }
    },
    {
      "cell_type": "code",
      "execution_count": 44,
      "metadata": {
        "id": "PlbbwU1ze5d7"
      },
      "outputs": [],
      "source": [
        "net = DotModel(total_user_id,total_item_id).to(device)"
      ]
    },
    {
      "cell_type": "code",
      "source": [
        "net"
      ],
      "metadata": {
        "colab": {
          "base_uri": "https://localhost:8080/"
        },
        "id": "Qr2Dwbgz8D7C",
        "outputId": "c3dd415c-0a5d-4253-cf93-b87205c55199"
      },
      "execution_count": 45,
      "outputs": [
        {
          "output_type": "execute_result",
          "data": {
            "text/plain": [
              "DotModel(\n",
              "  (user_embeddings): ScaledEmbedding(14301, 32)\n",
              "  (item_embeddings): ScaledEmbedding(51858, 32)\n",
              "  (user_biases): ZeroEmbedding(14301, 1)\n",
              "  (item_biases): ZeroEmbedding(51858, 1)\n",
              ")"
            ]
          },
          "metadata": {},
          "execution_count": 45
        }
      ]
    },
    {
      "cell_type": "markdown",
      "metadata": {
        "id": "ysX9Q9pxiMG4"
      },
      "source": [
        "Now we check our network by taking  a batch from train loader."
      ]
    },
    {
      "cell_type": "code",
      "source": [
        "batch_user, batch_item, batch_rating = next(iter(train_dataloader))\n",
        "batch_user, batch_item, batch_rating = batch_user.to(device), batch_item.to(device), batch_rating.to(device)"
      ],
      "metadata": {
        "id": "RLdCbCnzB2S-"
      },
      "execution_count": 46,
      "outputs": []
    },
    {
      "cell_type": "code",
      "execution_count": 47,
      "metadata": {
        "colab": {
          "base_uri": "https://localhost:8080/"
        },
        "id": "I20UhBLZjBEs",
        "outputId": "3799b65d-a99b-442a-c1a7-d4108b252239"
      },
      "outputs": [
        {
          "output_type": "execute_result",
          "data": {
            "text/plain": [
              "torch.Size([1024])"
            ]
          },
          "metadata": {},
          "execution_count": 47
        }
      ],
      "source": [
        "predictions = net(batch_user, batch_item)\n",
        "predictions.shape"
      ]
    },
    {
      "cell_type": "markdown",
      "source": [
        "We will use MSE loss defined below:"
      ],
      "metadata": {
        "id": "Dnmsgb3SJc_M"
      }
    },
    {
      "cell_type": "code",
      "source": [
        "def regression_loss(predicted_ratings, observed_ratings):\n",
        "    return ((observed_ratings - predicted_ratings) ** 2).mean()"
      ],
      "metadata": {
        "id": "TXXAisyw8L7i"
      },
      "execution_count": 48,
      "outputs": []
    },
    {
      "cell_type": "code",
      "source": [
        "loss=regression_loss(predictions,batch_rating)"
      ],
      "metadata": {
        "id": "l38_kUO38Qn7"
      },
      "execution_count": 49,
      "outputs": []
    },
    {
      "cell_type": "code",
      "source": [
        "loss"
      ],
      "metadata": {
        "colab": {
          "base_uri": "https://localhost:8080/"
        },
        "id": "FZ3T-Ucv8yUK",
        "outputId": "9664d83d-097b-4f60-fa72-f7624d99a578"
      },
      "execution_count": 50,
      "outputs": [
        {
          "output_type": "execute_result",
          "data": {
            "text/plain": [
              "tensor(14.1250, device='cuda:0', dtype=torch.float64, grad_fn=<MeanBackward0>)"
            ]
          },
          "metadata": {},
          "execution_count": 50
        }
      ]
    },
    {
      "cell_type": "markdown",
      "source": [
        "## Train and test the model"
      ],
      "metadata": {
        "id": "aMYwouCb884T"
      }
    },
    {
      "cell_type": "markdown",
      "source": [
        "Now we define `FactorizationModel` class  that allows us to train and evaluate the explicit factorization models.\n"
      ],
      "metadata": {
        "id": "mhJebD7X9v6Z"
      }
    },
    {
      "cell_type": "markdown",
      "metadata": {
        "id": "wz1h-gG-V1DX"
      },
      "source": [
        "- The `fit` function should take as argument a dataloader for the training and a dataloader for the validation. At the end of each epoch, you run the test method on the validation set. Then you print both the loss on the training set and on the validation set to see if you are overfitting.\n",
        "\n",
        "- Weight decay, or *L2 regularization*, consists in adding to your loss function the sum of all the weights squared. Why do that? Because when we compute the gradients, it will add a contribution to them that will encourage the weights to be as small as possible."
      ]
    },
    {
      "cell_type": "code",
      "execution_count": 51,
      "metadata": {
        "id": "2ekPPr7SUUG7"
      },
      "outputs": [],
      "source": [
        "class FactorizationModel(object):\n",
        "\n",
        "    def __init__(self, embedding_dim=32, n_iter=10, l2=0.0,\n",
        "                 learning_rate=1e-2, device=device, net=None, num_users=None,\n",
        "                 num_items=None,random_state=None):\n",
        "\n",
        "        self._embedding_dim = embedding_dim\n",
        "        self._n_iter = n_iter\n",
        "        self._learning_rate = learning_rate\n",
        "        self._l2 = l2\n",
        "        self._device = device\n",
        "        self._num_users = num_users\n",
        "        self._num_items = num_items\n",
        "        self._net = net\n",
        "        self._optimizer = None\n",
        "        self._loss_func = None\n",
        "        self._random_state = random_state or np.random.RandomState()\n",
        "\n",
        "\n",
        "    def _initialize(self):\n",
        "        if self._net is None:\n",
        "            self._net = DotModel(self._num_users, self._num_items, self._embedding_dim).to(self._device)\n",
        "\n",
        "        self._optimizer = optim.Adam(\n",
        "                self._net.parameters(),\n",
        "                lr=self._learning_rate,\n",
        "                weight_decay=self._l2    #here we set weight decay to add the L2 regularization\n",
        "            )\n",
        "\n",
        "        self._loss_func = regression_loss\n",
        "\n",
        "    @property\n",
        "    def _initialized(self):\n",
        "        return self._optimizer is not None\n",
        "\n",
        "\n",
        "    def fit(self, dataloader, val_dataloader, verbose=True):\n",
        "        if not self._initialized:\n",
        "            self._initialize()\n",
        "\n",
        "        valid_loss_min = np.Inf # track change in validation loss\n",
        "        train_losses, valid_losses, valid_maes =[], [], []\n",
        "\n",
        "        for epoch_num in range(self._n_iter):\n",
        "            tot_train_loss = 0.0\n",
        "            ###################\n",
        "            # train the model #\n",
        "            ###################\n",
        "            # trainining loop:\n",
        "\n",
        "            self._net.train()\n",
        "            for batch_user, batch_item, batch_rating in dataloader:\n",
        "\n",
        "                bath_user=batch_user.to(device)\n",
        "                batch_item=batch_item.to(device)\n",
        "                batch_rating=batch_rating.to(device)\n",
        "\n",
        "                #1. Compute the output\n",
        "                predictions = self._net(batch_user,batch_item)\n",
        "                #2. Compute the loss\n",
        "                #loss = self._loss_func(predictions,batch_rating)\n",
        "                loss = self._loss_func(predictions,batch_rating)\n",
        "                # 3. Zero out the gradient\n",
        "                self._optimizer.zero_grad()\n",
        "                # 4. Backward pass, compute the new gradients\n",
        "                loss.backward()\n",
        "                # 5. Update the weights\n",
        "                self._optimizer.step()\n",
        "\n",
        "                tot_train_loss += loss.item()\n",
        "\n",
        "\n",
        "            train_loss = tot_train_loss /len(dataloader)\n",
        "            # Go to the validation loop\n",
        "            valid_loss, valid_mae = self.test(val_dataloader)\n",
        "            train_losses.append(train_loss)\n",
        "            valid_losses.append(valid_loss)\n",
        "            valid_maes.append(valid_mae)\n",
        "\n",
        "            if verbose:\n",
        "                print('Epoch {}: loss_train {}, loss_val {}'.format(epoch_num, train_loss,valid_loss))\n",
        "\n",
        "            if np.isnan(train_loss) or train_loss == 0.0:\n",
        "                raise ValueError('Degenerate train loss: {}'.format(train_loss))\n",
        "\n",
        "            #Saving model if validation loss has decreased\n",
        "            if valid_loss <= valid_loss_min:\n",
        "              print('Validation loss decreased ({:.6f} --> {:.6f}).  Saving model ...'.format(valid_loss_min,valid_loss))\n",
        "              torch.save(self._net.state_dict(), 'model_cf.pt')\n",
        "              valid_loss_min = valid_loss\n",
        "\n",
        "        return train_losses, valid_losses, valid_maes\n",
        "\n",
        "\n",
        "    ######################\n",
        "    # validate/Test the model #\n",
        "    ######################\n",
        "    def test(self,dataloader, verbose = False):\n",
        "        self._net.eval()\n",
        "        L1loss = torch.nn.L1Loss()\n",
        "        tot_test_loss = 0.0\n",
        "        tot_test_mae = 0.0\n",
        "\n",
        "        # validation/testing loop\n",
        "        with torch.no_grad():\n",
        "          for batch_user, batch_item, batch_rating in dataloader:\n",
        "            #1. compute the output\n",
        "            predictions = self._net(batch_user,batch_item)\n",
        "            #2. Compute the loss\n",
        "            loss = self._loss_func(predictions,batch_rating)\n",
        "\n",
        "            tot_test_loss += loss.item()\n",
        "            tot_test_mae += L1loss(predictions,batch_rating.type(torch.FloatTensor).to(device))\n",
        "\n",
        "\n",
        "        test_loss = tot_test_loss / len(dataloader)\n",
        "        test_mae = tot_test_mae / len(dataloader)\n",
        "        if verbose:\n",
        "            print(f\"RMSE: {np.sqrt(test_loss)}, MAE: {test_mae}\") # do not forget to take the square root to compute RMSE\n",
        "        return test_loss, test_mae"
      ]
    },
    {
      "cell_type": "code",
      "execution_count": 52,
      "metadata": {
        "id": "qGuzPUNrUUG_"
      },
      "outputs": [],
      "source": [
        "model = FactorizationModel(embedding_dim=50,  # latent dimensionality\n",
        "                                   n_iter=30,  # number of epochs of training\n",
        "                                   learning_rate=5e-4,\n",
        "                                   l2=1e-8,  # strength of L2 regularization\n",
        "                                   num_users=total_user_id,\n",
        "                                   num_items=total_item_id)"
      ]
    },
    {
      "cell_type": "code",
      "source": [
        "print(len(train_dataloader.dataset))  # Check dataset size\n",
        "print(train_dataloader.batch_size)   # Check batch size\n"
      ],
      "metadata": {
        "colab": {
          "base_uri": "https://localhost:8080/"
        },
        "id": "5-5ylRl6_Lwd",
        "outputId": "5625c366-612c-4735-c4d1-f1da6e036cfd"
      },
      "execution_count": 53,
      "outputs": [
        {
          "output_type": "stream",
          "name": "stdout",
          "text": [
            "1382798\n",
            "1024\n"
          ]
        }
      ]
    },
    {
      "cell_type": "code",
      "execution_count": 54,
      "metadata": {
        "colab": {
          "base_uri": "https://localhost:8080/"
        },
        "id": "2Bd2CIosUUHJ",
        "outputId": "85475984-af2b-4fcf-ad7d-aa7e31ac7c55"
      },
      "outputs": [
        {
          "output_type": "stream",
          "name": "stdout",
          "text": [
            "Epoch 0: loss_train 8.647678900452314, loss_val 2.9189258993882228\n",
            "Validation loss decreased (inf --> 2.918926).  Saving model ...\n",
            "Epoch 1: loss_train 1.9040166372909506, loss_val 1.432219262528832\n",
            "Validation loss decreased (2.918926 --> 1.432219).  Saving model ...\n",
            "Epoch 2: loss_train 1.1689766154701826, loss_val 1.0943957332110816\n",
            "Validation loss decreased (1.432219 --> 1.094396).  Saving model ...\n",
            "Epoch 3: loss_train 0.9410044908738155, loss_val 0.9574421010273882\n",
            "Validation loss decreased (1.094396 --> 0.957442).  Saving model ...\n",
            "Epoch 4: loss_train 0.8311679363659162, loss_val 0.8833963698824961\n",
            "Validation loss decreased (0.957442 --> 0.883396).  Saving model ...\n",
            "Epoch 5: loss_train 0.7643411708457807, loss_val 0.8357584838014916\n",
            "Validation loss decreased (0.883396 --> 0.835758).  Saving model ...\n",
            "Epoch 6: loss_train 0.716934484541981, loss_val 0.8015848378819737\n",
            "Validation loss decreased (0.835758 --> 0.801585).  Saving model ...\n",
            "Epoch 7: loss_train 0.6804793616510358, loss_val 0.7768719733222832\n",
            "Validation loss decreased (0.801585 --> 0.776872).  Saving model ...\n",
            "Epoch 8: loss_train 0.650802253996289, loss_val 0.757817494637082\n",
            "Validation loss decreased (0.776872 --> 0.757817).  Saving model ...\n",
            "Epoch 9: loss_train 0.6260125368057027, loss_val 0.7431759868060995\n",
            "Validation loss decreased (0.757817 --> 0.743176).  Saving model ...\n",
            "Epoch 10: loss_train 0.6042935529520977, loss_val 0.7307919939086794\n",
            "Validation loss decreased (0.743176 --> 0.730792).  Saving model ...\n",
            "Epoch 11: loss_train 0.5839300196405233, loss_val 0.7212034259563983\n",
            "Validation loss decreased (0.730792 --> 0.721203).  Saving model ...\n",
            "Epoch 12: loss_train 0.5641532449348219, loss_val 0.7126535250612717\n",
            "Validation loss decreased (0.721203 --> 0.712654).  Saving model ...\n",
            "Epoch 13: loss_train 0.5445644973895757, loss_val 0.7047936643851824\n",
            "Validation loss decreased (0.712654 --> 0.704794).  Saving model ...\n",
            "Epoch 14: loss_train 0.5244186729032753, loss_val 0.697192790593992\n",
            "Validation loss decreased (0.704794 --> 0.697193).  Saving model ...\n",
            "Epoch 15: loss_train 0.5044789448978036, loss_val 0.690848356878165\n",
            "Validation loss decreased (0.697193 --> 0.690848).  Saving model ...\n",
            "Epoch 16: loss_train 0.4846413937526596, loss_val 0.6860470177351717\n",
            "Validation loss decreased (0.690848 --> 0.686047).  Saving model ...\n",
            "Epoch 17: loss_train 0.4648786880137627, loss_val 0.6816913462448162\n",
            "Validation loss decreased (0.686047 --> 0.681691).  Saving model ...\n",
            "Epoch 18: loss_train 0.4456050326471511, loss_val 0.6784103046099719\n",
            "Validation loss decreased (0.681691 --> 0.678410).  Saving model ...\n",
            "Epoch 19: loss_train 0.4267069447826123, loss_val 0.6763552854614904\n",
            "Validation loss decreased (0.678410 --> 0.676355).  Saving model ...\n",
            "Epoch 20: loss_train 0.40839450697281776, loss_val 0.6749042055238049\n",
            "Validation loss decreased (0.676355 --> 0.674904).  Saving model ...\n",
            "Epoch 21: loss_train 0.390732732597444, loss_val 0.6756036344473307\n",
            "Epoch 22: loss_train 0.3739140710410436, loss_val 0.6757748264975882\n",
            "Epoch 23: loss_train 0.3578044514321218, loss_val 0.6778863025238726\n",
            "Epoch 24: loss_train 0.34254914124918073, loss_val 0.6805102986873391\n",
            "Epoch 25: loss_train 0.3281547171107635, loss_val 0.6835397060318851\n",
            "Epoch 26: loss_train 0.3147972163326773, loss_val 0.6873625910682365\n",
            "Epoch 27: loss_train 0.3023778321591334, loss_val 0.6916488080021261\n",
            "Epoch 28: loss_train 0.29089654312303426, loss_val 0.6968167168348328\n",
            "Epoch 29: loss_train 0.2802571213912789, loss_val 0.701824179922796\n"
          ]
        }
      ],
      "source": [
        "train_losses,valid_losses,valid_maes =model.fit(train_dataloader,val_dataloader)"
      ]
    },
    {
      "cell_type": "markdown",
      "source": [
        "Let's plot the train losses and test losses over epoches.\n"
      ],
      "metadata": {
        "id": "fLZyF15WgbK7"
      }
    },
    {
      "cell_type": "code",
      "source": [
        "%matplotlib inline\n",
        "%config InlineBackend.figure_format = 'retina'\n",
        "\n",
        "import matplotlib.pyplot as plt"
      ],
      "metadata": {
        "id": "07Gns0VXgeB-"
      },
      "execution_count": 55,
      "outputs": []
    },
    {
      "cell_type": "code",
      "source": [
        "plt.plot(np.log(train_losses), label='Training loss')\n",
        "plt.plot(np.log(valid_losses), label='Validation loss')\n",
        "plt.legend(frameon=False)"
      ],
      "metadata": {
        "id": "x3CbURaSgg0g",
        "colab": {
          "base_uri": "https://localhost:8080/",
          "height": 448
        },
        "outputId": "907fb001-7109-4117-8414-b4f3da4037cd"
      },
      "execution_count": 56,
      "outputs": [
        {
          "output_type": "execute_result",
          "data": {
            "text/plain": [
              "<matplotlib.legend.Legend at 0x78fc7dae9ad0>"
            ]
          },
          "metadata": {},
          "execution_count": 56
        },
        {
          "output_type": "display_data",
          "data": {
            "text/plain": [
              "<Figure size 640x480 with 1 Axes>"
            ],
            "image/png": "[encoded data removed]"
          },
          "metadata": {
            "image/png": {
              "width": 561,
              "height": 413
            }
          }
        }
      ]
    },
    {
      "cell_type": "markdown",
      "source": [
        "We see that around epoch 30, we achieve the lowest validation loss and hence we would stop training at epoch 28."
      ],
      "metadata": {
        "id": "V65XRKLnpOGQ"
      }
    },
    {
      "cell_type": "markdown",
      "source": [
        "Now, let's compute the RMSE and mean absolute error on the test data."
      ],
      "metadata": {
        "id": "iTwwARoap0WI"
      }
    },
    {
      "cell_type": "code",
      "source": [
        "model._net.load_state_dict(torch.load('model_cf.pt'))"
      ],
      "metadata": {
        "id": "rBen9iYNqBGB",
        "colab": {
          "base_uri": "https://localhost:8080/"
        },
        "outputId": "c40f432e-b359-43f9-b76d-742307994a12"
      },
      "execution_count": 57,
      "outputs": [
        {
          "output_type": "stream",
          "name": "stderr",
          "text": [
            "<ipython-input-57-030adbcfeb49>:1: FutureWarning: You are using `torch.load` with `weights_only=False` (the current default value), which uses the default pickle module implicitly. It is possible to construct malicious pickle data which will execute arbitrary code during unpickling (See https://github.com/pytorch/pytorch/blob/main/SECURITY.md#untrusted-models for more details). In a future release, the default value for `weights_only` will be flipped to `True`. This limits the functions that could be executed during unpickling. Arbitrary objects will no longer be allowed to be loaded via this mode unless they are explicitly allowlisted by the user via `torch.serialization.add_safe_globals`. We recommend you start setting `weights_only=True` for any use case where you don't have full control of the loaded file. Please open an issue on GitHub for any issues related to this experimental feature.\n",
            "  model._net.load_state_dict(torch.load('model_cf.pt'))\n"
          ]
        },
        {
          "output_type": "execute_result",
          "data": {
            "text/plain": [
              "<All keys matched successfully>"
            ]
          },
          "metadata": {},
          "execution_count": 57
        }
      ]
    },
    {
      "cell_type": "code",
      "execution_count": 58,
      "metadata": {
        "id": "HKyc7Bg5UUHR",
        "colab": {
          "base_uri": "https://localhost:8080/"
        },
        "outputId": "e47cd175-bf08-4de0-b4ee-08acd1b15010"
      },
      "outputs": [
        {
          "output_type": "stream",
          "name": "stdout",
          "text": [
            "RMSE: 0.8200748331509072, MAE: 0.5974912047386169\n"
          ]
        }
      ],
      "source": [
        "test_loss, test_mae = model.test(test_dataloader,True)"
      ]
    },
    {
      "cell_type": "markdown",
      "source": [
        "We see that our RMSE is around 0.82 and MAE is 0.59.\n",
        "\n",
        "\n",
        "\n"
      ],
      "metadata": {
        "id": "lvfRgz14qZSd"
      }
    },
    {
      "cell_type": "markdown",
      "source": [
        "Here is comparison between the best benckmarks in [Surprise](https://github.com/NicolasHug/Surprise) and our model after hyperparameters tunning.\n",
        "\n",
        "| [Movielens 1M](https://grouplens.org/datasets/movielens/1m)                                                                             |   RMSE |   MAE |\n",
        "|:----------------------------------------------------------------------------------------------------------------------------------------|-------:|------:|\n",
        "| [SVD++ (cache_ratings=False)](https://surprise.readthedocs.io/en/stable/matrix_factorization.html#surprise.prediction_algorithms.matrix_factorization.SVDpp)  |  0.862 | 0.672 |\n",
        "| [SVD++ (cache_ratings=True)](https://surprise.readthedocs.io/en/stable/matrix_factorization.html#surprise.prediction_algorithms.matrix_factorization.SVDpp)  |  0.862 | 0.672 |\n",
        "| **Ours**|  **0.820** | **0.590** |\n",
        "\n",
        "\n",
        "Our model beats their best ones！"
      ],
      "metadata": {
        "id": "N3JT3S4X2H_z"
      }
    },
    {
      "cell_type": "markdown",
      "metadata": {
        "id": "VK3KgG47V1Di"
      },
      "source": [
        "## Interpreting Biases\n",
        "\n",
        "Now we need to rank the movies according to their bias. For this, we need to recover the biases of the movies, make a list of the pairs `[name of the movie, its bias]` and then sort this list according to the biases.\n",
        "\n"
      ]
    },
    {
      "cell_type": "code",
      "execution_count": 59,
      "metadata": {
        "id": "7KDDTQfxV1Di"
      },
      "outputs": [],
      "source": [
        "# retreive the bias of the movies from your optimized model and store it in the numpy array item_bais_np\n",
        "item_bias_np = model._net.item_biases.weight.data.cpu().numpy()\n",
        "item_bias_np = item_bias_np.squeeze()"
      ]
    },
    {
      "cell_type": "code",
      "execution_count": 60,
      "metadata": {
        "id": "VgHLnzpQyS9B"
      },
      "outputs": [],
      "source": [
        "numitem_2_name = {i: name for name, i in np.asarray(new_data[['title', 'movie_num']])}\n",
        "name_2_numitem = {name: i for name, i in np.asarray(new_data[['title', 'movie_num']])}\n"
      ]
    },
    {
      "cell_type": "code",
      "execution_count": 61,
      "metadata": {
        "id": "ciREXjeuyS9B"
      },
      "outputs": [],
      "source": [
        "list_name_bias = [[name, item_bias_np[name_2_numitem[name]]] for name in list(ratings_train['title'].unique())]\n"
      ]
    },
    {
      "cell_type": "code",
      "source": [
        "# Sort movies by bias and get top 10\n",
        "list_name_bias.sort(key=lambda x: x[1])  # Sort by bias score\n",
        "top_10_bias_movies = list_name_bias[-10:]  # Get top 10 movies with the largest bias\n",
        "\n",
        "# Print movie names and their bias\n",
        "print(\"Top 10 Movies with the Largest Bias:\")\n",
        "for movie, bias in top_10_bias_movies:\n",
        "    print(f\"Movie: {movie}, Bias: {bias:.8f}\")\n"
      ],
      "metadata": {
        "id": "oYrDk6LA7alu",
        "colab": {
          "base_uri": "https://localhost:8080/"
        },
        "outputId": "306034c1-b1a2-40ff-c1bb-bfeddf724c53"
      },
      "execution_count": 62,
      "outputs": [
        {
          "output_type": "stream",
          "name": "stdout",
          "text": [
            "Top 10 Movies with the Largest Bias:\n",
            "Movie: Whiplash (2013), Bias: 0.63030005\n",
            "Movie: Knives Out (2019), Bias: 0.65089005\n",
            "Movie: Catch Me If You Can (2002), Bias: 0.66954273\n",
            "Movie: Top Gun: Maverick (2022), Bias: 0.68423164\n",
            "Movie: Interstellar (2014), Bias: 0.70398527\n",
            "Movie: Inception (2010), Bias: 0.72152030\n",
            "Movie: Everything Everywhere All at Once (2022), Bias: 0.74918199\n",
            "Movie: Parasite (2019), Bias: 0.76076525\n",
            "Movie: Shawshank Redemption, The (1994), Bias: 0.77175456\n",
            "Movie: Dune (2021), Bias: 0.89615220\n"
          ]
        }
      ]
    },
    {
      "cell_type": "code",
      "source": [
        "# Assuming new_data contains the dataset with title and genres columns\n",
        "top_10_titles = [movie[0] for movie in top_10_bias_movies]  # Extract top 10 movie titles\n",
        "\n",
        "# Find genres for the top 10 movies\n",
        "print(\"\\nTop 10 Movies and Their Genres:\")\n",
        "for title in top_10_titles:\n",
        "    # Search for the movie title in the dataset\n",
        "    genre = new_data[new_data['title'] == title]['genres'].values\n",
        "    if len(genre) > 0:\n",
        "        print(f\"Movie: {title}, Genre: {genre[0]}\")\n",
        "    else:\n",
        "        print(f\"Movie: {title}, Genre: Not Found\")\n"
      ],
      "metadata": {
        "id": "S2IdI66564Gh",
        "colab": {
          "base_uri": "https://localhost:8080/"
        },
        "outputId": "388df70c-4b51-4e39-b379-d64e127dea10"
      },
      "execution_count": 63,
      "outputs": [
        {
          "output_type": "stream",
          "name": "stdout",
          "text": [
            "\n",
            "Top 10 Movies and Their Genres:\n",
            "Movie: Whiplash (2013), Genre: (no genres listed)\n",
            "Movie: Knives Out (2019), Genre: Comedy|Crime|Drama|Mystery|Thriller\n",
            "Movie: Catch Me If You Can (2002), Genre: Crime|Drama\n",
            "Movie: Top Gun: Maverick (2022), Genre: Action|Drama\n",
            "Movie: Interstellar (2014), Genre: Sci-Fi|IMAX\n",
            "Movie: Inception (2010), Genre: Action|Crime|Drama|Mystery|Sci-Fi|Thriller|IMAX\n",
            "Movie: Everything Everywhere All at Once (2022), Genre: Action|Comedy|Sci-Fi\n",
            "Movie: Parasite (2019), Genre: Comedy|Drama\n",
            "Movie: Shawshank Redemption, The (1994), Genre: Crime|Drama\n",
            "Movie: Dune (2021), Genre: Action|Adventure|Drama|Sci-Fi\n"
          ]
        }
      ]
    },
    {
      "cell_type": "markdown",
      "source": [
        "**What Does This Mean for Your Recommendation System?**\n",
        "\n",
        "1.Bias Toward Popular Movies:\n",
        "\n",
        "The system seems to favor critically acclaimed, highly rated, and popular movies. This might lead to over-recommendation of these movies, reducing exposure to lesser-known titles.\n",
        "\n",
        "2.Genre Influence:\n",
        "\n",
        "Action, Drama, and Sci-Fi are heavily represented, suggesting that the system might give disproportionate importance to these genres.\n",
        "\n",
        "**Potential Issues:**\n",
        "\n",
        "1.Lack of Diversity:\n",
        "Users who prefer niche genres might not see their interests adequately represented.\n",
        "Recency Bias:\n",
        "Newer movies like Spider-Man: No Way Home and Top Gun: Maverick might be overly favored due to recent activity or popularity.\n",
        "\n",
        "2.Recommendation System Behavior: The system could be overfitting to the preferences of a large, mainstream audience, leading to biased results that may not cater well to unique or minority user preferences.\n"
      ],
      "metadata": {
        "id": "uoW8tCIL8GAW"
      }
    },
    {
      "cell_type": "markdown",
      "source": [
        "---\n",
        "## Movie valuation\n",
        "\n",
        "The rating data provided the company like Netflix information about the value of a movie that was not available to movie production studios. The collaborative filting algorithm allows Netflix to accurately value the content in a data-driven manner. For example, if Netflix were offered the opportunity to license *Toy Story (1995)*, it would need to provide Disney an initial quote of the license fee. Traditional methods suggest looking at box office returns of *Toy Story* franchise and projecting the potential value of the film.\n",
        "\n",
        "In this following, we will explore a novel approach to determine the valuation of a movie based on the predicted ratings. We make the following simplifying assumpitons (Note that these assumptions can be certainly relaxed with more complicated procedures and data):\n",
        "\n",
        "- **Netflix are focusing on the top 1000 active users and 1000 popular movies (with the most number of observed ratings).** In other words, in the following movie valuation calculation, we just consider the top 1000 activie users and 1000 popular movies, disregarding the rest.\n",
        "\n",
        "- For each user, the total amount of viewing time is proportional to the number of observed ratings. In other words, more active users spend more time on Netflix;\n",
        "\n",
        "- For each given user, the viewing time across different movies follow a [Zipf's law](https://en.wikipedia.org/wiki/Zipf%27s_law), that is\n",
        "\n",
        "  $$\n",
        "    \\text{Viewtime of movie $i$} \\propto \\frac{1}{\\text{rank of } i }\n",
        "  $$\n",
        "\n",
        "  Here the rank of $i$ is determined by sorting the **predicted rating** of movie $i$ by the user in descending order. In other words, the user spend less time on watching movies with lower ratings.\n",
        "\n",
        "- Netflix has a fixed total budget of 1 Billion dollars to license the content;\n",
        "\n",
        "- Netflix estimates the value of a movie based on the expected share of customer viewing time of the movie on its platform:\n",
        "\n",
        "$$\n",
        "\\text{Value of a movie $i$ } = \\frac{\\text{View time of movie $i$ of all users}}{\\text{Total view time of all users} } \\times \\text{Total content license budget}\n",
        "$$"
      ],
      "metadata": {
        "id": "Z7fPfgNBoFT7"
      }
    },
    {
      "cell_type": "markdown",
      "source": [
        "\n",
        "### Compute the value of each movie"
      ],
      "metadata": {
        "id": "p7nNaeIJrxKA"
      }
    },
    {
      "cell_type": "code",
      "source": [
        "# Get indices for top 1000 active users and top 1000 mostly rated movies\n",
        "top1000_user_num = pd.Series(new_data[\"user_num\"].value_counts()[:1000].index, name=\"user_num\")\n",
        "top1000_item_num = pd.Series(new_data[\"movie_num\"].value_counts()[:1000].index, name=\"movie_num\")\n",
        "# Construct dataframes for storing predicted ratings\n",
        "pred_ratings = pd.merge(top1000_user_num, top1000_item_num, how=\"cross\")\n",
        "cartesian_user_num = torch.from_numpy(np.asarray(pred_ratings[\"user_num\"])).to(device)\n",
        "cartesian_item_num = torch.from_numpy(np.asarray(pred_ratings[\"movie_num\"])).to(device)"
      ],
      "metadata": {
        "id": "z_C67BTjrSDc"
      },
      "execution_count": 64,
      "outputs": []
    },
    {
      "cell_type": "code",
      "source": [
        "pred_ratings.head()"
      ],
      "metadata": {
        "id": "6_u71ReKG-_2",
        "colab": {
          "base_uri": "https://localhost:8080/",
          "height": 206
        },
        "outputId": "aa55704b-2fef-4441-caed-92aad73eddf8"
      },
      "execution_count": 65,
      "outputs": [
        {
          "output_type": "execute_result",
          "data": {
            "text/plain": [
              "   user_num  movie_num\n",
              "0       978      12859\n",
              "1       978      10727\n",
              "2       978       2151\n",
              "3       978      16894\n",
              "4       978        283"
            ],
            "text/html": [
              "\n",
              "  <div id=\"df-f043d4c0-a2ea-4e62-a7b6-b28587d9fc5b\" class=\"colab-df-container\">\n",
              "    <div>\n",
              "<style scoped>\n",
              "    .dataframe tbody tr th:only-of-type {\n",
              "        vertical-align: middle;\n",
              "    }\n",
              "\n",
              "    .dataframe tbody tr th {\n",
              "        vertical-align: top;\n",
              "    }\n",
              "\n",
              "    .dataframe thead th {\n",
              "        text-align: right;\n",
              "    }\n",
              "</style>\n",
              "<table border=\"1\" class=\"dataframe\">\n",
              "  <thead>\n",
              "    <tr style=\"text-align: right;\">\n",
              "      <th></th>\n",
              "      <th>user_num</th>\n",
              "      <th>movie_num</th>\n",
              "    </tr>\n",
              "  </thead>\n",
              "  <tbody>\n",
              "    <tr>\n",
              "      <th>0</th>\n",
              "      <td>978</td>\n",
              "      <td>12859</td>\n",
              "    </tr>\n",
              "    <tr>\n",
              "      <th>1</th>\n",
              "      <td>978</td>\n",
              "      <td>10727</td>\n",
              "    </tr>\n",
              "    <tr>\n",
              "      <th>2</th>\n",
              "      <td>978</td>\n",
              "      <td>2151</td>\n",
              "    </tr>\n",
              "    <tr>\n",
              "      <th>3</th>\n",
              "      <td>978</td>\n",
              "      <td>16894</td>\n",
              "    </tr>\n",
              "    <tr>\n",
              "      <th>4</th>\n",
              "      <td>978</td>\n",
              "      <td>283</td>\n",
              "    </tr>\n",
              "  </tbody>\n",
              "</table>\n",
              "</div>\n",
              "    <div class=\"colab-df-buttons\">\n",
              "\n",
              "  <div class=\"colab-df-container\">\n",
              "    <button class=\"colab-df-convert\" onclick=\"convertToInteractive('df-f043d4c0-a2ea-4e62-a7b6-b28587d9fc5b')\"\n",
              "            title=\"Convert this dataframe to an interactive table.\"\n",
              "            style=\"display:none;\">\n",
              "\n",
              "  <svg xmlns=\"http://www.w3.org/2000/svg\" height=\"24px\" viewBox=\"0 -960 960 960\">\n",
              "    <path d=\"M120-120v-720h720v720H120Zm60-500h600v-160H180v160Zm220 220h160v-160H400v160Zm0 220h160v-160H400v160ZM180-400h160v-160H180v160Zm440 0h160v-160H620v160ZM180-180h160v-160H180v160Zm440 0h160v-160H620v160Z\"/>\n",
              "  </svg>\n",
              "    </button>\n",
              "\n",
              "  <style>\n",
              "    .colab-df-container {\n",
              "      display:flex;\n",
              "      gap: 12px;\n",
              "    }\n",
              "\n",
              "    .colab-df-convert {\n",
              "      background-color: #E8F0FE;\n",
              "      border: none;\n",
              "      border-radius: 50%;\n",
              "      cursor: pointer;\n",
              "      display: none;\n",
              "      fill: #1967D2;\n",
              "      height: 32px;\n",
              "      padding: 0 0 0 0;\n",
              "      width: 32px;\n",
              "    }\n",
              "\n",
              "    .colab-df-convert:hover {\n",
              "      background-color: #E2EBFA;\n",
              "      box-shadow: 0px 1px 2px rgba(60, 64, 67, 0.3), 0px 1px 3px 1px rgba(60, 64, 67, 0.15);\n",
              "      fill: #174EA6;\n",
              "    }\n",
              "\n",
              "    .colab-df-buttons div {\n",
              "      margin-bottom: 4px;\n",
              "    }\n",
              "\n",
              "    [theme=dark] .colab-df-convert {\n",
              "      background-color: #3B4455;\n",
              "      fill: #D2E3FC;\n",
              "    }\n",
              "\n",
              "    [theme=dark] .colab-df-convert:hover {\n",
              "      background-color: #434B5C;\n",
              "      box-shadow: 0px 1px 3px 1px rgba(0, 0, 0, 0.15);\n",
              "      filter: drop-shadow(0px 1px 2px rgba(0, 0, 0, 0.3));\n",
              "      fill: #FFFFFF;\n",
              "    }\n",
              "  </style>\n",
              "\n",
              "    <script>\n",
              "      const buttonEl =\n",
              "        document.querySelector('#df-f043d4c0-a2ea-4e62-a7b6-b28587d9fc5b button.colab-df-convert');\n",
              "      buttonEl.style.display =\n",
              "        google.colab.kernel.accessAllowed ? 'block' : 'none';\n",
              "\n",
              "      async function convertToInteractive(key) {\n",
              "        const element = document.querySelector('#df-f043d4c0-a2ea-4e62-a7b6-b28587d9fc5b');\n",
              "        const dataTable =\n",
              "          await google.colab.kernel.invokeFunction('convertToInteractive',\n",
              "                                                    [key], {});\n",
              "        if (!dataTable) return;\n",
              "\n",
              "        const docLinkHtml = 'Like what you see? Visit the ' +\n",
              "          '<a target=\"_blank\" href=https://colab.research.google.com/notebooks/data_table.ipynb>data table notebook</a>'\n",
              "          + ' to learn more about interactive tables.';\n",
              "        element.innerHTML = '';\n",
              "        dataTable['output_type'] = 'display_data';\n",
              "        await google.colab.output.renderOutput(dataTable, element);\n",
              "        const docLink = document.createElement('div');\n",
              "        docLink.innerHTML = docLinkHtml;\n",
              "        element.appendChild(docLink);\n",
              "      }\n",
              "    </script>\n",
              "  </div>\n",
              "\n",
              "\n",
              "<div id=\"df-50a2bb88-9469-4220-8569-f35265a112b6\">\n",
              "  <button class=\"colab-df-quickchart\" onclick=\"quickchart('df-50a2bb88-9469-4220-8569-f35265a112b6')\"\n",
              "            title=\"Suggest charts\"\n",
              "            style=\"display:none;\">\n",
              "\n",
              "<svg xmlns=\"http://www.w3.org/2000/svg\" height=\"24px\"viewBox=\"0 0 24 24\"\n",
              "     width=\"24px\">\n",
              "    <g>\n",
              "        <path d=\"M19 3H5c-1.1 0-2 .9-2 2v14c0 1.1.9 2 2 2h14c1.1 0 2-.9 2-2V5c0-1.1-.9-2-2-2zM9 17H7v-7h2v7zm4 0h-2V7h2v10zm4 0h-2v-4h2v4z\"/>\n",
              "    </g>\n",
              "</svg>\n",
              "  </button>\n",
              "\n",
              "<style>\n",
              "  .colab-df-quickchart {\n",
              "      --bg-color: #E8F0FE;\n",
              "      --fill-color: #1967D2;\n",
              "      --hover-bg-color: #E2EBFA;\n",
              "      --hover-fill-color: #174EA6;\n",
              "      --disabled-fill-color: #AAA;\n",
              "      --disabled-bg-color: #DDD;\n",
              "  }\n",
              "\n",
              "  [theme=dark] .colab-df-quickchart {\n",
              "      --bg-color: #3B4455;\n",
              "      --fill-color: #D2E3FC;\n",
              "      --hover-bg-color: #434B5C;\n",
              "      --hover-fill-color: #FFFFFF;\n",
              "      --disabled-bg-color: #3B4455;\n",
              "      --disabled-fill-color: #666;\n",
              "  }\n",
              "\n",
              "  .colab-df-quickchart {\n",
              "    background-color: var(--bg-color);\n",
              "    border: none;\n",
              "    border-radius: 50%;\n",
              "    cursor: pointer;\n",
              "    display: none;\n",
              "    fill: var(--fill-color);\n",
              "    height: 32px;\n",
              "    padding: 0;\n",
              "    width: 32px;\n",
              "  }\n",
              "\n",
              "  .colab-df-quickchart:hover {\n",
              "    background-color: var(--hover-bg-color);\n",
              "    box-shadow: 0 1px 2px rgba(60, 64, 67, 0.3), 0 1px 3px 1px rgba(60, 64, 67, 0.15);\n",
              "    fill: var(--button-hover-fill-color);\n",
              "  }\n",
              "\n",
              "  .colab-df-quickchart-complete:disabled,\n",
              "  .colab-df-quickchart-complete:disabled:hover {\n",
              "    background-color: var(--disabled-bg-color);\n",
              "    fill: var(--disabled-fill-color);\n",
              "    box-shadow: none;\n",
              "  }\n",
              "\n",
              "  .colab-df-spinner {\n",
              "    border: 2px solid var(--fill-color);\n",
              "    border-color: transparent;\n",
              "    border-bottom-color: var(--fill-color);\n",
              "    animation:\n",
              "      spin 1s steps(1) infinite;\n",
              "  }\n",
              "\n",
              "  @keyframes spin {\n",
              "    0% {\n",
              "      border-color: transparent;\n",
              "      border-bottom-color: var(--fill-color);\n",
              "      border-left-color: var(--fill-color);\n",
              "    }\n",
              "    20% {\n",
              "      border-color: transparent;\n",
              "      border-left-color: var(--fill-color);\n",
              "      border-top-color: var(--fill-color);\n",
              "    }\n",
              "    30% {\n",
              "      border-color: transparent;\n",
              "      border-left-color: var(--fill-color);\n",
              "      border-top-color: var(--fill-color);\n",
              "      border-right-color: var(--fill-color);\n",
              "    }\n",
              "    40% {\n",
              "      border-color: transparent;\n",
              "      border-right-color: var(--fill-color);\n",
              "      border-top-color: var(--fill-color);\n",
              "    }\n",
              "    60% {\n",
              "      border-color: transparent;\n",
              "      border-right-color: var(--fill-color);\n",
              "    }\n",
              "    80% {\n",
              "      border-color: transparent;\n",
              "      border-right-color: var(--fill-color);\n",
              "      border-bottom-color: var(--fill-color);\n",
              "    }\n",
              "    90% {\n",
              "      border-color: transparent;\n",
              "      border-bottom-color: var(--fill-color);\n",
              "    }\n",
              "  }\n",
              "</style>\n",
              "\n",
              "  <script>\n",
              "    async function quickchart(key) {\n",
              "      const quickchartButtonEl =\n",
              "        document.querySelector('#' + key + ' button');\n",
              "      quickchartButtonEl.disabled = true;  // To prevent multiple clicks.\n",
              "      quickchartButtonEl.classList.add('colab-df-spinner');\n",
              "      try {\n",
              "        const charts = await google.colab.kernel.invokeFunction(\n",
              "            'suggestCharts', [key], {});\n",
              "      } catch (error) {\n",
              "        console.error('Error during call to suggestCharts:', error);\n",
              "      }\n",
              "      quickchartButtonEl.classList.remove('colab-df-spinner');\n",
              "      quickchartButtonEl.classList.add('colab-df-quickchart-complete');\n",
              "    }\n",
              "    (() => {\n",
              "      let quickchartButtonEl =\n",
              "        document.querySelector('#df-50a2bb88-9469-4220-8569-f35265a112b6 button');\n",
              "      quickchartButtonEl.style.display =\n",
              "        google.colab.kernel.accessAllowed ? 'block' : 'none';\n",
              "    })();\n",
              "  </script>\n",
              "</div>\n",
              "\n",
              "    </div>\n",
              "  </div>\n"
            ],
            "application/vnd.google.colaboratory.intrinsic+json": {
              "type": "dataframe",
              "variable_name": "pred_ratings"
            }
          },
          "metadata": {},
          "execution_count": 65
        }
      ]
    },
    {
      "cell_type": "code",
      "source": [
        "# sanity check: # of rows in pred_ratings == # of active users (1000) x # of popular items (1000)\n",
        "pred_ratings.shape[0] == 1000 * 1000"
      ],
      "metadata": {
        "id": "6Iga7-hsbB28",
        "colab": {
          "base_uri": "https://localhost:8080/"
        },
        "outputId": "f9e0eb98-c463-46b8-def8-cd84abf3d22f"
      },
      "execution_count": 66,
      "outputs": [
        {
          "output_type": "execute_result",
          "data": {
            "text/plain": [
              "True"
            ]
          },
          "metadata": {},
          "execution_count": 66
        }
      ]
    },
    {
      "cell_type": "code",
      "source": [
        "# use optimized model to compute the predicted ratings among the top 1000 active users and top 1000 popular movies\n",
        "# model_tuning._net predictions over cartesian_user_num and cartesian_item_num\n",
        "model._net.eval()\n",
        "pred_ratings[\"pred_ratings\"] = model._net(cartesian_user_num, cartesian_item_num).cpu().detach().numpy()"
      ],
      "metadata": {
        "id": "Kwd0kppNsy1x"
      },
      "execution_count": 68,
      "outputs": []
    },
    {
      "cell_type": "code",
      "source": [
        "# Each user's total viewtime is stored in Series user_total_viewtime\n",
        "user_total_viewtime = new_data[\"user_num\"].value_counts()[:1000] /new_data[\"user_num\"].value_counts()[:1000].sum()\n",
        "user_total_viewtime.name = \"user_total_viewtime\"\n",
        "user_total_viewtime.index.name = \"user_num\"\n",
        "pred_ratings = pd.merge(pred_ratings, user_total_viewtime, left_on=\"user_num\", right_on=\"user_num\", how=\"left\")"
      ],
      "metadata": {
        "id": "JPb_QqWnTS-p"
      },
      "execution_count": 69,
      "outputs": []
    },
    {
      "cell_type": "code",
      "source": [
        "pred_ratings.head()"
      ],
      "metadata": {
        "id": "XwtRGaxMHgX4",
        "colab": {
          "base_uri": "https://localhost:8080/",
          "height": 206
        },
        "outputId": "78506fe6-b118-4ab7-8ec7-80a66cdb8db8"
      },
      "execution_count": 70,
      "outputs": [
        {
          "output_type": "execute_result",
          "data": {
            "text/plain": [
              "   user_num  movie_num  pred_ratings  user_total_viewtime\n",
              "0       978      12859      3.669965             0.008787\n",
              "1       978      10727      3.097207             0.008787\n",
              "2       978       2151      5.861050             0.008787\n",
              "3       978      16894      3.964069             0.008787\n",
              "4       978        283      4.391397             0.008787"
            ],
            "text/html": [
              "\n",
              "  <div id=\"df-f771e386-c6ef-45e7-8953-09639d043127\" class=\"colab-df-container\">\n",
              "    <div>\n",
              "<style scoped>\n",
              "    .dataframe tbody tr th:only-of-type {\n",
              "        vertical-align: middle;\n",
              "    }\n",
              "\n",
              "    .dataframe tbody tr th {\n",
              "        vertical-align: top;\n",
              "    }\n",
              "\n",
              "    .dataframe thead th {\n",
              "        text-align: right;\n",
              "    }\n",
              "</style>\n",
              "<table border=\"1\" class=\"dataframe\">\n",
              "  <thead>\n",
              "    <tr style=\"text-align: right;\">\n",
              "      <th></th>\n",
              "      <th>user_num</th>\n",
              "      <th>movie_num</th>\n",
              "      <th>pred_ratings</th>\n",
              "      <th>user_total_viewtime</th>\n",
              "    </tr>\n",
              "  </thead>\n",
              "  <tbody>\n",
              "    <tr>\n",
              "      <th>0</th>\n",
              "      <td>978</td>\n",
              "      <td>12859</td>\n",
              "      <td>3.669965</td>\n",
              "      <td>0.008787</td>\n",
              "    </tr>\n",
              "    <tr>\n",
              "      <th>1</th>\n",
              "      <td>978</td>\n",
              "      <td>10727</td>\n",
              "      <td>3.097207</td>\n",
              "      <td>0.008787</td>\n",
              "    </tr>\n",
              "    <tr>\n",
              "      <th>2</th>\n",
              "      <td>978</td>\n",
              "      <td>2151</td>\n",
              "      <td>5.861050</td>\n",
              "      <td>0.008787</td>\n",
              "    </tr>\n",
              "    <tr>\n",
              "      <th>3</th>\n",
              "      <td>978</td>\n",
              "      <td>16894</td>\n",
              "      <td>3.964069</td>\n",
              "      <td>0.008787</td>\n",
              "    </tr>\n",
              "    <tr>\n",
              "      <th>4</th>\n",
              "      <td>978</td>\n",
              "      <td>283</td>\n",
              "      <td>4.391397</td>\n",
              "      <td>0.008787</td>\n",
              "    </tr>\n",
              "  </tbody>\n",
              "</table>\n",
              "</div>\n",
              "    <div class=\"colab-df-buttons\">\n",
              "\n",
              "  <div class=\"colab-df-container\">\n",
              "    <button class=\"colab-df-convert\" onclick=\"convertToInteractive('df-f771e386-c6ef-45e7-8953-09639d043127')\"\n",
              "            title=\"Convert this dataframe to an interactive table.\"\n",
              "            style=\"display:none;\">\n",
              "\n",
              "  <svg xmlns=\"http://www.w3.org/2000/svg\" height=\"24px\" viewBox=\"0 -960 960 960\">\n",
              "    <path d=\"M120-120v-720h720v720H120Zm60-500h600v-160H180v160Zm220 220h160v-160H400v160Zm0 220h160v-160H400v160ZM180-400h160v-160H180v160Zm440 0h160v-160H620v160ZM180-180h160v-160H180v160Zm440 0h160v-160H620v160Z\"/>\n",
              "  </svg>\n",
              "    </button>\n",
              "\n",
              "  <style>\n",
              "    .colab-df-container {\n",
              "      display:flex;\n",
              "      gap: 12px;\n",
              "    }\n",
              "\n",
              "    .colab-df-convert {\n",
              "      background-color: #E8F0FE;\n",
              "      border: none;\n",
              "      border-radius: 50%;\n",
              "      cursor: pointer;\n",
              "      display: none;\n",
              "      fill: #1967D2;\n",
              "      height: 32px;\n",
              "      padding: 0 0 0 0;\n",
              "      width: 32px;\n",
              "    }\n",
              "\n",
              "    .colab-df-convert:hover {\n",
              "      background-color: #E2EBFA;\n",
              "      box-shadow: 0px 1px 2px rgba(60, 64, 67, 0.3), 0px 1px 3px 1px rgba(60, 64, 67, 0.15);\n",
              "      fill: #174EA6;\n",
              "    }\n",
              "\n",
              "    .colab-df-buttons div {\n",
              "      margin-bottom: 4px;\n",
              "    }\n",
              "\n",
              "    [theme=dark] .colab-df-convert {\n",
              "      background-color: #3B4455;\n",
              "      fill: #D2E3FC;\n",
              "    }\n",
              "\n",
              "    [theme=dark] .colab-df-convert:hover {\n",
              "      background-color: #434B5C;\n",
              "      box-shadow: 0px 1px 3px 1px rgba(0, 0, 0, 0.15);\n",
              "      filter: drop-shadow(0px 1px 2px rgba(0, 0, 0, 0.3));\n",
              "      fill: #FFFFFF;\n",
              "    }\n",
              "  </style>\n",
              "\n",
              "    <script>\n",
              "      const buttonEl =\n",
              "        document.querySelector('#df-f771e386-c6ef-45e7-8953-09639d043127 button.colab-df-convert');\n",
              "      buttonEl.style.display =\n",
              "        google.colab.kernel.accessAllowed ? 'block' : 'none';\n",
              "\n",
              "      async function convertToInteractive(key) {\n",
              "        const element = document.querySelector('#df-f771e386-c6ef-45e7-8953-09639d043127');\n",
              "        const dataTable =\n",
              "          await google.colab.kernel.invokeFunction('convertToInteractive',\n",
              "                                                    [key], {});\n",
              "        if (!dataTable) return;\n",
              "\n",
              "        const docLinkHtml = 'Like what you see? Visit the ' +\n",
              "          '<a target=\"_blank\" href=https://colab.research.google.com/notebooks/data_table.ipynb>data table notebook</a>'\n",
              "          + ' to learn more about interactive tables.';\n",
              "        element.innerHTML = '';\n",
              "        dataTable['output_type'] = 'display_data';\n",
              "        await google.colab.output.renderOutput(dataTable, element);\n",
              "        const docLink = document.createElement('div');\n",
              "        docLink.innerHTML = docLinkHtml;\n",
              "        element.appendChild(docLink);\n",
              "      }\n",
              "    </script>\n",
              "  </div>\n",
              "\n",
              "\n",
              "<div id=\"df-2056a451-e5bc-4fbc-855e-cbc8be6ed28e\">\n",
              "  <button class=\"colab-df-quickchart\" onclick=\"quickchart('df-2056a451-e5bc-4fbc-855e-cbc8be6ed28e')\"\n",
              "            title=\"Suggest charts\"\n",
              "            style=\"display:none;\">\n",
              "\n",
              "<svg xmlns=\"http://www.w3.org/2000/svg\" height=\"24px\"viewBox=\"0 0 24 24\"\n",
              "     width=\"24px\">\n",
              "    <g>\n",
              "        <path d=\"M19 3H5c-1.1 0-2 .9-2 2v14c0 1.1.9 2 2 2h14c1.1 0 2-.9 2-2V5c0-1.1-.9-2-2-2zM9 17H7v-7h2v7zm4 0h-2V7h2v10zm4 0h-2v-4h2v4z\"/>\n",
              "    </g>\n",
              "</svg>\n",
              "  </button>\n",
              "\n",
              "<style>\n",
              "  .colab-df-quickchart {\n",
              "      --bg-color: #E8F0FE;\n",
              "      --fill-color: #1967D2;\n",
              "      --hover-bg-color: #E2EBFA;\n",
              "      --hover-fill-color: #174EA6;\n",
              "      --disabled-fill-color: #AAA;\n",
              "      --disabled-bg-color: #DDD;\n",
              "  }\n",
              "\n",
              "  [theme=dark] .colab-df-quickchart {\n",
              "      --bg-color: #3B4455;\n",
              "      --fill-color: #D2E3FC;\n",
              "      --hover-bg-color: #434B5C;\n",
              "      --hover-fill-color: #FFFFFF;\n",
              "      --disabled-bg-color: #3B4455;\n",
              "      --disabled-fill-color: #666;\n",
              "  }\n",
              "\n",
              "  .colab-df-quickchart {\n",
              "    background-color: var(--bg-color);\n",
              "    border: none;\n",
              "    border-radius: 50%;\n",
              "    cursor: pointer;\n",
              "    display: none;\n",
              "    fill: var(--fill-color);\n",
              "    height: 32px;\n",
              "    padding: 0;\n",
              "    width: 32px;\n",
              "  }\n",
              "\n",
              "  .colab-df-quickchart:hover {\n",
              "    background-color: var(--hover-bg-color);\n",
              "    box-shadow: 0 1px 2px rgba(60, 64, 67, 0.3), 0 1px 3px 1px rgba(60, 64, 67, 0.15);\n",
              "    fill: var(--button-hover-fill-color);\n",
              "  }\n",
              "\n",
              "  .colab-df-quickchart-complete:disabled,\n",
              "  .colab-df-quickchart-complete:disabled:hover {\n",
              "    background-color: var(--disabled-bg-color);\n",
              "    fill: var(--disabled-fill-color);\n",
              "    box-shadow: none;\n",
              "  }\n",
              "\n",
              "  .colab-df-spinner {\n",
              "    border: 2px solid var(--fill-color);\n",
              "    border-color: transparent;\n",
              "    border-bottom-color: var(--fill-color);\n",
              "    animation:\n",
              "      spin 1s steps(1) infinite;\n",
              "  }\n",
              "\n",
              "  @keyframes spin {\n",
              "    0% {\n",
              "      border-color: transparent;\n",
              "      border-bottom-color: var(--fill-color);\n",
              "      border-left-color: var(--fill-color);\n",
              "    }\n",
              "    20% {\n",
              "      border-color: transparent;\n",
              "      border-left-color: var(--fill-color);\n",
              "      border-top-color: var(--fill-color);\n",
              "    }\n",
              "    30% {\n",
              "      border-color: transparent;\n",
              "      border-left-color: var(--fill-color);\n",
              "      border-top-color: var(--fill-color);\n",
              "      border-right-color: var(--fill-color);\n",
              "    }\n",
              "    40% {\n",
              "      border-color: transparent;\n",
              "      border-right-color: var(--fill-color);\n",
              "      border-top-color: var(--fill-color);\n",
              "    }\n",
              "    60% {\n",
              "      border-color: transparent;\n",
              "      border-right-color: var(--fill-color);\n",
              "    }\n",
              "    80% {\n",
              "      border-color: transparent;\n",
              "      border-right-color: var(--fill-color);\n",
              "      border-bottom-color: var(--fill-color);\n",
              "    }\n",
              "    90% {\n",
              "      border-color: transparent;\n",
              "      border-bottom-color: var(--fill-color);\n",
              "    }\n",
              "  }\n",
              "</style>\n",
              "\n",
              "  <script>\n",
              "    async function quickchart(key) {\n",
              "      const quickchartButtonEl =\n",
              "        document.querySelector('#' + key + ' button');\n",
              "      quickchartButtonEl.disabled = true;  // To prevent multiple clicks.\n",
              "      quickchartButtonEl.classList.add('colab-df-spinner');\n",
              "      try {\n",
              "        const charts = await google.colab.kernel.invokeFunction(\n",
              "            'suggestCharts', [key], {});\n",
              "      } catch (error) {\n",
              "        console.error('Error during call to suggestCharts:', error);\n",
              "      }\n",
              "      quickchartButtonEl.classList.remove('colab-df-spinner');\n",
              "      quickchartButtonEl.classList.add('colab-df-quickchart-complete');\n",
              "    }\n",
              "    (() => {\n",
              "      let quickchartButtonEl =\n",
              "        document.querySelector('#df-2056a451-e5bc-4fbc-855e-cbc8be6ed28e button');\n",
              "      quickchartButtonEl.style.display =\n",
              "        google.colab.kernel.accessAllowed ? 'block' : 'none';\n",
              "    })();\n",
              "  </script>\n",
              "</div>\n",
              "\n",
              "    </div>\n",
              "  </div>\n"
            ],
            "application/vnd.google.colaboratory.intrinsic+json": {
              "type": "dataframe",
              "variable_name": "pred_ratings"
            }
          },
          "metadata": {},
          "execution_count": 70
        }
      ]
    },
    {
      "cell_type": "code",
      "source": [
        "# Each user per each movie viewtime: pred_all_ratings[\"user_item_viewtime\"] = [\"1/user_rank\"] / [\"sum(1/user_rank)\"] * [\"user_total_viewtime\"]\n",
        "# these wordy codes are to reduce RAM consumption otherwise Colab may crush\n",
        "pred_ratings[\"1/user_rank\"] = 1/pred_ratings.groupby(\"user_num\")[\"pred_ratings\"].rank(method = \"min\", ascending = False)\n",
        "sum_inverse_user_rank = pred_ratings.groupby(\"user_num\")[\"1/user_rank\"].sum()\n",
        "sum_inverse_user_rank.name = \"sum(1/user_rank)\"\n",
        "pred_ratings = pd.merge(pred_ratings, sum_inverse_user_rank, left_on=\"user_num\", right_on=\"user_num\", how=\"left\")\n",
        "pred_ratings[\"user_item_viewtime\"] = pred_ratings[\"1/user_rank\"] / pred_ratings[\"sum(1/user_rank)\"] * pred_ratings[\"user_total_viewtime\"]"
      ],
      "metadata": {
        "id": "CGYUQOGETpJH"
      },
      "execution_count": 71,
      "outputs": []
    },
    {
      "cell_type": "code",
      "source": [
        "pred_ratings"
      ],
      "metadata": {
        "id": "kg-eRoQlH1JI",
        "colab": {
          "base_uri": "https://localhost:8080/",
          "height": 424
        },
        "outputId": "2b6d42aa-efb5-4824-9898-43bb3996d733"
      },
      "execution_count": 72,
      "outputs": [
        {
          "output_type": "execute_result",
          "data": {
            "text/plain": [
              "        user_num  movie_num  pred_ratings  user_total_viewtime  1/user_rank  \\\n",
              "0            978      12859      3.669965             0.008787     0.009901   \n",
              "1            978      10727      3.097207             0.008787     0.003704   \n",
              "2            978       2151      5.861050             0.008787     1.000000   \n",
              "3            978      16894      3.964069             0.008787     0.019231   \n",
              "4            978        283      4.391397             0.008787     0.062500   \n",
              "...          ...        ...           ...                  ...          ...   \n",
              "999995      8906       1120      3.323212             0.000483     0.001241   \n",
              "999996      8906      10422      3.658372             0.000483     0.003215   \n",
              "999997      8906      35072      3.476543             0.000483     0.001645   \n",
              "999998      8906       7221      3.282895             0.000483     0.001183   \n",
              "999999      8906      33172      3.305463             0.000483     0.001218   \n",
              "\n",
              "        sum(1/user_rank)  user_item_viewtime  \n",
              "0               7.485471        1.162273e-05  \n",
              "1               7.485471        4.347761e-06  \n",
              "2               7.485471        1.173896e-03  \n",
              "3               7.485471        2.257491e-05  \n",
              "4               7.485471        7.336847e-05  \n",
              "...                  ...                 ...  \n",
              "999995          7.485471        8.001701e-08  \n",
              "999996          7.485471        2.073753e-07  \n",
              "999997          7.485471        1.060752e-07  \n",
              "999998          7.485471        7.632392e-08  \n",
              "999999          7.485471        7.855507e-08  \n",
              "\n",
              "[1000000 rows x 7 columns]"
            ],
            "text/html": [
              "\n",
              "  <div id=\"df-cb5f01a1-ca56-48c5-84b2-50a8a5451a48\" class=\"colab-df-container\">\n",
              "    <div>\n",
              "<style scoped>\n",
              "    .dataframe tbody tr th:only-of-type {\n",
              "        vertical-align: middle;\n",
              "    }\n",
              "\n",
              "    .dataframe tbody tr th {\n",
              "        vertical-align: top;\n",
              "    }\n",
              "\n",
              "    .dataframe thead th {\n",
              "        text-align: right;\n",
              "    }\n",
              "</style>\n",
              "<table border=\"1\" class=\"dataframe\">\n",
              "  <thead>\n",
              "    <tr style=\"text-align: right;\">\n",
              "      <th></th>\n",
              "      <th>user_num</th>\n",
              "      <th>movie_num</th>\n",
              "      <th>pred_ratings</th>\n",
              "      <th>user_total_viewtime</th>\n",
              "      <th>1/user_rank</th>\n",
              "      <th>sum(1/user_rank)</th>\n",
              "      <th>user_item_viewtime</th>\n",
              "    </tr>\n",
              "  </thead>\n",
              "  <tbody>\n",
              "    <tr>\n",
              "      <th>0</th>\n",
              "      <td>978</td>\n",
              "      <td>12859</td>\n",
              "      <td>3.669965</td>\n",
              "      <td>0.008787</td>\n",
              "      <td>0.009901</td>\n",
              "      <td>7.485471</td>\n",
              "      <td>1.162273e-05</td>\n",
              "    </tr>\n",
              "    <tr>\n",
              "      <th>1</th>\n",
              "      <td>978</td>\n",
              "      <td>10727</td>\n",
              "      <td>3.097207</td>\n",
              "      <td>0.008787</td>\n",
              "      <td>0.003704</td>\n",
              "      <td>7.485471</td>\n",
              "      <td>4.347761e-06</td>\n",
              "    </tr>\n",
              "    <tr>\n",
              "      <th>2</th>\n",
              "      <td>978</td>\n",
              "      <td>2151</td>\n",
              "      <td>5.861050</td>\n",
              "      <td>0.008787</td>\n",
              "      <td>1.000000</td>\n",
              "      <td>7.485471</td>\n",
              "      <td>1.173896e-03</td>\n",
              "    </tr>\n",
              "    <tr>\n",
              "      <th>3</th>\n",
              "      <td>978</td>\n",
              "      <td>16894</td>\n",
              "      <td>3.964069</td>\n",
              "      <td>0.008787</td>\n",
              "      <td>0.019231</td>\n",
              "      <td>7.485471</td>\n",
              "      <td>2.257491e-05</td>\n",
              "    </tr>\n",
              "    <tr>\n",
              "      <th>4</th>\n",
              "      <td>978</td>\n",
              "      <td>283</td>\n",
              "      <td>4.391397</td>\n",
              "      <td>0.008787</td>\n",
              "      <td>0.062500</td>\n",
              "      <td>7.485471</td>\n",
              "      <td>7.336847e-05</td>\n",
              "    </tr>\n",
              "    <tr>\n",
              "      <th>...</th>\n",
              "      <td>...</td>\n",
              "      <td>...</td>\n",
              "      <td>...</td>\n",
              "      <td>...</td>\n",
              "      <td>...</td>\n",
              "      <td>...</td>\n",
              "      <td>...</td>\n",
              "    </tr>\n",
              "    <tr>\n",
              "      <th>999995</th>\n",
              "      <td>8906</td>\n",
              "      <td>1120</td>\n",
              "      <td>3.323212</td>\n",
              "      <td>0.000483</td>\n",
              "      <td>0.001241</td>\n",
              "      <td>7.485471</td>\n",
              "      <td>8.001701e-08</td>\n",
              "    </tr>\n",
              "    <tr>\n",
              "      <th>999996</th>\n",
              "      <td>8906</td>\n",
              "      <td>10422</td>\n",
              "      <td>3.658372</td>\n",
              "      <td>0.000483</td>\n",
              "      <td>0.003215</td>\n",
              "      <td>7.485471</td>\n",
              "      <td>2.073753e-07</td>\n",
              "    </tr>\n",
              "    <tr>\n",
              "      <th>999997</th>\n",
              "      <td>8906</td>\n",
              "      <td>35072</td>\n",
              "      <td>3.476543</td>\n",
              "      <td>0.000483</td>\n",
              "      <td>0.001645</td>\n",
              "      <td>7.485471</td>\n",
              "      <td>1.060752e-07</td>\n",
              "    </tr>\n",
              "    <tr>\n",
              "      <th>999998</th>\n",
              "      <td>8906</td>\n",
              "      <td>7221</td>\n",
              "      <td>3.282895</td>\n",
              "      <td>0.000483</td>\n",
              "      <td>0.001183</td>\n",
              "      <td>7.485471</td>\n",
              "      <td>7.632392e-08</td>\n",
              "    </tr>\n",
              "    <tr>\n",
              "      <th>999999</th>\n",
              "      <td>8906</td>\n",
              "      <td>33172</td>\n",
              "      <td>3.305463</td>\n",
              "      <td>0.000483</td>\n",
              "      <td>0.001218</td>\n",
              "      <td>7.485471</td>\n",
              "      <td>7.855507e-08</td>\n",
              "    </tr>\n",
              "  </tbody>\n",
              "</table>\n",
              "<p>1000000 rows × 7 columns</p>\n",
              "</div>\n",
              "    <div class=\"colab-df-buttons\">\n",
              "\n",
              "  <div class=\"colab-df-container\">\n",
              "    <button class=\"colab-df-convert\" onclick=\"convertToInteractive('df-cb5f01a1-ca56-48c5-84b2-50a8a5451a48')\"\n",
              "            title=\"Convert this dataframe to an interactive table.\"\n",
              "            style=\"display:none;\">\n",
              "\n",
              "  <svg xmlns=\"http://www.w3.org/2000/svg\" height=\"24px\" viewBox=\"0 -960 960 960\">\n",
              "    <path d=\"M120-120v-720h720v720H120Zm60-500h600v-160H180v160Zm220 220h160v-160H400v160Zm0 220h160v-160H400v160ZM180-400h160v-160H180v160Zm440 0h160v-160H620v160ZM180-180h160v-160H180v160Zm440 0h160v-160H620v160Z\"/>\n",
              "  </svg>\n",
              "    </button>\n",
              "\n",
              "  <style>\n",
              "    .colab-df-container {\n",
              "      display:flex;\n",
              "      gap: 12px;\n",
              "    }\n",
              "\n",
              "    .colab-df-convert {\n",
              "      background-color: #E8F0FE;\n",
              "      border: none;\n",
              "      border-radius: 50%;\n",
              "      cursor: pointer;\n",
              "      display: none;\n",
              "      fill: #1967D2;\n",
              "      height: 32px;\n",
              "      padding: 0 0 0 0;\n",
              "      width: 32px;\n",
              "    }\n",
              "\n",
              "    .colab-df-convert:hover {\n",
              "      background-color: #E2EBFA;\n",
              "      box-shadow: 0px 1px 2px rgba(60, 64, 67, 0.3), 0px 1px 3px 1px rgba(60, 64, 67, 0.15);\n",
              "      fill: #174EA6;\n",
              "    }\n",
              "\n",
              "    .colab-df-buttons div {\n",
              "      margin-bottom: 4px;\n",
              "    }\n",
              "\n",
              "    [theme=dark] .colab-df-convert {\n",
              "      background-color: #3B4455;\n",
              "      fill: #D2E3FC;\n",
              "    }\n",
              "\n",
              "    [theme=dark] .colab-df-convert:hover {\n",
              "      background-color: #434B5C;\n",
              "      box-shadow: 0px 1px 3px 1px rgba(0, 0, 0, 0.15);\n",
              "      filter: drop-shadow(0px 1px 2px rgba(0, 0, 0, 0.3));\n",
              "      fill: #FFFFFF;\n",
              "    }\n",
              "  </style>\n",
              "\n",
              "    <script>\n",
              "      const buttonEl =\n",
              "        document.querySelector('#df-cb5f01a1-ca56-48c5-84b2-50a8a5451a48 button.colab-df-convert');\n",
              "      buttonEl.style.display =\n",
              "        google.colab.kernel.accessAllowed ? 'block' : 'none';\n",
              "\n",
              "      async function convertToInteractive(key) {\n",
              "        const element = document.querySelector('#df-cb5f01a1-ca56-48c5-84b2-50a8a5451a48');\n",
              "        const dataTable =\n",
              "          await google.colab.kernel.invokeFunction('convertToInteractive',\n",
              "                                                    [key], {});\n",
              "        if (!dataTable) return;\n",
              "\n",
              "        const docLinkHtml = 'Like what you see? Visit the ' +\n",
              "          '<a target=\"_blank\" href=https://colab.research.google.com/notebooks/data_table.ipynb>data table notebook</a>'\n",
              "          + ' to learn more about interactive tables.';\n",
              "        element.innerHTML = '';\n",
              "        dataTable['output_type'] = 'display_data';\n",
              "        await google.colab.output.renderOutput(dataTable, element);\n",
              "        const docLink = document.createElement('div');\n",
              "        docLink.innerHTML = docLinkHtml;\n",
              "        element.appendChild(docLink);\n",
              "      }\n",
              "    </script>\n",
              "  </div>\n",
              "\n",
              "\n",
              "<div id=\"df-d0121762-4c68-4be6-9fad-90a8a5273f68\">\n",
              "  <button class=\"colab-df-quickchart\" onclick=\"quickchart('df-d0121762-4c68-4be6-9fad-90a8a5273f68')\"\n",
              "            title=\"Suggest charts\"\n",
              "            style=\"display:none;\">\n",
              "\n",
              "<svg xmlns=\"http://www.w3.org/2000/svg\" height=\"24px\"viewBox=\"0 0 24 24\"\n",
              "     width=\"24px\">\n",
              "    <g>\n",
              "        <path d=\"M19 3H5c-1.1 0-2 .9-2 2v14c0 1.1.9 2 2 2h14c1.1 0 2-.9 2-2V5c0-1.1-.9-2-2-2zM9 17H7v-7h2v7zm4 0h-2V7h2v10zm4 0h-2v-4h2v4z\"/>\n",
              "    </g>\n",
              "</svg>\n",
              "  </button>\n",
              "\n",
              "<style>\n",
              "  .colab-df-quickchart {\n",
              "      --bg-color: #E8F0FE;\n",
              "      --fill-color: #1967D2;\n",
              "      --hover-bg-color: #E2EBFA;\n",
              "      --hover-fill-color: #174EA6;\n",
              "      --disabled-fill-color: #AAA;\n",
              "      --disabled-bg-color: #DDD;\n",
              "  }\n",
              "\n",
              "  [theme=dark] .colab-df-quickchart {\n",
              "      --bg-color: #3B4455;\n",
              "      --fill-color: #D2E3FC;\n",
              "      --hover-bg-color: #434B5C;\n",
              "      --hover-fill-color: #FFFFFF;\n",
              "      --disabled-bg-color: #3B4455;\n",
              "      --disabled-fill-color: #666;\n",
              "  }\n",
              "\n",
              "  .colab-df-quickchart {\n",
              "    background-color: var(--bg-color);\n",
              "    border: none;\n",
              "    border-radius: 50%;\n",
              "    cursor: pointer;\n",
              "    display: none;\n",
              "    fill: var(--fill-color);\n",
              "    height: 32px;\n",
              "    padding: 0;\n",
              "    width: 32px;\n",
              "  }\n",
              "\n",
              "  .colab-df-quickchart:hover {\n",
              "    background-color: var(--hover-bg-color);\n",
              "    box-shadow: 0 1px 2px rgba(60, 64, 67, 0.3), 0 1px 3px 1px rgba(60, 64, 67, 0.15);\n",
              "    fill: var(--button-hover-fill-color);\n",
              "  }\n",
              "\n",
              "  .colab-df-quickchart-complete:disabled,\n",
              "  .colab-df-quickchart-complete:disabled:hover {\n",
              "    background-color: var(--disabled-bg-color);\n",
              "    fill: var(--disabled-fill-color);\n",
              "    box-shadow: none;\n",
              "  }\n",
              "\n",
              "  .colab-df-spinner {\n",
              "    border: 2px solid var(--fill-color);\n",
              "    border-color: transparent;\n",
              "    border-bottom-color: var(--fill-color);\n",
              "    animation:\n",
              "      spin 1s steps(1) infinite;\n",
              "  }\n",
              "\n",
              "  @keyframes spin {\n",
              "    0% {\n",
              "      border-color: transparent;\n",
              "      border-bottom-color: var(--fill-color);\n",
              "      border-left-color: var(--fill-color);\n",
              "    }\n",
              "    20% {\n",
              "      border-color: transparent;\n",
              "      border-left-color: var(--fill-color);\n",
              "      border-top-color: var(--fill-color);\n",
              "    }\n",
              "    30% {\n",
              "      border-color: transparent;\n",
              "      border-left-color: var(--fill-color);\n",
              "      border-top-color: var(--fill-color);\n",
              "      border-right-color: var(--fill-color);\n",
              "    }\n",
              "    40% {\n",
              "      border-color: transparent;\n",
              "      border-right-color: var(--fill-color);\n",
              "      border-top-color: var(--fill-color);\n",
              "    }\n",
              "    60% {\n",
              "      border-color: transparent;\n",
              "      border-right-color: var(--fill-color);\n",
              "    }\n",
              "    80% {\n",
              "      border-color: transparent;\n",
              "      border-right-color: var(--fill-color);\n",
              "      border-bottom-color: var(--fill-color);\n",
              "    }\n",
              "    90% {\n",
              "      border-color: transparent;\n",
              "      border-bottom-color: var(--fill-color);\n",
              "    }\n",
              "  }\n",
              "</style>\n",
              "\n",
              "  <script>\n",
              "    async function quickchart(key) {\n",
              "      const quickchartButtonEl =\n",
              "        document.querySelector('#' + key + ' button');\n",
              "      quickchartButtonEl.disabled = true;  // To prevent multiple clicks.\n",
              "      quickchartButtonEl.classList.add('colab-df-spinner');\n",
              "      try {\n",
              "        const charts = await google.colab.kernel.invokeFunction(\n",
              "            'suggestCharts', [key], {});\n",
              "      } catch (error) {\n",
              "        console.error('Error during call to suggestCharts:', error);\n",
              "      }\n",
              "      quickchartButtonEl.classList.remove('colab-df-spinner');\n",
              "      quickchartButtonEl.classList.add('colab-df-quickchart-complete');\n",
              "    }\n",
              "    (() => {\n",
              "      let quickchartButtonEl =\n",
              "        document.querySelector('#df-d0121762-4c68-4be6-9fad-90a8a5273f68 button');\n",
              "      quickchartButtonEl.style.display =\n",
              "        google.colab.kernel.accessAllowed ? 'block' : 'none';\n",
              "    })();\n",
              "  </script>\n",
              "</div>\n",
              "\n",
              "  <div id=\"id_cfe70e72-d41c-4e90-9cdc-258ecd7a18e1\">\n",
              "    <style>\n",
              "      .colab-df-generate {\n",
              "        background-color: #E8F0FE;\n",
              "        border: none;\n",
              "        border-radius: 50%;\n",
              "        cursor: pointer;\n",
              "        display: none;\n",
              "        fill: #1967D2;\n",
              "        height: 32px;\n",
              "        padding: 0 0 0 0;\n",
              "        width: 32px;\n",
              "      }\n",
              "\n",
              "      .colab-df-generate:hover {\n",
              "        background-color: #E2EBFA;\n",
              "        box-shadow: 0px 1px 2px rgba(60, 64, 67, 0.3), 0px 1px 3px 1px rgba(60, 64, 67, 0.15);\n",
              "        fill: #174EA6;\n",
              "      }\n",
              "\n",
              "      [theme=dark] .colab-df-generate {\n",
              "        background-color: #3B4455;\n",
              "        fill: #D2E3FC;\n",
              "      }\n",
              "\n",
              "      [theme=dark] .colab-df-generate:hover {\n",
              "        background-color: #434B5C;\n",
              "        box-shadow: 0px 1px 3px 1px rgba(0, 0, 0, 0.15);\n",
              "        filter: drop-shadow(0px 1px 2px rgba(0, 0, 0, 0.3));\n",
              "        fill: #FFFFFF;\n",
              "      }\n",
              "    </style>\n",
              "    <button class=\"colab-df-generate\" onclick=\"generateWithVariable('pred_ratings')\"\n",
              "            title=\"Generate code using this dataframe.\"\n",
              "            style=\"display:none;\">\n",
              "\n",
              "  <svg xmlns=\"http://www.w3.org/2000/svg\" height=\"24px\"viewBox=\"0 0 24 24\"\n",
              "       width=\"24px\">\n",
              "    <path d=\"M7,19H8.4L18.45,9,17,7.55,7,17.6ZM5,21V16.75L18.45,3.32a2,2,0,0,1,2.83,0l1.4,1.43a1.91,1.91,0,0,1,.58,1.4,1.91,1.91,0,0,1-.58,1.4L9.25,21ZM18.45,9,17,7.55Zm-12,3A5.31,5.31,0,0,0,4.9,8.1,5.31,5.31,0,0,0,1,6.5,5.31,5.31,0,0,0,4.9,4.9,5.31,5.31,0,0,0,6.5,1,5.31,5.31,0,0,0,8.1,4.9,5.31,5.31,0,0,0,12,6.5,5.46,5.46,0,0,0,6.5,12Z\"/>\n",
              "  </svg>\n",
              "    </button>\n",
              "    <script>\n",
              "      (() => {\n",
              "      const buttonEl =\n",
              "        document.querySelector('#id_cfe70e72-d41c-4e90-9cdc-258ecd7a18e1 button.colab-df-generate');\n",
              "      buttonEl.style.display =\n",
              "        google.colab.kernel.accessAllowed ? 'block' : 'none';\n",
              "\n",
              "      buttonEl.onclick = () => {\n",
              "        google.colab.notebook.generateWithVariable('pred_ratings');\n",
              "      }\n",
              "      })();\n",
              "    </script>\n",
              "  </div>\n",
              "\n",
              "    </div>\n",
              "  </div>\n"
            ],
            "application/vnd.google.colaboratory.intrinsic+json": {
              "type": "dataframe",
              "variable_name": "pred_ratings"
            }
          },
          "metadata": {},
          "execution_count": 72
        }
      ]
    },
    {
      "cell_type": "code",
      "source": [
        "# sanity check: sum of user_item_viewtime == 1\n",
        "pred_ratings[\"user_item_viewtime\"].sum()"
      ],
      "metadata": {
        "id": "l9Ye6ePU0dPa",
        "colab": {
          "base_uri": "https://localhost:8080/"
        },
        "outputId": "f8bd326b-0fb3-403e-a929-9f76238e42c0"
      },
      "execution_count": 73,
      "outputs": [
        {
          "output_type": "execute_result",
          "data": {
            "text/plain": [
              "0.9999999999999999"
            ]
          },
          "metadata": {},
          "execution_count": 73
        }
      ]
    },
    {
      "cell_type": "code",
      "source": [
        "# compute each movie's value\n",
        "budget =  1000000000\n",
        "# compute the values of movies based on pred_ratings\n",
        "movie_values = pred_ratings.groupby(\"movie_num\")[\"user_item_viewtime\"].sum() * budget\n",
        "movie_values.name = \"item_value\""
      ],
      "metadata": {
        "id": "-ixxWznAUDZG"
      },
      "execution_count": 74,
      "outputs": []
    },
    {
      "cell_type": "code",
      "source": [
        "# replace item_num by item_name\n",
        "movie_values = movie_values.to_frame()\n",
        "movie_values[\"title\"] = [numitem_2_name[movie_num] for movie_num in movie_values.index]\n",
        "movie_values = movie_values.set_index(\"title\").squeeze(axis=1)"
      ],
      "metadata": {
        "id": "ENlg_2avaE3z"
      },
      "execution_count": 75,
      "outputs": []
    },
    {
      "cell_type": "code",
      "source": [
        "movie_values.head()"
      ],
      "metadata": {
        "id": "IL1koMbfIeFI",
        "colab": {
          "base_uri": "https://localhost:8080/",
          "height": 272
        },
        "outputId": "82543791-b309-4ddc-a285-bc8995b7b854"
      },
      "execution_count": 76,
      "outputs": [
        {
          "output_type": "execute_result",
          "data": {
            "text/plain": [
              "title\n",
              "Toy Story (1995)    1.849097e+06\n",
              "Jumanji (1995)      3.048105e+05\n",
              "Heat (1995)         8.509184e+05\n",
              "GoldenEye (1995)    2.493029e+05\n",
              "Casino (1995)       1.613546e+06\n",
              "Name: item_value, dtype: float64"
            ],
            "text/html": [
              "<div>\n",
              "<style scoped>\n",
              "    .dataframe tbody tr th:only-of-type {\n",
              "        vertical-align: middle;\n",
              "    }\n",
              "\n",
              "    .dataframe tbody tr th {\n",
              "        vertical-align: top;\n",
              "    }\n",
              "\n",
              "    .dataframe thead th {\n",
              "        text-align: right;\n",
              "    }\n",
              "</style>\n",
              "<table border=\"1\" class=\"dataframe\">\n",
              "  <thead>\n",
              "    <tr style=\"text-align: right;\">\n",
              "      <th></th>\n",
              "      <th>item_value</th>\n",
              "    </tr>\n",
              "    <tr>\n",
              "      <th>title</th>\n",
              "      <th></th>\n",
              "    </tr>\n",
              "  </thead>\n",
              "  <tbody>\n",
              "    <tr>\n",
              "      <th>Toy Story (1995)</th>\n",
              "      <td>1.849097e+06</td>\n",
              "    </tr>\n",
              "    <tr>\n",
              "      <th>Jumanji (1995)</th>\n",
              "      <td>3.048105e+05</td>\n",
              "    </tr>\n",
              "    <tr>\n",
              "      <th>Heat (1995)</th>\n",
              "      <td>8.509184e+05</td>\n",
              "    </tr>\n",
              "    <tr>\n",
              "      <th>GoldenEye (1995)</th>\n",
              "      <td>2.493029e+05</td>\n",
              "    </tr>\n",
              "    <tr>\n",
              "      <th>Casino (1995)</th>\n",
              "      <td>1.613546e+06</td>\n",
              "    </tr>\n",
              "  </tbody>\n",
              "</table>\n",
              "</div><br><label><b>dtype:</b> float64</label>"
            ]
          },
          "metadata": {},
          "execution_count": 76
        }
      ]
    },
    {
      "cell_type": "code",
      "source": [
        "# sanity check: sum of movie values == budget\n",
        "movie_values.sum() == budget"
      ],
      "metadata": {
        "id": "FHLauUJ6a1zj",
        "colab": {
          "base_uri": "https://localhost:8080/"
        },
        "outputId": "f0cdbc43-24f4-449b-d7b7-2f34b82809a0"
      },
      "execution_count": 77,
      "outputs": [
        {
          "output_type": "execute_result",
          "data": {
            "text/plain": [
              "True"
            ]
          },
          "metadata": {},
          "execution_count": 77
        }
      ]
    },
    {
      "cell_type": "markdown",
      "source": [
        "### Output the top valued movies"
      ],
      "metadata": {
        "id": "eXjfpVJN9YQB"
      }
    },
    {
      "cell_type": "code",
      "source": [
        "movie_values.nlargest(30)"
      ],
      "metadata": {
        "id": "faBvzyRrb2J5",
        "colab": {
          "base_uri": "https://localhost:8080/",
          "height": 1000
        },
        "outputId": "11a4eb1f-71a1-43de-d89f-7d3657862a49"
      },
      "execution_count": 78,
      "outputs": [
        {
          "output_type": "execute_result",
          "data": {
            "text/plain": [
              "title\n",
              "Matrix, The (1999)                                           2.301370e+07\n",
              "Godfather, The (1972)                                        1.938638e+07\n",
              "Lord of the Rings: The Fellowship of the Ring, The (2001)    1.476502e+07\n",
              "Star Wars: Episode V - The Empire Strikes Back (1980)        1.440547e+07\n",
              "Parasite (2019)                                              1.426294e+07\n",
              "Shawshank Redemption, The (1994)                             1.418942e+07\n",
              "Inception (2010)                                             1.391693e+07\n",
              "Lord of the Rings: The Return of the King, The (2003)        1.302107e+07\n",
              "Dark Knight, The (2008)                                      1.301429e+07\n",
              "Pulp Fiction (1994)                                          1.250658e+07\n",
              "12 Angry Men (1957)                                          1.230193e+07\n",
              "Star Wars: Episode IV - A New Hope (1977)                    1.201788e+07\n",
              "Lord of the Rings: The Two Towers, The (2002)                1.174720e+07\n",
              "Band of Brothers (2001)                                      1.024961e+07\n",
              "Spider-Man: Across the Spider-Verse (2023)                   9.106160e+06\n",
              "2001: A Space Odyssey (1968)                                 8.277029e+06\n",
              "Godfather: Part II, The (1974)                               8.215723e+06\n",
              "Fight Club (1999)                                            8.155667e+06\n",
              "Everything Everywhere All at Once (2022)                     8.082584e+06\n",
              "Twelve Angry Men (1954)                                      7.864496e+06\n",
              "Interstellar (2014)                                          7.450190e+06\n",
              "Spirited Away (Sen to Chihiro no kamikakushi) (2001)         7.142052e+06\n",
              "Alien (1979)                                                 6.312140e+06\n",
              "Whiplash (2014)                                              5.322864e+06\n",
              "Spider-Man: No Way Home (2021)                               5.175597e+06\n",
              "Clockwork Orange, A (1971)                                   5.120597e+06\n",
              "Back to the Future (1985)                                    4.904205e+06\n",
              "Forrest Gump (1994)                                          4.869067e+06\n",
              "Before Sunset (2004)                                         4.725253e+06\n",
              "Silence of the Lambs, The (1991)                             4.696807e+06\n",
              "Name: item_value, dtype: float64"
            ],
            "text/html": [
              "<div>\n",
              "<style scoped>\n",
              "    .dataframe tbody tr th:only-of-type {\n",
              "        vertical-align: middle;\n",
              "    }\n",
              "\n",
              "    .dataframe tbody tr th {\n",
              "        vertical-align: top;\n",
              "    }\n",
              "\n",
              "    .dataframe thead th {\n",
              "        text-align: right;\n",
              "    }\n",
              "</style>\n",
              "<table border=\"1\" class=\"dataframe\">\n",
              "  <thead>\n",
              "    <tr style=\"text-align: right;\">\n",
              "      <th></th>\n",
              "      <th>item_value</th>\n",
              "    </tr>\n",
              "    <tr>\n",
              "      <th>title</th>\n",
              "      <th></th>\n",
              "    </tr>\n",
              "  </thead>\n",
              "  <tbody>\n",
              "    <tr>\n",
              "      <th>Matrix, The (1999)</th>\n",
              "      <td>2.301370e+07</td>\n",
              "    </tr>\n",
              "    <tr>\n",
              "      <th>Godfather, The (1972)</th>\n",
              "      <td>1.938638e+07</td>\n",
              "    </tr>\n",
              "    <tr>\n",
              "      <th>Lord of the Rings: The Fellowship of the Ring, The (2001)</th>\n",
              "      <td>1.476502e+07</td>\n",
              "    </tr>\n",
              "    <tr>\n",
              "      <th>Star Wars: Episode V - The Empire Strikes Back (1980)</th>\n",
              "      <td>1.440547e+07</td>\n",
              "    </tr>\n",
              "    <tr>\n",
              "      <th>Parasite (2019)</th>\n",
              "      <td>1.426294e+07</td>\n",
              "    </tr>\n",
              "    <tr>\n",
              "      <th>Shawshank Redemption, The (1994)</th>\n",
              "      <td>1.418942e+07</td>\n",
              "    </tr>\n",
              "    <tr>\n",
              "      <th>Inception (2010)</th>\n",
              "      <td>1.391693e+07</td>\n",
              "    </tr>\n",
              "    <tr>\n",
              "      <th>Lord of the Rings: The Return of the King, The (2003)</th>\n",
              "      <td>1.302107e+07</td>\n",
              "    </tr>\n",
              "    <tr>\n",
              "      <th>Dark Knight, The (2008)</th>\n",
              "      <td>1.301429e+07</td>\n",
              "    </tr>\n",
              "    <tr>\n",
              "      <th>Pulp Fiction (1994)</th>\n",
              "      <td>1.250658e+07</td>\n",
              "    </tr>\n",
              "    <tr>\n",
              "      <th>12 Angry Men (1957)</th>\n",
              "      <td>1.230193e+07</td>\n",
              "    </tr>\n",
              "    <tr>\n",
              "      <th>Star Wars: Episode IV - A New Hope (1977)</th>\n",
              "      <td>1.201788e+07</td>\n",
              "    </tr>\n",
              "    <tr>\n",
              "      <th>Lord of the Rings: The Two Towers, The (2002)</th>\n",
              "      <td>1.174720e+07</td>\n",
              "    </tr>\n",
              "    <tr>\n",
              "      <th>Band of Brothers (2001)</th>\n",
              "      <td>1.024961e+07</td>\n",
              "    </tr>\n",
              "    <tr>\n",
              "      <th>Spider-Man: Across the Spider-Verse (2023)</th>\n",
              "      <td>9.106160e+06</td>\n",
              "    </tr>\n",
              "    <tr>\n",
              "      <th>2001: A Space Odyssey (1968)</th>\n",
              "      <td>8.277029e+06</td>\n",
              "    </tr>\n",
              "    <tr>\n",
              "      <th>Godfather: Part II, The (1974)</th>\n",
              "      <td>8.215723e+06</td>\n",
              "    </tr>\n",
              "    <tr>\n",
              "      <th>Fight Club (1999)</th>\n",
              "      <td>8.155667e+06</td>\n",
              "    </tr>\n",
              "    <tr>\n",
              "      <th>Everything Everywhere All at Once (2022)</th>\n",
              "      <td>8.082584e+06</td>\n",
              "    </tr>\n",
              "    <tr>\n",
              "      <th>Twelve Angry Men (1954)</th>\n",
              "      <td>7.864496e+06</td>\n",
              "    </tr>\n",
              "    <tr>\n",
              "      <th>Interstellar (2014)</th>\n",
              "      <td>7.450190e+06</td>\n",
              "    </tr>\n",
              "    <tr>\n",
              "      <th>Spirited Away (Sen to Chihiro no kamikakushi) (2001)</th>\n",
              "      <td>7.142052e+06</td>\n",
              "    </tr>\n",
              "    <tr>\n",
              "      <th>Alien (1979)</th>\n",
              "      <td>6.312140e+06</td>\n",
              "    </tr>\n",
              "    <tr>\n",
              "      <th>Whiplash (2014)</th>\n",
              "      <td>5.322864e+06</td>\n",
              "    </tr>\n",
              "    <tr>\n",
              "      <th>Spider-Man: No Way Home (2021)</th>\n",
              "      <td>5.175597e+06</td>\n",
              "    </tr>\n",
              "    <tr>\n",
              "      <th>Clockwork Orange, A (1971)</th>\n",
              "      <td>5.120597e+06</td>\n",
              "    </tr>\n",
              "    <tr>\n",
              "      <th>Back to the Future (1985)</th>\n",
              "      <td>4.904205e+06</td>\n",
              "    </tr>\n",
              "    <tr>\n",
              "      <th>Forrest Gump (1994)</th>\n",
              "      <td>4.869067e+06</td>\n",
              "    </tr>\n",
              "    <tr>\n",
              "      <th>Before Sunset (2004)</th>\n",
              "      <td>4.725253e+06</td>\n",
              "    </tr>\n",
              "    <tr>\n",
              "      <th>Silence of the Lambs, The (1991)</th>\n",
              "      <td>4.696807e+06</td>\n",
              "    </tr>\n",
              "  </tbody>\n",
              "</table>\n",
              "</div><br><label><b>dtype:</b> float64</label>"
            ]
          },
          "metadata": {},
          "execution_count": 78
        }
      ]
    },
    {
      "cell_type": "markdown",
      "source": [
        "**Question**: Include your answer in the report.\n",
        "\n",
        "- What is your estimated value of *Toy Story (1995)*?\n",
        "\n",
        "- What are the top 10 mostly valued movies?\n"
      ],
      "metadata": {
        "id": "_WKrLtifm0Ex"
      }
    },
    {
      "cell_type": "code",
      "source": [
        "movie_values['Toy Story (1995)']"
      ],
      "metadata": {
        "id": "XXzStOqsHy8H",
        "colab": {
          "base_uri": "https://localhost:8080/"
        },
        "outputId": "5d883b53-95df-4114-d426-17db530cf6ab"
      },
      "execution_count": 79,
      "outputs": [
        {
          "output_type": "execute_result",
          "data": {
            "text/plain": [
              "1849096.7249122462"
            ]
          },
          "metadata": {},
          "execution_count": 79
        }
      ]
    },
    {
      "cell_type": "markdown",
      "source": [
        " The top 10 mostly valued movies are\n",
        "\n",
        "\n",
        "\n",
        "\n",
        "1. Band of Brothers (2001)               92,666,750\n",
        "\n",
        "2. 12 Angry Men (1957)                  51,854,580\n",
        "\n",
        "3. Twelve Angry Men (1954)          48,828,610\n",
        "\n",
        "4. Parasite (2019)                  29,259,560\n",
        "5. Pulp Fiction (1994)              27,112,650\n",
        "6. Whiplash (2013)                  15,935,770\n",
        "7. Princess Mononoke (Mononoke-hime) (1997)  13,633,740\n",
        "8. Shawshank Redemption, The (1994) 11,897,290\n",
        "9. Godfather, The (1972)            11,278,340\n",
        "10.No Country for Old Men (2007)    10,786,350\n"
      ],
      "metadata": {
        "id": "P8ogJZYrC4A-"
      }
    },
    {
      "cell_type": "markdown",
      "source": [
        "\n",
        "### Compare the output with the mostly rated movies. Identify the discrepancies."
      ],
      "metadata": {
        "id": "qaBFvCq39cKw"
      }
    },
    {
      "cell_type": "code",
      "source": [
        "highest_values_30 = movie_values.nlargest(30).index\n",
        "most_rated_30 = new_data['title'].value_counts().nlargest(30).index"
      ],
      "metadata": {
        "id": "HZvf8MOfKYrg"
      },
      "execution_count": 80,
      "outputs": []
    },
    {
      "cell_type": "code",
      "source": [
        "# movies IN top 30 valued AND IN most 30 rated\n",
        "set(highest_values_30).intersection(set(most_rated_30))"
      ],
      "metadata": {
        "id": "rNYuC4IqDQeK",
        "colab": {
          "base_uri": "https://localhost:8080/"
        },
        "outputId": "a04baed1-7917-4d62-8d63-8f18fa85b0c9"
      },
      "execution_count": 81,
      "outputs": [
        {
          "output_type": "execute_result",
          "data": {
            "text/plain": [
              "{'Dark Knight, The (2008)',\n",
              " 'Everything Everywhere All at Once (2022)',\n",
              " 'Fight Club (1999)',\n",
              " 'Forrest Gump (1994)',\n",
              " 'Godfather, The (1972)',\n",
              " 'Inception (2010)',\n",
              " 'Interstellar (2014)',\n",
              " 'Lord of the Rings: The Fellowship of the Ring, The (2001)',\n",
              " 'Lord of the Rings: The Return of the King, The (2003)',\n",
              " 'Lord of the Rings: The Two Towers, The (2002)',\n",
              " 'Matrix, The (1999)',\n",
              " 'Parasite (2019)',\n",
              " 'Pulp Fiction (1994)',\n",
              " 'Shawshank Redemption, The (1994)',\n",
              " 'Spider-Man: No Way Home (2021)',\n",
              " 'Spirited Away (Sen to Chihiro no kamikakushi) (2001)',\n",
              " 'Star Wars: Episode IV - A New Hope (1977)',\n",
              " 'Star Wars: Episode V - The Empire Strikes Back (1980)'}"
            ]
          },
          "metadata": {},
          "execution_count": 81
        }
      ]
    },
    {
      "cell_type": "code",
      "source": [
        "# movies IN top 30 valued but NOT in most 30 rated\n",
        "set(highest_values_30) - set(most_rated_30)"
      ],
      "metadata": {
        "id": "3XXrYvcTNQxt",
        "colab": {
          "base_uri": "https://localhost:8080/"
        },
        "outputId": "2118324e-60be-4ca6-d301-94e118df7770"
      },
      "execution_count": 82,
      "outputs": [
        {
          "output_type": "execute_result",
          "data": {
            "text/plain": [
              "{'12 Angry Men (1957)',\n",
              " '2001: A Space Odyssey (1968)',\n",
              " 'Alien (1979)',\n",
              " 'Back to the Future (1985)',\n",
              " 'Band of Brothers (2001)',\n",
              " 'Before Sunset (2004)',\n",
              " 'Clockwork Orange, A (1971)',\n",
              " 'Godfather: Part II, The (1974)',\n",
              " 'Silence of the Lambs, The (1991)',\n",
              " 'Spider-Man: Across the Spider-Verse (2023)',\n",
              " 'Twelve Angry Men (1954)',\n",
              " 'Whiplash (2014)'}"
            ]
          },
          "metadata": {},
          "execution_count": 82
        }
      ]
    },
    {
      "cell_type": "code",
      "source": [
        "# movies IN most 30 rated but NOT IN top 30 valued\n",
        "set(most_rated_30) - set(highest_values_30)"
      ],
      "metadata": {
        "id": "-T_kdNhOSuQP",
        "colab": {
          "base_uri": "https://localhost:8080/"
        },
        "outputId": "1fc0145e-9726-4691-fb69-eaa6a0c368a5"
      },
      "execution_count": 83,
      "outputs": [
        {
          "output_type": "execute_result",
          "data": {
            "text/plain": [
              "{'Arrival (2016)',\n",
              " 'Django Unchained (2012)',\n",
              " 'Dune (2021)',\n",
              " 'Inglourious Basterds (2009)',\n",
              " 'Knives Out (2019)',\n",
              " 'Shutter Island (2010)',\n",
              " 'The Batman (2022)',\n",
              " 'The Martian (2015)',\n",
              " 'Top Gun: Maverick (2022)',\n",
              " 'Up (2009)',\n",
              " 'WALL·E (2008)',\n",
              " 'Wolf of Wall Street, The (2013)'}"
            ]
          },
          "metadata": {},
          "execution_count": 83
        }
      ]
    },
    {
      "cell_type": "markdown",
      "source": [
        "\n",
        "\n",
        "The movies that are top 30 rated but not in top 30 valued are\n",
        "\n",
        "\n",
        "\n",
        "*   'Arrival (2016)',\n",
        "*   'Django Unchained (2012)',\n",
        "*   'Dune (2021)'，\n",
        "*   'Everything Everywhere All at Once (2022)',\n",
        "*   'Fight Club (1999)',\n",
        "*  'Forrest Gump (1994)',\n",
        "*   'Inception (2010)',\n",
        "*   'Inglourious Basterds (2009)',\n",
        "*   'Interstellar (2014)',\n",
        "*   'Knives Out (2019)',\n",
        "*   \n",
        "'Lord of the Rings: The Fellowship of the Ring, The (2001)',\n",
        "*   'Lord of the Rings: The Return of the King, The (2003)',\n",
        "*   'Lord of the Rings: The Two Towers, The (2002)',\n",
        "'Matrix, The (1999)',\n",
        "*   'Shutter Island (2010)',\n",
        "*   'Spirited Away (Sen to Chihiro no kamikakushi) (2001)',\n",
        "*   'Star Wars: Episode IV – A New Hope (1977)',\n",
        "*  'Star Wars: Episode V – The Empire Strikes Back (1980)',\n",
        "*   'The Batman (2022)',\n",
        "*  'The Martian (2015)',\n",
        "*   \n",
        "'Top Gun: Maverick (2022)',\n",
        "*   \n",
        "'Up (2009)',\n",
        "*  'WALL·E (2008)',\n",
        "*  \n",
        "'Wolf of Wall Street, The (2013)'\n",
        "\n",
        "\n",
        "\n",
        "\n",
        "\n",
        "\n",
        "The above movie valuation approach takes into account both the popularity of the movies and the ratings of the movies. We see that some movies are very poular, but does not have a high rating.\n",
        "However, we should not take the above movie valuation for granted. It definitely has many issues, for example, does not take into account how recent the movies are made. In practice Netflix has much rich data about user view time, so it can produce much better movie valuation. Nevertheless,  through this simple analysis, we can see how the recommender systems provides a promising, new way for content valuation."
      ],
      "metadata": {
        "id": "tYLAM3kiWI6x"
      }
    }
  ],
  "metadata": {
    "accelerator": "GPU",
    "colab": {
      "provenance": [],
      "gpuType": "T4",
      "machine_shape": "hm"
    },
    "kernelspec": {
      "display_name": "Python 3",
      "name": "python3"
    },
    "language_info": {
      "name": "python"
    }
  },
  "nbformat": 4,
  "nbformat_minor": 0
}